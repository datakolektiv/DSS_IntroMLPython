{
 "cells": [
  {
   "cell_type": "markdown",
   "id": "6a6e21fc",
   "metadata": {},
   "source": [
    "# DATA SCIENCE SCHOOL :: Introduction to ML in Python\n",
    "### An Intensive Python ML Course\n",
    "## Multinomial Logistic Regression\n",
    "\n",
    "[&larr; Back to course webpage](http://datakolektiv.com/app_direct/introdsnontech/)\n",
    "\n",
    "![](../img/IntroMLPython_Head.png)\n",
    "\n",
    "Feedback should be send to [goran.milovanovic@datakolektiv.com](mailto:goran.milovanovic@datakolektiv.com). \n",
    "\n",
    "These notebooks accompany the DATA SCIENCE SCHOOL :: Introduction to ML in Python course."
   ]
  },
  {
   "cell_type": "markdown",
   "id": "2e4daa2d",
   "metadata": {},
   "source": [
    "### Goran S. Milovanović, PhD\n",
    "<b>DataKolektiv, Chief Scientist & Owner</b>\n",
    "\n",
    "### Aleksandar Cvetković, PhD\n",
    "<b>DataKolektiv, Consultant</b>"
   ]
  },
  {
   "cell_type": "markdown",
   "id": "51bb6932",
   "metadata": {},
   "source": [
    "![](../img/DK_Logo_100.png)"
   ]
  },
  {
   "cell_type": "markdown",
   "id": "c9a0e965",
   "metadata": {},
   "source": [
    "## Setup"
   ]
  },
  {
   "cell_type": "code",
   "execution_count": 1,
   "id": "e3044dc5",
   "metadata": {},
   "outputs": [],
   "source": [
    "### --- Setup - importing the libraries\n",
    "\n",
    "# - supress those annoying 'Future Warning'\n",
    "import warnings\n",
    "warnings.simplefilter(action='ignore', category=FutureWarning)\n",
    "\n",
    "\n",
    "# - data\n",
    "import numpy as np\n",
    "import pandas as pd\n",
    "\n",
    "# - os\n",
    "import os\n",
    "\n",
    "# - ml\n",
    "import statsmodels.api as sm\n",
    "from statsmodels.stats.outliers_influence import variance_inflation_factor\n",
    "\n",
    "# - visualization\n",
    "import matplotlib.pyplot as plt\n",
    "import seaborn as sns\n",
    "\n",
    "\n",
    "\n",
    "# - parameters\n",
    "%matplotlib inline\n",
    "pd.options.mode.chained_assignment = None  # default='warn'\n",
    "sns.set_theme()\n",
    "\n",
    "# - rng\n",
    "rng = np.random.default_rng()\n",
    "\n",
    "# - plots\n",
    "plt.rc(\"figure\", figsize=(8, 6))\n",
    "plt.rc(\"font\", size=14)\n",
    "sns.set_theme(style='white')\n",
    "\n",
    "# - directory tree\n",
    "data_dir = os.path.join(os.getcwd(), '_data')"
   ]
  },
  {
   "cell_type": "code",
   "execution_count": 2,
   "id": "6cdd06c4",
   "metadata": {},
   "outputs": [
    {
     "data": {
      "text/html": [
       "<div>\n",
       "<style scoped>\n",
       "    .dataframe tbody tr th:only-of-type {\n",
       "        vertical-align: middle;\n",
       "    }\n",
       "\n",
       "    .dataframe tbody tr th {\n",
       "        vertical-align: top;\n",
       "    }\n",
       "\n",
       "    .dataframe thead th {\n",
       "        text-align: right;\n",
       "    }\n",
       "</style>\n",
       "<table border=\"1\" class=\"dataframe\">\n",
       "  <thead>\n",
       "    <tr style=\"text-align: right;\">\n",
       "      <th></th>\n",
       "      <th>SepalLengthCm</th>\n",
       "      <th>SepalWidthCm</th>\n",
       "      <th>PetalLengthCm</th>\n",
       "      <th>PetalWidthCm</th>\n",
       "      <th>Species</th>\n",
       "    </tr>\n",
       "    <tr>\n",
       "      <th>Id</th>\n",
       "      <th></th>\n",
       "      <th></th>\n",
       "      <th></th>\n",
       "      <th></th>\n",
       "      <th></th>\n",
       "    </tr>\n",
       "  </thead>\n",
       "  <tbody>\n",
       "    <tr>\n",
       "      <th>1</th>\n",
       "      <td>5.1</td>\n",
       "      <td>3.5</td>\n",
       "      <td>1.4</td>\n",
       "      <td>0.2</td>\n",
       "      <td>Iris-setosa</td>\n",
       "    </tr>\n",
       "    <tr>\n",
       "      <th>2</th>\n",
       "      <td>4.9</td>\n",
       "      <td>3.0</td>\n",
       "      <td>1.4</td>\n",
       "      <td>0.2</td>\n",
       "      <td>Iris-setosa</td>\n",
       "    </tr>\n",
       "    <tr>\n",
       "      <th>3</th>\n",
       "      <td>4.7</td>\n",
       "      <td>3.2</td>\n",
       "      <td>1.3</td>\n",
       "      <td>0.2</td>\n",
       "      <td>Iris-setosa</td>\n",
       "    </tr>\n",
       "    <tr>\n",
       "      <th>4</th>\n",
       "      <td>4.6</td>\n",
       "      <td>3.1</td>\n",
       "      <td>1.5</td>\n",
       "      <td>0.2</td>\n",
       "      <td>Iris-setosa</td>\n",
       "    </tr>\n",
       "    <tr>\n",
       "      <th>5</th>\n",
       "      <td>5.0</td>\n",
       "      <td>3.6</td>\n",
       "      <td>1.4</td>\n",
       "      <td>0.2</td>\n",
       "      <td>Iris-setosa</td>\n",
       "    </tr>\n",
       "    <tr>\n",
       "      <th>6</th>\n",
       "      <td>5.4</td>\n",
       "      <td>3.9</td>\n",
       "      <td>1.7</td>\n",
       "      <td>0.4</td>\n",
       "      <td>Iris-setosa</td>\n",
       "    </tr>\n",
       "    <tr>\n",
       "      <th>7</th>\n",
       "      <td>4.6</td>\n",
       "      <td>3.4</td>\n",
       "      <td>1.4</td>\n",
       "      <td>0.3</td>\n",
       "      <td>Iris-setosa</td>\n",
       "    </tr>\n",
       "    <tr>\n",
       "      <th>8</th>\n",
       "      <td>5.0</td>\n",
       "      <td>3.4</td>\n",
       "      <td>1.5</td>\n",
       "      <td>0.2</td>\n",
       "      <td>Iris-setosa</td>\n",
       "    </tr>\n",
       "    <tr>\n",
       "      <th>9</th>\n",
       "      <td>4.4</td>\n",
       "      <td>2.9</td>\n",
       "      <td>1.4</td>\n",
       "      <td>0.2</td>\n",
       "      <td>Iris-setosa</td>\n",
       "    </tr>\n",
       "    <tr>\n",
       "      <th>10</th>\n",
       "      <td>4.9</td>\n",
       "      <td>3.1</td>\n",
       "      <td>1.5</td>\n",
       "      <td>0.1</td>\n",
       "      <td>Iris-setosa</td>\n",
       "    </tr>\n",
       "  </tbody>\n",
       "</table>\n",
       "</div>"
      ],
      "text/plain": [
       "    SepalLengthCm  SepalWidthCm  PetalLengthCm  PetalWidthCm      Species\n",
       "Id                                                                       \n",
       "1             5.1           3.5            1.4           0.2  Iris-setosa\n",
       "2             4.9           3.0            1.4           0.2  Iris-setosa\n",
       "3             4.7           3.2            1.3           0.2  Iris-setosa\n",
       "4             4.6           3.1            1.5           0.2  Iris-setosa\n",
       "5             5.0           3.6            1.4           0.2  Iris-setosa\n",
       "6             5.4           3.9            1.7           0.4  Iris-setosa\n",
       "7             4.6           3.4            1.4           0.3  Iris-setosa\n",
       "8             5.0           3.4            1.5           0.2  Iris-setosa\n",
       "9             4.4           2.9            1.4           0.2  Iris-setosa\n",
       "10            4.9           3.1            1.5           0.1  Iris-setosa"
      ]
     },
     "execution_count": 2,
     "metadata": {},
     "output_type": "execute_result"
    }
   ],
   "source": [
    "# - loading the dataset\n",
    "# - Kaggle: https://www.kaggle.com/datasets/uciml/iris\n",
    "# - place it in your _data/ directory\n",
    "iris_data = pd.read_csv(os.path.join(data_dir, 'Iris.csv'), index_col='Id')\n",
    "iris_data.head(10)"
   ]
  },
  {
   "cell_type": "code",
   "execution_count": 3,
   "id": "cd93e5bb",
   "metadata": {},
   "outputs": [
    {
     "data": {
      "text/plain": [
       "Iris-setosa        50\n",
       "Iris-versicolor    50\n",
       "Iris-virginica     50\n",
       "Name: Species, dtype: int64"
      ]
     },
     "execution_count": 3,
     "metadata": {},
     "output_type": "execute_result"
    }
   ],
   "source": [
    "# - counting the instances of each category\n",
    "iris_data['Species'].value_counts()"
   ]
  },
  {
   "cell_type": "code",
   "execution_count": 4,
   "id": "dd8e7f09",
   "metadata": {},
   "outputs": [
    {
     "name": "stdout",
     "output_type": "stream",
     "text": [
      "<class 'pandas.core.frame.DataFrame'>\n",
      "Int64Index: 150 entries, 1 to 150\n",
      "Data columns (total 5 columns):\n",
      " #   Column         Non-Null Count  Dtype  \n",
      "---  ------         --------------  -----  \n",
      " 0   SepalLengthCm  150 non-null    float64\n",
      " 1   SepalWidthCm   150 non-null    float64\n",
      " 2   PetalLengthCm  150 non-null    float64\n",
      " 3   PetalWidthCm   150 non-null    float64\n",
      " 4   Species        150 non-null    object \n",
      "dtypes: float64(4), object(1)\n",
      "memory usage: 7.0+ KB\n"
     ]
    }
   ],
   "source": [
    "# - info on the variables\n",
    "iris_data.info()"
   ]
  },
  {
   "cell_type": "markdown",
   "id": "bf4d61d1",
   "metadata": {},
   "source": [
    "## Multinomial Logistic Regression\n",
    "\n",
    "### Target: predict species from all continuous predictors"
   ]
  },
  {
   "cell_type": "markdown",
   "id": "bbc8090c",
   "metadata": {},
   "source": [
    "## Multinomial Logistic Regression\n",
    "\n",
    "We use Multinomial Logistic Regression Model to predict the most probable category for the given observation $\\textbf{x}$ with features $(x_1, x_2, \\ldots, x_k)$. Assume that our target variable $y$ belongs to one of categories from the set $\\{1, 2, \\ldots, C\\}$. In MNR we usually select one category as the referrence category; let that be the category $C$. Then, the probability that the target variable $y$ belongs to category $c = 1,\\ldots,C-1$ is calculated via\n",
    "\n",
    "$$P(y = c) = \\frac{e^{\\beta^{(c)}_1x_1 + \\beta^{(c)}_2x_2 + \\cdots + \\beta^{(c)}_kx_k + n}}{1+\\sum_{j=1}^{C-1}e^{\\beta^{(j)}_1x_1 + \\beta^{(j)}_2x_2 + \\cdots + \\beta^{(j)}_kx_k + n}},$$\n",
    "\n",
    "and the probability that it belogns to the referrence category $C$ is \n",
    "\n",
    "$$P(y = C) = \\frac{1}{1+\\sum_{j=1}^{C-1}e^{\\beta^{(j)}_1x_1 + \\beta^{(j)}_2x_2 + \\cdots + \\beta^{(j)}_kx_k + n}},$$\n",
    "\n",
    "where $\\beta^{(j)}_1, \\beta^{(j)}_2, \\ldots, \\beta^{(j)}_k,\\ j=1,\\ldots,C$ are the model's parameters for predictors and target variable categories, and $n$ is the intercept of the model.\n",
    "\n",
    "After calculating all the probabilities $P(y = c),\\ c=1,\\ldots,C$ we predict the target variable as\n",
    "\n",
    "$$\\hat{y} = \\textrm{argmax}_{c=1,\\ldots,C}P(y=c).$$\n",
    "\n",
    "The model is estimated by MLE (Maximum Likelihood Estimation). For each category $c$ - except for the referrence $C$, of course - we obtain a set of coefficients. Each model coefficient, in each category, tells us about the $\\Delta_{odds}$ in favor of the target category, for a unit change of a predictor, in comparison with the baseline category, and given that everything else is kept constant."
   ]
  },
  {
   "cell_type": "code",
   "execution_count": 5,
   "id": "eddbcc97",
   "metadata": {},
   "outputs": [
    {
     "name": "stdout",
     "output_type": "stream",
     "text": [
      "    const  SepalLengthCm  SepalWidthCm  PetalLengthCm  PetalWidthCm\n",
      "Id                                                                 \n",
      "1     1.0            5.1           3.5            1.4           0.2\n",
      "2     1.0            4.9           3.0            1.4           0.2\n",
      "3     1.0            4.7           3.2            1.3           0.2\n",
      "4     1.0            4.6           3.1            1.5           0.2\n",
      "5     1.0            5.0           3.6            1.4           0.2\n",
      "6     1.0            5.4           3.9            1.7           0.4\n",
      "7     1.0            4.6           3.4            1.4           0.3\n",
      "8     1.0            5.0           3.4            1.5           0.2\n",
      "9     1.0            4.4           2.9            1.4           0.2\n",
      "10    1.0            4.9           3.1            1.5           0.1\n"
     ]
    }
   ],
   "source": [
    "### --- Preparing the variables \n",
    "\n",
    "# - feature matrix\n",
    "X = iris_data.drop(columns='Species')\n",
    "# - we append a constant column of ones to the feature matrix\n",
    "X = sm.add_constant(X)\n",
    "print(X[:10])\n",
    "\n",
    "\n",
    "# - we impose the ordering to the categories of the target vector; the first category is the referrence category\n",
    "cat_type = pd.CategoricalDtype(categories=[\"Iris-versicolor\", \"Iris-virginica\", \"Iris-setosa\"], ordered=True)\n",
    "y = iris_data['Species'].astype(cat_type)"
   ]
  },
  {
   "cell_type": "code",
   "execution_count": 6,
   "id": "d8e250ce",
   "metadata": {},
   "outputs": [
    {
     "name": "stdout",
     "output_type": "stream",
     "text": [
      "Optimization terminated successfully.\n",
      "         Current function value: 0.039663\n",
      "         Iterations: 26\n",
      "         Function evaluations: 27\n",
      "         Gradient evaluations: 27\n",
      "         Hessian evaluations: 26\n"
     ]
    },
    {
     "data": {
      "text/html": [
       "<table class=\"simpletable\">\n",
       "<caption>MNLogit Regression Results</caption>\n",
       "<tr>\n",
       "  <th>Dep. Variable:</th>        <td>Species</td>     <th>  No. Observations:  </th>  <td>   150</td>  \n",
       "</tr>\n",
       "<tr>\n",
       "  <th>Model:</th>                <td>MNLogit</td>     <th>  Df Residuals:      </th>  <td>   140</td>  \n",
       "</tr>\n",
       "<tr>\n",
       "  <th>Method:</th>                 <td>MLE</td>       <th>  Df Model:          </th>  <td>     8</td>  \n",
       "</tr>\n",
       "<tr>\n",
       "  <th>Date:</th>            <td>Mon, 21 Nov 2022</td> <th>  Pseudo R-squ.:     </th>  <td>0.9639</td>  \n",
       "</tr>\n",
       "<tr>\n",
       "  <th>Time:</th>                <td>16:00:34</td>     <th>  Log-Likelihood:    </th> <td> -5.9494</td> \n",
       "</tr>\n",
       "<tr>\n",
       "  <th>converged:</th>             <td>True</td>       <th>  LL-Null:           </th> <td> -164.79</td> \n",
       "</tr>\n",
       "<tr>\n",
       "  <th>Covariance Type:</th>     <td>nonrobust</td>    <th>  LLR p-value:       </th> <td>7.056e-64</td>\n",
       "</tr>\n",
       "</table>\n",
       "<table class=\"simpletable\">\n",
       "<tr>\n",
       "  <th>Species=Iris-virginica</th>    <th>coef</th>     <th>std err</th>      <th>z</th>      <th>P>|z|</th>  <th>[0.025</th>    <th>0.975]</th>  \n",
       "</tr>\n",
       "<tr>\n",
       "  <th>const</th>                  <td>  -42.6241</td> <td>   25.698</td> <td>   -1.659</td> <td> 0.097</td> <td>  -92.992</td> <td>    7.744</td>\n",
       "</tr>\n",
       "<tr>\n",
       "  <th>SepalLengthCm</th>          <td>   -2.4650</td> <td>    2.394</td> <td>   -1.030</td> <td> 0.303</td> <td>   -7.158</td> <td>    2.227</td>\n",
       "</tr>\n",
       "<tr>\n",
       "  <th>SepalWidthCm</th>           <td>   -6.6810</td> <td>    4.479</td> <td>   -1.492</td> <td> 0.136</td> <td>  -15.460</td> <td>    2.098</td>\n",
       "</tr>\n",
       "<tr>\n",
       "  <th>PetalLengthCm</th>          <td>    9.4273</td> <td>    4.735</td> <td>    1.991</td> <td> 0.046</td> <td>    0.146</td> <td>   18.708</td>\n",
       "</tr>\n",
       "<tr>\n",
       "  <th>PetalWidthCm</th>           <td>   18.2837</td> <td>    9.741</td> <td>    1.877</td> <td> 0.061</td> <td>   -0.808</td> <td>   37.375</td>\n",
       "</tr>\n",
       "<tr>\n",
       "  <th>Species=Iris-setosa</th>    <th>coef</th>     <th>std err</th>      <th>z</th>      <th>P>|z|</th>  <th>[0.025</th>    <th>0.975]</th>  \n",
       "</tr>\n",
       "<tr>\n",
       "  <th>const</th>               <td>    1.2685</td> <td> 3115.888</td> <td>    0.000</td> <td> 1.000</td> <td>-6105.759</td> <td> 6108.296</td>\n",
       "</tr>\n",
       "<tr>\n",
       "  <th>SepalLengthCm</th>       <td>    2.1956</td> <td>  882.047</td> <td>    0.002</td> <td> 0.998</td> <td>-1726.585</td> <td> 1730.976</td>\n",
       "</tr>\n",
       "<tr>\n",
       "  <th>SepalWidthCm</th>        <td>    6.4425</td> <td>  431.475</td> <td>    0.015</td> <td> 0.988</td> <td> -839.233</td> <td>  852.118</td>\n",
       "</tr>\n",
       "<tr>\n",
       "  <th>PetalLengthCm</th>       <td>  -10.8411</td> <td>  560.407</td> <td>   -0.019</td> <td> 0.985</td> <td>-1109.220</td> <td> 1087.537</td>\n",
       "</tr>\n",
       "<tr>\n",
       "  <th>PetalWidthCm</th>        <td>   -5.5832</td> <td> 1076.319</td> <td>   -0.005</td> <td> 0.996</td> <td>-2115.130</td> <td> 2103.963</td>\n",
       "</tr>\n",
       "</table>"
      ],
      "text/plain": [
       "<class 'statsmodels.iolib.summary.Summary'>\n",
       "\"\"\"\n",
       "                          MNLogit Regression Results                          \n",
       "==============================================================================\n",
       "Dep. Variable:                Species   No. Observations:                  150\n",
       "Model:                        MNLogit   Df Residuals:                      140\n",
       "Method:                           MLE   Df Model:                            8\n",
       "Date:                Mon, 21 Nov 2022   Pseudo R-squ.:                  0.9639\n",
       "Time:                        16:00:34   Log-Likelihood:                -5.9494\n",
       "converged:                       True   LL-Null:                       -164.79\n",
       "Covariance Type:            nonrobust   LLR p-value:                 7.056e-64\n",
       "=======================================================================================\n",
       "Species=Iris-virginica       coef    std err          z      P>|z|      [0.025      0.975]\n",
       "------------------------------------------------------------------------------------------\n",
       "const                    -42.6241     25.698     -1.659      0.097     -92.992       7.744\n",
       "SepalLengthCm             -2.4650      2.394     -1.030      0.303      -7.158       2.227\n",
       "SepalWidthCm              -6.6810      4.479     -1.492      0.136     -15.460       2.098\n",
       "PetalLengthCm              9.4273      4.735      1.991      0.046       0.146      18.708\n",
       "PetalWidthCm              18.2837      9.741      1.877      0.061      -0.808      37.375\n",
       "------------------------------------------------------------------------------------------\n",
       "Species=Iris-setosa       coef    std err          z      P>|z|      [0.025      0.975]\n",
       "---------------------------------------------------------------------------------------\n",
       "const                   1.2685   3115.888      0.000      1.000   -6105.759    6108.296\n",
       "SepalLengthCm           2.1956    882.047      0.002      0.998   -1726.585    1730.976\n",
       "SepalWidthCm            6.4425    431.475      0.015      0.988    -839.233     852.118\n",
       "PetalLengthCm         -10.8411    560.407     -0.019      0.985   -1109.220    1087.537\n",
       "PetalWidthCm           -5.5832   1076.319     -0.005      0.996   -2115.130    2103.963\n",
       "=======================================================================================\n",
       "\"\"\""
      ]
     },
     "execution_count": 6,
     "metadata": {},
     "output_type": "execute_result"
    }
   ],
   "source": [
    "# - fitting the MNR model to the data; we use the Newton's Conjugate Gradient method as the optimizer to compute the\n",
    "#models coefficients\n",
    "mnr_model = sm.MNLogit(exog=X, endog=y).fit(method='ncg')\n",
    "mnr_model.summary()"
   ]
  },
  {
   "cell_type": "code",
   "execution_count": 7,
   "id": "95fb8572",
   "metadata": {},
   "outputs": [
    {
     "data": {
      "text/plain": [
       "array([[49.,  1.,  0.],\n",
       "       [ 1., 49.,  0.],\n",
       "       [ 0.,  0., 50.]])"
      ]
     },
     "execution_count": 7,
     "metadata": {},
     "output_type": "execute_result"
    }
   ],
   "source": [
    "# - confusion matrix for our model and given data; rows/columns are on par with the ordering of categorical variable\n",
    "mnr_model.pred_table()"
   ]
  },
  {
   "cell_type": "code",
   "execution_count": 8,
   "id": "8f645150",
   "metadata": {},
   "outputs": [
    {
     "name": "stdout",
     "output_type": "stream",
     "text": [
      "The accuracy of our model: 0.9867\n"
     ]
    }
   ],
   "source": [
    "# - accuracy of the model\n",
    "print(f'The accuracy of our model: {round(148/150, 4)}')"
   ]
  },
  {
   "cell_type": "code",
   "execution_count": 9,
   "id": "0ca6cce0",
   "metadata": {},
   "outputs": [
    {
     "data": {
      "text/plain": [
       "array([[7.41122753e-09, 1.15691814e-35, 9.99999993e-01],\n",
       "       [2.88109577e-07, 2.07898121e-32, 9.99999712e-01],\n",
       "       [4.16727638e-08, 5.04109234e-34, 9.99999958e-01],\n",
       "       [8.64262970e-07, 1.71937211e-31, 9.99999136e-01],\n",
       "       [4.84673949e-09, 4.96320930e-36, 9.99999995e-01],\n",
       "       [2.30189523e-08, 7.76396589e-34, 9.99999977e-01],\n",
       "       [7.39465964e-08, 4.80628209e-33, 9.99999926e-01],\n",
       "       [5.19827834e-08, 5.19878980e-34, 9.99999948e-01],\n",
       "       [1.64479094e-06, 7.94019244e-31, 9.99998355e-01],\n",
       "       [2.55926427e-07, 3.90502694e-33, 9.99999744e-01]])"
      ]
     },
     "execution_count": 9,
     "metadata": {},
     "output_type": "execute_result"
    }
   ],
   "source": [
    "# - model's prediction of probabilities; columns correspond to the ordering of categorical variable\n",
    "mnr_model.predict()[:10]"
   ]
  },
  {
   "cell_type": "code",
   "execution_count": 10,
   "id": "cd843c37",
   "metadata": {},
   "outputs": [
    {
     "data": {
      "text/plain": [
       "array([2, 2, 2, 2, 2, 2, 2, 2, 2, 2, 2, 2, 2, 2, 2, 2, 2, 2, 2, 2, 2, 2,\n",
       "       2, 2, 2, 2, 2, 2, 2, 2, 2, 2, 2, 2, 2, 2, 2, 2, 2, 2, 2, 2, 2, 2,\n",
       "       2, 2, 2, 2, 2, 2, 0, 0, 0, 0, 0, 0, 0, 0, 0, 0, 0, 0, 0, 0, 0, 0,\n",
       "       0, 0, 0, 0, 0, 0, 0, 0, 0, 0, 0, 0, 0, 0, 0, 0, 0, 1, 0, 0, 0, 0,\n",
       "       0, 0, 0, 0, 0, 0, 0, 0, 0, 0, 0, 0, 1, 1, 1, 1, 1, 1, 1, 1, 1, 1,\n",
       "       1, 1, 1, 1, 1, 1, 1, 1, 1, 1, 1, 1, 1, 1, 1, 1, 1, 1, 1, 1, 1, 1,\n",
       "       1, 0, 1, 1, 1, 1, 1, 1, 1, 1, 1, 1, 1, 1, 1, 1, 1, 1], dtype=int64)"
      ]
     },
     "execution_count": 10,
     "metadata": {},
     "output_type": "execute_result"
    }
   ],
   "source": [
    "# - model's prediction of categories; numbers correspond to the ordering of categorical variable\n",
    "preds = np.argmax(mnr_model.predict(), axis=-1)\n",
    "preds"
   ]
  },
  {
   "cell_type": "markdown",
   "id": "c73e4199",
   "metadata": {},
   "source": [
    "### Multicolinearity in Multinomial Regression"
   ]
  },
  {
   "cell_type": "code",
   "execution_count": 11,
   "id": "9234ad9a",
   "metadata": {},
   "outputs": [
    {
     "data": {
      "text/plain": [
       "Id\n",
       "1      2\n",
       "2      2\n",
       "3      2\n",
       "4      2\n",
       "5      2\n",
       "      ..\n",
       "146    1\n",
       "147    1\n",
       "148    1\n",
       "149    1\n",
       "150    1\n",
       "Length: 150, dtype: int8"
      ]
     },
     "execution_count": 11,
     "metadata": {},
     "output_type": "execute_result"
    }
   ],
   "source": [
    "### --- Step 1: recode categorical target variable to integer values, \n",
    "# - just in order to be able to run a multiple linear regression on the data:\n",
    "y = y.cat.codes\n",
    "y"
   ]
  },
  {
   "cell_type": "code",
   "execution_count": 12,
   "id": "a8617dc0",
   "metadata": {},
   "outputs": [
    {
     "data": {
      "text/html": [
       "<table class=\"simpletable\">\n",
       "<caption>OLS Regression Results</caption>\n",
       "<tr>\n",
       "  <th>Dep. Variable:</th>            <td>y</td>        <th>  R-squared:         </th> <td>   0.571</td>\n",
       "</tr>\n",
       "<tr>\n",
       "  <th>Model:</th>                   <td>OLS</td>       <th>  Adj. R-squared:    </th> <td>   0.559</td>\n",
       "</tr>\n",
       "<tr>\n",
       "  <th>Method:</th>             <td>Least Squares</td>  <th>  F-statistic:       </th> <td>   48.17</td>\n",
       "</tr>\n",
       "<tr>\n",
       "  <th>Date:</th>             <td>Mon, 21 Nov 2022</td> <th>  Prob (F-statistic):</th> <td>1.02e-25</td>\n",
       "</tr>\n",
       "<tr>\n",
       "  <th>Time:</th>                 <td>16:00:36</td>     <th>  Log-Likelihood:    </th> <td> -119.03</td>\n",
       "</tr>\n",
       "<tr>\n",
       "  <th>No. Observations:</th>      <td>   150</td>      <th>  AIC:               </th> <td>   248.1</td>\n",
       "</tr>\n",
       "<tr>\n",
       "  <th>Df Residuals:</th>          <td>   145</td>      <th>  BIC:               </th> <td>   263.1</td>\n",
       "</tr>\n",
       "<tr>\n",
       "  <th>Df Model:</th>              <td>     4</td>      <th>                     </th>     <td> </td>   \n",
       "</tr>\n",
       "<tr>\n",
       "  <th>Covariance Type:</th>      <td>nonrobust</td>    <th>                     </th>     <td> </td>   \n",
       "</tr>\n",
       "</table>\n",
       "<table class=\"simpletable\">\n",
       "<tr>\n",
       "        <td></td>           <th>coef</th>     <th>std err</th>      <th>t</th>      <th>P>|t|</th>  <th>[0.025</th>    <th>0.975]</th>  \n",
       "</tr>\n",
       "<tr>\n",
       "  <th>const</th>         <td>   -0.4405</td> <td>    0.509</td> <td>   -0.866</td> <td> 0.388</td> <td>   -1.446</td> <td>    0.565</td>\n",
       "</tr>\n",
       "<tr>\n",
       "  <th>SepalLengthCm</th> <td>    0.0872</td> <td>    0.143</td> <td>    0.608</td> <td> 0.544</td> <td>   -0.196</td> <td>    0.371</td>\n",
       "</tr>\n",
       "<tr>\n",
       "  <th>SepalWidthCm</th>  <td>    0.6832</td> <td>    0.149</td> <td>    4.586</td> <td> 0.000</td> <td>    0.389</td> <td>    0.978</td>\n",
       "</tr>\n",
       "<tr>\n",
       "  <th>PetalLengthCm</th> <td>   -0.4413</td> <td>    0.142</td> <td>   -3.117</td> <td> 0.002</td> <td>   -0.721</td> <td>   -0.161</td>\n",
       "</tr>\n",
       "<tr>\n",
       "  <th>PetalWidthCm</th>  <td>    0.4198</td> <td>    0.235</td> <td>    1.789</td> <td> 0.076</td> <td>   -0.044</td> <td>    0.884</td>\n",
       "</tr>\n",
       "</table>\n",
       "<table class=\"simpletable\">\n",
       "<tr>\n",
       "  <th>Omnibus:</th>       <td>28.857</td> <th>  Durbin-Watson:     </th> <td>   0.448</td>\n",
       "</tr>\n",
       "<tr>\n",
       "  <th>Prob(Omnibus):</th> <td> 0.000</td> <th>  Jarque-Bera (JB):  </th> <td>   7.904</td>\n",
       "</tr>\n",
       "<tr>\n",
       "  <th>Skew:</th>          <td>-0.222</td> <th>  Prob(JB):          </th> <td>  0.0192</td>\n",
       "</tr>\n",
       "<tr>\n",
       "  <th>Kurtosis:</th>      <td> 1.966</td> <th>  Cond. No.          </th> <td>    91.8</td>\n",
       "</tr>\n",
       "</table><br/><br/>Notes:<br/>[1] Standard Errors assume that the covariance matrix of the errors is correctly specified."
      ],
      "text/plain": [
       "<class 'statsmodels.iolib.summary.Summary'>\n",
       "\"\"\"\n",
       "                            OLS Regression Results                            \n",
       "==============================================================================\n",
       "Dep. Variable:                      y   R-squared:                       0.571\n",
       "Model:                            OLS   Adj. R-squared:                  0.559\n",
       "Method:                 Least Squares   F-statistic:                     48.17\n",
       "Date:                Mon, 21 Nov 2022   Prob (F-statistic):           1.02e-25\n",
       "Time:                        16:00:36   Log-Likelihood:                -119.03\n",
       "No. Observations:                 150   AIC:                             248.1\n",
       "Df Residuals:                     145   BIC:                             263.1\n",
       "Df Model:                           4                                         \n",
       "Covariance Type:            nonrobust                                         \n",
       "=================================================================================\n",
       "                    coef    std err          t      P>|t|      [0.025      0.975]\n",
       "---------------------------------------------------------------------------------\n",
       "const            -0.4405      0.509     -0.866      0.388      -1.446       0.565\n",
       "SepalLengthCm     0.0872      0.143      0.608      0.544      -0.196       0.371\n",
       "SepalWidthCm      0.6832      0.149      4.586      0.000       0.389       0.978\n",
       "PetalLengthCm    -0.4413      0.142     -3.117      0.002      -0.721      -0.161\n",
       "PetalWidthCm      0.4198      0.235      1.789      0.076      -0.044       0.884\n",
       "==============================================================================\n",
       "Omnibus:                       28.857   Durbin-Watson:                   0.448\n",
       "Prob(Omnibus):                  0.000   Jarque-Bera (JB):                7.904\n",
       "Skew:                          -0.222   Prob(JB):                       0.0192\n",
       "Kurtosis:                       1.966   Cond. No.                         91.8\n",
       "==============================================================================\n",
       "\n",
       "Notes:\n",
       "[1] Standard Errors assume that the covariance matrix of the errors is correctly specified.\n",
       "\"\"\""
      ]
     },
     "execution_count": 12,
     "metadata": {},
     "output_type": "execute_result"
    }
   ],
   "source": [
    "### --- Step 2: produce a Multiple Linear Regression model for the data \n",
    "mnr_model = sm.OLS(exog=X, endog=y).fit()\n",
    "mnr_model.summary()"
   ]
  },
  {
   "cell_type": "code",
   "execution_count": 13,
   "id": "285f0a24",
   "metadata": {},
   "outputs": [
    {
     "data": {
      "text/plain": [
       "Index(['SepalLengthCm', 'SepalWidthCm', 'PetalLengthCm', 'PetalWidthCm'], dtype='object')"
      ]
     },
     "execution_count": 13,
     "metadata": {},
     "output_type": "execute_result"
    }
   ],
   "source": [
    "# --- Step 3: compute VIFs for the predictors\n",
    "predictors = iris_data.columns.drop('Species')\n",
    "predictors"
   ]
  },
  {
   "cell_type": "code",
   "execution_count": 14,
   "id": "8683d42e",
   "metadata": {},
   "outputs": [],
   "source": [
    "# - appending the columns of ones to the predictors' data\n",
    "model_frame_predictors = sm.add_constant(iris_data[predictors])"
   ]
  },
  {
   "cell_type": "code",
   "execution_count": 15,
   "id": "ddd37c6d",
   "metadata": {},
   "outputs": [
    {
     "data": {
      "text/html": [
       "<div>\n",
       "<style scoped>\n",
       "    .dataframe tbody tr th:only-of-type {\n",
       "        vertical-align: middle;\n",
       "    }\n",
       "\n",
       "    .dataframe tbody tr th {\n",
       "        vertical-align: top;\n",
       "    }\n",
       "\n",
       "    .dataframe thead th {\n",
       "        text-align: right;\n",
       "    }\n",
       "</style>\n",
       "<table border=\"1\" class=\"dataframe\">\n",
       "  <thead>\n",
       "    <tr style=\"text-align: right;\">\n",
       "      <th></th>\n",
       "      <th>SepalLengthCm</th>\n",
       "      <th>SepalWidthCm</th>\n",
       "      <th>PetalLengthCm</th>\n",
       "      <th>PetalWidthCm</th>\n",
       "    </tr>\n",
       "  </thead>\n",
       "  <tbody>\n",
       "    <tr>\n",
       "      <th>0</th>\n",
       "      <td>7.103113</td>\n",
       "      <td>2.099039</td>\n",
       "      <td>31.397292</td>\n",
       "      <td>16.141564</td>\n",
       "    </tr>\n",
       "  </tbody>\n",
       "</table>\n",
       "</div>"
      ],
      "text/plain": [
       "   SepalLengthCm  SepalWidthCm  PetalLengthCm  PetalWidthCm\n",
       "0       7.103113      2.099039      31.397292     16.141564"
      ]
     },
     "execution_count": 15,
     "metadata": {},
     "output_type": "execute_result"
    }
   ],
   "source": [
    "# - computing VIFs\n",
    "vifs = [variance_inflation_factor(model_frame_predictors.values, i) for i in range(1, len(predictors)+1)]\n",
    "vifs = np.array(vifs).reshape(1, -1)\n",
    "vifs\n",
    "pd.DataFrame(vifs, columns=predictors)"
   ]
  },
  {
   "cell_type": "markdown",
   "id": "3e63c05d",
   "metadata": {},
   "source": [
    "## Multinomial Logistic Regression using scikit-learn"
   ]
  },
  {
   "cell_type": "code",
   "execution_count": 16,
   "id": "4a7ab474",
   "metadata": {},
   "outputs": [],
   "source": [
    "# - import scikit-learn\n",
    "from sklearn.linear_model import LogisticRegression\n",
    "from sklearn.metrics import confusion_matrix"
   ]
  },
  {
   "cell_type": "code",
   "execution_count": 17,
   "id": "eed5c60d",
   "metadata": {},
   "outputs": [],
   "source": [
    "### --- Preparing the variables \n",
    "\n",
    "# - feature matrix\n",
    "X = iris_data.drop(columns='Species').values\n",
    "\n",
    "# - target variable\n",
    "y = iris_data['Species']"
   ]
  },
  {
   "cell_type": "code",
   "execution_count": 18,
   "id": "cab3bdcb",
   "metadata": {},
   "outputs": [
    {
     "data": {
      "text/html": [
       "<style>#sk-container-id-1 {color: black;background-color: white;}#sk-container-id-1 pre{padding: 0;}#sk-container-id-1 div.sk-toggleable {background-color: white;}#sk-container-id-1 label.sk-toggleable__label {cursor: pointer;display: block;width: 100%;margin-bottom: 0;padding: 0.3em;box-sizing: border-box;text-align: center;}#sk-container-id-1 label.sk-toggleable__label-arrow:before {content: \"▸\";float: left;margin-right: 0.25em;color: #696969;}#sk-container-id-1 label.sk-toggleable__label-arrow:hover:before {color: black;}#sk-container-id-1 div.sk-estimator:hover label.sk-toggleable__label-arrow:before {color: black;}#sk-container-id-1 div.sk-toggleable__content {max-height: 0;max-width: 0;overflow: hidden;text-align: left;background-color: #f0f8ff;}#sk-container-id-1 div.sk-toggleable__content pre {margin: 0.2em;color: black;border-radius: 0.25em;background-color: #f0f8ff;}#sk-container-id-1 input.sk-toggleable__control:checked~div.sk-toggleable__content {max-height: 200px;max-width: 100%;overflow: auto;}#sk-container-id-1 input.sk-toggleable__control:checked~label.sk-toggleable__label-arrow:before {content: \"▾\";}#sk-container-id-1 div.sk-estimator input.sk-toggleable__control:checked~label.sk-toggleable__label {background-color: #d4ebff;}#sk-container-id-1 div.sk-label input.sk-toggleable__control:checked~label.sk-toggleable__label {background-color: #d4ebff;}#sk-container-id-1 input.sk-hidden--visually {border: 0;clip: rect(1px 1px 1px 1px);clip: rect(1px, 1px, 1px, 1px);height: 1px;margin: -1px;overflow: hidden;padding: 0;position: absolute;width: 1px;}#sk-container-id-1 div.sk-estimator {font-family: monospace;background-color: #f0f8ff;border: 1px dotted black;border-radius: 0.25em;box-sizing: border-box;margin-bottom: 0.5em;}#sk-container-id-1 div.sk-estimator:hover {background-color: #d4ebff;}#sk-container-id-1 div.sk-parallel-item::after {content: \"\";width: 100%;border-bottom: 1px solid gray;flex-grow: 1;}#sk-container-id-1 div.sk-label:hover label.sk-toggleable__label {background-color: #d4ebff;}#sk-container-id-1 div.sk-serial::before {content: \"\";position: absolute;border-left: 1px solid gray;box-sizing: border-box;top: 0;bottom: 0;left: 50%;z-index: 0;}#sk-container-id-1 div.sk-serial {display: flex;flex-direction: column;align-items: center;background-color: white;padding-right: 0.2em;padding-left: 0.2em;position: relative;}#sk-container-id-1 div.sk-item {position: relative;z-index: 1;}#sk-container-id-1 div.sk-parallel {display: flex;align-items: stretch;justify-content: center;background-color: white;position: relative;}#sk-container-id-1 div.sk-item::before, #sk-container-id-1 div.sk-parallel-item::before {content: \"\";position: absolute;border-left: 1px solid gray;box-sizing: border-box;top: 0;bottom: 0;left: 50%;z-index: -1;}#sk-container-id-1 div.sk-parallel-item {display: flex;flex-direction: column;z-index: 1;position: relative;background-color: white;}#sk-container-id-1 div.sk-parallel-item:first-child::after {align-self: flex-end;width: 50%;}#sk-container-id-1 div.sk-parallel-item:last-child::after {align-self: flex-start;width: 50%;}#sk-container-id-1 div.sk-parallel-item:only-child::after {width: 0;}#sk-container-id-1 div.sk-dashed-wrapped {border: 1px dashed gray;margin: 0 0.4em 0.5em 0.4em;box-sizing: border-box;padding-bottom: 0.4em;background-color: white;}#sk-container-id-1 div.sk-label label {font-family: monospace;font-weight: bold;display: inline-block;line-height: 1.2em;}#sk-container-id-1 div.sk-label-container {text-align: center;}#sk-container-id-1 div.sk-container {/* jupyter's `normalize.less` sets `[hidden] { display: none; }` but bootstrap.min.css set `[hidden] { display: none !important; }` so we also need the `!important` here to be able to override the default hidden behavior on the sphinx rendered scikit-learn.org. See: https://github.com/scikit-learn/scikit-learn/issues/21755 */display: inline-block !important;position: relative;}#sk-container-id-1 div.sk-text-repr-fallback {display: none;}</style><div id=\"sk-container-id-1\" class=\"sk-top-container\"><div class=\"sk-text-repr-fallback\"><pre>LogisticRegression(penalty=&#x27;none&#x27;, solver=&#x27;newton-cg&#x27;)</pre><b>In a Jupyter environment, please rerun this cell to show the HTML representation or trust the notebook. <br />On GitHub, the HTML representation is unable to render, please try loading this page with nbviewer.org.</b></div><div class=\"sk-container\" hidden><div class=\"sk-item\"><div class=\"sk-estimator sk-toggleable\"><input class=\"sk-toggleable__control sk-hidden--visually\" id=\"sk-estimator-id-1\" type=\"checkbox\" checked><label for=\"sk-estimator-id-1\" class=\"sk-toggleable__label sk-toggleable__label-arrow\">LogisticRegression</label><div class=\"sk-toggleable__content\"><pre>LogisticRegression(penalty=&#x27;none&#x27;, solver=&#x27;newton-cg&#x27;)</pre></div></div></div></div></div>"
      ],
      "text/plain": [
       "LogisticRegression(penalty='none', solver='newton-cg')"
      ]
     },
     "execution_count": 18,
     "metadata": {},
     "output_type": "execute_result"
    }
   ],
   "source": [
    "### --- Fitting the logistic model to the numerical data\n",
    "# - scikit-learn does not implement the referrence category automatically \n",
    "# - experiment with hyperparameters to produce more accurate model\n",
    "log_reg = LogisticRegression(solver='newton-cg', penalty='none')\n",
    "log_reg.fit(X, y)"
   ]
  },
  {
   "cell_type": "code",
   "execution_count": 19,
   "id": "e350f3be",
   "metadata": {},
   "outputs": [
    {
     "data": {
      "text/plain": [
       "(array([[  4.88501685,   7.84683378, -12.83914117,  -6.66236914],\n",
       "        [ -1.20989943,  -0.58296936,   1.70486765,  -5.81189786],\n",
       "        [ -3.67511742,  -7.26386442,  11.13427351,  12.47426701]]),\n",
       " array([  2.32878337,  20.15458005, -22.48336342]))"
      ]
     },
     "execution_count": 19,
     "metadata": {},
     "output_type": "execute_result"
    }
   ],
   "source": [
    "# - coefficents of the model; rows correspond to the order of appearance of categories in the target variable\n",
    "log_reg.coef_, log_reg.intercept_"
   ]
  },
  {
   "cell_type": "code",
   "execution_count": 20,
   "id": "c4510c1d",
   "metadata": {},
   "outputs": [
    {
     "data": {
      "text/plain": [
       "0.9867"
      ]
     },
     "execution_count": 20,
     "metadata": {},
     "output_type": "execute_result"
    }
   ],
   "source": [
    "# - model's accuracy\n",
    "round(log_reg.score(X, y), 4)"
   ]
  },
  {
   "cell_type": "code",
   "execution_count": 21,
   "id": "b1c73b95",
   "metadata": {},
   "outputs": [
    {
     "data": {
      "text/plain": [
       "array(['Iris-setosa', 'Iris-setosa', 'Iris-setosa', 'Iris-setosa',\n",
       "       'Iris-setosa', 'Iris-setosa', 'Iris-setosa', 'Iris-setosa',\n",
       "       'Iris-setosa', 'Iris-setosa'], dtype=object)"
      ]
     },
     "execution_count": 21,
     "metadata": {},
     "output_type": "execute_result"
    }
   ],
   "source": [
    "# - predictions\n",
    "y_pred = log_reg.predict(X)\n",
    "y_pred[:10]"
   ]
  },
  {
   "cell_type": "code",
   "execution_count": 22,
   "id": "cb24e4c0",
   "metadata": {},
   "outputs": [
    {
     "data": {
      "text/plain": [
       "array([[50,  0,  0],\n",
       "       [ 0, 49,  1],\n",
       "       [ 0,  1, 49]], dtype=int64)"
      ]
     },
     "execution_count": 22,
     "metadata": {},
     "output_type": "execute_result"
    }
   ],
   "source": [
    "# - confusion matrix for the given data\n",
    "# - rows/columns rows correspond to the order of appearance of categories in the target variable\n",
    "confusion_matrix(y, y_pred)"
   ]
  },
  {
   "cell_type": "markdown",
   "id": "70068c8b",
   "metadata": {},
   "source": [
    "Goran S. Milovanović & Aleksandar Cvetković\n",
    "\n",
    "DataKolektiv, 2022/23.\n",
    "\n",
    "[hello@datakolektiv.com](mailto:goran.milovanovic@datakolektiv.com)\n",
    "\n",
    "![](../img/DK_Logo_100.png)"
   ]
  },
  {
   "cell_type": "markdown",
   "id": "bc75da4e",
   "metadata": {},
   "source": [
    "<font size=1>License: <a href=\"https://www.gnu.org/licenses/gpl-3.0.txt\">GPLv3</a> This Notebook is free software: you can redistribute it and/or modify it under the terms of the GNU General Public License as published by the Free Software Foundation, either version 3 of the License, or (at your option) any later version. This Notebook is distributed in the hope that it will be useful, but WITHOUT ANY WARRANTY; without even the implied warranty of MERCHANTABILITY or FITNESS FOR A PARTICULAR PURPOSE. See the GNU General Public License for more details. You should have received a copy of the GNU General Public License along with this Notebook. If not, see <a href=\"http://www.gnu.org/licenses/\">http://www.gnu.org/licenses/</a>.</font>"
   ]
  },
  {
   "cell_type": "code",
   "execution_count": null,
   "id": "1739a962",
   "metadata": {},
   "outputs": [],
   "source": []
  }
 ],
 "metadata": {
  "kernelspec": {
   "display_name": "Python 3",
   "language": "python",
   "name": "python3"
  },
  "language_info": {
   "codemirror_mode": {
    "name": "ipython",
    "version": 3
   },
   "file_extension": ".py",
   "mimetype": "text/x-python",
   "name": "python",
   "nbconvert_exporter": "python",
   "pygments_lexer": "ipython3",
   "version": "3.8.8"
  }
 },
 "nbformat": 4,
 "nbformat_minor": 5
}
