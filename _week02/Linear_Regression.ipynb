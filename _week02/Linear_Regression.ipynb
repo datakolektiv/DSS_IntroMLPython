{
 "cells": [
  {
   "cell_type": "markdown",
   "id": "e47a4756",
   "metadata": {},
   "source": [
    "# DATA SCIENCE SCHOOL :: Introduction to ML in Python\n",
    "### An Intensive Python ML Course\n",
    "## Prerequisites\n",
    "\n",
    "[&larr; Back to course webpage](http://datakolektiv.com/app_direct/introdsnontech/)\n",
    "\n",
    "Feedback should be send to [goran.milovanovic@datakolektiv.com](mailto:goran.milovanovic@datakolektiv.com). \n",
    "\n",
    "These notebooks accompany the DATA SCIENCE SCHOOL :: Introduction to ML in Python course."
   ]
  },
  {
   "cell_type": "markdown",
   "id": "af5ba647",
   "metadata": {},
   "source": [
    "### Goran S. Milovanović, PhD\n",
    "<b>DataKolektiv, Chief Scientist & Owner</b>\n",
    "\n",
    "### Aleksandar Cvetković, PhD\n",
    "<b>DataKolektiv, Consultant</b>"
   ]
  },
  {
   "cell_type": "markdown",
   "id": "56600c1a",
   "metadata": {},
   "source": [
    "![](../img/DK_Logo_100.png)"
   ]
  },
  {
   "cell_type": "markdown",
   "id": "a8237e1e",
   "metadata": {},
   "source": [
    "## Setup"
   ]
  },
  {
   "cell_type": "code",
   "execution_count": 7,
   "id": "7f8b9eac",
   "metadata": {},
   "outputs": [],
   "source": [
    "#Setup - importing the libraries\n",
    "import numpy as np\n",
    "import pandas as pd\n",
    "\n",
    "import os\n",
    "\n",
    "from scipy import stats\n",
    "import statsmodels.api as sm\n",
    "\n",
    "import matplotlib.pyplot as plt\n",
    "import seaborn as sns"
   ]
  },
  {
   "cell_type": "code",
   "execution_count": 8,
   "id": "0d0cf02a",
   "metadata": {},
   "outputs": [],
   "source": [
    "#Setup - excluding some unnecessary warnings and setting some plotting defaults; setting up a random number generator\n",
    "pd.options.mode.chained_assignment = None  # default='warn'\n",
    "sns.set_theme()\n",
    "\n",
    "rng = np.random.default_rng()\n",
    "\n",
    "%matplotlib inline\n",
    "plt.rc(\"figure\", figsize=(8, 6))\n",
    "plt.rc(\"font\", size=14)"
   ]
  },
  {
   "cell_type": "code",
   "execution_count": 9,
   "id": "5076e8f5",
   "metadata": {},
   "outputs": [
    {
     "data": {
      "text/html": [
       "<div>\n",
       "<style scoped>\n",
       "    .dataframe tbody tr th:only-of-type {\n",
       "        vertical-align: middle;\n",
       "    }\n",
       "\n",
       "    .dataframe tbody tr th {\n",
       "        vertical-align: top;\n",
       "    }\n",
       "\n",
       "    .dataframe thead th {\n",
       "        text-align: right;\n",
       "    }\n",
       "</style>\n",
       "<table border=\"1\" class=\"dataframe\">\n",
       "  <thead>\n",
       "    <tr style=\"text-align: right;\">\n",
       "      <th></th>\n",
       "      <th>Species</th>\n",
       "      <th>Weight</th>\n",
       "      <th>Length1</th>\n",
       "      <th>Length2</th>\n",
       "      <th>Length3</th>\n",
       "      <th>Height</th>\n",
       "      <th>Width</th>\n",
       "    </tr>\n",
       "  </thead>\n",
       "  <tbody>\n",
       "    <tr>\n",
       "      <th>0</th>\n",
       "      <td>Bream</td>\n",
       "      <td>242.0</td>\n",
       "      <td>23.2</td>\n",
       "      <td>25.4</td>\n",
       "      <td>30.0</td>\n",
       "      <td>11.5200</td>\n",
       "      <td>4.0200</td>\n",
       "    </tr>\n",
       "    <tr>\n",
       "      <th>1</th>\n",
       "      <td>Bream</td>\n",
       "      <td>290.0</td>\n",
       "      <td>24.0</td>\n",
       "      <td>26.3</td>\n",
       "      <td>31.2</td>\n",
       "      <td>12.4800</td>\n",
       "      <td>4.3056</td>\n",
       "    </tr>\n",
       "    <tr>\n",
       "      <th>2</th>\n",
       "      <td>Bream</td>\n",
       "      <td>340.0</td>\n",
       "      <td>23.9</td>\n",
       "      <td>26.5</td>\n",
       "      <td>31.1</td>\n",
       "      <td>12.3778</td>\n",
       "      <td>4.6961</td>\n",
       "    </tr>\n",
       "    <tr>\n",
       "      <th>3</th>\n",
       "      <td>Bream</td>\n",
       "      <td>363.0</td>\n",
       "      <td>26.3</td>\n",
       "      <td>29.0</td>\n",
       "      <td>33.5</td>\n",
       "      <td>12.7300</td>\n",
       "      <td>4.4555</td>\n",
       "    </tr>\n",
       "    <tr>\n",
       "      <th>4</th>\n",
       "      <td>Bream</td>\n",
       "      <td>430.0</td>\n",
       "      <td>26.5</td>\n",
       "      <td>29.0</td>\n",
       "      <td>34.0</td>\n",
       "      <td>12.4440</td>\n",
       "      <td>5.1340</td>\n",
       "    </tr>\n",
       "    <tr>\n",
       "      <th>...</th>\n",
       "      <td>...</td>\n",
       "      <td>...</td>\n",
       "      <td>...</td>\n",
       "      <td>...</td>\n",
       "      <td>...</td>\n",
       "      <td>...</td>\n",
       "      <td>...</td>\n",
       "    </tr>\n",
       "    <tr>\n",
       "      <th>154</th>\n",
       "      <td>Smelt</td>\n",
       "      <td>12.2</td>\n",
       "      <td>11.5</td>\n",
       "      <td>12.2</td>\n",
       "      <td>13.4</td>\n",
       "      <td>2.0904</td>\n",
       "      <td>1.3936</td>\n",
       "    </tr>\n",
       "    <tr>\n",
       "      <th>155</th>\n",
       "      <td>Smelt</td>\n",
       "      <td>13.4</td>\n",
       "      <td>11.7</td>\n",
       "      <td>12.4</td>\n",
       "      <td>13.5</td>\n",
       "      <td>2.4300</td>\n",
       "      <td>1.2690</td>\n",
       "    </tr>\n",
       "    <tr>\n",
       "      <th>156</th>\n",
       "      <td>Smelt</td>\n",
       "      <td>12.2</td>\n",
       "      <td>12.1</td>\n",
       "      <td>13.0</td>\n",
       "      <td>13.8</td>\n",
       "      <td>2.2770</td>\n",
       "      <td>1.2558</td>\n",
       "    </tr>\n",
       "    <tr>\n",
       "      <th>157</th>\n",
       "      <td>Smelt</td>\n",
       "      <td>19.7</td>\n",
       "      <td>13.2</td>\n",
       "      <td>14.3</td>\n",
       "      <td>15.2</td>\n",
       "      <td>2.8728</td>\n",
       "      <td>2.0672</td>\n",
       "    </tr>\n",
       "    <tr>\n",
       "      <th>158</th>\n",
       "      <td>Smelt</td>\n",
       "      <td>19.9</td>\n",
       "      <td>13.8</td>\n",
       "      <td>15.0</td>\n",
       "      <td>16.2</td>\n",
       "      <td>2.9322</td>\n",
       "      <td>1.8792</td>\n",
       "    </tr>\n",
       "  </tbody>\n",
       "</table>\n",
       "<p>159 rows × 7 columns</p>\n",
       "</div>"
      ],
      "text/plain": [
       "    Species  Weight  Length1  Length2  Length3   Height   Width\n",
       "0     Bream   242.0     23.2     25.4     30.0  11.5200  4.0200\n",
       "1     Bream   290.0     24.0     26.3     31.2  12.4800  4.3056\n",
       "2     Bream   340.0     23.9     26.5     31.1  12.3778  4.6961\n",
       "3     Bream   363.0     26.3     29.0     33.5  12.7300  4.4555\n",
       "4     Bream   430.0     26.5     29.0     34.0  12.4440  5.1340\n",
       "..      ...     ...      ...      ...      ...      ...     ...\n",
       "154   Smelt    12.2     11.5     12.2     13.4   2.0904  1.3936\n",
       "155   Smelt    13.4     11.7     12.4     13.5   2.4300  1.2690\n",
       "156   Smelt    12.2     12.1     13.0     13.8   2.2770  1.2558\n",
       "157   Smelt    19.7     13.2     14.3     15.2   2.8728  2.0672\n",
       "158   Smelt    19.9     13.8     15.0     16.2   2.9322  1.8792\n",
       "\n",
       "[159 rows x 7 columns]"
      ]
     },
     "execution_count": 9,
     "metadata": {},
     "output_type": "execute_result"
    }
   ],
   "source": [
    "#Setup - loading the dataset\n",
    "data_dir = os.path.join(os.getcwd(), '_data')\n",
    "\n",
    "# - Kaggle: https://www.kaggle.com/datasets/aungpyaeap/fish-market\n",
    "# - place it in your _data/ directory\n",
    "fish_data = pd.read_csv(os.path.join(data_dir, 'Fish.csv'))\n",
    "fish_data"
   ]
  },
  {
   "cell_type": "markdown",
   "id": "0a10be39",
   "metadata": {},
   "source": [
    "## Simple Linear Regression\n",
    "\n",
    "### Target: predict Weight from Height"
   ]
  },
  {
   "cell_type": "code",
   "execution_count": 10,
   "id": "ae6af66b",
   "metadata": {
    "scrolled": false
   },
   "outputs": [
    {
     "data": {
      "text/html": [
       "<div>\n",
       "<style scoped>\n",
       "    .dataframe tbody tr th:only-of-type {\n",
       "        vertical-align: middle;\n",
       "    }\n",
       "\n",
       "    .dataframe tbody tr th {\n",
       "        vertical-align: top;\n",
       "    }\n",
       "\n",
       "    .dataframe thead th {\n",
       "        text-align: right;\n",
       "    }\n",
       "</style>\n",
       "<table border=\"1\" class=\"dataframe\">\n",
       "  <thead>\n",
       "    <tr style=\"text-align: right;\">\n",
       "      <th></th>\n",
       "      <th>Height</th>\n",
       "      <th>Weight</th>\n",
       "    </tr>\n",
       "  </thead>\n",
       "  <tbody>\n",
       "    <tr>\n",
       "      <th>0</th>\n",
       "      <td>11.5200</td>\n",
       "      <td>242.0</td>\n",
       "    </tr>\n",
       "    <tr>\n",
       "      <th>1</th>\n",
       "      <td>12.4800</td>\n",
       "      <td>290.0</td>\n",
       "    </tr>\n",
       "    <tr>\n",
       "      <th>2</th>\n",
       "      <td>12.3778</td>\n",
       "      <td>340.0</td>\n",
       "    </tr>\n",
       "    <tr>\n",
       "      <th>3</th>\n",
       "      <td>12.7300</td>\n",
       "      <td>363.0</td>\n",
       "    </tr>\n",
       "    <tr>\n",
       "      <th>4</th>\n",
       "      <td>12.4440</td>\n",
       "      <td>430.0</td>\n",
       "    </tr>\n",
       "    <tr>\n",
       "      <th>...</th>\n",
       "      <td>...</td>\n",
       "      <td>...</td>\n",
       "    </tr>\n",
       "    <tr>\n",
       "      <th>154</th>\n",
       "      <td>2.0904</td>\n",
       "      <td>12.2</td>\n",
       "    </tr>\n",
       "    <tr>\n",
       "      <th>155</th>\n",
       "      <td>2.4300</td>\n",
       "      <td>13.4</td>\n",
       "    </tr>\n",
       "    <tr>\n",
       "      <th>156</th>\n",
       "      <td>2.2770</td>\n",
       "      <td>12.2</td>\n",
       "    </tr>\n",
       "    <tr>\n",
       "      <th>157</th>\n",
       "      <td>2.8728</td>\n",
       "      <td>19.7</td>\n",
       "    </tr>\n",
       "    <tr>\n",
       "      <th>158</th>\n",
       "      <td>2.9322</td>\n",
       "      <td>19.9</td>\n",
       "    </tr>\n",
       "  </tbody>\n",
       "</table>\n",
       "<p>159 rows × 2 columns</p>\n",
       "</div>"
      ],
      "text/plain": [
       "      Height  Weight\n",
       "0    11.5200   242.0\n",
       "1    12.4800   290.0\n",
       "2    12.3778   340.0\n",
       "3    12.7300   363.0\n",
       "4    12.4440   430.0\n",
       "..       ...     ...\n",
       "154   2.0904    12.2\n",
       "155   2.4300    13.4\n",
       "156   2.2770    12.2\n",
       "157   2.8728    19.7\n",
       "158   2.9322    19.9\n",
       "\n",
       "[159 rows x 2 columns]"
      ]
     },
     "execution_count": 10,
     "metadata": {},
     "output_type": "execute_result"
    }
   ],
   "source": [
    "model_frame = fish_data[['Height', 'Weight']]\n",
    "model_frame"
   ]
  },
  {
   "cell_type": "code",
   "execution_count": 11,
   "id": "c482c6dc",
   "metadata": {},
   "outputs": [],
   "source": [
    "#fitting the linear model to the data\n",
    "linear_model = stats.linregress(x=model_frame['Height'], y=model_frame['Weight'])"
   ]
  },
  {
   "cell_type": "markdown",
   "id": "f4e6b1ce",
   "metadata": {},
   "source": [
    "Linear model has the form\n",
    "\n",
    "$$\\hat{y} = kx + n,$$\n",
    "\n",
    "where\n",
    "- $\\hat{y}$ - the predicted value\n",
    "- $k$ - the slope of the model\n",
    "- $n$ - the intercept of the model"
   ]
  },
  {
   "cell_type": "code",
   "execution_count": 12,
   "id": "d37c0f3b",
   "metadata": {},
   "outputs": [
    {
     "name": "stdout",
     "output_type": "stream",
     "text": [
      "The slope of the model is 60.496 with the standard error 4.595.\n",
      "The intercept of the model is -144.386 with the standard error 45.663.\n"
     ]
    }
   ],
   "source": [
    "print(f'The slope of the model is {round(linear_model.slope, 3)} with the standard error {round(linear_model.stderr, 3)}.')\n",
    "print(f'The intercept of the model is {round(linear_model.intercept, 3)} with the standard error {round(linear_model.intercept_stderr, 3)}.')"
   ]
  },
  {
   "cell_type": "code",
   "execution_count": 13,
   "id": "e0921e84",
   "metadata": {},
   "outputs": [],
   "source": [
    "#predicting the value using model's parameter k (slope) and n (intercept)\n",
    "model_frame['Predicted Values'] = linear_model.slope*model_frame['Height'] + linear_model.intercept"
   ]
  },
  {
   "cell_type": "code",
   "execution_count": 14,
   "id": "63eea8b7",
   "metadata": {},
   "outputs": [],
   "source": [
    "#calculating the residuals - the difference between the true and predicted values\n",
    "model_frame['Residuals'] = model_frame['Weight'] - model_frame['Predicted Values']"
   ]
  },
  {
   "cell_type": "code",
   "execution_count": 15,
   "id": "703735d6",
   "metadata": {},
   "outputs": [
    {
     "data": {
      "text/html": [
       "<div>\n",
       "<style scoped>\n",
       "    .dataframe tbody tr th:only-of-type {\n",
       "        vertical-align: middle;\n",
       "    }\n",
       "\n",
       "    .dataframe tbody tr th {\n",
       "        vertical-align: top;\n",
       "    }\n",
       "\n",
       "    .dataframe thead th {\n",
       "        text-align: right;\n",
       "    }\n",
       "</style>\n",
       "<table border=\"1\" class=\"dataframe\">\n",
       "  <thead>\n",
       "    <tr style=\"text-align: right;\">\n",
       "      <th></th>\n",
       "      <th>Height</th>\n",
       "      <th>Weight</th>\n",
       "      <th>Predicted Values</th>\n",
       "      <th>Residuals</th>\n",
       "    </tr>\n",
       "  </thead>\n",
       "  <tbody>\n",
       "    <tr>\n",
       "      <th>0</th>\n",
       "      <td>11.5200</td>\n",
       "      <td>242.0</td>\n",
       "      <td>552.531995</td>\n",
       "      <td>-310.531995</td>\n",
       "    </tr>\n",
       "    <tr>\n",
       "      <th>1</th>\n",
       "      <td>12.4800</td>\n",
       "      <td>290.0</td>\n",
       "      <td>610.608492</td>\n",
       "      <td>-320.608492</td>\n",
       "    </tr>\n",
       "    <tr>\n",
       "      <th>2</th>\n",
       "      <td>12.3778</td>\n",
       "      <td>340.0</td>\n",
       "      <td>604.425765</td>\n",
       "      <td>-264.425765</td>\n",
       "    </tr>\n",
       "    <tr>\n",
       "      <th>3</th>\n",
       "      <td>12.7300</td>\n",
       "      <td>363.0</td>\n",
       "      <td>625.732580</td>\n",
       "      <td>-262.732580</td>\n",
       "    </tr>\n",
       "    <tr>\n",
       "      <th>4</th>\n",
       "      <td>12.4440</td>\n",
       "      <td>430.0</td>\n",
       "      <td>608.430623</td>\n",
       "      <td>-178.430623</td>\n",
       "    </tr>\n",
       "    <tr>\n",
       "      <th>...</th>\n",
       "      <td>...</td>\n",
       "      <td>...</td>\n",
       "      <td>...</td>\n",
       "      <td>...</td>\n",
       "    </tr>\n",
       "    <tr>\n",
       "      <th>154</th>\n",
       "      <td>2.0904</td>\n",
       "      <td>12.2</td>\n",
       "      <td>-17.924399</td>\n",
       "      <td>30.124399</td>\n",
       "    </tr>\n",
       "    <tr>\n",
       "      <th>155</th>\n",
       "      <td>2.4300</td>\n",
       "      <td>13.4</td>\n",
       "      <td>2.620162</td>\n",
       "      <td>10.779838</td>\n",
       "    </tr>\n",
       "    <tr>\n",
       "      <th>156</th>\n",
       "      <td>2.2770</td>\n",
       "      <td>12.2</td>\n",
       "      <td>-6.635779</td>\n",
       "      <td>18.835779</td>\n",
       "    </tr>\n",
       "    <tr>\n",
       "      <th>157</th>\n",
       "      <td>2.8728</td>\n",
       "      <td>19.7</td>\n",
       "      <td>29.407947</td>\n",
       "      <td>-9.707947</td>\n",
       "    </tr>\n",
       "    <tr>\n",
       "      <th>158</th>\n",
       "      <td>2.9322</td>\n",
       "      <td>19.9</td>\n",
       "      <td>33.001430</td>\n",
       "      <td>-13.101430</td>\n",
       "    </tr>\n",
       "  </tbody>\n",
       "</table>\n",
       "<p>159 rows × 4 columns</p>\n",
       "</div>"
      ],
      "text/plain": [
       "      Height  Weight  Predicted Values   Residuals\n",
       "0    11.5200   242.0        552.531995 -310.531995\n",
       "1    12.4800   290.0        610.608492 -320.608492\n",
       "2    12.3778   340.0        604.425765 -264.425765\n",
       "3    12.7300   363.0        625.732580 -262.732580\n",
       "4    12.4440   430.0        608.430623 -178.430623\n",
       "..       ...     ...               ...         ...\n",
       "154   2.0904    12.2        -17.924399   30.124399\n",
       "155   2.4300    13.4          2.620162   10.779838\n",
       "156   2.2770    12.2         -6.635779   18.835779\n",
       "157   2.8728    19.7         29.407947   -9.707947\n",
       "158   2.9322    19.9         33.001430  -13.101430\n",
       "\n",
       "[159 rows x 4 columns]"
      ]
     },
     "execution_count": 15,
     "metadata": {},
     "output_type": "execute_result"
    }
   ],
   "source": [
    "model_frame"
   ]
  },
  {
   "cell_type": "code",
   "execution_count": 16,
   "id": "6906f931",
   "metadata": {},
   "outputs": [
    {
     "data": {
      "text/plain": [
       "count    1.590000e+02\n",
       "mean     4.131426e-14\n",
       "std      2.468036e+02\n",
       "min     -3.572937e+02\n",
       "25%     -1.165323e+02\n",
       "50%     -7.076091e+01\n",
       "75%      3.391263e+01\n",
       "max      1.163621e+03\n",
       "Name: Residuals, dtype: float64"
      ]
     },
     "execution_count": 16,
     "metadata": {},
     "output_type": "execute_result"
    }
   ],
   "source": [
    "#some statistics on the residuals\n",
    "model_frame['Residuals'].describe()"
   ]
  },
  {
   "cell_type": "code",
   "execution_count": 17,
   "id": "ae3b28de",
   "metadata": {
    "scrolled": false
   },
   "outputs": [
    {
     "data": {
      "image/png": "[encoded data removed]",
      "text/plain": [
       "<Figure size 576x432 with 1 Axes>"
      ]
     },
     "metadata": {
      "needs_background": "light"
     },
     "output_type": "display_data"
    }
   ],
   "source": [
    "#plotting the true data, predicted values and the prediction line\n",
    "sns.regplot(data=model_frame, x='Height', y='Weight', ci=0, line_kws={'color':'red'})\n",
    "sns.scatterplot(data=model_frame, x='Height', y='Predicted Values', color='red', s=50)\n",
    "plt.title('Weight ~ Hight', fontsize=14);"
   ]
  },
  {
   "cell_type": "code",
   "execution_count": 18,
   "id": "d0837ef6",
   "metadata": {},
   "outputs": [
    {
     "name": "stdout",
     "output_type": "stream",
     "text": [
      "Pearson's correlation (R-value): 0.7243\n",
      "Coefficient of determination (R^2): 0.5247\n"
     ]
    }
   ],
   "source": [
    "#Pearson's correlation (R-value) coefficient and R^2\n",
    "print(f\"Pearson's correlation (R-value): {round(linear_model.rvalue, 4)}\")\n",
    "print(f\"Coefficient of determination (R^2): {round(linear_model.rvalue**2, 4)}\")"
   ]
  },
  {
   "cell_type": "code",
   "execution_count": 19,
   "id": "1085dedb",
   "metadata": {},
   "outputs": [
    {
     "name": "stdout",
     "output_type": "stream",
     "text": [
      "p-value of the null hypothesis that the slope is zero: 3.84234183895186e-27\n"
     ]
    }
   ],
   "source": [
    "#p-value\n",
    "print(f\"p-value of the null hypothesis that the slope is zero: {linear_model.pvalue}\")"
   ]
  },
  {
   "cell_type": "code",
   "execution_count": 20,
   "id": "a0372833",
   "metadata": {
    "scrolled": false
   },
   "outputs": [
    {
     "name": "stdout",
     "output_type": "stream",
     "text": [
      "[[ 1.     11.52  ]\n",
      " [ 1.     12.48  ]\n",
      " [ 1.     12.3778]\n",
      " [ 1.     12.73  ]\n",
      " [ 1.     12.444 ]\n",
      " [ 1.     13.6024]\n",
      " [ 1.     14.1795]\n",
      " [ 1.     12.67  ]\n",
      " [ 1.     14.0049]\n",
      " [ 1.     14.2266]]\n"
     ]
    },
    {
     "data": {
      "text/html": [
       "<table class=\"simpletable\">\n",
       "<caption>OLS Regression Results</caption>\n",
       "<tr>\n",
       "  <th>Dep. Variable:</th>         <td>Weight</td>      <th>  R-squared:         </th> <td>   0.525</td>\n",
       "</tr>\n",
       "<tr>\n",
       "  <th>Model:</th>                   <td>OLS</td>       <th>  Adj. R-squared:    </th> <td>   0.522</td>\n",
       "</tr>\n",
       "<tr>\n",
       "  <th>Method:</th>             <td>Least Squares</td>  <th>  F-statistic:       </th> <td>   173.3</td>\n",
       "</tr>\n",
       "<tr>\n",
       "  <th>Date:</th>             <td>Thu, 13 Oct 2022</td> <th>  Prob (F-statistic):</th> <td>3.84e-27</td>\n",
       "</tr>\n",
       "<tr>\n",
       "  <th>Time:</th>                 <td>19:32:43</td>     <th>  Log-Likelihood:    </th> <td> -1101.0</td>\n",
       "</tr>\n",
       "<tr>\n",
       "  <th>No. Observations:</th>      <td>   159</td>      <th>  AIC:               </th> <td>   2206.</td>\n",
       "</tr>\n",
       "<tr>\n",
       "  <th>Df Residuals:</th>          <td>   157</td>      <th>  BIC:               </th> <td>   2212.</td>\n",
       "</tr>\n",
       "<tr>\n",
       "  <th>Df Model:</th>              <td>     1</td>      <th>                     </th>     <td> </td>   \n",
       "</tr>\n",
       "<tr>\n",
       "  <th>Covariance Type:</th>      <td>nonrobust</td>    <th>                     </th>     <td> </td>   \n",
       "</tr>\n",
       "</table>\n",
       "<table class=\"simpletable\">\n",
       "<tr>\n",
       "    <td></td>       <th>coef</th>     <th>std err</th>      <th>t</th>      <th>P>|t|</th>  <th>[0.025</th>    <th>0.975]</th>  \n",
       "</tr>\n",
       "<tr>\n",
       "  <th>const</th> <td> -144.3860</td> <td>   45.663</td> <td>   -3.162</td> <td> 0.002</td> <td> -234.579</td> <td>  -54.193</td>\n",
       "</tr>\n",
       "<tr>\n",
       "  <th>x1</th>    <td>   60.4964</td> <td>    4.595</td> <td>   13.164</td> <td> 0.000</td> <td>   51.419</td> <td>   69.573</td>\n",
       "</tr>\n",
       "</table>\n",
       "<table class=\"simpletable\">\n",
       "<tr>\n",
       "  <th>Omnibus:</th>       <td>95.711</td> <th>  Durbin-Watson:     </th> <td>   0.279</td> \n",
       "</tr>\n",
       "<tr>\n",
       "  <th>Prob(Omnibus):</th> <td> 0.000</td> <th>  Jarque-Bera (JB):  </th> <td> 482.586</td> \n",
       "</tr>\n",
       "<tr>\n",
       "  <th>Skew:</th>          <td> 2.288</td> <th>  Prob(JB):          </th> <td>1.61e-105</td>\n",
       "</tr>\n",
       "<tr>\n",
       "  <th>Kurtosis:</th>      <td>10.204</td> <th>  Cond. No.          </th> <td>    23.3</td> \n",
       "</tr>\n",
       "</table><br/><br/>Notes:<br/>[1] Standard Errors assume that the covariance matrix of the errors is correctly specified."
      ],
      "text/plain": [
       "<class 'statsmodels.iolib.summary.Summary'>\n",
       "\"\"\"\n",
       "                            OLS Regression Results                            \n",
       "==============================================================================\n",
       "Dep. Variable:                 Weight   R-squared:                       0.525\n",
       "Model:                            OLS   Adj. R-squared:                  0.522\n",
       "Method:                 Least Squares   F-statistic:                     173.3\n",
       "Date:                Thu, 13 Oct 2022   Prob (F-statistic):           3.84e-27\n",
       "Time:                        19:32:43   Log-Likelihood:                -1101.0\n",
       "No. Observations:                 159   AIC:                             2206.\n",
       "Df Residuals:                     157   BIC:                             2212.\n",
       "Df Model:                           1                                         \n",
       "Covariance Type:            nonrobust                                         \n",
       "==============================================================================\n",
       "                 coef    std err          t      P>|t|      [0.025      0.975]\n",
       "------------------------------------------------------------------------------\n",
       "const       -144.3860     45.663     -3.162      0.002    -234.579     -54.193\n",
       "x1            60.4964      4.595     13.164      0.000      51.419      69.573\n",
       "==============================================================================\n",
       "Omnibus:                       95.711   Durbin-Watson:                   0.279\n",
       "Prob(Omnibus):                  0.000   Jarque-Bera (JB):              482.586\n",
       "Skew:                           2.288   Prob(JB):                    1.61e-105\n",
       "Kurtosis:                      10.204   Cond. No.                         23.3\n",
       "==============================================================================\n",
       "\n",
       "Notes:\n",
       "[1] Standard Errors assume that the covariance matrix of the errors is correctly specified.\n",
       "\"\"\""
      ]
     },
     "execution_count": 20,
     "metadata": {},
     "output_type": "execute_result"
    }
   ],
   "source": [
    "#more statistics! (using statsmodel)\n",
    "\n",
    "#we need to append a column of ones to the height values to use statsmodel's linear regression\n",
    "ones = np.ones_like(model_frame['Height']).reshape(-1, 1)\n",
    "x0 = model_frame['Height'].values.reshape(-1, 1)\n",
    "x = np.concatenate((ones, x0), axis=-1)\n",
    "print(x[:10])\n",
    "\n",
    "#target values\n",
    "y = model_frame['Weight']\n",
    "\n",
    "#fitting the model to the data and deriving various model's statistics\n",
    "sm_model = sm.OLS(exog=x, endog=y).fit()\n",
    "sm_model.summary()"
   ]
  },
  {
   "cell_type": "code",
   "execution_count": 21,
   "id": "3c7d1e6e",
   "metadata": {},
   "outputs": [],
   "source": [
    "#predicting new data\n",
    "\n",
    "#sampling the new data from the normal distribution with the mean and std parameters taken from the original data\n",
    "new_fish_height = rng.normal(loc=model_frame['Height'].mean(), scale=model_frame['Height'].std(), size=100)\n",
    "#clipping the negative values \n",
    "new_fish_height = np.clip(new_fish_height, a_min=0, a_max=np.infty)\n",
    "\n",
    "#predicting the heights on the new data using the linear model's formula and parameters\n",
    "new_fish_weight = linear_model.slope*new_fish_height + linear_model.intercept"
   ]
  },
  {
   "cell_type": "code",
   "execution_count": 22,
   "id": "b2667959",
   "metadata": {
    "scrolled": false
   },
   "outputs": [
    {
     "data": {
      "text/html": [
       "<div>\n",
       "<style scoped>\n",
       "    .dataframe tbody tr th:only-of-type {\n",
       "        vertical-align: middle;\n",
       "    }\n",
       "\n",
       "    .dataframe tbody tr th {\n",
       "        vertical-align: top;\n",
       "    }\n",
       "\n",
       "    .dataframe thead th {\n",
       "        text-align: right;\n",
       "    }\n",
       "</style>\n",
       "<table border=\"1\" class=\"dataframe\">\n",
       "  <thead>\n",
       "    <tr style=\"text-align: right;\">\n",
       "      <th></th>\n",
       "      <th>Height</th>\n",
       "      <th>Weight</th>\n",
       "    </tr>\n",
       "  </thead>\n",
       "  <tbody>\n",
       "    <tr>\n",
       "      <th>0</th>\n",
       "      <td>8.911498</td>\n",
       "      <td>394.727163</td>\n",
       "    </tr>\n",
       "    <tr>\n",
       "      <th>1</th>\n",
       "      <td>1.948903</td>\n",
       "      <td>-26.484448</td>\n",
       "    </tr>\n",
       "    <tr>\n",
       "      <th>2</th>\n",
       "      <td>11.305948</td>\n",
       "      <td>539.582645</td>\n",
       "    </tr>\n",
       "    <tr>\n",
       "      <th>3</th>\n",
       "      <td>12.646567</td>\n",
       "      <td>620.685185</td>\n",
       "    </tr>\n",
       "    <tr>\n",
       "      <th>4</th>\n",
       "      <td>15.843003</td>\n",
       "      <td>814.057877</td>\n",
       "    </tr>\n",
       "    <tr>\n",
       "      <th>...</th>\n",
       "      <td>...</td>\n",
       "      <td>...</td>\n",
       "    </tr>\n",
       "    <tr>\n",
       "      <th>95</th>\n",
       "      <td>14.932458</td>\n",
       "      <td>758.973228</td>\n",
       "    </tr>\n",
       "    <tr>\n",
       "      <th>96</th>\n",
       "      <td>14.849841</td>\n",
       "      <td>753.975251</td>\n",
       "    </tr>\n",
       "    <tr>\n",
       "      <th>97</th>\n",
       "      <td>2.298707</td>\n",
       "      <td>-5.322601</td>\n",
       "    </tr>\n",
       "    <tr>\n",
       "      <th>98</th>\n",
       "      <td>7.697031</td>\n",
       "      <td>321.256331</td>\n",
       "    </tr>\n",
       "    <tr>\n",
       "      <th>99</th>\n",
       "      <td>16.779629</td>\n",
       "      <td>870.720371</td>\n",
       "    </tr>\n",
       "  </tbody>\n",
       "</table>\n",
       "<p>100 rows × 2 columns</p>\n",
       "</div>"
      ],
      "text/plain": [
       "       Height      Weight\n",
       "0    8.911498  394.727163\n",
       "1    1.948903  -26.484448\n",
       "2   11.305948  539.582645\n",
       "3   12.646567  620.685185\n",
       "4   15.843003  814.057877\n",
       "..        ...         ...\n",
       "95  14.932458  758.973228\n",
       "96  14.849841  753.975251\n",
       "97   2.298707   -5.322601\n",
       "98   7.697031  321.256331\n",
       "99  16.779629  870.720371\n",
       "\n",
       "[100 rows x 2 columns]"
      ]
     },
     "execution_count": 22,
     "metadata": {},
     "output_type": "execute_result"
    }
   ],
   "source": [
    "#displaying the new data and the corresponding predictions\n",
    "predictions = pd.DataFrame(columns=['Height', 'Weight'])\n",
    "\n",
    "predictions['Height'] = new_fish_height\n",
    "predictions['Weight'] = new_fish_weight\n",
    "\n",
    "predictions"
   ]
  },
  {
   "cell_type": "code",
   "execution_count": 23,
   "id": "030e5e6d",
   "metadata": {},
   "outputs": [
    {
     "data": {
      "image/png": "[encoded data removed]",
      "text/plain": [
       "<Figure size 576x432 with 1 Axes>"
      ]
     },
     "metadata": {
      "needs_background": "light"
     },
     "output_type": "display_data"
    }
   ],
   "source": [
    "#plotting the predictions\n",
    "sns.lineplot(data=predictions, x='Height', y='Weight', color='red')\n",
    "sns.scatterplot(data=predictions, x='Height', y='Weight', color='red', s=50)\n",
    "plt.title('Predictions', fontsize=14);"
   ]
  },
  {
   "cell_type": "code",
   "execution_count": 24,
   "id": "1d15df0b",
   "metadata": {},
   "outputs": [],
   "source": [
    "#R^2 upacked - calculating R^2 using the corresponding formulas\n",
    "\n",
    "total_sse = np.sum((model_frame['Weight'] - model_frame['Weight'].mean())**2)\n",
    "model_sse = np.sum((model_frame['Predicted Values'] - model_frame['Weight'].mean())**2)\n",
    "residual_sse = np.sum(model_frame['Residuals']**2)\n",
    "\n",
    "assert total_sse == model_sse + residual_sse"
   ]
  },
  {
   "cell_type": "code",
   "execution_count": 25,
   "id": "e132b236",
   "metadata": {},
   "outputs": [
    {
     "name": "stdout",
     "output_type": "stream",
     "text": [
      "r2 = 0.5246761559328881\n",
      "\n",
      "[[1.         0.52467616]\n",
      " [0.52467616 1.        ]] \n",
      "\n",
      "r2 = 0.5246761559328881\n"
     ]
    }
   ],
   "source": [
    "#calculating R^2 from the correlation \n",
    "r2 = model_frame['Height'].corr(model_frame['Weight'])**2\n",
    "print(f\"r2 = {r2}\\n\")\n",
    "\n",
    "#OR \n",
    "corr_matrix = np.corrcoef(model_frame['Height'], model_frame['Weight'])**2\n",
    "print(corr_matrix, '\\n')\n",
    "r2 = corr_matrix[0, 1]\n",
    "print(f\"r2 = {r2}\")"
   ]
  },
  {
   "cell_type": "code",
   "execution_count": 26,
   "id": "d96495e0",
   "metadata": {},
   "outputs": [
    {
     "data": {
      "text/plain": [
       "0.5246761559328882"
      ]
     },
     "execution_count": 26,
     "metadata": {},
     "output_type": "execute_result"
    }
   ],
   "source": [
    "#yet another way to calculate R^2\n",
    "model_sse/total_sse"
   ]
  },
  {
   "cell_type": "code",
   "execution_count": 27,
   "id": "5c76a602",
   "metadata": {},
   "outputs": [
    {
     "name": "stdout",
     "output_type": "stream",
     "text": [
      "cov.:  0.7243453291993318\n",
      "R^2 = cov.^2:  0.5246761559328884\n"
     ]
    }
   ],
   "source": [
    "#correlation is the covariance of the scaled variables!\n",
    "\n",
    "#scaling the variables\n",
    "x = (model_frame['Height'] - model_frame['Height'].mean())/model_frame['Height'].std()\n",
    "y = (model_frame['Weight'] - model_frame['Weight'].mean())/model_frame['Weight'].std()\n",
    "\n",
    "#calculating the covariance\n",
    "cov_matrix = np.cov(x, y)\n",
    "cov = cov_matrix[0, 1]\n",
    "print('cov.: ', cov)\n",
    "print('R^2 = cov.^2: ', cov**2)"
   ]
  },
  {
   "cell_type": "code",
   "execution_count": 28,
   "id": "0e41cd55",
   "metadata": {},
   "outputs": [
    {
     "data": {
      "image/png": "[encoded data removed]",
      "text/plain": [
       "<Figure size 576x432 with 1 Axes>"
      ]
     },
     "metadata": {
      "needs_background": "light"
     },
     "output_type": "display_data"
    }
   ],
   "source": [
    "#plotting the distribution of the residuals\n",
    "plt.figure(figsize=(8, 6))\n",
    "sns.histplot(data=model_frame, x='Residuals', binwidth=10, color='tab:orange')\n",
    "plt.title('Model Residuals', fontsize=14);"
   ]
  },
  {
   "cell_type": "code",
   "execution_count": 29,
   "id": "2986758c",
   "metadata": {},
   "outputs": [
    {
     "data": {
      "image/png": "[encoded data removed]",
      "text/plain": [
       "<Figure size 576x432 with 1 Axes>"
      ]
     },
     "metadata": {
      "needs_background": "light"
     },
     "output_type": "display_data"
    }
   ],
   "source": [
    "#plotting the qqplot (using the statsmodels)\n",
    "sm.qqplot(model_frame['Residuals'].values, line='q')\n",
    "plt.title('Q-Q Plot of Model Results', fontsize=14);"
   ]
  },
  {
   "cell_type": "code",
   "execution_count": 30,
   "id": "e1cc8c2f",
   "metadata": {},
   "outputs": [
    {
     "data": {
      "image/png": "[encoded data removed]",
      "text/plain": [
       "<Figure size 576x432 with 1 Axes>"
      ]
     },
     "metadata": {
      "needs_background": "light"
     },
     "output_type": "display_data"
    }
   ],
   "source": [
    "#Heteroskedacity\n",
    "\n",
    "#plotting the predicted values vs the residuals\n",
    "plt.figure(figsize=(8, 6))\n",
    "sns.scatterplot(data=model_frame, x='Predicted Values', y='Residuals')\n",
    "plt.axhline(y=0, color='red')\n",
    "plt.title('Predicted vs Residual', fontsize=14);"
   ]
  },
  {
   "cell_type": "code",
   "execution_count": 31,
   "id": "c5c48f46",
   "metadata": {},
   "outputs": [
    {
     "data": {
      "text/html": [
       "<div>\n",
       "<style scoped>\n",
       "    .dataframe tbody tr th:only-of-type {\n",
       "        vertical-align: middle;\n",
       "    }\n",
       "\n",
       "    .dataframe tbody tr th {\n",
       "        vertical-align: top;\n",
       "    }\n",
       "\n",
       "    .dataframe thead th {\n",
       "        text-align: right;\n",
       "    }\n",
       "</style>\n",
       "<table border=\"1\" class=\"dataframe\">\n",
       "  <thead>\n",
       "    <tr style=\"text-align: right;\">\n",
       "      <th></th>\n",
       "      <th>dfb_const</th>\n",
       "      <th>dfb_x1</th>\n",
       "      <th>cooks_d</th>\n",
       "      <th>standard_resid</th>\n",
       "      <th>hat_diag</th>\n",
       "      <th>dffits_internal</th>\n",
       "      <th>student_resid</th>\n",
       "      <th>dffits</th>\n",
       "    </tr>\n",
       "  </thead>\n",
       "  <tbody>\n",
       "    <tr>\n",
       "      <th>0</th>\n",
       "      <td>0.010916</td>\n",
       "      <td>-0.059963</td>\n",
       "      <td>0.006823</td>\n",
       "      <td>-1.259609</td>\n",
       "      <td>0.008528</td>\n",
       "      <td>-0.116819</td>\n",
       "      <td>-1.261984</td>\n",
       "      <td>-0.117039</td>\n",
       "    </tr>\n",
       "    <tr>\n",
       "      <th>1</th>\n",
       "      <td>0.032398</td>\n",
       "      <td>-0.085427</td>\n",
       "      <td>0.009019</td>\n",
       "      <td>-1.301798</td>\n",
       "      <td>0.010531</td>\n",
       "      <td>-0.134302</td>\n",
       "      <td>-1.304707</td>\n",
       "      <td>-0.134602</td>\n",
       "    </tr>\n",
       "    <tr>\n",
       "      <th>2</th>\n",
       "      <td>0.024818</td>\n",
       "      <td>-0.068269</td>\n",
       "      <td>0.005990</td>\n",
       "      <td>-1.073542</td>\n",
       "      <td>0.010288</td>\n",
       "      <td>-0.109452</td>\n",
       "      <td>-1.074067</td>\n",
       "      <td>-0.109506</td>\n",
       "    </tr>\n",
       "    <tr>\n",
       "      <th>3</th>\n",
       "      <td>0.031016</td>\n",
       "      <td>-0.074907</td>\n",
       "      <td>0.006424</td>\n",
       "      <td>-1.067137</td>\n",
       "      <td>0.011157</td>\n",
       "      <td>-0.113353</td>\n",
       "      <td>-1.067612</td>\n",
       "      <td>-0.113404</td>\n",
       "    </tr>\n",
       "    <tr>\n",
       "      <th>4</th>\n",
       "      <td>0.017523</td>\n",
       "      <td>-0.046875</td>\n",
       "      <td>0.002770</td>\n",
       "      <td>-0.724468</td>\n",
       "      <td>0.010445</td>\n",
       "      <td>-0.074430</td>\n",
       "      <td>-0.723367</td>\n",
       "      <td>-0.074317</td>\n",
       "    </tr>\n",
       "    <tr>\n",
       "      <th>...</th>\n",
       "      <td>...</td>\n",
       "      <td>...</td>\n",
       "      <td>...</td>\n",
       "      <td>...</td>\n",
       "      <td>...</td>\n",
       "      <td>...</td>\n",
       "      <td>...</td>\n",
       "      <td>...</td>\n",
       "    </tr>\n",
       "    <tr>\n",
       "      <th>154</th>\n",
       "      <td>0.018540</td>\n",
       "      <td>-0.015848</td>\n",
       "      <td>0.000175</td>\n",
       "      <td>0.123070</td>\n",
       "      <td>0.022599</td>\n",
       "      <td>0.018714</td>\n",
       "      <td>0.122683</td>\n",
       "      <td>0.018655</td>\n",
       "    </tr>\n",
       "    <tr>\n",
       "      <th>155</th>\n",
       "      <td>0.006371</td>\n",
       "      <td>-0.005382</td>\n",
       "      <td>0.000021</td>\n",
       "      <td>0.044004</td>\n",
       "      <td>0.021029</td>\n",
       "      <td>0.006449</td>\n",
       "      <td>0.043864</td>\n",
       "      <td>0.006429</td>\n",
       "    </tr>\n",
       "    <tr>\n",
       "      <th>156</th>\n",
       "      <td>0.011339</td>\n",
       "      <td>-0.009632</td>\n",
       "      <td>0.000066</td>\n",
       "      <td>0.076917</td>\n",
       "      <td>0.021726</td>\n",
       "      <td>0.011463</td>\n",
       "      <td>0.076673</td>\n",
       "      <td>0.011426</td>\n",
       "    </tr>\n",
       "    <tr>\n",
       "      <th>157</th>\n",
       "      <td>-0.005431</td>\n",
       "      <td>0.004510</td>\n",
       "      <td>0.000015</td>\n",
       "      <td>-0.039590</td>\n",
       "      <td>0.019101</td>\n",
       "      <td>-0.005525</td>\n",
       "      <td>-0.039464</td>\n",
       "      <td>-0.005507</td>\n",
       "    </tr>\n",
       "    <tr>\n",
       "      <th>158</th>\n",
       "      <td>-0.007274</td>\n",
       "      <td>0.006026</td>\n",
       "      <td>0.000027</td>\n",
       "      <td>-0.053422</td>\n",
       "      <td>0.018852</td>\n",
       "      <td>-0.007405</td>\n",
       "      <td>-0.053252</td>\n",
       "      <td>-0.007382</td>\n",
       "    </tr>\n",
       "  </tbody>\n",
       "</table>\n",
       "<p>159 rows × 8 columns</p>\n",
       "</div>"
      ],
      "text/plain": [
       "     dfb_const    dfb_x1   cooks_d  standard_resid  hat_diag  dffits_internal  \\\n",
       "0     0.010916 -0.059963  0.006823       -1.259609  0.008528        -0.116819   \n",
       "1     0.032398 -0.085427  0.009019       -1.301798  0.010531        -0.134302   \n",
       "2     0.024818 -0.068269  0.005990       -1.073542  0.010288        -0.109452   \n",
       "3     0.031016 -0.074907  0.006424       -1.067137  0.011157        -0.113353   \n",
       "4     0.017523 -0.046875  0.002770       -0.724468  0.010445        -0.074430   \n",
       "..         ...       ...       ...             ...       ...              ...   \n",
       "154   0.018540 -0.015848  0.000175        0.123070  0.022599         0.018714   \n",
       "155   0.006371 -0.005382  0.000021        0.044004  0.021029         0.006449   \n",
       "156   0.011339 -0.009632  0.000066        0.076917  0.021726         0.011463   \n",
       "157  -0.005431  0.004510  0.000015       -0.039590  0.019101        -0.005525   \n",
       "158  -0.007274  0.006026  0.000027       -0.053422  0.018852        -0.007405   \n",
       "\n",
       "     student_resid    dffits  \n",
       "0        -1.261984 -0.117039  \n",
       "1        -1.304707 -0.134602  \n",
       "2        -1.074067 -0.109506  \n",
       "3        -1.067612 -0.113404  \n",
       "4        -0.723367 -0.074317  \n",
       "..             ...       ...  \n",
       "154       0.122683  0.018655  \n",
       "155       0.043864  0.006429  \n",
       "156       0.076673  0.011426  \n",
       "157      -0.039464 -0.005507  \n",
       "158      -0.053252 -0.007382  \n",
       "\n",
       "[159 rows x 8 columns]"
      ]
     },
     "execution_count": 31,
     "metadata": {},
     "output_type": "execute_result"
    }
   ],
   "source": [
    "#identifying the influental cases (using statsmodels)\n",
    "model_inf = sm_model.get_influence()\n",
    "inf_frame = model_inf.summary_frame()\n",
    "inf_frame"
   ]
  },
  {
   "cell_type": "code",
   "execution_count": 32,
   "id": "0240ee2b",
   "metadata": {},
   "outputs": [
    {
     "data": {
      "text/plain": [
       "array([], shape=(0, 1), dtype=int64)"
      ]
     },
     "execution_count": 32,
     "metadata": {},
     "output_type": "execute_result"
    }
   ],
   "source": [
    "#calculating the Cook's distance /Cook and Weisberg (1982)/\n",
    "#consider values with Cook's distance greater than 1 to be problematic\n",
    "\n",
    "w_cookD = np.argwhere(model_inf.cooks_distance[0] > 1)\n",
    "w_cookD"
   ]
  },
  {
   "cell_type": "code",
   "execution_count": 33,
   "id": "ad6d76c7",
   "metadata": {},
   "outputs": [
    {
     "data": {
      "text/plain": [
       "array([[27],\n",
       "       [28],\n",
       "       [29],\n",
       "       [30],\n",
       "       [31],\n",
       "       [32],\n",
       "       [33],\n",
       "       [34]], dtype=int64)"
      ]
     },
     "execution_count": 33,
     "metadata": {},
     "output_type": "execute_result"
    }
   ],
   "source": [
    "# - Leverage: hat values\n",
    "# - Average Leverage = (k+1)/n\n",
    "# - k - num. of predictors\n",
    "# - n - num. observations\n",
    "# - Also termed: hat values, range: 0 - 1\n",
    "# - Various criteria (twice the average leverage, three times the average leverage...)\n",
    "\n",
    "k = 1\n",
    "n = len(model_frame)\n",
    "w_leverage = np.argwhere(model_inf.hat_matrix_diag > 2*(k+1)/n)\n",
    "w_leverage"
   ]
  },
  {
   "cell_type": "code",
   "execution_count": 34,
   "id": "5f3f40db",
   "metadata": {},
   "outputs": [
    {
     "data": {
      "text/html": [
       "<div>\n",
       "<style scoped>\n",
       "    .dataframe tbody tr th:only-of-type {\n",
       "        vertical-align: middle;\n",
       "    }\n",
       "\n",
       "    .dataframe tbody tr th {\n",
       "        vertical-align: top;\n",
       "    }\n",
       "\n",
       "    .dataframe thead th {\n",
       "        text-align: right;\n",
       "    }\n",
       "</style>\n",
       "<table border=\"1\" class=\"dataframe\">\n",
       "  <thead>\n",
       "    <tr style=\"text-align: right;\">\n",
       "      <th></th>\n",
       "      <th>Residuals</th>\n",
       "      <th>Leverage</th>\n",
       "      <th>Cook Dist.</th>\n",
       "    </tr>\n",
       "  </thead>\n",
       "  <tbody>\n",
       "    <tr>\n",
       "      <th>0</th>\n",
       "      <td>-310.531995</td>\n",
       "      <td>0.008528</td>\n",
       "      <td>0.006823</td>\n",
       "    </tr>\n",
       "    <tr>\n",
       "      <th>1</th>\n",
       "      <td>-320.608492</td>\n",
       "      <td>0.010531</td>\n",
       "      <td>0.009019</td>\n",
       "    </tr>\n",
       "    <tr>\n",
       "      <th>2</th>\n",
       "      <td>-264.425765</td>\n",
       "      <td>0.010288</td>\n",
       "      <td>0.005990</td>\n",
       "    </tr>\n",
       "    <tr>\n",
       "      <th>3</th>\n",
       "      <td>-262.732580</td>\n",
       "      <td>0.011157</td>\n",
       "      <td>0.006424</td>\n",
       "    </tr>\n",
       "    <tr>\n",
       "      <th>4</th>\n",
       "      <td>-178.430623</td>\n",
       "      <td>0.010445</td>\n",
       "      <td>0.002770</td>\n",
       "    </tr>\n",
       "    <tr>\n",
       "      <th>...</th>\n",
       "      <td>...</td>\n",
       "      <td>...</td>\n",
       "      <td>...</td>\n",
       "    </tr>\n",
       "    <tr>\n",
       "      <th>154</th>\n",
       "      <td>30.124399</td>\n",
       "      <td>0.022599</td>\n",
       "      <td>0.000175</td>\n",
       "    </tr>\n",
       "    <tr>\n",
       "      <th>155</th>\n",
       "      <td>10.779838</td>\n",
       "      <td>0.021029</td>\n",
       "      <td>0.000021</td>\n",
       "    </tr>\n",
       "    <tr>\n",
       "      <th>156</th>\n",
       "      <td>18.835779</td>\n",
       "      <td>0.021726</td>\n",
       "      <td>0.000066</td>\n",
       "    </tr>\n",
       "    <tr>\n",
       "      <th>157</th>\n",
       "      <td>-9.707947</td>\n",
       "      <td>0.019101</td>\n",
       "      <td>0.000015</td>\n",
       "    </tr>\n",
       "    <tr>\n",
       "      <th>158</th>\n",
       "      <td>-13.101430</td>\n",
       "      <td>0.018852</td>\n",
       "      <td>0.000027</td>\n",
       "    </tr>\n",
       "  </tbody>\n",
       "</table>\n",
       "<p>159 rows × 3 columns</p>\n",
       "</div>"
      ],
      "text/plain": [
       "      Residuals  Leverage  Cook Dist.\n",
       "0   -310.531995  0.008528    0.006823\n",
       "1   -320.608492  0.010531    0.009019\n",
       "2   -264.425765  0.010288    0.005990\n",
       "3   -262.732580  0.011157    0.006424\n",
       "4   -178.430623  0.010445    0.002770\n",
       "..          ...       ...         ...\n",
       "154   30.124399  0.022599    0.000175\n",
       "155   10.779838  0.021029    0.000021\n",
       "156   18.835779  0.021726    0.000066\n",
       "157   -9.707947  0.019101    0.000015\n",
       "158  -13.101430  0.018852    0.000027\n",
       "\n",
       "[159 rows x 3 columns]"
      ]
     },
     "execution_count": 34,
     "metadata": {},
     "output_type": "execute_result"
    }
   ],
   "source": [
    "#influence plot\n",
    "inf_plot_frame = pd.DataFrame(columns=['Residuals', 'Leverage', 'Cook Dist.'])\n",
    "\n",
    "inf_plot_frame['Residuals'] = model_frame['Residuals']\n",
    "inf_plot_frame['Leverage'] = model_inf.hat_matrix_diag\n",
    "inf_plot_frame['Cook Dist.'] = model_inf.cooks_distance[0]\n",
    "\n",
    "inf_plot_frame"
   ]
  },
  {
   "cell_type": "code",
   "execution_count": 35,
   "id": "d7f79a93",
   "metadata": {},
   "outputs": [
    {
     "data": {
      "image/png": "[encoded data removed]",
      "text/plain": [
       "<Figure size 576x432 with 1 Axes>"
      ]
     },
     "metadata": {
      "needs_background": "light"
     },
     "output_type": "display_data"
    }
   ],
   "source": [
    "#plotting the influence plot\n",
    "plt.figure(figsize=(8, 6))\n",
    "sns.scatterplot(data=inf_plot_frame, x='Leverage', y='Residuals', size='Cook Dist.', legend=None);\n",
    "plt.title(\"Influence Plot\\n Size of the blob corresponds to Cook's distance\", fontsize=14);"
   ]
  },
  {
   "cell_type": "markdown",
   "id": "0f8bcf36",
   "metadata": {},
   "source": [
    "## Linear Regression Using sklearn"
   ]
  },
  {
   "cell_type": "code",
   "execution_count": 36,
   "id": "471951bf",
   "metadata": {},
   "outputs": [],
   "source": [
    "from sklearn.linear_model import LinearRegression"
   ]
  },
  {
   "cell_type": "code",
   "execution_count": 37,
   "id": "01554631",
   "metadata": {},
   "outputs": [
    {
     "data": {
      "text/plain": [
       "LinearRegression()"
      ]
     },
     "execution_count": 37,
     "metadata": {},
     "output_type": "execute_result"
    }
   ],
   "source": [
    "#fitting the linear model to the data\n",
    "X = model_frame['Height'].values.reshape(-1, 1)\n",
    "y = model_frame['Weight'].values.reshape(-1, 1)\n",
    "\n",
    "lin_reg = LinearRegression()\n",
    "lin_reg.fit(X, y)"
   ]
  },
  {
   "cell_type": "code",
   "execution_count": 38,
   "id": "ad1fba63",
   "metadata": {},
   "outputs": [
    {
     "data": {
      "text/plain": [
       "(array([[60.49635121]]), array([-144.38597115]))"
      ]
     },
     "execution_count": 38,
     "metadata": {},
     "output_type": "execute_result"
    }
   ],
   "source": [
    "#coefficents of the model\n",
    "lin_reg.coef_, lin_reg.intercept_"
   ]
  },
  {
   "cell_type": "code",
   "execution_count": 39,
   "id": "3483ac59",
   "metadata": {},
   "outputs": [
    {
     "data": {
      "text/plain": [
       "0.5246761559328882"
      ]
     },
     "execution_count": 39,
     "metadata": {},
     "output_type": "execute_result"
    }
   ],
   "source": [
    "#calculating R^2 \n",
    "lin_reg.score(X, y)"
   ]
  },
  {
   "cell_type": "code",
   "execution_count": 40,
   "id": "c7d67fcd",
   "metadata": {},
   "outputs": [
    {
     "data": {
      "text/plain": [
       "array([[394.72716323],\n",
       "       [-26.48444781],\n",
       "       [539.58264505],\n",
       "       [620.68518454],\n",
       "       [814.05787681],\n",
       "       [688.37149065],\n",
       "       [556.4209014 ],\n",
       "       [526.83104853],\n",
       "       [294.96698144],\n",
       "       [-90.19520169]])"
      ]
     },
     "execution_count": 40,
     "metadata": {},
     "output_type": "execute_result"
    }
   ],
   "source": [
    "#predicting the height using the model\n",
    "X_pred = predictions['Height'].values.reshape(-1, 1)\n",
    "\n",
    "y_pred = lin_reg.predict(X_pred)\n",
    "y_pred[:10]"
   ]
  },
  {
   "cell_type": "code",
   "execution_count": 41,
   "id": "31843b1a",
   "metadata": {},
   "outputs": [
    {
     "data": {
      "text/plain": [
       "0     394.727163\n",
       "1     -26.484448\n",
       "2     539.582645\n",
       "3     620.685185\n",
       "4     814.057877\n",
       "         ...    \n",
       "95    758.973228\n",
       "96    753.975251\n",
       "97     -5.322601\n",
       "98    321.256331\n",
       "99    870.720371\n",
       "Name: Weight, Length: 100, dtype: float64"
      ]
     },
     "execution_count": 41,
     "metadata": {},
     "output_type": "execute_result"
    }
   ],
   "source": [
    "#comparing with the predictions from scipy's model\n",
    "predictions['Weight']"
   ]
  },
  {
   "cell_type": "markdown",
   "id": "4f4b545b",
   "metadata": {},
   "source": [
    "Goran S. Milovanović & Aleksandar Cvetković\n",
    "\n",
    "DataKolektiv, 2022/23.\n",
    "\n",
    "[hello@datakolektiv.com](mailto:goran.milovanovic@datakolektiv.com)\n",
    "\n",
    "![](../img/DK_Logo_100.png)"
   ]
  },
  {
   "cell_type": "markdown",
   "id": "f1e4bdcc",
   "metadata": {},
   "source": [
    "<font size=1>License: [GPLv3](https://www.gnu.org/licenses/gpl-3.0.txt) This Notebook is free software: you can redistribute it and/or modify it under the terms of the GNU General Public License as published by the Free Software Foundation, either version 3 of the License, or (at your option) any later version. This Notebook is distributed in the hope that it will be useful, but WITHOUT ANY WARRANTY; without even the implied warranty of MERCHANTABILITY or FITNESS FOR A PARTICULAR PURPOSE. See the GNU General Public License for more details. You should have received a copy of the GNU General Public License along with this Notebook. If not, see http://www.gnu.org/licenses/.</font>"
   ]
  }
 ],
 "metadata": {
  "kernelspec": {
   "display_name": "Python 3",
   "language": "python",
   "name": "python3"
  },
  "language_info": {
   "codemirror_mode": {
    "name": "ipython",
    "version": 3
   },
   "file_extension": ".py",
   "mimetype": "text/x-python",
   "name": "python",
   "nbconvert_exporter": "python",
   "pygments_lexer": "ipython3",
   "version": "3.8.8"
  }
 },
 "nbformat": 4,
 "nbformat_minor": 5
}
