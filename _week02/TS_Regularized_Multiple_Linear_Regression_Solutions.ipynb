{
 "cells": [
  {
   "cell_type": "markdown",
   "id": "4db70364",
   "metadata": {},
   "source": [
    "# DATA SCIENCE SCHOOL :: Introduction to ML in Python\n",
    "### An Intensive Python ML Course\n",
    "## Task Sheet: Regularized Multiple Linear Regression - Solutions\n",
    "\n",
    "[&larr; Back to course webpage](http://datakolektiv.com/app_direct/introdsnontech/)\n",
    "\n",
    "![](../img/IntroMLPython_Head.png)\n",
    "\n",
    "Feedback should be send to [goran.milovanovic@datakolektiv.com](mailto:goran.milovanovic@datakolektiv.com). \n",
    "\n",
    "These notebooks accompany the DATA SCIENCE SCHOOL :: Introduction to ML in Python course."
   ]
  },
  {
   "cell_type": "markdown",
   "id": "385daed1",
   "metadata": {},
   "source": [
    "### Goran S. Milovanović, PhD\n",
    "<b>DataKolektiv, Chief Scientist & Owner</b>\n",
    "\n",
    "### Aleksandar Cvetković, PhD\n",
    "<b>DataKolektiv, Consultant</b>"
   ]
  },
  {
   "cell_type": "markdown",
   "id": "e9233d46",
   "metadata": {},
   "source": [
    "![](../img/DK_Logo_100.png)"
   ]
  },
  {
   "cell_type": "markdown",
   "id": "1e4e3d4a",
   "metadata": {},
   "source": [
    "## Setup"
   ]
  },
  {
   "cell_type": "code",
   "execution_count": 1,
   "id": "1deeb148",
   "metadata": {},
   "outputs": [],
   "source": [
    "### --- Setup - importing the libraries\n",
    "\n",
    "# - supress those annoying 'Future Warning'\n",
    "import warnings\n",
    "warnings.simplefilter(action='ignore', category=FutureWarning)\n",
    "\n",
    "\n",
    "# - data\n",
    "import numpy as np\n",
    "import pandas as pd\n",
    "\n",
    "# - os\n",
    "import os\n",
    "\n",
    "# - ml\n",
    "import statsmodels.api as sm\n",
    "import statsmodels.formula.api as smf\n",
    "from statsmodels.stats.outliers_influence import variance_inflation_factor\n",
    "\n",
    "\n",
    "# - visualization\n",
    "import matplotlib.pyplot as plt\n",
    "import seaborn as sns\n",
    "\n",
    "\n",
    "# - parameters\n",
    "%matplotlib inline\n",
    "pd.options.mode.chained_assignment = None  # default='warn'\n",
    "sns.set_theme()\n",
    "\n",
    "# - rng\n",
    "rng = np.random.default_rng()\n",
    "\n",
    "# - plots\n",
    "plt.rc(\"figure\", figsize=(8, 6))\n",
    "plt.rc(\"font\", size=14)\n",
    "sns.set_theme(style='white')\n",
    "\n",
    "# - directory tree\n",
    "data_dir = os.path.join(os.getcwd(), '_data')"
   ]
  },
  {
   "cell_type": "code",
   "execution_count": 2,
   "id": "8db27a1f",
   "metadata": {},
   "outputs": [
    {
     "data": {
      "text/html": [
       "<div>\n",
       "<style scoped>\n",
       "    .dataframe tbody tr th:only-of-type {\n",
       "        vertical-align: middle;\n",
       "    }\n",
       "\n",
       "    .dataframe tbody tr th {\n",
       "        vertical-align: top;\n",
       "    }\n",
       "\n",
       "    .dataframe thead th {\n",
       "        text-align: right;\n",
       "    }\n",
       "</style>\n",
       "<table border=\"1\" class=\"dataframe\">\n",
       "  <thead>\n",
       "    <tr style=\"text-align: right;\">\n",
       "      <th></th>\n",
       "      <th>id</th>\n",
       "      <th>date</th>\n",
       "      <th>price</th>\n",
       "      <th>bedrooms</th>\n",
       "      <th>bathrooms</th>\n",
       "      <th>sqft_living</th>\n",
       "      <th>sqft_lot</th>\n",
       "      <th>floors</th>\n",
       "      <th>waterfront</th>\n",
       "      <th>view</th>\n",
       "      <th>...</th>\n",
       "      <th>grade</th>\n",
       "      <th>sqft_above</th>\n",
       "      <th>sqft_basement</th>\n",
       "      <th>yr_built</th>\n",
       "      <th>yr_renovated</th>\n",
       "      <th>zipcode</th>\n",
       "      <th>lat</th>\n",
       "      <th>long</th>\n",
       "      <th>sqft_living15</th>\n",
       "      <th>sqft_lot15</th>\n",
       "    </tr>\n",
       "  </thead>\n",
       "  <tbody>\n",
       "    <tr>\n",
       "      <th>0</th>\n",
       "      <td>7129300520</td>\n",
       "      <td>20141013T000000</td>\n",
       "      <td>221900.0</td>\n",
       "      <td>3</td>\n",
       "      <td>1.00</td>\n",
       "      <td>1180</td>\n",
       "      <td>5650</td>\n",
       "      <td>1.0</td>\n",
       "      <td>0</td>\n",
       "      <td>0</td>\n",
       "      <td>...</td>\n",
       "      <td>7</td>\n",
       "      <td>1180</td>\n",
       "      <td>0</td>\n",
       "      <td>1955</td>\n",
       "      <td>0</td>\n",
       "      <td>98178</td>\n",
       "      <td>47.5112</td>\n",
       "      <td>-122.257</td>\n",
       "      <td>1340</td>\n",
       "      <td>5650</td>\n",
       "    </tr>\n",
       "    <tr>\n",
       "      <th>1</th>\n",
       "      <td>6414100192</td>\n",
       "      <td>20141209T000000</td>\n",
       "      <td>538000.0</td>\n",
       "      <td>3</td>\n",
       "      <td>2.25</td>\n",
       "      <td>2570</td>\n",
       "      <td>7242</td>\n",
       "      <td>2.0</td>\n",
       "      <td>0</td>\n",
       "      <td>0</td>\n",
       "      <td>...</td>\n",
       "      <td>7</td>\n",
       "      <td>2170</td>\n",
       "      <td>400</td>\n",
       "      <td>1951</td>\n",
       "      <td>1991</td>\n",
       "      <td>98125</td>\n",
       "      <td>47.7210</td>\n",
       "      <td>-122.319</td>\n",
       "      <td>1690</td>\n",
       "      <td>7639</td>\n",
       "    </tr>\n",
       "    <tr>\n",
       "      <th>2</th>\n",
       "      <td>5631500400</td>\n",
       "      <td>20150225T000000</td>\n",
       "      <td>180000.0</td>\n",
       "      <td>2</td>\n",
       "      <td>1.00</td>\n",
       "      <td>770</td>\n",
       "      <td>10000</td>\n",
       "      <td>1.0</td>\n",
       "      <td>0</td>\n",
       "      <td>0</td>\n",
       "      <td>...</td>\n",
       "      <td>6</td>\n",
       "      <td>770</td>\n",
       "      <td>0</td>\n",
       "      <td>1933</td>\n",
       "      <td>0</td>\n",
       "      <td>98028</td>\n",
       "      <td>47.7379</td>\n",
       "      <td>-122.233</td>\n",
       "      <td>2720</td>\n",
       "      <td>8062</td>\n",
       "    </tr>\n",
       "    <tr>\n",
       "      <th>3</th>\n",
       "      <td>2487200875</td>\n",
       "      <td>20141209T000000</td>\n",
       "      <td>604000.0</td>\n",
       "      <td>4</td>\n",
       "      <td>3.00</td>\n",
       "      <td>1960</td>\n",
       "      <td>5000</td>\n",
       "      <td>1.0</td>\n",
       "      <td>0</td>\n",
       "      <td>0</td>\n",
       "      <td>...</td>\n",
       "      <td>7</td>\n",
       "      <td>1050</td>\n",
       "      <td>910</td>\n",
       "      <td>1965</td>\n",
       "      <td>0</td>\n",
       "      <td>98136</td>\n",
       "      <td>47.5208</td>\n",
       "      <td>-122.393</td>\n",
       "      <td>1360</td>\n",
       "      <td>5000</td>\n",
       "    </tr>\n",
       "    <tr>\n",
       "      <th>4</th>\n",
       "      <td>1954400510</td>\n",
       "      <td>20150218T000000</td>\n",
       "      <td>510000.0</td>\n",
       "      <td>3</td>\n",
       "      <td>2.00</td>\n",
       "      <td>1680</td>\n",
       "      <td>8080</td>\n",
       "      <td>1.0</td>\n",
       "      <td>0</td>\n",
       "      <td>0</td>\n",
       "      <td>...</td>\n",
       "      <td>8</td>\n",
       "      <td>1680</td>\n",
       "      <td>0</td>\n",
       "      <td>1987</td>\n",
       "      <td>0</td>\n",
       "      <td>98074</td>\n",
       "      <td>47.6168</td>\n",
       "      <td>-122.045</td>\n",
       "      <td>1800</td>\n",
       "      <td>7503</td>\n",
       "    </tr>\n",
       "    <tr>\n",
       "      <th>5</th>\n",
       "      <td>7237550310</td>\n",
       "      <td>20140512T000000</td>\n",
       "      <td>1225000.0</td>\n",
       "      <td>4</td>\n",
       "      <td>4.50</td>\n",
       "      <td>5420</td>\n",
       "      <td>101930</td>\n",
       "      <td>1.0</td>\n",
       "      <td>0</td>\n",
       "      <td>0</td>\n",
       "      <td>...</td>\n",
       "      <td>11</td>\n",
       "      <td>3890</td>\n",
       "      <td>1530</td>\n",
       "      <td>2001</td>\n",
       "      <td>0</td>\n",
       "      <td>98053</td>\n",
       "      <td>47.6561</td>\n",
       "      <td>-122.005</td>\n",
       "      <td>4760</td>\n",
       "      <td>101930</td>\n",
       "    </tr>\n",
       "    <tr>\n",
       "      <th>6</th>\n",
       "      <td>1321400060</td>\n",
       "      <td>20140627T000000</td>\n",
       "      <td>257500.0</td>\n",
       "      <td>3</td>\n",
       "      <td>2.25</td>\n",
       "      <td>1715</td>\n",
       "      <td>6819</td>\n",
       "      <td>2.0</td>\n",
       "      <td>0</td>\n",
       "      <td>0</td>\n",
       "      <td>...</td>\n",
       "      <td>7</td>\n",
       "      <td>1715</td>\n",
       "      <td>0</td>\n",
       "      <td>1995</td>\n",
       "      <td>0</td>\n",
       "      <td>98003</td>\n",
       "      <td>47.3097</td>\n",
       "      <td>-122.327</td>\n",
       "      <td>2238</td>\n",
       "      <td>6819</td>\n",
       "    </tr>\n",
       "    <tr>\n",
       "      <th>7</th>\n",
       "      <td>2008000270</td>\n",
       "      <td>20150115T000000</td>\n",
       "      <td>291850.0</td>\n",
       "      <td>3</td>\n",
       "      <td>1.50</td>\n",
       "      <td>1060</td>\n",
       "      <td>9711</td>\n",
       "      <td>1.0</td>\n",
       "      <td>0</td>\n",
       "      <td>0</td>\n",
       "      <td>...</td>\n",
       "      <td>7</td>\n",
       "      <td>1060</td>\n",
       "      <td>0</td>\n",
       "      <td>1963</td>\n",
       "      <td>0</td>\n",
       "      <td>98198</td>\n",
       "      <td>47.4095</td>\n",
       "      <td>-122.315</td>\n",
       "      <td>1650</td>\n",
       "      <td>9711</td>\n",
       "    </tr>\n",
       "    <tr>\n",
       "      <th>8</th>\n",
       "      <td>2414600126</td>\n",
       "      <td>20150415T000000</td>\n",
       "      <td>229500.0</td>\n",
       "      <td>3</td>\n",
       "      <td>1.00</td>\n",
       "      <td>1780</td>\n",
       "      <td>7470</td>\n",
       "      <td>1.0</td>\n",
       "      <td>0</td>\n",
       "      <td>0</td>\n",
       "      <td>...</td>\n",
       "      <td>7</td>\n",
       "      <td>1050</td>\n",
       "      <td>730</td>\n",
       "      <td>1960</td>\n",
       "      <td>0</td>\n",
       "      <td>98146</td>\n",
       "      <td>47.5123</td>\n",
       "      <td>-122.337</td>\n",
       "      <td>1780</td>\n",
       "      <td>8113</td>\n",
       "    </tr>\n",
       "    <tr>\n",
       "      <th>9</th>\n",
       "      <td>3793500160</td>\n",
       "      <td>20150312T000000</td>\n",
       "      <td>323000.0</td>\n",
       "      <td>3</td>\n",
       "      <td>2.50</td>\n",
       "      <td>1890</td>\n",
       "      <td>6560</td>\n",
       "      <td>2.0</td>\n",
       "      <td>0</td>\n",
       "      <td>0</td>\n",
       "      <td>...</td>\n",
       "      <td>7</td>\n",
       "      <td>1890</td>\n",
       "      <td>0</td>\n",
       "      <td>2003</td>\n",
       "      <td>0</td>\n",
       "      <td>98038</td>\n",
       "      <td>47.3684</td>\n",
       "      <td>-122.031</td>\n",
       "      <td>2390</td>\n",
       "      <td>7570</td>\n",
       "    </tr>\n",
       "  </tbody>\n",
       "</table>\n",
       "<p>10 rows × 21 columns</p>\n",
       "</div>"
      ],
      "text/plain": [
       "           id             date      price  bedrooms  bathrooms  sqft_living  \\\n",
       "0  7129300520  20141013T000000   221900.0         3       1.00         1180   \n",
       "1  6414100192  20141209T000000   538000.0         3       2.25         2570   \n",
       "2  5631500400  20150225T000000   180000.0         2       1.00          770   \n",
       "3  2487200875  20141209T000000   604000.0         4       3.00         1960   \n",
       "4  1954400510  20150218T000000   510000.0         3       2.00         1680   \n",
       "5  7237550310  20140512T000000  1225000.0         4       4.50         5420   \n",
       "6  1321400060  20140627T000000   257500.0         3       2.25         1715   \n",
       "7  2008000270  20150115T000000   291850.0         3       1.50         1060   \n",
       "8  2414600126  20150415T000000   229500.0         3       1.00         1780   \n",
       "9  3793500160  20150312T000000   323000.0         3       2.50         1890   \n",
       "\n",
       "   sqft_lot  floors  waterfront  view  ...  grade  sqft_above  sqft_basement  \\\n",
       "0      5650     1.0           0     0  ...      7        1180              0   \n",
       "1      7242     2.0           0     0  ...      7        2170            400   \n",
       "2     10000     1.0           0     0  ...      6         770              0   \n",
       "3      5000     1.0           0     0  ...      7        1050            910   \n",
       "4      8080     1.0           0     0  ...      8        1680              0   \n",
       "5    101930     1.0           0     0  ...     11        3890           1530   \n",
       "6      6819     2.0           0     0  ...      7        1715              0   \n",
       "7      9711     1.0           0     0  ...      7        1060              0   \n",
       "8      7470     1.0           0     0  ...      7        1050            730   \n",
       "9      6560     2.0           0     0  ...      7        1890              0   \n",
       "\n",
       "   yr_built  yr_renovated  zipcode      lat     long  sqft_living15  \\\n",
       "0      1955             0    98178  47.5112 -122.257           1340   \n",
       "1      1951          1991    98125  47.7210 -122.319           1690   \n",
       "2      1933             0    98028  47.7379 -122.233           2720   \n",
       "3      1965             0    98136  47.5208 -122.393           1360   \n",
       "4      1987             0    98074  47.6168 -122.045           1800   \n",
       "5      2001             0    98053  47.6561 -122.005           4760   \n",
       "6      1995             0    98003  47.3097 -122.327           2238   \n",
       "7      1963             0    98198  47.4095 -122.315           1650   \n",
       "8      1960             0    98146  47.5123 -122.337           1780   \n",
       "9      2003             0    98038  47.3684 -122.031           2390   \n",
       "\n",
       "   sqft_lot15  \n",
       "0        5650  \n",
       "1        7639  \n",
       "2        8062  \n",
       "3        5000  \n",
       "4        7503  \n",
       "5      101930  \n",
       "6        6819  \n",
       "7        9711  \n",
       "8        8113  \n",
       "9        7570  \n",
       "\n",
       "[10 rows x 21 columns]"
      ]
     },
     "execution_count": 2,
     "metadata": {},
     "output_type": "execute_result"
    }
   ],
   "source": [
    "data_set = pd.read_csv(os.path.join(data_dir, 'kc_house_data.csv'))\n",
    "data_set.head(10)"
   ]
  },
  {
   "cell_type": "code",
   "execution_count": 3,
   "id": "5732e59a",
   "metadata": {},
   "outputs": [
    {
     "name": "stdout",
     "output_type": "stream",
     "text": [
      "<class 'pandas.core.frame.DataFrame'>\n",
      "RangeIndex: 21613 entries, 0 to 21612\n",
      "Data columns (total 21 columns):\n",
      " #   Column         Non-Null Count  Dtype  \n",
      "---  ------         --------------  -----  \n",
      " 0   id             21613 non-null  int64  \n",
      " 1   date           21613 non-null  object \n",
      " 2   price          21613 non-null  float64\n",
      " 3   bedrooms       21613 non-null  int64  \n",
      " 4   bathrooms      21613 non-null  float64\n",
      " 5   sqft_living    21613 non-null  int64  \n",
      " 6   sqft_lot       21613 non-null  int64  \n",
      " 7   floors         21613 non-null  float64\n",
      " 8   waterfront     21613 non-null  int64  \n",
      " 9   view           21613 non-null  int64  \n",
      " 10  condition      21613 non-null  int64  \n",
      " 11  grade          21613 non-null  int64  \n",
      " 12  sqft_above     21613 non-null  int64  \n",
      " 13  sqft_basement  21613 non-null  int64  \n",
      " 14  yr_built       21613 non-null  int64  \n",
      " 15  yr_renovated   21613 non-null  int64  \n",
      " 16  zipcode        21613 non-null  int64  \n",
      " 17  lat            21613 non-null  float64\n",
      " 18  long           21613 non-null  float64\n",
      " 19  sqft_living15  21613 non-null  int64  \n",
      " 20  sqft_lot15     21613 non-null  int64  \n",
      "dtypes: float64(5), int64(15), object(1)\n",
      "memory usage: 3.5+ MB\n"
     ]
    }
   ],
   "source": [
    "data_set.info()"
   ]
  },
  {
   "cell_type": "markdown",
   "id": "f3271d66",
   "metadata": {},
   "source": [
    "## Task 0\n",
    "\n",
    "### Target: predict price from the numerical predictors"
   ]
  },
  {
   "cell_type": "code",
   "execution_count": 4,
   "id": "820a92d3",
   "metadata": {},
   "outputs": [
    {
     "data": {
      "text/html": [
       "<div>\n",
       "<style scoped>\n",
       "    .dataframe tbody tr th:only-of-type {\n",
       "        vertical-align: middle;\n",
       "    }\n",
       "\n",
       "    .dataframe tbody tr th {\n",
       "        vertical-align: top;\n",
       "    }\n",
       "\n",
       "    .dataframe thead th {\n",
       "        text-align: right;\n",
       "    }\n",
       "</style>\n",
       "<table border=\"1\" class=\"dataframe\">\n",
       "  <thead>\n",
       "    <tr style=\"text-align: right;\">\n",
       "      <th></th>\n",
       "      <th>price</th>\n",
       "      <th>bedrooms</th>\n",
       "      <th>bathrooms</th>\n",
       "      <th>sqft_living</th>\n",
       "      <th>sqft_lot</th>\n",
       "      <th>floors</th>\n",
       "      <th>condition</th>\n",
       "      <th>grade</th>\n",
       "      <th>sqft_above</th>\n",
       "      <th>yr_built</th>\n",
       "      <th>sqft_living15</th>\n",
       "      <th>sqft_lot15</th>\n",
       "    </tr>\n",
       "  </thead>\n",
       "  <tbody>\n",
       "    <tr>\n",
       "      <th>0</th>\n",
       "      <td>221900.0</td>\n",
       "      <td>3</td>\n",
       "      <td>1.00</td>\n",
       "      <td>1180</td>\n",
       "      <td>5650</td>\n",
       "      <td>1.0</td>\n",
       "      <td>3</td>\n",
       "      <td>7</td>\n",
       "      <td>1180</td>\n",
       "      <td>1955</td>\n",
       "      <td>1340</td>\n",
       "      <td>5650</td>\n",
       "    </tr>\n",
       "    <tr>\n",
       "      <th>1</th>\n",
       "      <td>538000.0</td>\n",
       "      <td>3</td>\n",
       "      <td>2.25</td>\n",
       "      <td>2570</td>\n",
       "      <td>7242</td>\n",
       "      <td>2.0</td>\n",
       "      <td>3</td>\n",
       "      <td>7</td>\n",
       "      <td>2170</td>\n",
       "      <td>1951</td>\n",
       "      <td>1690</td>\n",
       "      <td>7639</td>\n",
       "    </tr>\n",
       "    <tr>\n",
       "      <th>2</th>\n",
       "      <td>180000.0</td>\n",
       "      <td>2</td>\n",
       "      <td>1.00</td>\n",
       "      <td>770</td>\n",
       "      <td>10000</td>\n",
       "      <td>1.0</td>\n",
       "      <td>3</td>\n",
       "      <td>6</td>\n",
       "      <td>770</td>\n",
       "      <td>1933</td>\n",
       "      <td>2720</td>\n",
       "      <td>8062</td>\n",
       "    </tr>\n",
       "    <tr>\n",
       "      <th>3</th>\n",
       "      <td>604000.0</td>\n",
       "      <td>4</td>\n",
       "      <td>3.00</td>\n",
       "      <td>1960</td>\n",
       "      <td>5000</td>\n",
       "      <td>1.0</td>\n",
       "      <td>5</td>\n",
       "      <td>7</td>\n",
       "      <td>1050</td>\n",
       "      <td>1965</td>\n",
       "      <td>1360</td>\n",
       "      <td>5000</td>\n",
       "    </tr>\n",
       "    <tr>\n",
       "      <th>4</th>\n",
       "      <td>510000.0</td>\n",
       "      <td>3</td>\n",
       "      <td>2.00</td>\n",
       "      <td>1680</td>\n",
       "      <td>8080</td>\n",
       "      <td>1.0</td>\n",
       "      <td>3</td>\n",
       "      <td>8</td>\n",
       "      <td>1680</td>\n",
       "      <td>1987</td>\n",
       "      <td>1800</td>\n",
       "      <td>7503</td>\n",
       "    </tr>\n",
       "  </tbody>\n",
       "</table>\n",
       "</div>"
      ],
      "text/plain": [
       "      price  bedrooms  bathrooms  sqft_living  sqft_lot  floors  condition  \\\n",
       "0  221900.0         3       1.00         1180      5650     1.0          3   \n",
       "1  538000.0         3       2.25         2570      7242     2.0          3   \n",
       "2  180000.0         2       1.00          770     10000     1.0          3   \n",
       "3  604000.0         4       3.00         1960      5000     1.0          5   \n",
       "4  510000.0         3       2.00         1680      8080     1.0          3   \n",
       "\n",
       "   grade  sqft_above  yr_built  sqft_living15  sqft_lot15  \n",
       "0      7        1180      1955           1340        5650  \n",
       "1      7        2170      1951           1690        7639  \n",
       "2      6         770      1933           2720        8062  \n",
       "3      7        1050      1965           1360        5000  \n",
       "4      8        1680      1987           1800        7503  "
      ]
     },
     "execution_count": 4,
     "metadata": {},
     "output_type": "execute_result"
    }
   ],
   "source": [
    "# - for the simplicity we will drop some variables from the dataset\n",
    "model_frame = data_set.drop(columns = ['id', 'lat', 'long', 'date',\n",
    "                                      'zipcode', 'yr_renovated', 'waterfront',\n",
    "                                      'view', 'sqft_basement'])\n",
    "model_frame.head()"
   ]
  },
  {
   "cell_type": "code",
   "execution_count": 5,
   "id": "4d8d20eb",
   "metadata": {},
   "outputs": [
    {
     "data": {
      "text/plain": [
       "Index(['bedrooms', 'bathrooms', 'sqft_living', 'sqft_lot', 'floors',\n",
       "       'condition', 'grade', 'sqft_above', 'yr_built', 'sqft_living15',\n",
       "       'sqft_lot15'],\n",
       "      dtype='object')"
      ]
     },
     "execution_count": 5,
     "metadata": {},
     "output_type": "execute_result"
    }
   ],
   "source": [
    "predictors = model_frame.columns.drop('price')\n",
    "predictors"
   ]
  },
  {
   "cell_type": "code",
   "execution_count": 6,
   "id": "2caa4446",
   "metadata": {},
   "outputs": [
    {
     "data": {
      "text/html": [
       "<div>\n",
       "<style scoped>\n",
       "    .dataframe tbody tr th:only-of-type {\n",
       "        vertical-align: middle;\n",
       "    }\n",
       "\n",
       "    .dataframe tbody tr th {\n",
       "        vertical-align: top;\n",
       "    }\n",
       "\n",
       "    .dataframe thead th {\n",
       "        text-align: right;\n",
       "    }\n",
       "</style>\n",
       "<table border=\"1\" class=\"dataframe\">\n",
       "  <thead>\n",
       "    <tr style=\"text-align: right;\">\n",
       "      <th></th>\n",
       "      <th>bedrooms</th>\n",
       "      <th>bathrooms</th>\n",
       "      <th>sqft_living</th>\n",
       "      <th>sqft_lot</th>\n",
       "      <th>floors</th>\n",
       "      <th>condition</th>\n",
       "      <th>grade</th>\n",
       "      <th>sqft_above</th>\n",
       "      <th>yr_built</th>\n",
       "      <th>sqft_living15</th>\n",
       "      <th>sqft_lot15</th>\n",
       "    </tr>\n",
       "  </thead>\n",
       "  <tbody>\n",
       "    <tr>\n",
       "      <th>bedrooms</th>\n",
       "      <td>1.000000</td>\n",
       "      <td>0.515884</td>\n",
       "      <td>0.576671</td>\n",
       "      <td>0.031703</td>\n",
       "      <td>0.175429</td>\n",
       "      <td>0.028472</td>\n",
       "      <td>0.356967</td>\n",
       "      <td>0.477600</td>\n",
       "      <td>0.154178</td>\n",
       "      <td>0.391638</td>\n",
       "      <td>0.029244</td>\n",
       "    </tr>\n",
       "    <tr>\n",
       "      <th>bathrooms</th>\n",
       "      <td>0.515884</td>\n",
       "      <td>1.000000</td>\n",
       "      <td>0.754665</td>\n",
       "      <td>0.087740</td>\n",
       "      <td>0.500653</td>\n",
       "      <td>-0.124982</td>\n",
       "      <td>0.664983</td>\n",
       "      <td>0.685342</td>\n",
       "      <td>0.506019</td>\n",
       "      <td>0.568634</td>\n",
       "      <td>0.087175</td>\n",
       "    </tr>\n",
       "    <tr>\n",
       "      <th>sqft_living</th>\n",
       "      <td>0.576671</td>\n",
       "      <td>0.754665</td>\n",
       "      <td>1.000000</td>\n",
       "      <td>0.172826</td>\n",
       "      <td>0.353949</td>\n",
       "      <td>-0.058753</td>\n",
       "      <td>0.762704</td>\n",
       "      <td>0.876597</td>\n",
       "      <td>0.318049</td>\n",
       "      <td>0.756420</td>\n",
       "      <td>0.183286</td>\n",
       "    </tr>\n",
       "    <tr>\n",
       "      <th>sqft_lot</th>\n",
       "      <td>0.031703</td>\n",
       "      <td>0.087740</td>\n",
       "      <td>0.172826</td>\n",
       "      <td>1.000000</td>\n",
       "      <td>-0.005201</td>\n",
       "      <td>-0.008958</td>\n",
       "      <td>0.113621</td>\n",
       "      <td>0.183512</td>\n",
       "      <td>0.053080</td>\n",
       "      <td>0.144608</td>\n",
       "      <td>0.718557</td>\n",
       "    </tr>\n",
       "    <tr>\n",
       "      <th>floors</th>\n",
       "      <td>0.175429</td>\n",
       "      <td>0.500653</td>\n",
       "      <td>0.353949</td>\n",
       "      <td>-0.005201</td>\n",
       "      <td>1.000000</td>\n",
       "      <td>-0.263768</td>\n",
       "      <td>0.458183</td>\n",
       "      <td>0.523885</td>\n",
       "      <td>0.489319</td>\n",
       "      <td>0.279885</td>\n",
       "      <td>-0.011269</td>\n",
       "    </tr>\n",
       "    <tr>\n",
       "      <th>condition</th>\n",
       "      <td>0.028472</td>\n",
       "      <td>-0.124982</td>\n",
       "      <td>-0.058753</td>\n",
       "      <td>-0.008958</td>\n",
       "      <td>-0.263768</td>\n",
       "      <td>1.000000</td>\n",
       "      <td>-0.144674</td>\n",
       "      <td>-0.158214</td>\n",
       "      <td>-0.361417</td>\n",
       "      <td>-0.092824</td>\n",
       "      <td>-0.003406</td>\n",
       "    </tr>\n",
       "    <tr>\n",
       "      <th>grade</th>\n",
       "      <td>0.356967</td>\n",
       "      <td>0.664983</td>\n",
       "      <td>0.762704</td>\n",
       "      <td>0.113621</td>\n",
       "      <td>0.458183</td>\n",
       "      <td>-0.144674</td>\n",
       "      <td>1.000000</td>\n",
       "      <td>0.755923</td>\n",
       "      <td>0.446963</td>\n",
       "      <td>0.713202</td>\n",
       "      <td>0.119248</td>\n",
       "    </tr>\n",
       "    <tr>\n",
       "      <th>sqft_above</th>\n",
       "      <td>0.477600</td>\n",
       "      <td>0.685342</td>\n",
       "      <td>0.876597</td>\n",
       "      <td>0.183512</td>\n",
       "      <td>0.523885</td>\n",
       "      <td>-0.158214</td>\n",
       "      <td>0.755923</td>\n",
       "      <td>1.000000</td>\n",
       "      <td>0.423898</td>\n",
       "      <td>0.731870</td>\n",
       "      <td>0.194050</td>\n",
       "    </tr>\n",
       "    <tr>\n",
       "      <th>yr_built</th>\n",
       "      <td>0.154178</td>\n",
       "      <td>0.506019</td>\n",
       "      <td>0.318049</td>\n",
       "      <td>0.053080</td>\n",
       "      <td>0.489319</td>\n",
       "      <td>-0.361417</td>\n",
       "      <td>0.446963</td>\n",
       "      <td>0.423898</td>\n",
       "      <td>1.000000</td>\n",
       "      <td>0.326229</td>\n",
       "      <td>0.070958</td>\n",
       "    </tr>\n",
       "    <tr>\n",
       "      <th>sqft_living15</th>\n",
       "      <td>0.391638</td>\n",
       "      <td>0.568634</td>\n",
       "      <td>0.756420</td>\n",
       "      <td>0.144608</td>\n",
       "      <td>0.279885</td>\n",
       "      <td>-0.092824</td>\n",
       "      <td>0.713202</td>\n",
       "      <td>0.731870</td>\n",
       "      <td>0.326229</td>\n",
       "      <td>1.000000</td>\n",
       "      <td>0.183192</td>\n",
       "    </tr>\n",
       "    <tr>\n",
       "      <th>sqft_lot15</th>\n",
       "      <td>0.029244</td>\n",
       "      <td>0.087175</td>\n",
       "      <td>0.183286</td>\n",
       "      <td>0.718557</td>\n",
       "      <td>-0.011269</td>\n",
       "      <td>-0.003406</td>\n",
       "      <td>0.119248</td>\n",
       "      <td>0.194050</td>\n",
       "      <td>0.070958</td>\n",
       "      <td>0.183192</td>\n",
       "      <td>1.000000</td>\n",
       "    </tr>\n",
       "  </tbody>\n",
       "</table>\n",
       "</div>"
      ],
      "text/plain": [
       "               bedrooms  bathrooms  sqft_living  sqft_lot    floors  \\\n",
       "bedrooms       1.000000   0.515884     0.576671  0.031703  0.175429   \n",
       "bathrooms      0.515884   1.000000     0.754665  0.087740  0.500653   \n",
       "sqft_living    0.576671   0.754665     1.000000  0.172826  0.353949   \n",
       "sqft_lot       0.031703   0.087740     0.172826  1.000000 -0.005201   \n",
       "floors         0.175429   0.500653     0.353949 -0.005201  1.000000   \n",
       "condition      0.028472  -0.124982    -0.058753 -0.008958 -0.263768   \n",
       "grade          0.356967   0.664983     0.762704  0.113621  0.458183   \n",
       "sqft_above     0.477600   0.685342     0.876597  0.183512  0.523885   \n",
       "yr_built       0.154178   0.506019     0.318049  0.053080  0.489319   \n",
       "sqft_living15  0.391638   0.568634     0.756420  0.144608  0.279885   \n",
       "sqft_lot15     0.029244   0.087175     0.183286  0.718557 -0.011269   \n",
       "\n",
       "               condition     grade  sqft_above  yr_built  sqft_living15  \\\n",
       "bedrooms        0.028472  0.356967    0.477600  0.154178       0.391638   \n",
       "bathrooms      -0.124982  0.664983    0.685342  0.506019       0.568634   \n",
       "sqft_living    -0.058753  0.762704    0.876597  0.318049       0.756420   \n",
       "sqft_lot       -0.008958  0.113621    0.183512  0.053080       0.144608   \n",
       "floors         -0.263768  0.458183    0.523885  0.489319       0.279885   \n",
       "condition       1.000000 -0.144674   -0.158214 -0.361417      -0.092824   \n",
       "grade          -0.144674  1.000000    0.755923  0.446963       0.713202   \n",
       "sqft_above     -0.158214  0.755923    1.000000  0.423898       0.731870   \n",
       "yr_built       -0.361417  0.446963    0.423898  1.000000       0.326229   \n",
       "sqft_living15  -0.092824  0.713202    0.731870  0.326229       1.000000   \n",
       "sqft_lot15     -0.003406  0.119248    0.194050  0.070958       0.183192   \n",
       "\n",
       "               sqft_lot15  \n",
       "bedrooms         0.029244  \n",
       "bathrooms        0.087175  \n",
       "sqft_living      0.183286  \n",
       "sqft_lot         0.718557  \n",
       "floors          -0.011269  \n",
       "condition       -0.003406  \n",
       "grade            0.119248  \n",
       "sqft_above       0.194050  \n",
       "yr_built         0.070958  \n",
       "sqft_living15    0.183192  \n",
       "sqft_lot15       1.000000  "
      ]
     },
     "execution_count": 6,
     "metadata": {},
     "output_type": "execute_result"
    }
   ],
   "source": [
    "# - the correlations of the predictors\n",
    "model_frame[predictors].corr()"
   ]
  },
  {
   "cell_type": "code",
   "execution_count": 7,
   "id": "fd567616",
   "metadata": {},
   "outputs": [
    {
     "data": {
      "text/plain": [
       "'price ~ bedrooms + bathrooms + sqft_living + sqft_lot + floors + condition + grade + sqft_above + yr_built + sqft_living15 + sqft_lot15'"
      ]
     },
     "execution_count": 7,
     "metadata": {},
     "output_type": "execute_result"
    }
   ],
   "source": [
    "# --- Composing the fomula of the model\n",
    "\n",
    "# - right side of the formula\n",
    "formula = ' + '.join(predictors)\n",
    "\n",
    "# - left side of the formula\n",
    "formula = 'price ~ ' + formula\n",
    "\n",
    "formula"
   ]
  },
  {
   "cell_type": "code",
   "execution_count": 8,
   "id": "8bbc29bc",
   "metadata": {},
   "outputs": [
    {
     "data": {
      "text/html": [
       "<table class=\"simpletable\">\n",
       "<caption>OLS Regression Results</caption>\n",
       "<tr>\n",
       "  <th>Dep. Variable:</th>          <td>price</td>      <th>  R-squared:         </th>  <td>   0.620</td>  \n",
       "</tr>\n",
       "<tr>\n",
       "  <th>Model:</th>                   <td>OLS</td>       <th>  Adj. R-squared:    </th>  <td>   0.620</td>  \n",
       "</tr>\n",
       "<tr>\n",
       "  <th>Method:</th>             <td>Least Squares</td>  <th>  F-statistic:       </th>  <td>   3202.</td>  \n",
       "</tr>\n",
       "<tr>\n",
       "  <th>Date:</th>             <td>Thu, 17 Nov 2022</td> <th>  Prob (F-statistic):</th>   <td>  0.00</td>   \n",
       "</tr>\n",
       "<tr>\n",
       "  <th>Time:</th>                 <td>11:55:08</td>     <th>  Log-Likelihood:    </th> <td>-2.9715e+05</td>\n",
       "</tr>\n",
       "<tr>\n",
       "  <th>No. Observations:</th>      <td> 21613</td>      <th>  AIC:               </th>  <td>5.943e+05</td> \n",
       "</tr>\n",
       "<tr>\n",
       "  <th>Df Residuals:</th>          <td> 21601</td>      <th>  BIC:               </th>  <td>5.944e+05</td> \n",
       "</tr>\n",
       "<tr>\n",
       "  <th>Df Model:</th>              <td>    11</td>      <th>                     </th>      <td> </td>     \n",
       "</tr>\n",
       "<tr>\n",
       "  <th>Covariance Type:</th>      <td>nonrobust</td>    <th>                     </th>      <td> </td>     \n",
       "</tr>\n",
       "</table>\n",
       "<table class=\"simpletable\">\n",
       "<tr>\n",
       "        <td></td>           <th>coef</th>     <th>std err</th>      <th>t</th>      <th>P>|t|</th>  <th>[0.025</th>    <th>0.975]</th>  \n",
       "</tr>\n",
       "<tr>\n",
       "  <th>Intercept</th>     <td> 6.933e+06</td> <td> 1.36e+05</td> <td>   51.002</td> <td> 0.000</td> <td> 6.67e+06</td> <td>  7.2e+06</td>\n",
       "</tr>\n",
       "<tr>\n",
       "  <th>bedrooms</th>      <td>-4.936e+04</td> <td> 2108.805</td> <td>  -23.406</td> <td> 0.000</td> <td>-5.35e+04</td> <td>-4.52e+04</td>\n",
       "</tr>\n",
       "<tr>\n",
       "  <th>bathrooms</th>     <td>  5.01e+04</td> <td> 3625.970</td> <td>   13.817</td> <td> 0.000</td> <td>  4.3e+04</td> <td> 5.72e+04</td>\n",
       "</tr>\n",
       "<tr>\n",
       "  <th>sqft_living</th>   <td>  195.1515</td> <td>    4.812</td> <td>   40.552</td> <td> 0.000</td> <td>  185.719</td> <td>  204.584</td>\n",
       "</tr>\n",
       "<tr>\n",
       "  <th>sqft_lot</th>      <td>    0.0111</td> <td>    0.054</td> <td>    0.207</td> <td> 0.836</td> <td>   -0.094</td> <td>    0.116</td>\n",
       "</tr>\n",
       "<tr>\n",
       "  <th>floors</th>        <td> 3.348e+04</td> <td> 3957.258</td> <td>    8.461</td> <td> 0.000</td> <td> 2.57e+04</td> <td> 4.12e+04</td>\n",
       "</tr>\n",
       "<tr>\n",
       "  <th>condition</th>     <td> 1.898e+04</td> <td> 2580.038</td> <td>    7.356</td> <td> 0.000</td> <td> 1.39e+04</td> <td>  2.4e+04</td>\n",
       "</tr>\n",
       "<tr>\n",
       "  <th>grade</th>         <td> 1.246e+05</td> <td> 2346.774</td> <td>   53.099</td> <td> 0.000</td> <td>  1.2e+05</td> <td> 1.29e+05</td>\n",
       "</tr>\n",
       "<tr>\n",
       "  <th>sqft_above</th>    <td>  -28.6643</td> <td>    4.678</td> <td>   -6.128</td> <td> 0.000</td> <td>  -37.833</td> <td>  -19.496</td>\n",
       "</tr>\n",
       "<tr>\n",
       "  <th>yr_built</th>      <td>-3968.3906</td> <td>   69.774</td> <td>  -56.875</td> <td> 0.000</td> <td>-4105.152</td> <td>-3831.629</td>\n",
       "</tr>\n",
       "<tr>\n",
       "  <th>sqft_living15</th> <td>   36.2656</td> <td>    3.735</td> <td>    9.709</td> <td> 0.000</td> <td>   28.944</td> <td>   43.587</td>\n",
       "</tr>\n",
       "<tr>\n",
       "  <th>sqft_lot15</th>    <td>   -0.5066</td> <td>    0.082</td> <td>   -6.172</td> <td> 0.000</td> <td>   -0.667</td> <td>   -0.346</td>\n",
       "</tr>\n",
       "</table>\n",
       "<table class=\"simpletable\">\n",
       "<tr>\n",
       "  <th>Omnibus:</th>       <td>17771.672</td> <th>  Durbin-Watson:     </th>  <td>   1.984</td>  \n",
       "</tr>\n",
       "<tr>\n",
       "  <th>Prob(Omnibus):</th>  <td> 0.000</td>   <th>  Jarque-Bera (JB):  </th> <td>1362466.098</td>\n",
       "</tr>\n",
       "<tr>\n",
       "  <th>Skew:</th>           <td> 3.467</td>   <th>  Prob(JB):          </th>  <td>    0.00</td>  \n",
       "</tr>\n",
       "<tr>\n",
       "  <th>Kurtosis:</th>       <td>41.274</td>   <th>  Cond. No.          </th>  <td>4.47e+06</td>  \n",
       "</tr>\n",
       "</table><br/><br/>Notes:<br/>[1] Standard Errors assume that the covariance matrix of the errors is correctly specified.<br/>[2] The condition number is large, 4.47e+06. This might indicate that there are<br/>strong multicollinearity or other numerical problems."
      ],
      "text/plain": [
       "<class 'statsmodels.iolib.summary.Summary'>\n",
       "\"\"\"\n",
       "                            OLS Regression Results                            \n",
       "==============================================================================\n",
       "Dep. Variable:                  price   R-squared:                       0.620\n",
       "Model:                            OLS   Adj. R-squared:                  0.620\n",
       "Method:                 Least Squares   F-statistic:                     3202.\n",
       "Date:                Thu, 17 Nov 2022   Prob (F-statistic):               0.00\n",
       "Time:                        11:55:08   Log-Likelihood:            -2.9715e+05\n",
       "No. Observations:               21613   AIC:                         5.943e+05\n",
       "Df Residuals:                   21601   BIC:                         5.944e+05\n",
       "Df Model:                          11                                         \n",
       "Covariance Type:            nonrobust                                         \n",
       "=================================================================================\n",
       "                    coef    std err          t      P>|t|      [0.025      0.975]\n",
       "---------------------------------------------------------------------------------\n",
       "Intercept      6.933e+06   1.36e+05     51.002      0.000    6.67e+06     7.2e+06\n",
       "bedrooms      -4.936e+04   2108.805    -23.406      0.000   -5.35e+04   -4.52e+04\n",
       "bathrooms       5.01e+04   3625.970     13.817      0.000     4.3e+04    5.72e+04\n",
       "sqft_living     195.1515      4.812     40.552      0.000     185.719     204.584\n",
       "sqft_lot          0.0111      0.054      0.207      0.836      -0.094       0.116\n",
       "floors         3.348e+04   3957.258      8.461      0.000    2.57e+04    4.12e+04\n",
       "condition      1.898e+04   2580.038      7.356      0.000    1.39e+04     2.4e+04\n",
       "grade          1.246e+05   2346.774     53.099      0.000     1.2e+05    1.29e+05\n",
       "sqft_above      -28.6643      4.678     -6.128      0.000     -37.833     -19.496\n",
       "yr_built      -3968.3906     69.774    -56.875      0.000   -4105.152   -3831.629\n",
       "sqft_living15    36.2656      3.735      9.709      0.000      28.944      43.587\n",
       "sqft_lot15       -0.5066      0.082     -6.172      0.000      -0.667      -0.346\n",
       "==============================================================================\n",
       "Omnibus:                    17771.672   Durbin-Watson:                   1.984\n",
       "Prob(Omnibus):                  0.000   Jarque-Bera (JB):          1362466.098\n",
       "Skew:                           3.467   Prob(JB):                         0.00\n",
       "Kurtosis:                      41.274   Cond. No.                     4.47e+06\n",
       "==============================================================================\n",
       "\n",
       "Notes:\n",
       "[1] Standard Errors assume that the covariance matrix of the errors is correctly specified.\n",
       "[2] The condition number is large, 4.47e+06. This might indicate that there are\n",
       "strong multicollinearity or other numerical problems.\n",
       "\"\"\""
      ]
     },
     "execution_count": 8,
     "metadata": {},
     "output_type": "execute_result"
    }
   ],
   "source": [
    "# - fitting the linear model to the data\n",
    "mlr = smf.ols(formula=formula, data=model_frame).fit()\n",
    "mlr.summary()"
   ]
  },
  {
   "cell_type": "code",
   "execution_count": 9,
   "id": "2076b1f8",
   "metadata": {},
   "outputs": [
    {
     "data": {
      "text/plain": [
       "0.6198708417378094"
      ]
     },
     "execution_count": 9,
     "metadata": {},
     "output_type": "execute_result"
    }
   ],
   "source": [
    "# - R^2 of the linear model\n",
    "mlr.rsquared"
   ]
  },
  {
   "cell_type": "code",
   "execution_count": 10,
   "id": "33da9ed8",
   "metadata": {},
   "outputs": [
    {
     "data": {
      "text/html": [
       "<div>\n",
       "<style scoped>\n",
       "    .dataframe tbody tr th:only-of-type {\n",
       "        vertical-align: middle;\n",
       "    }\n",
       "\n",
       "    .dataframe tbody tr th {\n",
       "        vertical-align: top;\n",
       "    }\n",
       "\n",
       "    .dataframe thead th {\n",
       "        text-align: right;\n",
       "    }\n",
       "</style>\n",
       "<table border=\"1\" class=\"dataframe\">\n",
       "  <thead>\n",
       "    <tr style=\"text-align: right;\">\n",
       "      <th></th>\n",
       "      <th>bedrooms</th>\n",
       "      <th>bathrooms</th>\n",
       "      <th>sqft_living</th>\n",
       "      <th>sqft_lot</th>\n",
       "      <th>floors</th>\n",
       "      <th>condition</th>\n",
       "      <th>grade</th>\n",
       "      <th>sqft_above</th>\n",
       "      <th>yr_built</th>\n",
       "      <th>sqft_living15</th>\n",
       "      <th>sqft_lot15</th>\n",
       "    </tr>\n",
       "  </thead>\n",
       "  <tbody>\n",
       "    <tr>\n",
       "      <th>0</th>\n",
       "      <td>1.621833</td>\n",
       "      <td>3.287936</td>\n",
       "      <td>8.236167</td>\n",
       "      <td>2.085978</td>\n",
       "      <td>1.925165</td>\n",
       "      <td>1.188449</td>\n",
       "      <td>3.208241</td>\n",
       "      <td>6.325912</td>\n",
       "      <td>1.770933</td>\n",
       "      <td>2.763124</td>\n",
       "      <td>2.117307</td>\n",
       "    </tr>\n",
       "  </tbody>\n",
       "</table>\n",
       "</div>"
      ],
      "text/plain": [
       "   bedrooms  bathrooms  sqft_living  sqft_lot    floors  condition     grade  \\\n",
       "0  1.621833   3.287936     8.236167  2.085978  1.925165   1.188449  3.208241   \n",
       "\n",
       "   sqft_above  yr_built  sqft_living15  sqft_lot15  \n",
       "0    6.325912  1.770933       2.763124    2.117307  "
      ]
     },
     "execution_count": 10,
     "metadata": {},
     "output_type": "execute_result"
    }
   ],
   "source": [
    "# - computing VIFs\n",
    "model_frame_predictors = sm.add_constant(model_frame[predictors])\n",
    "vifs = [variance_inflation_factor(model_frame_predictors.values, i) for i in range(1, len(predictors)+1)]\n",
    "vifs = np.array(vifs).reshape(1, -1)\n",
    "vifs\n",
    "pd.DataFrame(vifs, columns=predictors)"
   ]
  },
  {
   "cell_type": "markdown",
   "id": "6ec51a96",
   "metadata": {},
   "source": [
    "### Regularization of the model coefficients: Ridge (L2) Regularization"
   ]
  },
  {
   "cell_type": "markdown",
   "id": "ac7c1cc4",
   "metadata": {},
   "source": [
    "Now we are going to use scikit-learn to perform *Regularized* Multiple Linear Regression; we'll be using the Ridge Regression. \n",
    "\n",
    "The Ridge Regression model is obtained by minimizing the function\n",
    "\n",
    "$$MSE + \\alpha (L2)^2,$$\n",
    "\n",
    "where $MSE$ is the Mean Squarred Error of the 'ordinary' MLP \n",
    "\n",
    "$$\\hat{y} = \\beta_1x_1 + \\beta_2x_2 + \\cdots + \\beta_kx_k + n,$$\n",
    "\n",
    "and $(L2)^2$ is the squared $L2-$norm of MLP model parameters $\\beta_1,\\beta_2,\\ldots,\\beta_k$:\n",
    "\n",
    "$$(L2)^2 = \\beta_1^2 + \\beta_2^2 + \\cdots + \\beta_k^2,$$\n",
    "\n",
    "and hence the name L2 Regularization. $\\alpha$ is called *penalization (hyper)parameter*, and it's used to control the magnitude of models parameters; for $\\alpha = 0$ we recover ordinary MLR.\n",
    "\n"
   ]
  },
  {
   "cell_type": "code",
   "execution_count": 11,
   "id": "a7925b64",
   "metadata": {},
   "outputs": [],
   "source": [
    "from sklearn import linear_model"
   ]
  },
  {
   "cell_type": "code",
   "execution_count": 12,
   "id": "2ecef41f",
   "metadata": {},
   "outputs": [
    {
     "data": {
      "text/html": [
       "<div>\n",
       "<style scoped>\n",
       "    .dataframe tbody tr th:only-of-type {\n",
       "        vertical-align: middle;\n",
       "    }\n",
       "\n",
       "    .dataframe tbody tr th {\n",
       "        vertical-align: top;\n",
       "    }\n",
       "\n",
       "    .dataframe thead th {\n",
       "        text-align: right;\n",
       "    }\n",
       "</style>\n",
       "<table border=\"1\" class=\"dataframe\">\n",
       "  <thead>\n",
       "    <tr style=\"text-align: right;\">\n",
       "      <th></th>\n",
       "      <th>price</th>\n",
       "      <th>bedrooms</th>\n",
       "      <th>bathrooms</th>\n",
       "      <th>sqft_living</th>\n",
       "      <th>sqft_lot</th>\n",
       "      <th>floors</th>\n",
       "      <th>condition</th>\n",
       "      <th>grade</th>\n",
       "      <th>sqft_above</th>\n",
       "      <th>yr_built</th>\n",
       "      <th>sqft_living15</th>\n",
       "      <th>sqft_lot15</th>\n",
       "    </tr>\n",
       "  </thead>\n",
       "  <tbody>\n",
       "    <tr>\n",
       "      <th>0</th>\n",
       "      <td>221900.0</td>\n",
       "      <td>3</td>\n",
       "      <td>1.00</td>\n",
       "      <td>1180</td>\n",
       "      <td>5650</td>\n",
       "      <td>1.0</td>\n",
       "      <td>3</td>\n",
       "      <td>7</td>\n",
       "      <td>1180</td>\n",
       "      <td>1955</td>\n",
       "      <td>1340</td>\n",
       "      <td>5650</td>\n",
       "    </tr>\n",
       "    <tr>\n",
       "      <th>1</th>\n",
       "      <td>538000.0</td>\n",
       "      <td>3</td>\n",
       "      <td>2.25</td>\n",
       "      <td>2570</td>\n",
       "      <td>7242</td>\n",
       "      <td>2.0</td>\n",
       "      <td>3</td>\n",
       "      <td>7</td>\n",
       "      <td>2170</td>\n",
       "      <td>1951</td>\n",
       "      <td>1690</td>\n",
       "      <td>7639</td>\n",
       "    </tr>\n",
       "    <tr>\n",
       "      <th>2</th>\n",
       "      <td>180000.0</td>\n",
       "      <td>2</td>\n",
       "      <td>1.00</td>\n",
       "      <td>770</td>\n",
       "      <td>10000</td>\n",
       "      <td>1.0</td>\n",
       "      <td>3</td>\n",
       "      <td>6</td>\n",
       "      <td>770</td>\n",
       "      <td>1933</td>\n",
       "      <td>2720</td>\n",
       "      <td>8062</td>\n",
       "    </tr>\n",
       "    <tr>\n",
       "      <th>3</th>\n",
       "      <td>604000.0</td>\n",
       "      <td>4</td>\n",
       "      <td>3.00</td>\n",
       "      <td>1960</td>\n",
       "      <td>5000</td>\n",
       "      <td>1.0</td>\n",
       "      <td>5</td>\n",
       "      <td>7</td>\n",
       "      <td>1050</td>\n",
       "      <td>1965</td>\n",
       "      <td>1360</td>\n",
       "      <td>5000</td>\n",
       "    </tr>\n",
       "    <tr>\n",
       "      <th>4</th>\n",
       "      <td>510000.0</td>\n",
       "      <td>3</td>\n",
       "      <td>2.00</td>\n",
       "      <td>1680</td>\n",
       "      <td>8080</td>\n",
       "      <td>1.0</td>\n",
       "      <td>3</td>\n",
       "      <td>8</td>\n",
       "      <td>1680</td>\n",
       "      <td>1987</td>\n",
       "      <td>1800</td>\n",
       "      <td>7503</td>\n",
       "    </tr>\n",
       "  </tbody>\n",
       "</table>\n",
       "</div>"
      ],
      "text/plain": [
       "      price  bedrooms  bathrooms  sqft_living  sqft_lot  floors  condition  \\\n",
       "0  221900.0         3       1.00         1180      5650     1.0          3   \n",
       "1  538000.0         3       2.25         2570      7242     2.0          3   \n",
       "2  180000.0         2       1.00          770     10000     1.0          3   \n",
       "3  604000.0         4       3.00         1960      5000     1.0          5   \n",
       "4  510000.0         3       2.00         1680      8080     1.0          3   \n",
       "\n",
       "   grade  sqft_above  yr_built  sqft_living15  sqft_lot15  \n",
       "0      7        1180      1955           1340        5650  \n",
       "1      7        2170      1951           1690        7639  \n",
       "2      6         770      1933           2720        8062  \n",
       "3      7        1050      1965           1360        5000  \n",
       "4      8        1680      1987           1800        7503  "
      ]
     },
     "execution_count": 12,
     "metadata": {},
     "output_type": "execute_result"
    }
   ],
   "source": [
    "model_frame.head()"
   ]
  },
  {
   "cell_type": "code",
   "execution_count": 13,
   "id": "6b20b12a",
   "metadata": {},
   "outputs": [
    {
     "name": "stdout",
     "output_type": "stream",
     "text": [
      "<class 'pandas.core.frame.DataFrame'>\n",
      "RangeIndex: 21613 entries, 0 to 21612\n",
      "Data columns (total 12 columns):\n",
      " #   Column         Non-Null Count  Dtype  \n",
      "---  ------         --------------  -----  \n",
      " 0   price          21613 non-null  float64\n",
      " 1   bedrooms       21613 non-null  int64  \n",
      " 2   bathrooms      21613 non-null  float64\n",
      " 3   sqft_living    21613 non-null  int64  \n",
      " 4   sqft_lot       21613 non-null  int64  \n",
      " 5   floors         21613 non-null  float64\n",
      " 6   condition      21613 non-null  int64  \n",
      " 7   grade          21613 non-null  int64  \n",
      " 8   sqft_above     21613 non-null  int64  \n",
      " 9   yr_built       21613 non-null  int64  \n",
      " 10  sqft_living15  21613 non-null  int64  \n",
      " 11  sqft_lot15     21613 non-null  int64  \n",
      "dtypes: float64(3), int64(9)\n",
      "memory usage: 2.0 MB\n"
     ]
    }
   ],
   "source": [
    "# - checking if all the variables are numerical\n",
    "model_frame.info()"
   ]
  },
  {
   "cell_type": "code",
   "execution_count": 14,
   "id": "4af7c6b3",
   "metadata": {},
   "outputs": [],
   "source": [
    "# - feature matrix\n",
    "X = model_frame[predictors].values\n",
    "\n",
    "# - target vector\n",
    "y = model_frame['price'].values"
   ]
  },
  {
   "cell_type": "code",
   "execution_count": 15,
   "id": "a5e620a4",
   "metadata": {},
   "outputs": [
    {
     "data": {
      "text/html": [
       "<style>#sk-container-id-1 {color: black;background-color: white;}#sk-container-id-1 pre{padding: 0;}#sk-container-id-1 div.sk-toggleable {background-color: white;}#sk-container-id-1 label.sk-toggleable__label {cursor: pointer;display: block;width: 100%;margin-bottom: 0;padding: 0.3em;box-sizing: border-box;text-align: center;}#sk-container-id-1 label.sk-toggleable__label-arrow:before {content: \"▸\";float: left;margin-right: 0.25em;color: #696969;}#sk-container-id-1 label.sk-toggleable__label-arrow:hover:before {color: black;}#sk-container-id-1 div.sk-estimator:hover label.sk-toggleable__label-arrow:before {color: black;}#sk-container-id-1 div.sk-toggleable__content {max-height: 0;max-width: 0;overflow: hidden;text-align: left;background-color: #f0f8ff;}#sk-container-id-1 div.sk-toggleable__content pre {margin: 0.2em;color: black;border-radius: 0.25em;background-color: #f0f8ff;}#sk-container-id-1 input.sk-toggleable__control:checked~div.sk-toggleable__content {max-height: 200px;max-width: 100%;overflow: auto;}#sk-container-id-1 input.sk-toggleable__control:checked~label.sk-toggleable__label-arrow:before {content: \"▾\";}#sk-container-id-1 div.sk-estimator input.sk-toggleable__control:checked~label.sk-toggleable__label {background-color: #d4ebff;}#sk-container-id-1 div.sk-label input.sk-toggleable__control:checked~label.sk-toggleable__label {background-color: #d4ebff;}#sk-container-id-1 input.sk-hidden--visually {border: 0;clip: rect(1px 1px 1px 1px);clip: rect(1px, 1px, 1px, 1px);height: 1px;margin: -1px;overflow: hidden;padding: 0;position: absolute;width: 1px;}#sk-container-id-1 div.sk-estimator {font-family: monospace;background-color: #f0f8ff;border: 1px dotted black;border-radius: 0.25em;box-sizing: border-box;margin-bottom: 0.5em;}#sk-container-id-1 div.sk-estimator:hover {background-color: #d4ebff;}#sk-container-id-1 div.sk-parallel-item::after {content: \"\";width: 100%;border-bottom: 1px solid gray;flex-grow: 1;}#sk-container-id-1 div.sk-label:hover label.sk-toggleable__label {background-color: #d4ebff;}#sk-container-id-1 div.sk-serial::before {content: \"\";position: absolute;border-left: 1px solid gray;box-sizing: border-box;top: 0;bottom: 0;left: 50%;z-index: 0;}#sk-container-id-1 div.sk-serial {display: flex;flex-direction: column;align-items: center;background-color: white;padding-right: 0.2em;padding-left: 0.2em;position: relative;}#sk-container-id-1 div.sk-item {position: relative;z-index: 1;}#sk-container-id-1 div.sk-parallel {display: flex;align-items: stretch;justify-content: center;background-color: white;position: relative;}#sk-container-id-1 div.sk-item::before, #sk-container-id-1 div.sk-parallel-item::before {content: \"\";position: absolute;border-left: 1px solid gray;box-sizing: border-box;top: 0;bottom: 0;left: 50%;z-index: -1;}#sk-container-id-1 div.sk-parallel-item {display: flex;flex-direction: column;z-index: 1;position: relative;background-color: white;}#sk-container-id-1 div.sk-parallel-item:first-child::after {align-self: flex-end;width: 50%;}#sk-container-id-1 div.sk-parallel-item:last-child::after {align-self: flex-start;width: 50%;}#sk-container-id-1 div.sk-parallel-item:only-child::after {width: 0;}#sk-container-id-1 div.sk-dashed-wrapped {border: 1px dashed gray;margin: 0 0.4em 0.5em 0.4em;box-sizing: border-box;padding-bottom: 0.4em;background-color: white;}#sk-container-id-1 div.sk-label label {font-family: monospace;font-weight: bold;display: inline-block;line-height: 1.2em;}#sk-container-id-1 div.sk-label-container {text-align: center;}#sk-container-id-1 div.sk-container {/* jupyter's `normalize.less` sets `[hidden] { display: none; }` but bootstrap.min.css set `[hidden] { display: none !important; }` so we also need the `!important` here to be able to override the default hidden behavior on the sphinx rendered scikit-learn.org. See: https://github.com/scikit-learn/scikit-learn/issues/21755 */display: inline-block !important;position: relative;}#sk-container-id-1 div.sk-text-repr-fallback {display: none;}</style><div id=\"sk-container-id-1\" class=\"sk-top-container\"><div class=\"sk-text-repr-fallback\"><pre>Ridge(alpha=10000.0)</pre><b>In a Jupyter environment, please rerun this cell to show the HTML representation or trust the notebook. <br />On GitHub, the HTML representation is unable to render, please try loading this page with nbviewer.org.</b></div><div class=\"sk-container\" hidden><div class=\"sk-item\"><div class=\"sk-estimator sk-toggleable\"><input class=\"sk-toggleable__control sk-hidden--visually\" id=\"sk-estimator-id-1\" type=\"checkbox\" checked><label for=\"sk-estimator-id-1\" class=\"sk-toggleable__label sk-toggleable__label-arrow\">Ridge</label><div class=\"sk-toggleable__content\"><pre>Ridge(alpha=10000.0)</pre></div></div></div></div></div>"
      ],
      "text/plain": [
       "Ridge(alpha=10000.0)"
      ]
     },
     "execution_count": 15,
     "metadata": {},
     "output_type": "execute_result"
    }
   ],
   "source": [
    "### --- Fitting a Ridge MLR Regularized model on the given data, with the penalization parameter \\alpha = 10^4\n",
    "mlr_ridge = linear_model.Ridge(alpha=1e+4)\n",
    "mlr_ridge.fit(X, y)"
   ]
  },
  {
   "cell_type": "code",
   "execution_count": 16,
   "id": "735f4cb2",
   "metadata": {},
   "outputs": [
    {
     "data": {
      "text/plain": [
       "5945635.344976567"
      ]
     },
     "execution_count": 16,
     "metadata": {},
     "output_type": "execute_result"
    }
   ],
   "source": [
    "# - model intercept\n",
    "mlr_ridge.intercept_"
   ]
  },
  {
   "cell_type": "code",
   "execution_count": 17,
   "id": "8687247b",
   "metadata": {},
   "outputs": [
    {
     "data": {
      "text/plain": [
       "array([-2.91771401e+04,  1.81662857e+04,  2.26257901e+02,  1.41002993e-02,\n",
       "        1.59074953e+04,  7.12968872e+03,  6.53923517e+04, -5.50894014e+00,\n",
       "       -3.28129969e+03,  6.05780655e+01, -6.44587129e-01])"
      ]
     },
     "execution_count": 17,
     "metadata": {},
     "output_type": "execute_result"
    }
   ],
   "source": [
    "# - model coefficients; the order corresponds to the order of coefficients given by the statsmodel 'ordinary' MLR\n",
    "mlr_ridge.coef_"
   ]
  },
  {
   "cell_type": "code",
   "execution_count": 18,
   "id": "20bfdbe3",
   "metadata": {},
   "outputs": [
    {
     "data": {
      "text/plain": [
       "0.6013062798111166"
      ]
     },
     "execution_count": 18,
     "metadata": {},
     "output_type": "execute_result"
    }
   ],
   "source": [
    "# - R^2 score of the Ridge Regularization\n",
    "mlr_ridge.score(X, y)"
   ]
  },
  {
   "cell_type": "code",
   "execution_count": 19,
   "id": "d8142091",
   "metadata": {},
   "outputs": [],
   "source": [
    "### --- Varying the penalization parameter for the Ridge Regularized Model\n",
    "n_alphas = 200\n",
    "alphas = np.logspace(-2, 10, n_alphas)\n",
    "\n",
    "coefs = []\n",
    "scores = []\n",
    "mserrs = []\n",
    "l2_norms = []\n",
    "for a in alphas:\n",
    "    # - fitting a Ridge Regularization\n",
    "    ridge = linear_model.Ridge(alpha=a)\n",
    "    ridge.fit(X, y)\n",
    "    \n",
    "    # - R^2 score of a fitted Regularized Model\n",
    "    R2 = ridge.score(X, y)\n",
    "    \n",
    "    # - MSE of a model\n",
    "    mse = np.mean((y - ridge.predict(X))**2)\n",
    "    \n",
    "    # - squared L2 norm of model coefficients\n",
    "    l2 = np.linalg.norm(ridge.coef_, ord=2)**2\n",
    "    \n",
    "    coefs.append(ridge.coef_)\n",
    "    scores.append(R2)\n",
    "    mserrs.append(mse)\n",
    "    l2_norms.append(l2)"
   ]
  },
  {
   "cell_type": "code",
   "execution_count": 20,
   "id": "bcd6e7f8",
   "metadata": {},
   "outputs": [
    {
     "data": {
      "image/png": "[encoded data removed]",
      "text/plain": [
       "<Figure size 576x432 with 1 Axes>"
      ]
     },
     "metadata": {},
     "output_type": "display_data"
    }
   ],
   "source": [
    "### --- Plotting the dependence of model parameters vs. the penalization parameter\n",
    "ax = plt.gca()\n",
    "\n",
    "ax.plot(alphas, coefs)\n",
    "ax.set_xscale(\"log\")\n",
    "ax.set_xlim(ax.get_xlim()[::-1])  # reverse axis\n",
    "ax.axvline(x=1, c='r', ls='--') # red line, corresponding to \\alpha = 1\n",
    "ax.axvline(x=10000, c='g', ls='--') # green line, corresponding to \\alpha = 10^4\n",
    "plt.xlabel(\"alpha\")\n",
    "plt.ylabel(\"weights\")\n",
    "plt.title(\"Ridge coefficients as a function of the regularization\")\n",
    "plt.axis(\"tight\")\n",
    "plt.legend(predictors)\n",
    "plt.show()"
   ]
  },
  {
   "cell_type": "code",
   "execution_count": 21,
   "id": "7122b421",
   "metadata": {},
   "outputs": [
    {
     "data": {
      "image/png": "[encoded data removed]",
      "text/plain": [
       "<Figure size 1728x432 with 3 Axes>"
      ]
     },
     "metadata": {},
     "output_type": "display_data"
    }
   ],
   "source": [
    "### --- Plotting the dependance of various model metrics vs. the penalization hyperparameter\n",
    "ig, ax = plt.subplots(1, 3, figsize=(24, 6), sharex=True)\n",
    "\n",
    "\n",
    "# - squared L2-norm vs. \\alpha\n",
    "ax[0].plot(alphas, l2_norms)\n",
    "ax[0].set_xscale(\"log\")\n",
    "ax[0].set_xlim(ax[0].get_xlim()[::-1])  # reverse axis\n",
    "ax[0].axvline(x=1, c='r', ls='--') # red line\n",
    "ax[0].axvline(x=10000, c='g', ls='--') # green line\n",
    "ax[0].set_xlabel(\"alpha\")\n",
    "ax[0].set_ylabel(\"L2 norm$^2$\")\n",
    "ax[0].set_title(\"L2 norm$^2$ as a function of the regularization\")\n",
    "ax[0].axis(\"tight\")\n",
    "\n",
    "# - MSE vs. \\alpha\n",
    "ax[1].plot(alphas, mserrs)\n",
    "ax[1].set_xscale(\"log\")\n",
    "ax[1].axvline(x=1, c='r', ls='--') # red line\n",
    "ax[1].axvline(x=10000, c='g', ls='--') # green line\n",
    "ax[1].set_xlabel(\"alpha\")\n",
    "ax[1].set_ylabel(\"MSE\")\n",
    "ax[1].set_title(\"MSE as a function of the regularization\")\n",
    "ax[1].axis(\"tight\")\n",
    "\n",
    "# - R^2 vs. \\alpha\n",
    "ax[2].plot(alphas, scores)\n",
    "ax[2].set_xscale(\"log\")\n",
    "ax[2].axvline(x=1, c='r', ls='--') # red line\n",
    "ax[2].axvline(x=10000, c='g', ls='--') # green line\n",
    "ax[2].set_xlabel(\"alpha\")\n",
    "ax[2].set_ylabel(\"$R^2$\")\n",
    "ax[2].set_title(\"$R^2$ score as a function of the regularization\")\n",
    "ax[2].axis(\"tight\");"
   ]
  },
  {
   "cell_type": "markdown",
   "id": "673b9fcb",
   "metadata": {},
   "source": [
    "We see that the best model is obtained with small penalization hyperparameter, i.e. with big model parameters values."
   ]
  },
  {
   "cell_type": "markdown",
   "id": "841fa7ab",
   "metadata": {},
   "source": [
    "### Cross-validation: The search for the best penalization hyperparameter "
   ]
  },
  {
   "cell_type": "markdown",
   "id": "cf90dfbe",
   "metadata": {},
   "source": [
    "In order to find the most optimal penalization hyperparameter we may use *cross-validation* across the 'grid' of hyperparameters, fitting a model for every $\\alpha$ and then choosing the best perfoming-one (i.e. with the lowest MSE). "
   ]
  },
  {
   "cell_type": "code",
   "execution_count": 22,
   "id": "1a1a31d7",
   "metadata": {},
   "outputs": [
    {
     "data": {
      "text/html": [
       "<style>#sk-container-id-2 {color: black;background-color: white;}#sk-container-id-2 pre{padding: 0;}#sk-container-id-2 div.sk-toggleable {background-color: white;}#sk-container-id-2 label.sk-toggleable__label {cursor: pointer;display: block;width: 100%;margin-bottom: 0;padding: 0.3em;box-sizing: border-box;text-align: center;}#sk-container-id-2 label.sk-toggleable__label-arrow:before {content: \"▸\";float: left;margin-right: 0.25em;color: #696969;}#sk-container-id-2 label.sk-toggleable__label-arrow:hover:before {color: black;}#sk-container-id-2 div.sk-estimator:hover label.sk-toggleable__label-arrow:before {color: black;}#sk-container-id-2 div.sk-toggleable__content {max-height: 0;max-width: 0;overflow: hidden;text-align: left;background-color: #f0f8ff;}#sk-container-id-2 div.sk-toggleable__content pre {margin: 0.2em;color: black;border-radius: 0.25em;background-color: #f0f8ff;}#sk-container-id-2 input.sk-toggleable__control:checked~div.sk-toggleable__content {max-height: 200px;max-width: 100%;overflow: auto;}#sk-container-id-2 input.sk-toggleable__control:checked~label.sk-toggleable__label-arrow:before {content: \"▾\";}#sk-container-id-2 div.sk-estimator input.sk-toggleable__control:checked~label.sk-toggleable__label {background-color: #d4ebff;}#sk-container-id-2 div.sk-label input.sk-toggleable__control:checked~label.sk-toggleable__label {background-color: #d4ebff;}#sk-container-id-2 input.sk-hidden--visually {border: 0;clip: rect(1px 1px 1px 1px);clip: rect(1px, 1px, 1px, 1px);height: 1px;margin: -1px;overflow: hidden;padding: 0;position: absolute;width: 1px;}#sk-container-id-2 div.sk-estimator {font-family: monospace;background-color: #f0f8ff;border: 1px dotted black;border-radius: 0.25em;box-sizing: border-box;margin-bottom: 0.5em;}#sk-container-id-2 div.sk-estimator:hover {background-color: #d4ebff;}#sk-container-id-2 div.sk-parallel-item::after {content: \"\";width: 100%;border-bottom: 1px solid gray;flex-grow: 1;}#sk-container-id-2 div.sk-label:hover label.sk-toggleable__label {background-color: #d4ebff;}#sk-container-id-2 div.sk-serial::before {content: \"\";position: absolute;border-left: 1px solid gray;box-sizing: border-box;top: 0;bottom: 0;left: 50%;z-index: 0;}#sk-container-id-2 div.sk-serial {display: flex;flex-direction: column;align-items: center;background-color: white;padding-right: 0.2em;padding-left: 0.2em;position: relative;}#sk-container-id-2 div.sk-item {position: relative;z-index: 1;}#sk-container-id-2 div.sk-parallel {display: flex;align-items: stretch;justify-content: center;background-color: white;position: relative;}#sk-container-id-2 div.sk-item::before, #sk-container-id-2 div.sk-parallel-item::before {content: \"\";position: absolute;border-left: 1px solid gray;box-sizing: border-box;top: 0;bottom: 0;left: 50%;z-index: -1;}#sk-container-id-2 div.sk-parallel-item {display: flex;flex-direction: column;z-index: 1;position: relative;background-color: white;}#sk-container-id-2 div.sk-parallel-item:first-child::after {align-self: flex-end;width: 50%;}#sk-container-id-2 div.sk-parallel-item:last-child::after {align-self: flex-start;width: 50%;}#sk-container-id-2 div.sk-parallel-item:only-child::after {width: 0;}#sk-container-id-2 div.sk-dashed-wrapped {border: 1px dashed gray;margin: 0 0.4em 0.5em 0.4em;box-sizing: border-box;padding-bottom: 0.4em;background-color: white;}#sk-container-id-2 div.sk-label label {font-family: monospace;font-weight: bold;display: inline-block;line-height: 1.2em;}#sk-container-id-2 div.sk-label-container {text-align: center;}#sk-container-id-2 div.sk-container {/* jupyter's `normalize.less` sets `[hidden] { display: none; }` but bootstrap.min.css set `[hidden] { display: none !important; }` so we also need the `!important` here to be able to override the default hidden behavior on the sphinx rendered scikit-learn.org. See: https://github.com/scikit-learn/scikit-learn/issues/21755 */display: inline-block !important;position: relative;}#sk-container-id-2 div.sk-text-repr-fallback {display: none;}</style><div id=\"sk-container-id-2\" class=\"sk-top-container\"><div class=\"sk-text-repr-fallback\"><pre>RidgeCV(alphas=array([1.00000000e-02, 1.14895100e-02, 1.32008840e-02, 1.51671689e-02,\n",
       "       1.74263339e-02, 2.00220037e-02, 2.30043012e-02, 2.64308149e-02,\n",
       "       3.03677112e-02, 3.48910121e-02, 4.00880633e-02, 4.60592204e-02,\n",
       "       5.29197874e-02, 6.08022426e-02, 6.98587975e-02, 8.02643352e-02,\n",
       "       9.22197882e-02, 1.05956018e-01, 1.21738273e-01, 1.39871310e-01,\n",
       "       1.60705282e-01, 1.84642494e-0...\n",
       "       4.10265811e+08, 4.71375313e+08, 5.41587138e+08, 6.22257084e+08,\n",
       "       7.14942899e+08, 8.21434358e+08, 9.43787828e+08, 1.08436597e+09,\n",
       "       1.24588336e+09, 1.43145894e+09, 1.64467618e+09, 1.88965234e+09,\n",
       "       2.17111795e+09, 2.49450814e+09, 2.86606762e+09, 3.29297126e+09,\n",
       "       3.78346262e+09, 4.34701316e+09, 4.99450512e+09, 5.73844165e+09,\n",
       "       6.59318827e+09, 7.57525026e+09, 8.70359136e+09, 1.00000000e+10]))</pre><b>In a Jupyter environment, please rerun this cell to show the HTML representation or trust the notebook. <br />On GitHub, the HTML representation is unable to render, please try loading this page with nbviewer.org.</b></div><div class=\"sk-container\" hidden><div class=\"sk-item\"><div class=\"sk-estimator sk-toggleable\"><input class=\"sk-toggleable__control sk-hidden--visually\" id=\"sk-estimator-id-2\" type=\"checkbox\" checked><label for=\"sk-estimator-id-2\" class=\"sk-toggleable__label sk-toggleable__label-arrow\">RidgeCV</label><div class=\"sk-toggleable__content\"><pre>RidgeCV(alphas=array([1.00000000e-02, 1.14895100e-02, 1.32008840e-02, 1.51671689e-02,\n",
       "       1.74263339e-02, 2.00220037e-02, 2.30043012e-02, 2.64308149e-02,\n",
       "       3.03677112e-02, 3.48910121e-02, 4.00880633e-02, 4.60592204e-02,\n",
       "       5.29197874e-02, 6.08022426e-02, 6.98587975e-02, 8.02643352e-02,\n",
       "       9.22197882e-02, 1.05956018e-01, 1.21738273e-01, 1.39871310e-01,\n",
       "       1.60705282e-01, 1.84642494e-0...\n",
       "       4.10265811e+08, 4.71375313e+08, 5.41587138e+08, 6.22257084e+08,\n",
       "       7.14942899e+08, 8.21434358e+08, 9.43787828e+08, 1.08436597e+09,\n",
       "       1.24588336e+09, 1.43145894e+09, 1.64467618e+09, 1.88965234e+09,\n",
       "       2.17111795e+09, 2.49450814e+09, 2.86606762e+09, 3.29297126e+09,\n",
       "       3.78346262e+09, 4.34701316e+09, 4.99450512e+09, 5.73844165e+09,\n",
       "       6.59318827e+09, 7.57525026e+09, 8.70359136e+09, 1.00000000e+10]))</pre></div></div></div></div></div>"
      ],
      "text/plain": [
       "RidgeCV(alphas=array([1.00000000e-02, 1.14895100e-02, 1.32008840e-02, 1.51671689e-02,\n",
       "       1.74263339e-02, 2.00220037e-02, 2.30043012e-02, 2.64308149e-02,\n",
       "       3.03677112e-02, 3.48910121e-02, 4.00880633e-02, 4.60592204e-02,\n",
       "       5.29197874e-02, 6.08022426e-02, 6.98587975e-02, 8.02643352e-02,\n",
       "       9.22197882e-02, 1.05956018e-01, 1.21738273e-01, 1.39871310e-01,\n",
       "       1.60705282e-01, 1.84642494e-0...\n",
       "       4.10265811e+08, 4.71375313e+08, 5.41587138e+08, 6.22257084e+08,\n",
       "       7.14942899e+08, 8.21434358e+08, 9.43787828e+08, 1.08436597e+09,\n",
       "       1.24588336e+09, 1.43145894e+09, 1.64467618e+09, 1.88965234e+09,\n",
       "       2.17111795e+09, 2.49450814e+09, 2.86606762e+09, 3.29297126e+09,\n",
       "       3.78346262e+09, 4.34701316e+09, 4.99450512e+09, 5.73844165e+09,\n",
       "       6.59318827e+09, 7.57525026e+09, 8.70359136e+09, 1.00000000e+10]))"
      ]
     },
     "execution_count": 22,
     "metadata": {},
     "output_type": "execute_result"
    }
   ],
   "source": [
    "### --- Performing the cross validation across all the given values of \\alpha\n",
    "ridgeCV = linear_model.RidgeCV(alphas=alphas)\n",
    "ridgeCV.fit(X, y)"
   ]
  },
  {
   "cell_type": "code",
   "execution_count": 23,
   "id": "aeb899a3",
   "metadata": {},
   "outputs": [
    {
     "data": {
      "text/plain": [
       "62.94988990221888"
      ]
     },
     "execution_count": 23,
     "metadata": {},
     "output_type": "execute_result"
    }
   ],
   "source": [
    "# - penalization for the best model\n",
    "ridgeCV.alpha_"
   ]
  },
  {
   "cell_type": "code",
   "execution_count": 24,
   "id": "9236b786",
   "metadata": {},
   "outputs": [
    {
     "data": {
      "text/plain": [
       "6918844.570352528"
      ]
     },
     "execution_count": 24,
     "metadata": {},
     "output_type": "execute_result"
    }
   ],
   "source": [
    "# - intercept of the best model\n",
    "ridgeCV.intercept_"
   ]
  },
  {
   "cell_type": "code",
   "execution_count": 25,
   "id": "fcf4b92a",
   "metadata": {},
   "outputs": [
    {
     "data": {
      "text/plain": [
       "array([-4.91249314e+04,  4.95040723e+04,  1.95665644e+02,  1.15399868e-02,\n",
       "        3.32759385e+04,  1.87993883e+04,  1.23919064e+05, -2.84158413e+01,\n",
       "       -3.95885184e+03,  3.65365654e+01, -5.08328697e-01])"
      ]
     },
     "execution_count": 25,
     "metadata": {},
     "output_type": "execute_result"
    }
   ],
   "source": [
    "# - coefficients of the best model\n",
    "ridgeCV.coef_"
   ]
  },
  {
   "cell_type": "code",
   "execution_count": 26,
   "id": "665612f7",
   "metadata": {},
   "outputs": [
    {
     "data": {
      "text/plain": [
       "0.6198678785012652"
      ]
     },
     "execution_count": 26,
     "metadata": {},
     "output_type": "execute_result"
    }
   ],
   "source": [
    "# - R^2 score of the best model\n",
    "ridgeCV.score(X, y)"
   ]
  },
  {
   "cell_type": "code",
   "execution_count": 27,
   "id": "40d6385a",
   "metadata": {},
   "outputs": [
    {
     "data": {
      "text/plain": [
       "0.6198708417378094"
      ]
     },
     "execution_count": 27,
     "metadata": {},
     "output_type": "execute_result"
    }
   ],
   "source": [
    "# - ordinary MLR still performs a bit better (difference is of the order of 10^(-5))\n",
    "# - \\alpha = 0 was not included in our grid of \\alphas! \n",
    "mlr.rsquared"
   ]
  },
  {
   "cell_type": "markdown",
   "id": "03660fef",
   "metadata": {},
   "source": [
    "## Task 1\n",
    "\n",
    "### LASSO (L1) Regularization"
   ]
  },
  {
   "cell_type": "markdown",
   "id": "d801241b",
   "metadata": {},
   "source": [
    "*LASSO* is another way to regularize MLR model. It's obtained by minimizing the function\n",
    "\n",
    "$$\\frac{1}{2}MSE + \\alpha L1,$$\n",
    "\n",
    "where $MSE$ is Mean Squared Error of the ordinary MLR and $L1$ is $L1-$norm of its coeffitents given by\n",
    "\n",
    "$$L1 = |\\beta_1| + |\\beta_2| + \\cdots + |\\beta_k|,$$\n",
    "\n",
    "and hence the name $L1$ Regularization. $\\alpha$ is, of course, penalization hyperparameter. "
   ]
  },
  {
   "cell_type": "markdown",
   "id": "16322f5a",
   "metadata": {},
   "source": []
  },
  {
   "cell_type": "markdown",
   "id": "6d6cd212",
   "metadata": {},
   "source": [
    "\n",
    "\n",
    "Both Ridge and LASSO Regularizations are a part of a more general *Elastic-net* Regularization, obtaned by minimizing the function \n",
    "\n",
    "$$\\frac{1}{2}MSE + \\alpha\\Big(\\rho L1 + \\frac{1 - \\rho}{2}(L2)^2\\Big),$$\n",
    "\n",
    "where $\\rho\\in[0,1]$ is yet another hyper parameter. For $\\rho = 0$ one recovers Ridge Regularization, and for $\\rho = 1$ LASSO Regularization."
   ]
  },
  {
   "cell_type": "code",
   "execution_count": null,
   "id": "1ae2b46e",
   "metadata": {},
   "outputs": [],
   "source": []
  },
  {
   "cell_type": "markdown",
   "id": "c72f59be",
   "metadata": {},
   "source": [
    "Your task here is to perform a similar analysis using LASSO Regularization as the one with Ridge Regularization above, using `linear_model.Lasso` and `linear_model.LassoCV` from scikit-learn."
   ]
  },
  {
   "cell_type": "code",
   "execution_count": 28,
   "id": "28adffad",
   "metadata": {},
   "outputs": [],
   "source": [
    "### --- Varying the penalization parameter for the LASSO Regularized Model\n",
    "n_alphas = 200\n",
    "alphas = np.logspace(-2, 10, n_alphas)\n",
    "\n",
    "coefs = []\n",
    "scores = []\n",
    "mserrs = []\n",
    "l1_norms = []\n",
    "for a in alphas:\n",
    "    # - fitting a LASSO Regularization\n",
    "    lasso = linear_model.Lasso(alpha=a)\n",
    "    lasso.fit(X, y)\n",
    "    \n",
    "    # - R^2 score of a fitted Regularized Model\n",
    "    R2 = lasso.score(X, y)\n",
    "    \n",
    "    # - MSE of a model\n",
    "    mse = np.mean((y - lasso.predict(X))**2)\n",
    "    \n",
    "    # - L1 norm of model coefficients\n",
    "    l1 = np.linalg.norm(lasso.coef_, ord=1)\n",
    "    \n",
    "    coefs.append(lasso.coef_)\n",
    "    scores.append(R2)\n",
    "    mserrs.append(mse)\n",
    "    l1_norms.append(l1)"
   ]
  },
  {
   "cell_type": "code",
   "execution_count": 29,
   "id": "d038392e",
   "metadata": {},
   "outputs": [
    {
     "data": {
      "image/png": "[encoded data removed]",
      "text/plain": [
       "<Figure size 576x432 with 1 Axes>"
      ]
     },
     "metadata": {},
     "output_type": "display_data"
    }
   ],
   "source": [
    "### --- Plotting the dependence of model parameters vs. the penalization parameter\n",
    "ax = plt.gca()\n",
    "\n",
    "ax.plot(alphas, coefs)\n",
    "ax.set_xscale(\"log\")\n",
    "ax.set_xlim(ax.get_xlim()[::-1])  # reverse axis, \n",
    "ax.axvline(x=1, c='r', ls='--') # red line, corresponding to \\alpha = 1\n",
    "plt.xlabel(\"alpha\")\n",
    "plt.ylabel(\"weights\")\n",
    "plt.title(\"LASSO coefficients as a function of the regularization\")\n",
    "plt.axis(\"tight\")\n",
    "plt.legend(predictors)\n",
    "plt.show()"
   ]
  },
  {
   "cell_type": "code",
   "execution_count": 30,
   "id": "18eb95d1",
   "metadata": {},
   "outputs": [
    {
     "data": {
      "image/png": "[encoded data removed]",
      "text/plain": [
       "<Figure size 1728x432 with 3 Axes>"
      ]
     },
     "metadata": {},
     "output_type": "display_data"
    }
   ],
   "source": [
    "### --- Plotting the dependance of various model metrics vs. the penalization hyperparameter\n",
    "ig, ax = plt.subplots(1, 3, figsize=(24, 6), sharex=True)\n",
    "\n",
    "# - L1-norm vs. \\alpha\n",
    "ax[0].plot(alphas, l1_norms)\n",
    "ax[0].set_xscale(\"log\")\n",
    "ax[0].set_xlim(ax[0].get_xlim()[::-1])  # reverse axis\n",
    "ax[0].axvline(x=1, c='r', ls='--') # red line\n",
    "ax[0].set_xlabel(\"alpha\")\n",
    "ax[0].set_ylabel(\"L1 norm\")\n",
    "ax[0].set_title(\"L1 norm as a function of the regularization\")\n",
    "ax[0].axis(\"tight\")\n",
    "\n",
    "# - MSE vs. \\alpha\n",
    "ax[1].plot(alphas, mserrs)\n",
    "ax[1].set_xscale(\"log\")\n",
    "ax[1].axvline(x=1, c='r', ls='--') # red line\n",
    "ax[1].set_xlabel(\"alpha\")\n",
    "ax[1].set_ylabel(\"MSE\")\n",
    "ax[1].set_title(\"MSE as a function of the regularization\")\n",
    "ax[1].axis(\"tight\")\n",
    "\n",
    "\n",
    "# - R^2 vs. \\alpha\n",
    "ax[2].plot(alphas, scores)\n",
    "ax[2].set_xscale(\"log\")\n",
    "ax[2].axvline(x=1, c='r', ls='--') # red line\n",
    "ax[2].set_xlabel(\"alpha\")\n",
    "ax[2].set_ylabel(\"$R^2$\")\n",
    "ax[2].set_title(\"$R^2$ score as a function of the regularization\")\n",
    "ax[2].axis(\"tight\");"
   ]
  },
  {
   "cell_type": "markdown",
   "id": "2890cf16",
   "metadata": {},
   "source": [
    "We see that the best model is obtained with small penalization hyperparameter, i.e. with big model parameters values."
   ]
  },
  {
   "cell_type": "markdown",
   "id": "cb042372",
   "metadata": {},
   "source": [
    "### Cross-validation"
   ]
  },
  {
   "cell_type": "code",
   "execution_count": 31,
   "id": "04e89b4a",
   "metadata": {},
   "outputs": [
    {
     "data": {
      "text/html": [
       "<style>#sk-container-id-3 {color: black;background-color: white;}#sk-container-id-3 pre{padding: 0;}#sk-container-id-3 div.sk-toggleable {background-color: white;}#sk-container-id-3 label.sk-toggleable__label {cursor: pointer;display: block;width: 100%;margin-bottom: 0;padding: 0.3em;box-sizing: border-box;text-align: center;}#sk-container-id-3 label.sk-toggleable__label-arrow:before {content: \"▸\";float: left;margin-right: 0.25em;color: #696969;}#sk-container-id-3 label.sk-toggleable__label-arrow:hover:before {color: black;}#sk-container-id-3 div.sk-estimator:hover label.sk-toggleable__label-arrow:before {color: black;}#sk-container-id-3 div.sk-toggleable__content {max-height: 0;max-width: 0;overflow: hidden;text-align: left;background-color: #f0f8ff;}#sk-container-id-3 div.sk-toggleable__content pre {margin: 0.2em;color: black;border-radius: 0.25em;background-color: #f0f8ff;}#sk-container-id-3 input.sk-toggleable__control:checked~div.sk-toggleable__content {max-height: 200px;max-width: 100%;overflow: auto;}#sk-container-id-3 input.sk-toggleable__control:checked~label.sk-toggleable__label-arrow:before {content: \"▾\";}#sk-container-id-3 div.sk-estimator input.sk-toggleable__control:checked~label.sk-toggleable__label {background-color: #d4ebff;}#sk-container-id-3 div.sk-label input.sk-toggleable__control:checked~label.sk-toggleable__label {background-color: #d4ebff;}#sk-container-id-3 input.sk-hidden--visually {border: 0;clip: rect(1px 1px 1px 1px);clip: rect(1px, 1px, 1px, 1px);height: 1px;margin: -1px;overflow: hidden;padding: 0;position: absolute;width: 1px;}#sk-container-id-3 div.sk-estimator {font-family: monospace;background-color: #f0f8ff;border: 1px dotted black;border-radius: 0.25em;box-sizing: border-box;margin-bottom: 0.5em;}#sk-container-id-3 div.sk-estimator:hover {background-color: #d4ebff;}#sk-container-id-3 div.sk-parallel-item::after {content: \"\";width: 100%;border-bottom: 1px solid gray;flex-grow: 1;}#sk-container-id-3 div.sk-label:hover label.sk-toggleable__label {background-color: #d4ebff;}#sk-container-id-3 div.sk-serial::before {content: \"\";position: absolute;border-left: 1px solid gray;box-sizing: border-box;top: 0;bottom: 0;left: 50%;z-index: 0;}#sk-container-id-3 div.sk-serial {display: flex;flex-direction: column;align-items: center;background-color: white;padding-right: 0.2em;padding-left: 0.2em;position: relative;}#sk-container-id-3 div.sk-item {position: relative;z-index: 1;}#sk-container-id-3 div.sk-parallel {display: flex;align-items: stretch;justify-content: center;background-color: white;position: relative;}#sk-container-id-3 div.sk-item::before, #sk-container-id-3 div.sk-parallel-item::before {content: \"\";position: absolute;border-left: 1px solid gray;box-sizing: border-box;top: 0;bottom: 0;left: 50%;z-index: -1;}#sk-container-id-3 div.sk-parallel-item {display: flex;flex-direction: column;z-index: 1;position: relative;background-color: white;}#sk-container-id-3 div.sk-parallel-item:first-child::after {align-self: flex-end;width: 50%;}#sk-container-id-3 div.sk-parallel-item:last-child::after {align-self: flex-start;width: 50%;}#sk-container-id-3 div.sk-parallel-item:only-child::after {width: 0;}#sk-container-id-3 div.sk-dashed-wrapped {border: 1px dashed gray;margin: 0 0.4em 0.5em 0.4em;box-sizing: border-box;padding-bottom: 0.4em;background-color: white;}#sk-container-id-3 div.sk-label label {font-family: monospace;font-weight: bold;display: inline-block;line-height: 1.2em;}#sk-container-id-3 div.sk-label-container {text-align: center;}#sk-container-id-3 div.sk-container {/* jupyter's `normalize.less` sets `[hidden] { display: none; }` but bootstrap.min.css set `[hidden] { display: none !important; }` so we also need the `!important` here to be able to override the default hidden behavior on the sphinx rendered scikit-learn.org. See: https://github.com/scikit-learn/scikit-learn/issues/21755 */display: inline-block !important;position: relative;}#sk-container-id-3 div.sk-text-repr-fallback {display: none;}</style><div id=\"sk-container-id-3\" class=\"sk-top-container\"><div class=\"sk-text-repr-fallback\"><pre>LassoCV(alphas=array([1.00000000e-02, 1.14895100e-02, 1.32008840e-02, 1.51671689e-02,\n",
       "       1.74263339e-02, 2.00220037e-02, 2.30043012e-02, 2.64308149e-02,\n",
       "       3.03677112e-02, 3.48910121e-02, 4.00880633e-02, 4.60592204e-02,\n",
       "       5.29197874e-02, 6.08022426e-02, 6.98587975e-02, 8.02643352e-02,\n",
       "       9.22197882e-02, 1.05956018e-01, 1.21738273e-01, 1.39871310e-01,\n",
       "       1.60705282e-01, 1.84642494e-0...\n",
       "       4.10265811e+08, 4.71375313e+08, 5.41587138e+08, 6.22257084e+08,\n",
       "       7.14942899e+08, 8.21434358e+08, 9.43787828e+08, 1.08436597e+09,\n",
       "       1.24588336e+09, 1.43145894e+09, 1.64467618e+09, 1.88965234e+09,\n",
       "       2.17111795e+09, 2.49450814e+09, 2.86606762e+09, 3.29297126e+09,\n",
       "       3.78346262e+09, 4.34701316e+09, 4.99450512e+09, 5.73844165e+09,\n",
       "       6.59318827e+09, 7.57525026e+09, 8.70359136e+09, 1.00000000e+10]))</pre><b>In a Jupyter environment, please rerun this cell to show the HTML representation or trust the notebook. <br />On GitHub, the HTML representation is unable to render, please try loading this page with nbviewer.org.</b></div><div class=\"sk-container\" hidden><div class=\"sk-item\"><div class=\"sk-estimator sk-toggleable\"><input class=\"sk-toggleable__control sk-hidden--visually\" id=\"sk-estimator-id-3\" type=\"checkbox\" checked><label for=\"sk-estimator-id-3\" class=\"sk-toggleable__label sk-toggleable__label-arrow\">LassoCV</label><div class=\"sk-toggleable__content\"><pre>LassoCV(alphas=array([1.00000000e-02, 1.14895100e-02, 1.32008840e-02, 1.51671689e-02,\n",
       "       1.74263339e-02, 2.00220037e-02, 2.30043012e-02, 2.64308149e-02,\n",
       "       3.03677112e-02, 3.48910121e-02, 4.00880633e-02, 4.60592204e-02,\n",
       "       5.29197874e-02, 6.08022426e-02, 6.98587975e-02, 8.02643352e-02,\n",
       "       9.22197882e-02, 1.05956018e-01, 1.21738273e-01, 1.39871310e-01,\n",
       "       1.60705282e-01, 1.84642494e-0...\n",
       "       4.10265811e+08, 4.71375313e+08, 5.41587138e+08, 6.22257084e+08,\n",
       "       7.14942899e+08, 8.21434358e+08, 9.43787828e+08, 1.08436597e+09,\n",
       "       1.24588336e+09, 1.43145894e+09, 1.64467618e+09, 1.88965234e+09,\n",
       "       2.17111795e+09, 2.49450814e+09, 2.86606762e+09, 3.29297126e+09,\n",
       "       3.78346262e+09, 4.34701316e+09, 4.99450512e+09, 5.73844165e+09,\n",
       "       6.59318827e+09, 7.57525026e+09, 8.70359136e+09, 1.00000000e+10]))</pre></div></div></div></div></div>"
      ],
      "text/plain": [
       "LassoCV(alphas=array([1.00000000e-02, 1.14895100e-02, 1.32008840e-02, 1.51671689e-02,\n",
       "       1.74263339e-02, 2.00220037e-02, 2.30043012e-02, 2.64308149e-02,\n",
       "       3.03677112e-02, 3.48910121e-02, 4.00880633e-02, 4.60592204e-02,\n",
       "       5.29197874e-02, 6.08022426e-02, 6.98587975e-02, 8.02643352e-02,\n",
       "       9.22197882e-02, 1.05956018e-01, 1.21738273e-01, 1.39871310e-01,\n",
       "       1.60705282e-01, 1.84642494e-0...\n",
       "       4.10265811e+08, 4.71375313e+08, 5.41587138e+08, 6.22257084e+08,\n",
       "       7.14942899e+08, 8.21434358e+08, 9.43787828e+08, 1.08436597e+09,\n",
       "       1.24588336e+09, 1.43145894e+09, 1.64467618e+09, 1.88965234e+09,\n",
       "       2.17111795e+09, 2.49450814e+09, 2.86606762e+09, 3.29297126e+09,\n",
       "       3.78346262e+09, 4.34701316e+09, 4.99450512e+09, 5.73844165e+09,\n",
       "       6.59318827e+09, 7.57525026e+09, 8.70359136e+09, 1.00000000e+10]))"
      ]
     },
     "execution_count": 31,
     "metadata": {},
     "output_type": "execute_result"
    }
   ],
   "source": [
    "### --- Performing the cross validation across all the given values of \\alpha\n",
    "lassoCV = linear_model.LassoCV(alphas=alphas)\n",
    "lassoCV.fit(X, y)"
   ]
  },
  {
   "cell_type": "code",
   "execution_count": 32,
   "id": "ca375954",
   "metadata": {},
   "outputs": [
    {
     "data": {
      "text/plain": [
       "0.01"
      ]
     },
     "execution_count": 32,
     "metadata": {},
     "output_type": "execute_result"
    }
   ],
   "source": [
    "# - penalization for the best model\n",
    "lassoCV.alpha_"
   ]
  },
  {
   "cell_type": "code",
   "execution_count": 33,
   "id": "978bb01b",
   "metadata": {},
   "outputs": [
    {
     "data": {
      "text/plain": [
       "6932999.837679353"
      ]
     },
     "execution_count": 33,
     "metadata": {},
     "output_type": "execute_result"
    }
   ],
   "source": [
    "# - intercept of the best model\n",
    "lassoCV.intercept_"
   ]
  },
  {
   "cell_type": "code",
   "execution_count": 34,
   "id": "7f4fad9f",
   "metadata": {},
   "outputs": [
    {
     "data": {
      "text/plain": [
       "array([-4.93596460e+04,  5.00988748e+04,  1.95151515e+02,  1.11092061e-02,\n",
       "        3.34811372e+04,  1.89775169e+04,  1.24611278e+05, -2.86642652e+01,\n",
       "       -3.96839013e+03,  3.62655586e+01, -5.06572395e-01])"
      ]
     },
     "execution_count": 34,
     "metadata": {},
     "output_type": "execute_result"
    }
   ],
   "source": [
    "# - coefficients of the best model\n",
    "lassoCV.coef_"
   ]
  },
  {
   "cell_type": "code",
   "execution_count": 35,
   "id": "1e95e63d",
   "metadata": {},
   "outputs": [
    {
     "data": {
      "text/plain": [
       "0.6198708417377982"
      ]
     },
     "execution_count": 35,
     "metadata": {},
     "output_type": "execute_result"
    }
   ],
   "source": [
    "# - R^2 score of the best model\n",
    "lassoCV.score(X, y)"
   ]
  },
  {
   "cell_type": "code",
   "execution_count": 36,
   "id": "640bf822",
   "metadata": {},
   "outputs": [
    {
     "data": {
      "text/plain": [
       "0.6198708417378094"
      ]
     },
     "execution_count": 36,
     "metadata": {},
     "output_type": "execute_result"
    }
   ],
   "source": [
    "# - same performance as MLR model\n",
    "mlr.rsquared"
   ]
  },
  {
   "cell_type": "markdown",
   "id": "cd242a7e",
   "metadata": {},
   "source": [
    "Goran S. Milovanović & Aleksandar Cvetković\n",
    "\n",
    "DataKolektiv, 2022/23.\n",
    "\n",
    "[hello@datakolektiv.com](mailto:goran.milovanovic@datakolektiv.com)\n",
    "\n",
    "![](../img/DK_Logo_100.png)"
   ]
  },
  {
   "cell_type": "markdown",
   "id": "2b7796a1",
   "metadata": {},
   "source": [
    "<font size=1>License: <a href=\"https://www.gnu.org/licenses/gpl-3.0.txt\">GPLv3</a> This Notebook is free software: you can redistribute it and/or modify it under the terms of the GNU General Public License as published by the Free Software Foundation, either version 3 of the License, or (at your option) any later version. This Notebook is distributed in the hope that it will be useful, but WITHOUT ANY WARRANTY; without even the implied warranty of MERCHANTABILITY or FITNESS FOR A PARTICULAR PURPOSE. See the GNU General Public License for more details. You should have received a copy of the GNU General Public License along with this Notebook. If not, see <a href=\"http://www.gnu.org/licenses/\">http://www.gnu.org/licenses/</a>.</font>"
   ]
  },
  {
   "cell_type": "code",
   "execution_count": null,
   "id": "0b3d15a1",
   "metadata": {},
   "outputs": [],
   "source": []
  }
 ],
 "metadata": {
  "kernelspec": {
   "display_name": "Python 3",
   "language": "python",
   "name": "python3"
  },
  "language_info": {
   "codemirror_mode": {
    "name": "ipython",
    "version": 3
   },
   "file_extension": ".py",
   "mimetype": "text/x-python",
   "name": "python",
   "nbconvert_exporter": "python",
   "pygments_lexer": "ipython3",
   "version": "3.8.8"
  }
 },
 "nbformat": 4,
 "nbformat_minor": 5
}
