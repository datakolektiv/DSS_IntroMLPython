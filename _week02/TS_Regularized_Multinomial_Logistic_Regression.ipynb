{
 "cells": [
  {
   "cell_type": "markdown",
   "id": "949f6f51",
   "metadata": {},
   "source": [
    "# DATA SCIENCE SCHOOL :: Introduction to ML in Python\n",
    "### An Intensive Python ML Course\n",
    "## Task Sheet: Regularized Multinomial Logistic Regression - Solutions\n",
    "\n",
    "[&larr; Back to course webpage](http://datakolektiv.com/app_direct/introdsnontech/)\n",
    "\n",
    "![](../img/IntroMLPython_Head.png)\n",
    "\n",
    "Feedback should be send to [goran.milovanovic@datakolektiv.com](mailto:goran.milovanovic@datakolektiv.com). \n",
    "\n",
    "These notebooks accompany the DATA SCIENCE SCHOOL :: Introduction to ML in Python course."
   ]
  },
  {
   "cell_type": "markdown",
   "id": "e46c7d37",
   "metadata": {},
   "source": [
    "### Goran S. Milovanović, PhD\n",
    "<b>DataKolektiv, Chief Scientist & Owner</b>\n",
    "\n",
    "### Aleksandar Cvetković, PhD\n",
    "<b>DataKolektiv, Consultant</b>"
   ]
  },
  {
   "cell_type": "markdown",
   "id": "10b5b179",
   "metadata": {},
   "source": [
    "![](../img/DK_Logo_100.png)"
   ]
  },
  {
   "cell_type": "markdown",
   "id": "9c814a12",
   "metadata": {},
   "source": [
    "## Setup"
   ]
  },
  {
   "cell_type": "code",
   "execution_count": 1,
   "id": "44ce5f9d",
   "metadata": {},
   "outputs": [],
   "source": [
    "### --- Setup - importing the libraries\n",
    "\n",
    "# - supress those annoying 'Future Warning'\n",
    "import warnings\n",
    "warnings.simplefilter(action='ignore', category=FutureWarning)\n",
    "\n",
    "\n",
    "# - data\n",
    "import numpy as np\n",
    "import pandas as pd\n",
    "\n",
    "# - os\n",
    "import os\n",
    "\n",
    "# - ml\n",
    "import statsmodels.api as sm\n",
    "from statsmodels.stats.outliers_influence import variance_inflation_factor\n",
    "\n",
    "# - visualization\n",
    "import matplotlib.pyplot as plt\n",
    "import seaborn as sns\n",
    "\n",
    "\n",
    "\n",
    "# - parameters\n",
    "%matplotlib inline\n",
    "pd.options.mode.chained_assignment = None  # default='warn'\n",
    "sns.set_theme()\n",
    "\n",
    "# - rng\n",
    "rng = np.random.default_rng()\n",
    "\n",
    "# - plots\n",
    "plt.rc(\"figure\", figsize=(8, 6))\n",
    "plt.rc(\"font\", size=14)\n",
    "sns.set_theme(style='white')\n",
    "\n",
    "# - directory tree\n",
    "data_dir = os.path.join(os.getcwd(), '_data')"
   ]
  },
  {
   "cell_type": "code",
   "execution_count": 2,
   "id": "f428e4fc",
   "metadata": {
    "scrolled": true
   },
   "outputs": [
    {
     "data": {
      "text/html": [
       "<div>\n",
       "<style scoped>\n",
       "    .dataframe tbody tr th:only-of-type {\n",
       "        vertical-align: middle;\n",
       "    }\n",
       "\n",
       "    .dataframe tbody tr th {\n",
       "        vertical-align: top;\n",
       "    }\n",
       "\n",
       "    .dataframe thead th {\n",
       "        text-align: right;\n",
       "    }\n",
       "</style>\n",
       "<table border=\"1\" class=\"dataframe\">\n",
       "  <thead>\n",
       "    <tr style=\"text-align: right;\">\n",
       "      <th></th>\n",
       "      <th>fixed acidity</th>\n",
       "      <th>volatile acidity</th>\n",
       "      <th>citric acid</th>\n",
       "      <th>residual sugar</th>\n",
       "      <th>chlorides</th>\n",
       "      <th>free sulfur dioxide</th>\n",
       "      <th>total sulfur dioxide</th>\n",
       "      <th>density</th>\n",
       "      <th>pH</th>\n",
       "      <th>sulphates</th>\n",
       "      <th>alcohol</th>\n",
       "      <th>quality</th>\n",
       "    </tr>\n",
       "  </thead>\n",
       "  <tbody>\n",
       "    <tr>\n",
       "      <th>0</th>\n",
       "      <td>7.4</td>\n",
       "      <td>0.70</td>\n",
       "      <td>0.00</td>\n",
       "      <td>1.9</td>\n",
       "      <td>0.076</td>\n",
       "      <td>11.0</td>\n",
       "      <td>34.0</td>\n",
       "      <td>0.9978</td>\n",
       "      <td>3.51</td>\n",
       "      <td>0.56</td>\n",
       "      <td>9.4</td>\n",
       "      <td>5</td>\n",
       "    </tr>\n",
       "    <tr>\n",
       "      <th>1</th>\n",
       "      <td>7.8</td>\n",
       "      <td>0.88</td>\n",
       "      <td>0.00</td>\n",
       "      <td>2.6</td>\n",
       "      <td>0.098</td>\n",
       "      <td>25.0</td>\n",
       "      <td>67.0</td>\n",
       "      <td>0.9968</td>\n",
       "      <td>3.20</td>\n",
       "      <td>0.68</td>\n",
       "      <td>9.8</td>\n",
       "      <td>5</td>\n",
       "    </tr>\n",
       "    <tr>\n",
       "      <th>2</th>\n",
       "      <td>7.8</td>\n",
       "      <td>0.76</td>\n",
       "      <td>0.04</td>\n",
       "      <td>2.3</td>\n",
       "      <td>0.092</td>\n",
       "      <td>15.0</td>\n",
       "      <td>54.0</td>\n",
       "      <td>0.9970</td>\n",
       "      <td>3.26</td>\n",
       "      <td>0.65</td>\n",
       "      <td>9.8</td>\n",
       "      <td>5</td>\n",
       "    </tr>\n",
       "    <tr>\n",
       "      <th>3</th>\n",
       "      <td>11.2</td>\n",
       "      <td>0.28</td>\n",
       "      <td>0.56</td>\n",
       "      <td>1.9</td>\n",
       "      <td>0.075</td>\n",
       "      <td>17.0</td>\n",
       "      <td>60.0</td>\n",
       "      <td>0.9980</td>\n",
       "      <td>3.16</td>\n",
       "      <td>0.58</td>\n",
       "      <td>9.8</td>\n",
       "      <td>6</td>\n",
       "    </tr>\n",
       "    <tr>\n",
       "      <th>4</th>\n",
       "      <td>7.4</td>\n",
       "      <td>0.70</td>\n",
       "      <td>0.00</td>\n",
       "      <td>1.9</td>\n",
       "      <td>0.076</td>\n",
       "      <td>11.0</td>\n",
       "      <td>34.0</td>\n",
       "      <td>0.9978</td>\n",
       "      <td>3.51</td>\n",
       "      <td>0.56</td>\n",
       "      <td>9.4</td>\n",
       "      <td>5</td>\n",
       "    </tr>\n",
       "    <tr>\n",
       "      <th>5</th>\n",
       "      <td>7.4</td>\n",
       "      <td>0.66</td>\n",
       "      <td>0.00</td>\n",
       "      <td>1.8</td>\n",
       "      <td>0.075</td>\n",
       "      <td>13.0</td>\n",
       "      <td>40.0</td>\n",
       "      <td>0.9978</td>\n",
       "      <td>3.51</td>\n",
       "      <td>0.56</td>\n",
       "      <td>9.4</td>\n",
       "      <td>5</td>\n",
       "    </tr>\n",
       "    <tr>\n",
       "      <th>6</th>\n",
       "      <td>7.9</td>\n",
       "      <td>0.60</td>\n",
       "      <td>0.06</td>\n",
       "      <td>1.6</td>\n",
       "      <td>0.069</td>\n",
       "      <td>15.0</td>\n",
       "      <td>59.0</td>\n",
       "      <td>0.9964</td>\n",
       "      <td>3.30</td>\n",
       "      <td>0.46</td>\n",
       "      <td>9.4</td>\n",
       "      <td>5</td>\n",
       "    </tr>\n",
       "    <tr>\n",
       "      <th>7</th>\n",
       "      <td>7.3</td>\n",
       "      <td>0.65</td>\n",
       "      <td>0.00</td>\n",
       "      <td>1.2</td>\n",
       "      <td>0.065</td>\n",
       "      <td>15.0</td>\n",
       "      <td>21.0</td>\n",
       "      <td>0.9946</td>\n",
       "      <td>3.39</td>\n",
       "      <td>0.47</td>\n",
       "      <td>10.0</td>\n",
       "      <td>7</td>\n",
       "    </tr>\n",
       "    <tr>\n",
       "      <th>8</th>\n",
       "      <td>7.8</td>\n",
       "      <td>0.58</td>\n",
       "      <td>0.02</td>\n",
       "      <td>2.0</td>\n",
       "      <td>0.073</td>\n",
       "      <td>9.0</td>\n",
       "      <td>18.0</td>\n",
       "      <td>0.9968</td>\n",
       "      <td>3.36</td>\n",
       "      <td>0.57</td>\n",
       "      <td>9.5</td>\n",
       "      <td>7</td>\n",
       "    </tr>\n",
       "    <tr>\n",
       "      <th>9</th>\n",
       "      <td>7.5</td>\n",
       "      <td>0.50</td>\n",
       "      <td>0.36</td>\n",
       "      <td>6.1</td>\n",
       "      <td>0.071</td>\n",
       "      <td>17.0</td>\n",
       "      <td>102.0</td>\n",
       "      <td>0.9978</td>\n",
       "      <td>3.35</td>\n",
       "      <td>0.80</td>\n",
       "      <td>10.5</td>\n",
       "      <td>5</td>\n",
       "    </tr>\n",
       "  </tbody>\n",
       "</table>\n",
       "</div>"
      ],
      "text/plain": [
       "   fixed acidity  volatile acidity  citric acid  residual sugar  chlorides  \\\n",
       "0            7.4              0.70         0.00             1.9      0.076   \n",
       "1            7.8              0.88         0.00             2.6      0.098   \n",
       "2            7.8              0.76         0.04             2.3      0.092   \n",
       "3           11.2              0.28         0.56             1.9      0.075   \n",
       "4            7.4              0.70         0.00             1.9      0.076   \n",
       "5            7.4              0.66         0.00             1.8      0.075   \n",
       "6            7.9              0.60         0.06             1.6      0.069   \n",
       "7            7.3              0.65         0.00             1.2      0.065   \n",
       "8            7.8              0.58         0.02             2.0      0.073   \n",
       "9            7.5              0.50         0.36             6.1      0.071   \n",
       "\n",
       "   free sulfur dioxide  total sulfur dioxide  density    pH  sulphates  \\\n",
       "0                 11.0                  34.0   0.9978  3.51       0.56   \n",
       "1                 25.0                  67.0   0.9968  3.20       0.68   \n",
       "2                 15.0                  54.0   0.9970  3.26       0.65   \n",
       "3                 17.0                  60.0   0.9980  3.16       0.58   \n",
       "4                 11.0                  34.0   0.9978  3.51       0.56   \n",
       "5                 13.0                  40.0   0.9978  3.51       0.56   \n",
       "6                 15.0                  59.0   0.9964  3.30       0.46   \n",
       "7                 15.0                  21.0   0.9946  3.39       0.47   \n",
       "8                  9.0                  18.0   0.9968  3.36       0.57   \n",
       "9                 17.0                 102.0   0.9978  3.35       0.80   \n",
       "\n",
       "   alcohol  quality  \n",
       "0      9.4        5  \n",
       "1      9.8        5  \n",
       "2      9.8        5  \n",
       "3      9.8        6  \n",
       "4      9.4        5  \n",
       "5      9.4        5  \n",
       "6      9.4        5  \n",
       "7     10.0        7  \n",
       "8      9.5        7  \n",
       "9     10.5        5  "
      ]
     },
     "execution_count": 2,
     "metadata": {},
     "output_type": "execute_result"
    }
   ],
   "source": [
    "# - loading the dataset\n",
    "# - UCI ML: https://archive.ics.uci.edu/ml/machine-learning-databases/wine-quality/) (download winequality-red.csv)\n",
    "# - place it in your _data/ directory\n",
    "wine_data = pd.read_csv(os.path.join(data_dir, 'winequality-red.csv'), sep=';')\n",
    "wine_data.head(10)"
   ]
  },
  {
   "cell_type": "markdown",
   "id": "9d6d0592",
   "metadata": {},
   "source": [
    "## Task 0\n",
    "\n",
    "### Target: predict wine quality from all the predictors"
   ]
  },
  {
   "cell_type": "code",
   "execution_count": 3,
   "id": "102fe4c4",
   "metadata": {},
   "outputs": [
    {
     "name": "stdout",
     "output_type": "stream",
     "text": [
      "<class 'pandas.core.frame.DataFrame'>\n",
      "RangeIndex: 1599 entries, 0 to 1598\n",
      "Data columns (total 12 columns):\n",
      " #   Column                Non-Null Count  Dtype  \n",
      "---  ------                --------------  -----  \n",
      " 0   fixed acidity         1599 non-null   float64\n",
      " 1   volatile acidity      1599 non-null   float64\n",
      " 2   citric acid           1599 non-null   float64\n",
      " 3   residual sugar        1599 non-null   float64\n",
      " 4   chlorides             1599 non-null   float64\n",
      " 5   free sulfur dioxide   1599 non-null   float64\n",
      " 6   total sulfur dioxide  1599 non-null   float64\n",
      " 7   density               1599 non-null   float64\n",
      " 8   pH                    1599 non-null   float64\n",
      " 9   sulphates             1599 non-null   float64\n",
      " 10  alcohol               1599 non-null   float64\n",
      " 11  quality               1599 non-null   int64  \n",
      "dtypes: float64(11), int64(1)\n",
      "memory usage: 150.0 KB\n"
     ]
    }
   ],
   "source": [
    "wine_data.info()"
   ]
  },
  {
   "cell_type": "code",
   "execution_count": 4,
   "id": "a95d5f50",
   "metadata": {},
   "outputs": [
    {
     "data": {
      "text/plain": [
       "Index(['fixed acidity', 'volatile acidity', 'citric acid', 'residual sugar',\n",
       "       'chlorides', 'free sulfur dioxide', 'total sulfur dioxide', 'density',\n",
       "       'pH', 'sulphates', 'alcohol'],\n",
       "      dtype='object')"
      ]
     },
     "execution_count": 4,
     "metadata": {},
     "output_type": "execute_result"
    }
   ],
   "source": [
    "predictors = wine_data.columns.drop('quality')\n",
    "predictors"
   ]
  },
  {
   "cell_type": "code",
   "execution_count": 5,
   "id": "2a24da8f",
   "metadata": {
    "scrolled": true
   },
   "outputs": [
    {
     "name": "stdout",
     "output_type": "stream",
     "text": [
      "<class 'pandas.core.series.Series'>\n",
      "RangeIndex: 1599 entries, 0 to 1598\n",
      "Series name: quality\n",
      "Non-Null Count  Dtype   \n",
      "--------------  -----   \n",
      "1599 non-null   category\n",
      "dtypes: category(1)\n",
      "memory usage: 1.9 KB\n"
     ]
    }
   ],
   "source": [
    "# - converting 'quality' variable which is numerical into ordered categorical\n",
    "wine_data['quality'] = wine_data['quality'].astype(pd.CategoricalDtype(ordered=True))\n",
    "wine_data['quality'].info()"
   ]
  },
  {
   "cell_type": "code",
   "execution_count": 6,
   "id": "cca69c4a",
   "metadata": {},
   "outputs": [
    {
     "data": {
      "text/plain": [
       "0    5\n",
       "1    5\n",
       "2    5\n",
       "3    6\n",
       "4    5\n",
       "Name: quality, dtype: category\n",
       "Categories (6, int64): [3 < 4 < 5 < 6 < 7 < 8]"
      ]
     },
     "execution_count": 6,
     "metadata": {},
     "output_type": "execute_result"
    }
   ],
   "source": [
    "wine_data['quality'].head()"
   ]
  },
  {
   "cell_type": "code",
   "execution_count": 7,
   "id": "2f38a46d",
   "metadata": {},
   "outputs": [
    {
     "data": {
      "text/plain": [
       "5    681\n",
       "6    638\n",
       "7    199\n",
       "4     53\n",
       "8     18\n",
       "3     10\n",
       "Name: quality, dtype: int64"
      ]
     },
     "execution_count": 7,
     "metadata": {},
     "output_type": "execute_result"
    }
   ],
   "source": [
    "wine_data['quality'].value_counts()"
   ]
  },
  {
   "cell_type": "code",
   "execution_count": 9,
   "id": "f2d017bf",
   "metadata": {},
   "outputs": [],
   "source": [
    "### --- Preparing the variables \n",
    "\n",
    "# - feature matrix\n",
    "X = wine_data.drop(columns='quality')\n",
    "# - we append a constant column of ones to the feature matrix\n",
    "X = sm.add_constant(X)\n",
    "\n",
    "# - target vector\n",
    "y = wine_data['quality']"
   ]
  },
  {
   "cell_type": "code",
   "execution_count": 10,
   "id": "15ddaa74",
   "metadata": {
    "scrolled": true
   },
   "outputs": [
    {
     "name": "stdout",
     "output_type": "stream",
     "text": [
      "Optimization terminated successfully.\n",
      "         Current function value: 0.913760\n",
      "         Iterations: 46\n",
      "         Function evaluations: 78\n",
      "         Gradient evaluations: 78\n",
      "         Hessian evaluations: 46\n"
     ]
    },
    {
     "data": {
      "text/html": [
       "<table class=\"simpletable\">\n",
       "<caption>MNLogit Regression Results</caption>\n",
       "<tr>\n",
       "  <th>Dep. Variable:</th>        <td>quality</td>     <th>  No. Observations:  </th>   <td>  1599</td>  \n",
       "</tr>\n",
       "<tr>\n",
       "  <th>Model:</th>                <td>MNLogit</td>     <th>  Df Residuals:      </th>   <td>  1539</td>  \n",
       "</tr>\n",
       "<tr>\n",
       "  <th>Method:</th>                 <td>MLE</td>       <th>  Df Model:          </th>   <td>    55</td>  \n",
       "</tr>\n",
       "<tr>\n",
       "  <th>Date:</th>            <td>Sun, 20 Nov 2022</td> <th>  Pseudo R-squ.:     </th>   <td>0.2287</td>  \n",
       "</tr>\n",
       "<tr>\n",
       "  <th>Time:</th>                <td>00:37:46</td>     <th>  Log-Likelihood:    </th>  <td> -1461.1</td> \n",
       "</tr>\n",
       "<tr>\n",
       "  <th>converged:</th>             <td>True</td>       <th>  LL-Null:           </th>  <td> -1894.2</td> \n",
       "</tr>\n",
       "<tr>\n",
       "  <th>Covariance Type:</th>     <td>nonrobust</td>    <th>  LLR p-value:       </th> <td>2.987e-146</td>\n",
       "</tr>\n",
       "</table>\n",
       "<table class=\"simpletable\">\n",
       "<tr>\n",
       "        <th>quality=4</th>         <th>coef</th>     <th>std err</th>      <th>z</th>      <th>P>|z|</th>  <th>[0.025</th>    <th>0.975]</th>  \n",
       "</tr>\n",
       "<tr>\n",
       "  <th>const</th>                <td>  150.7854</td> <td>  547.747</td> <td>    0.275</td> <td> 0.783</td> <td> -922.780</td> <td> 1224.351</td>\n",
       "</tr>\n",
       "<tr>\n",
       "  <th>fixed acidity</th>        <td>   -0.6119</td> <td>    0.688</td> <td>   -0.889</td> <td> 0.374</td> <td>   -1.961</td> <td>    0.737</td>\n",
       "</tr>\n",
       "<tr>\n",
       "  <th>volatile acidity</th>     <td>   -4.8509</td> <td>    2.448</td> <td>   -1.981</td> <td> 0.048</td> <td>   -9.649</td> <td>   -0.052</td>\n",
       "</tr>\n",
       "<tr>\n",
       "  <th>citric acid</th>          <td>   -2.3627</td> <td>    4.063</td> <td>   -0.581</td> <td> 0.561</td> <td>  -10.326</td> <td>    5.601</td>\n",
       "</tr>\n",
       "<tr>\n",
       "  <th>residual sugar</th>       <td>    0.1666</td> <td>    0.312</td> <td>    0.533</td> <td> 0.594</td> <td>   -0.446</td> <td>    0.779</td>\n",
       "</tr>\n",
       "<tr>\n",
       "  <th>chlorides</th>            <td>  -10.3956</td> <td>    7.560</td> <td>   -1.375</td> <td> 0.169</td> <td>  -25.212</td> <td>    4.421</td>\n",
       "</tr>\n",
       "<tr>\n",
       "  <th>free sulfur dioxide</th>  <td>   -0.1601</td> <td>    0.091</td> <td>   -1.757</td> <td> 0.079</td> <td>   -0.339</td> <td>    0.018</td>\n",
       "</tr>\n",
       "<tr>\n",
       "  <th>total sulfur dioxide</th> <td>    0.0839</td> <td>    0.050</td> <td>    1.678</td> <td> 0.093</td> <td>   -0.014</td> <td>    0.182</td>\n",
       "</tr>\n",
       "<tr>\n",
       "  <th>density</th>              <td> -131.9670</td> <td>  557.824</td> <td>   -0.237</td> <td> 0.813</td> <td>-1225.283</td> <td>  961.349</td>\n",
       "</tr>\n",
       "<tr>\n",
       "  <th>pH</th>                   <td>   -7.1129</td> <td>    5.073</td> <td>   -1.402</td> <td> 0.161</td> <td>  -17.056</td> <td>    2.831</td>\n",
       "</tr>\n",
       "<tr>\n",
       "  <th>sulphates</th>            <td>    1.1854</td> <td>    3.746</td> <td>    0.316</td> <td> 0.752</td> <td>   -6.156</td> <td>    8.527</td>\n",
       "</tr>\n",
       "<tr>\n",
       "  <th>alcohol</th>              <td>    1.5048</td> <td>    0.877</td> <td>    1.715</td> <td> 0.086</td> <td>   -0.215</td> <td>    3.225</td>\n",
       "</tr>\n",
       "<tr>\n",
       "        <th>quality=5</th>         <th>coef</th>     <th>std err</th>      <th>z</th>      <th>P>|z|</th>  <th>[0.025</th>    <th>0.975]</th>  \n",
       "</tr>\n",
       "<tr>\n",
       "  <th>const</th>                <td> -104.0851</td> <td>  522.953</td> <td>   -0.199</td> <td> 0.842</td> <td>-1129.054</td> <td>  920.884</td>\n",
       "</tr>\n",
       "<tr>\n",
       "  <th>fixed acidity</th>        <td>   -0.9018</td> <td>    0.651</td> <td>   -1.386</td> <td> 0.166</td> <td>   -2.177</td> <td>    0.373</td>\n",
       "</tr>\n",
       "<tr>\n",
       "  <th>volatile acidity</th>     <td>   -7.8053</td> <td>    2.408</td> <td>   -3.241</td> <td> 0.001</td> <td>  -12.525</td> <td>   -3.086</td>\n",
       "</tr>\n",
       "<tr>\n",
       "  <th>citric acid</th>          <td>   -2.7974</td> <td>    3.904</td> <td>   -0.716</td> <td> 0.474</td> <td>  -10.450</td> <td>    4.855</td>\n",
       "</tr>\n",
       "<tr>\n",
       "  <th>residual sugar</th>       <td>   -0.1348</td> <td>    0.298</td> <td>   -0.453</td> <td> 0.651</td> <td>   -0.719</td> <td>    0.449</td>\n",
       "</tr>\n",
       "<tr>\n",
       "  <th>chlorides</th>            <td>  -12.8486</td> <td>    6.884</td> <td>   -1.867</td> <td> 0.062</td> <td>  -26.340</td> <td>    0.643</td>\n",
       "</tr>\n",
       "<tr>\n",
       "  <th>free sulfur dioxide</th>  <td>   -0.1366</td> <td>    0.088</td> <td>   -1.545</td> <td> 0.122</td> <td>   -0.310</td> <td>    0.037</td>\n",
       "</tr>\n",
       "<tr>\n",
       "  <th>total sulfur dioxide</th> <td>    0.0994</td> <td>    0.049</td> <td>    2.011</td> <td> 0.044</td> <td>    0.003</td> <td>    0.196</td>\n",
       "</tr>\n",
       "<tr>\n",
       "  <th>density</th>              <td>  143.4813</td> <td>  532.624</td> <td>    0.269</td> <td> 0.788</td> <td> -900.442</td> <td> 1187.404</td>\n",
       "</tr>\n",
       "<tr>\n",
       "  <th>pH</th>                   <td>  -10.8172</td> <td>    4.888</td> <td>   -2.213</td> <td> 0.027</td> <td>  -20.398</td> <td>   -1.237</td>\n",
       "</tr>\n",
       "<tr>\n",
       "  <th>sulphates</th>            <td>    0.9416</td> <td>    3.538</td> <td>    0.266</td> <td> 0.790</td> <td>   -5.994</td> <td>    7.877</td>\n",
       "</tr>\n",
       "<tr>\n",
       "  <th>alcohol</th>              <td>    1.4625</td> <td>    0.852</td> <td>    1.717</td> <td> 0.086</td> <td>   -0.207</td> <td>    3.132</td>\n",
       "</tr>\n",
       "<tr>\n",
       "        <th>quality=6</th>         <th>coef</th>     <th>std err</th>      <th>z</th>      <th>P>|z|</th>  <th>[0.025</th>    <th>0.975]</th>  \n",
       "</tr>\n",
       "<tr>\n",
       "  <th>const</th>                <td>  -71.9561</td> <td>  524.270</td> <td>   -0.137</td> <td> 0.891</td> <td>-1099.506</td> <td>  955.594</td>\n",
       "</tr>\n",
       "<tr>\n",
       "  <th>fixed acidity</th>        <td>   -0.7707</td> <td>    0.651</td> <td>   -1.184</td> <td> 0.236</td> <td>   -2.046</td> <td>    0.505</td>\n",
       "</tr>\n",
       "<tr>\n",
       "  <th>volatile acidity</th>     <td>  -10.4437</td> <td>    2.432</td> <td>   -4.294</td> <td> 0.000</td> <td>  -15.211</td> <td>   -5.676</td>\n",
       "</tr>\n",
       "<tr>\n",
       "  <th>citric acid</th>          <td>   -4.0991</td> <td>    3.919</td> <td>   -1.046</td> <td> 0.296</td> <td>  -11.780</td> <td>    3.581</td>\n",
       "</tr>\n",
       "<tr>\n",
       "  <th>residual sugar</th>       <td>   -0.0872</td> <td>    0.299</td> <td>   -0.291</td> <td> 0.771</td> <td>   -0.674</td> <td>    0.499</td>\n",
       "</tr>\n",
       "<tr>\n",
       "  <th>chlorides</th>            <td>  -15.5298</td> <td>    6.965</td> <td>   -2.230</td> <td> 0.026</td> <td>  -29.181</td> <td>   -1.879</td>\n",
       "</tr>\n",
       "<tr>\n",
       "  <th>free sulfur dioxide</th>  <td>   -0.1152</td> <td>    0.088</td> <td>   -1.303</td> <td> 0.193</td> <td>   -0.289</td> <td>    0.058</td>\n",
       "</tr>\n",
       "<tr>\n",
       "  <th>total sulfur dioxide</th> <td>    0.0831</td> <td>    0.049</td> <td>    1.680</td> <td> 0.093</td> <td>   -0.014</td> <td>    0.180</td>\n",
       "</tr>\n",
       "<tr>\n",
       "  <th>density</th>              <td>  102.7745</td> <td>  533.918</td> <td>    0.192</td> <td> 0.847</td> <td> -943.686</td> <td> 1149.235</td>\n",
       "</tr>\n",
       "<tr>\n",
       "  <th>pH</th>                   <td>  -10.8040</td> <td>    4.895</td> <td>   -2.207</td> <td> 0.027</td> <td>  -20.397</td> <td>   -1.211</td>\n",
       "</tr>\n",
       "<tr>\n",
       "  <th>sulphates</th>            <td>    3.3265</td> <td>    3.547</td> <td>    0.938</td> <td> 0.348</td> <td>   -3.625</td> <td>   10.278</td>\n",
       "</tr>\n",
       "<tr>\n",
       "  <th>alcohol</th>              <td>    2.2466</td> <td>    0.854</td> <td>    2.631</td> <td> 0.009</td> <td>    0.573</td> <td>    3.920</td>\n",
       "</tr>\n",
       "<tr>\n",
       "        <th>quality=7</th>         <th>coef</th>     <th>std err</th>      <th>z</th>      <th>P>|z|</th>  <th>[0.025</th>    <th>0.975]</th>  \n",
       "</tr>\n",
       "<tr>\n",
       "  <th>const</th>                <td>  110.3545</td> <td>  532.959</td> <td>    0.207</td> <td> 0.836</td> <td> -934.226</td> <td> 1154.935</td>\n",
       "</tr>\n",
       "<tr>\n",
       "  <th>fixed acidity</th>        <td>   -0.5539</td> <td>    0.660</td> <td>   -0.840</td> <td> 0.401</td> <td>   -1.847</td> <td>    0.739</td>\n",
       "</tr>\n",
       "<tr>\n",
       "  <th>volatile acidity</th>     <td>  -12.4942</td> <td>    2.548</td> <td>   -4.904</td> <td> 0.000</td> <td>  -17.488</td> <td>   -7.501</td>\n",
       "</tr>\n",
       "<tr>\n",
       "  <th>citric acid</th>          <td>   -3.4084</td> <td>    3.994</td> <td>   -0.853</td> <td> 0.393</td> <td>  -11.236</td> <td>    4.419</td>\n",
       "</tr>\n",
       "<tr>\n",
       "  <th>residual sugar</th>       <td>    0.1293</td> <td>    0.306</td> <td>    0.423</td> <td> 0.672</td> <td>   -0.470</td> <td>    0.729</td>\n",
       "</tr>\n",
       "<tr>\n",
       "  <th>chlorides</th>            <td>  -22.5771</td> <td>    7.679</td> <td>   -2.940</td> <td> 0.003</td> <td>  -37.628</td> <td>   -7.526</td>\n",
       "</tr>\n",
       "<tr>\n",
       "  <th>free sulfur dioxide</th>  <td>   -0.1129</td> <td>    0.089</td> <td>   -1.266</td> <td> 0.205</td> <td>   -0.288</td> <td>    0.062</td>\n",
       "</tr>\n",
       "<tr>\n",
       "  <th>total sulfur dioxide</th> <td>    0.0730</td> <td>    0.050</td> <td>    1.469</td> <td> 0.142</td> <td>   -0.024</td> <td>    0.170</td>\n",
       "</tr>\n",
       "<tr>\n",
       "  <th>density</th>              <td>  -91.5019</td> <td>  542.819</td> <td>   -0.169</td> <td> 0.866</td> <td>-1155.407</td> <td>  972.403</td>\n",
       "</tr>\n",
       "<tr>\n",
       "  <th>pH</th>                   <td>  -10.4309</td> <td>    4.977</td> <td>   -2.096</td> <td> 0.036</td> <td>  -20.186</td> <td>   -0.676</td>\n",
       "</tr>\n",
       "<tr>\n",
       "  <th>sulphates</th>            <td>    6.1363</td> <td>    3.581</td> <td>    1.714</td> <td> 0.087</td> <td>   -0.882</td> <td>   13.154</td>\n",
       "</tr>\n",
       "<tr>\n",
       "  <th>alcohol</th>              <td>    2.7929</td> <td>    0.862</td> <td>    3.239</td> <td> 0.001</td> <td>    1.103</td> <td>    4.483</td>\n",
       "</tr>\n",
       "<tr>\n",
       "        <th>quality=8</th>         <th>coef</th>     <th>std err</th>      <th>z</th>      <th>P>|z|</th>  <th>[0.025</th>    <th>0.975]</th>  \n",
       "</tr>\n",
       "<tr>\n",
       "  <th>const</th>                <td>   16.4134</td> <td>  622.158</td> <td>    0.026</td> <td> 0.979</td> <td>-1202.995</td> <td> 1235.822</td>\n",
       "</tr>\n",
       "<tr>\n",
       "  <th>fixed acidity</th>        <td>   -1.0994</td> <td>    0.764</td> <td>   -1.440</td> <td> 0.150</td> <td>   -2.596</td> <td>    0.397</td>\n",
       "</tr>\n",
       "<tr>\n",
       "  <th>volatile acidity</th>     <td>   -8.7279</td> <td>    3.354</td> <td>   -2.602</td> <td> 0.009</td> <td>  -15.301</td> <td>   -2.155</td>\n",
       "</tr>\n",
       "<tr>\n",
       "  <th>citric acid</th>          <td>   -0.5451</td> <td>    4.662</td> <td>   -0.117</td> <td> 0.907</td> <td>   -9.683</td> <td>    8.593</td>\n",
       "</tr>\n",
       "<tr>\n",
       "  <th>residual sugar</th>       <td>   -0.0568</td> <td>    0.426</td> <td>   -0.133</td> <td> 0.894</td> <td>   -0.892</td> <td>    0.779</td>\n",
       "</tr>\n",
       "<tr>\n",
       "  <th>chlorides</th>            <td>  -47.4693</td> <td>   17.779</td> <td>   -2.670</td> <td> 0.008</td> <td>  -82.315</td> <td>  -12.624</td>\n",
       "</tr>\n",
       "<tr>\n",
       "  <th>free sulfur dioxide</th>  <td>   -0.1051</td> <td>    0.096</td> <td>   -1.089</td> <td> 0.276</td> <td>   -0.294</td> <td>    0.084</td>\n",
       "</tr>\n",
       "<tr>\n",
       "  <th>total sulfur dioxide</th> <td>    0.0569</td> <td>    0.052</td> <td>    1.093</td> <td> 0.274</td> <td>   -0.045</td> <td>    0.159</td>\n",
       "</tr>\n",
       "<tr>\n",
       "  <th>density</th>              <td>   15.5386</td> <td>  634.348</td> <td>    0.024</td> <td> 0.980</td> <td>-1227.761</td> <td> 1258.838</td>\n",
       "</tr>\n",
       "<tr>\n",
       "  <th>pH</th>                   <td>  -16.6706</td> <td>    5.866</td> <td>   -2.842</td> <td> 0.004</td> <td>  -28.169</td> <td>   -5.172</td>\n",
       "</tr>\n",
       "<tr>\n",
       "  <th>sulphates</th>            <td>    7.9065</td> <td>    3.853</td> <td>    2.052</td> <td> 0.040</td> <td>    0.355</td> <td>   15.458</td>\n",
       "</tr>\n",
       "<tr>\n",
       "  <th>alcohol</th>              <td>    3.5475</td> <td>    0.953</td> <td>    3.722</td> <td> 0.000</td> <td>    1.679</td> <td>    5.416</td>\n",
       "</tr>\n",
       "</table>"
      ],
      "text/plain": [
       "<class 'statsmodels.iolib.summary.Summary'>\n",
       "\"\"\"\n",
       "                          MNLogit Regression Results                          \n",
       "==============================================================================\n",
       "Dep. Variable:                quality   No. Observations:                 1599\n",
       "Model:                        MNLogit   Df Residuals:                     1539\n",
       "Method:                           MLE   Df Model:                           55\n",
       "Date:                Sun, 20 Nov 2022   Pseudo R-squ.:                  0.2287\n",
       "Time:                        00:37:46   Log-Likelihood:                -1461.1\n",
       "converged:                       True   LL-Null:                       -1894.2\n",
       "Covariance Type:            nonrobust   LLR p-value:                2.987e-146\n",
       "========================================================================================\n",
       "           quality=4       coef    std err          z      P>|z|      [0.025      0.975]\n",
       "----------------------------------------------------------------------------------------\n",
       "const                  150.7854    547.747      0.275      0.783    -922.780    1224.351\n",
       "fixed acidity           -0.6119      0.688     -0.889      0.374      -1.961       0.737\n",
       "volatile acidity        -4.8509      2.448     -1.981      0.048      -9.649      -0.052\n",
       "citric acid             -2.3627      4.063     -0.581      0.561     -10.326       5.601\n",
       "residual sugar           0.1666      0.312      0.533      0.594      -0.446       0.779\n",
       "chlorides              -10.3956      7.560     -1.375      0.169     -25.212       4.421\n",
       "free sulfur dioxide     -0.1601      0.091     -1.757      0.079      -0.339       0.018\n",
       "total sulfur dioxide     0.0839      0.050      1.678      0.093      -0.014       0.182\n",
       "density               -131.9670    557.824     -0.237      0.813   -1225.283     961.349\n",
       "pH                      -7.1129      5.073     -1.402      0.161     -17.056       2.831\n",
       "sulphates                1.1854      3.746      0.316      0.752      -6.156       8.527\n",
       "alcohol                  1.5048      0.877      1.715      0.086      -0.215       3.225\n",
       "----------------------------------------------------------------------------------------\n",
       "           quality=5       coef    std err          z      P>|z|      [0.025      0.975]\n",
       "----------------------------------------------------------------------------------------\n",
       "const                 -104.0851    522.953     -0.199      0.842   -1129.054     920.884\n",
       "fixed acidity           -0.9018      0.651     -1.386      0.166      -2.177       0.373\n",
       "volatile acidity        -7.8053      2.408     -3.241      0.001     -12.525      -3.086\n",
       "citric acid             -2.7974      3.904     -0.716      0.474     -10.450       4.855\n",
       "residual sugar          -0.1348      0.298     -0.453      0.651      -0.719       0.449\n",
       "chlorides              -12.8486      6.884     -1.867      0.062     -26.340       0.643\n",
       "free sulfur dioxide     -0.1366      0.088     -1.545      0.122      -0.310       0.037\n",
       "total sulfur dioxide     0.0994      0.049      2.011      0.044       0.003       0.196\n",
       "density                143.4813    532.624      0.269      0.788    -900.442    1187.404\n",
       "pH                     -10.8172      4.888     -2.213      0.027     -20.398      -1.237\n",
       "sulphates                0.9416      3.538      0.266      0.790      -5.994       7.877\n",
       "alcohol                  1.4625      0.852      1.717      0.086      -0.207       3.132\n",
       "----------------------------------------------------------------------------------------\n",
       "           quality=6       coef    std err          z      P>|z|      [0.025      0.975]\n",
       "----------------------------------------------------------------------------------------\n",
       "const                  -71.9561    524.270     -0.137      0.891   -1099.506     955.594\n",
       "fixed acidity           -0.7707      0.651     -1.184      0.236      -2.046       0.505\n",
       "volatile acidity       -10.4437      2.432     -4.294      0.000     -15.211      -5.676\n",
       "citric acid             -4.0991      3.919     -1.046      0.296     -11.780       3.581\n",
       "residual sugar          -0.0872      0.299     -0.291      0.771      -0.674       0.499\n",
       "chlorides              -15.5298      6.965     -2.230      0.026     -29.181      -1.879\n",
       "free sulfur dioxide     -0.1152      0.088     -1.303      0.193      -0.289       0.058\n",
       "total sulfur dioxide     0.0831      0.049      1.680      0.093      -0.014       0.180\n",
       "density                102.7745    533.918      0.192      0.847    -943.686    1149.235\n",
       "pH                     -10.8040      4.895     -2.207      0.027     -20.397      -1.211\n",
       "sulphates                3.3265      3.547      0.938      0.348      -3.625      10.278\n",
       "alcohol                  2.2466      0.854      2.631      0.009       0.573       3.920\n",
       "----------------------------------------------------------------------------------------\n",
       "           quality=7       coef    std err          z      P>|z|      [0.025      0.975]\n",
       "----------------------------------------------------------------------------------------\n",
       "const                  110.3545    532.959      0.207      0.836    -934.226    1154.935\n",
       "fixed acidity           -0.5539      0.660     -0.840      0.401      -1.847       0.739\n",
       "volatile acidity       -12.4942      2.548     -4.904      0.000     -17.488      -7.501\n",
       "citric acid             -3.4084      3.994     -0.853      0.393     -11.236       4.419\n",
       "residual sugar           0.1293      0.306      0.423      0.672      -0.470       0.729\n",
       "chlorides              -22.5771      7.679     -2.940      0.003     -37.628      -7.526\n",
       "free sulfur dioxide     -0.1129      0.089     -1.266      0.205      -0.288       0.062\n",
       "total sulfur dioxide     0.0730      0.050      1.469      0.142      -0.024       0.170\n",
       "density                -91.5019    542.819     -0.169      0.866   -1155.407     972.403\n",
       "pH                     -10.4309      4.977     -2.096      0.036     -20.186      -0.676\n",
       "sulphates                6.1363      3.581      1.714      0.087      -0.882      13.154\n",
       "alcohol                  2.7929      0.862      3.239      0.001       1.103       4.483\n",
       "----------------------------------------------------------------------------------------\n",
       "           quality=8       coef    std err          z      P>|z|      [0.025      0.975]\n",
       "----------------------------------------------------------------------------------------\n",
       "const                   16.4134    622.158      0.026      0.979   -1202.995    1235.822\n",
       "fixed acidity           -1.0994      0.764     -1.440      0.150      -2.596       0.397\n",
       "volatile acidity        -8.7279      3.354     -2.602      0.009     -15.301      -2.155\n",
       "citric acid             -0.5451      4.662     -0.117      0.907      -9.683       8.593\n",
       "residual sugar          -0.0568      0.426     -0.133      0.894      -0.892       0.779\n",
       "chlorides              -47.4693     17.779     -2.670      0.008     -82.315     -12.624\n",
       "free sulfur dioxide     -0.1051      0.096     -1.089      0.276      -0.294       0.084\n",
       "total sulfur dioxide     0.0569      0.052      1.093      0.274      -0.045       0.159\n",
       "density                 15.5386    634.348      0.024      0.980   -1227.761    1258.838\n",
       "pH                     -16.6706      5.866     -2.842      0.004     -28.169      -5.172\n",
       "sulphates                7.9065      3.853      2.052      0.040       0.355      15.458\n",
       "alcohol                  3.5475      0.953      3.722      0.000       1.679       5.416\n",
       "========================================================================================\n",
       "\"\"\""
      ]
     },
     "execution_count": 10,
     "metadata": {},
     "output_type": "execute_result"
    }
   ],
   "source": [
    "# - fitting the MNR model to the data; we use the Newton's Conjugate Gradient method as the optimizer to compute the\n",
    "#models coefficients\n",
    "mnr_model = sm.MNLogit(exog=X, endog=y).fit(method='ncg', maxiter=100)\n",
    "mnr_model.summary()"
   ]
  },
  {
   "cell_type": "code",
   "execution_count": 11,
   "id": "399996b0",
   "metadata": {},
   "outputs": [
    {
     "data": {
      "text/plain": [
       "array([[  2.,   0.,   7.,   1.,   0.,   0.],\n",
       "       [  1.,   1.,  34.,  15.,   2.,   0.],\n",
       "       [  2.,   0., 514., 159.,   6.,   0.],\n",
       "       [  0.,   0., 207., 391.,  40.,   0.],\n",
       "       [  0.,   0.,  13., 120.,  66.,   0.],\n",
       "       [  0.,   0.,   0.,  10.,   8.,   0.]])"
      ]
     },
     "execution_count": 11,
     "metadata": {},
     "output_type": "execute_result"
    }
   ],
   "source": [
    "# - confusion matrix for the model prdictions; ordering of rows/columns correspond to the oredering of the classes\n",
    "conf_matrix = mnr_model.pred_table()\n",
    "conf_matrix"
   ]
  },
  {
   "cell_type": "code",
   "execution_count": 14,
   "id": "12e2a14d",
   "metadata": {},
   "outputs": [
    {
     "data": {
      "text/plain": [
       "0.6091307066916823"
      ]
     },
     "execution_count": 14,
     "metadata": {},
     "output_type": "execute_result"
    }
   ],
   "source": [
    "# - accuracy of the model\n",
    "mnr_acc = np.sum(np.diag(conf_matrix))/np.sum(conf_matrix)\n",
    "mnr_acc"
   ]
  },
  {
   "cell_type": "markdown",
   "id": "00f27d7b",
   "metadata": {},
   "source": [
    "### Regularization of the model coefficients: Ridge (L2) Regularization"
   ]
  },
  {
   "cell_type": "markdown",
   "id": "a52f54d1",
   "metadata": {},
   "source": [
    "Now we are going to use scikit-learn to perform *Regularized* Multinomial Logistic Regression; we'll be using the Ridge Regression. \n",
    "\n",
    "The Ridge Regression model is obtained by minimizing the function\n",
    "\n",
    "$$-C\\cdot LL + \\frac{1}{2}L_2^2,$$\n",
    "\n",
    "where $LL$ is Log-Likelihood of the 'ordinary' MNR, and $L_2^2$ is the squared *Frobenius norm* of model parameters matrix $W$:\n",
    "\n",
    "$$L_2^2 = ||W||_F^2 = \\sum_{i=1}^k\\sum_{j=1}^K(\\beta_i^{(j)})^2;$$\n",
    "\n",
    "$k$ is the number of predictors, $K$ number of categories of the targert variable, and $\\beta_i^{(j)}$ are model parameters. $C$ is the *Regularization (hyper)parameter* and it the invers of penalization hyperparameter $\\alpha$."
   ]
  },
  {
   "cell_type": "code",
   "execution_count": 15,
   "id": "d15f528c",
   "metadata": {},
   "outputs": [],
   "source": [
    "# - import scikit-learn\n",
    "from sklearn.linear_model import LogisticRegression, LogisticRegressionCV\n",
    "from sklearn.metrics import confusion_matrix"
   ]
  },
  {
   "cell_type": "code",
   "execution_count": 16,
   "id": "2eed82fc",
   "metadata": {},
   "outputs": [],
   "source": [
    "### --- Preparing the variables \n",
    "\n",
    "# - feature matrix\n",
    "X = wine_data.drop(columns='quality').values\n",
    "\n",
    "# - target variable\n",
    "y = wine_data['quality']"
   ]
  },
  {
   "cell_type": "code",
   "execution_count": 17,
   "id": "11b6fdac",
   "metadata": {},
   "outputs": [
    {
     "data": {
      "text/html": [
       "<style>#sk-container-id-1 {color: black;background-color: white;}#sk-container-id-1 pre{padding: 0;}#sk-container-id-1 div.sk-toggleable {background-color: white;}#sk-container-id-1 label.sk-toggleable__label {cursor: pointer;display: block;width: 100%;margin-bottom: 0;padding: 0.3em;box-sizing: border-box;text-align: center;}#sk-container-id-1 label.sk-toggleable__label-arrow:before {content: \"▸\";float: left;margin-right: 0.25em;color: #696969;}#sk-container-id-1 label.sk-toggleable__label-arrow:hover:before {color: black;}#sk-container-id-1 div.sk-estimator:hover label.sk-toggleable__label-arrow:before {color: black;}#sk-container-id-1 div.sk-toggleable__content {max-height: 0;max-width: 0;overflow: hidden;text-align: left;background-color: #f0f8ff;}#sk-container-id-1 div.sk-toggleable__content pre {margin: 0.2em;color: black;border-radius: 0.25em;background-color: #f0f8ff;}#sk-container-id-1 input.sk-toggleable__control:checked~div.sk-toggleable__content {max-height: 200px;max-width: 100%;overflow: auto;}#sk-container-id-1 input.sk-toggleable__control:checked~label.sk-toggleable__label-arrow:before {content: \"▾\";}#sk-container-id-1 div.sk-estimator input.sk-toggleable__control:checked~label.sk-toggleable__label {background-color: #d4ebff;}#sk-container-id-1 div.sk-label input.sk-toggleable__control:checked~label.sk-toggleable__label {background-color: #d4ebff;}#sk-container-id-1 input.sk-hidden--visually {border: 0;clip: rect(1px 1px 1px 1px);clip: rect(1px, 1px, 1px, 1px);height: 1px;margin: -1px;overflow: hidden;padding: 0;position: absolute;width: 1px;}#sk-container-id-1 div.sk-estimator {font-family: monospace;background-color: #f0f8ff;border: 1px dotted black;border-radius: 0.25em;box-sizing: border-box;margin-bottom: 0.5em;}#sk-container-id-1 div.sk-estimator:hover {background-color: #d4ebff;}#sk-container-id-1 div.sk-parallel-item::after {content: \"\";width: 100%;border-bottom: 1px solid gray;flex-grow: 1;}#sk-container-id-1 div.sk-label:hover label.sk-toggleable__label {background-color: #d4ebff;}#sk-container-id-1 div.sk-serial::before {content: \"\";position: absolute;border-left: 1px solid gray;box-sizing: border-box;top: 0;bottom: 0;left: 50%;z-index: 0;}#sk-container-id-1 div.sk-serial {display: flex;flex-direction: column;align-items: center;background-color: white;padding-right: 0.2em;padding-left: 0.2em;position: relative;}#sk-container-id-1 div.sk-item {position: relative;z-index: 1;}#sk-container-id-1 div.sk-parallel {display: flex;align-items: stretch;justify-content: center;background-color: white;position: relative;}#sk-container-id-1 div.sk-item::before, #sk-container-id-1 div.sk-parallel-item::before {content: \"\";position: absolute;border-left: 1px solid gray;box-sizing: border-box;top: 0;bottom: 0;left: 50%;z-index: -1;}#sk-container-id-1 div.sk-parallel-item {display: flex;flex-direction: column;z-index: 1;position: relative;background-color: white;}#sk-container-id-1 div.sk-parallel-item:first-child::after {align-self: flex-end;width: 50%;}#sk-container-id-1 div.sk-parallel-item:last-child::after {align-self: flex-start;width: 50%;}#sk-container-id-1 div.sk-parallel-item:only-child::after {width: 0;}#sk-container-id-1 div.sk-dashed-wrapped {border: 1px dashed gray;margin: 0 0.4em 0.5em 0.4em;box-sizing: border-box;padding-bottom: 0.4em;background-color: white;}#sk-container-id-1 div.sk-label label {font-family: monospace;font-weight: bold;display: inline-block;line-height: 1.2em;}#sk-container-id-1 div.sk-label-container {text-align: center;}#sk-container-id-1 div.sk-container {/* jupyter's `normalize.less` sets `[hidden] { display: none; }` but bootstrap.min.css set `[hidden] { display: none !important; }` so we also need the `!important` here to be able to override the default hidden behavior on the sphinx rendered scikit-learn.org. See: https://github.com/scikit-learn/scikit-learn/issues/21755 */display: inline-block !important;position: relative;}#sk-container-id-1 div.sk-text-repr-fallback {display: none;}</style><div id=\"sk-container-id-1\" class=\"sk-top-container\"><div class=\"sk-text-repr-fallback\"><pre>LogisticRegression(C=250, solver=&#x27;newton-cg&#x27;)</pre><b>In a Jupyter environment, please rerun this cell to show the HTML representation or trust the notebook. <br />On GitHub, the HTML representation is unable to render, please try loading this page with nbviewer.org.</b></div><div class=\"sk-container\" hidden><div class=\"sk-item\"><div class=\"sk-estimator sk-toggleable\"><input class=\"sk-toggleable__control sk-hidden--visually\" id=\"sk-estimator-id-1\" type=\"checkbox\" checked><label for=\"sk-estimator-id-1\" class=\"sk-toggleable__label sk-toggleable__label-arrow\">LogisticRegression</label><div class=\"sk-toggleable__content\"><pre>LogisticRegression(C=250, solver=&#x27;newton-cg&#x27;)</pre></div></div></div></div></div>"
      ],
      "text/plain": [
       "LogisticRegression(C=250, solver='newton-cg')"
      ]
     },
     "execution_count": 17,
     "metadata": {},
     "output_type": "execute_result"
    }
   ],
   "source": [
    "### --- Fitting a Ridge MNR Regularized model on the given data, with the regularization parameter C = 250\n",
    "\n",
    "# - NOTE: LogisticRegression from scikit-learn implements L2 regularization BY DEFAULT\n",
    "# - so, you actually don't need to pass 'penalty' parameter in order to implement Ridge Regularization\n",
    "# - if you want to perform MNR without any regularization with scikit-learn, you need to pass 'penalty=none' parameter\n",
    "\n",
    "log_reg = LogisticRegression(solver='newton-cg', penalty='l2', C=250)\n",
    "log_reg.fit(X, y)"
   ]
  },
  {
   "cell_type": "code",
   "execution_count": 18,
   "id": "fd2ed31c",
   "metadata": {},
   "outputs": [
    {
     "data": {
      "text/plain": [
       "array([-21.92075208,   1.95548122,   8.43134916,   2.14612481,\n",
       "         2.8028652 ,   6.58493168])"
      ]
     },
     "execution_count": 18,
     "metadata": {},
     "output_type": "execute_result"
    }
   ],
   "source": [
    "# - intercept of the model; entries correspond to the orderdering of the categories in the target variable \n",
    "log_reg.intercept_"
   ]
  },
  {
   "cell_type": "code",
   "execution_count": 20,
   "id": "150a11b8",
   "metadata": {
    "scrolled": true
   },
   "outputs": [
    {
     "data": {
      "text/plain": [
       "array([[ 6.14803951e-01,  7.56763474e+00,  2.45865287e+00,\n",
       "         1.14608834e-02,  1.40139205e+01,  1.04510711e-01,\n",
       "        -6.66259221e-02,  3.69122587e-01,  8.72678197e+00,\n",
       "        -2.72743545e+00, -1.87880504e+00],\n",
       "       [-1.13518559e-01,  2.80313116e+00,  1.59509973e-01,\n",
       "         1.14656962e-01,  5.27580878e+00, -5.30471209e-02,\n",
       "         1.69277450e-02, -3.07275513e+00,  1.44599702e+00,\n",
       "        -2.27686797e+00, -3.21108286e-01],\n",
       "       [-1.08836596e-01, -2.44317524e-01, -5.78272970e-01,\n",
       "        -7.99026847e-02,  3.61521325e+00, -3.29943230e-02,\n",
       "         3.37384507e-02,  4.80080982e+00, -7.93598622e-01,\n",
       "        -2.17469094e+00, -5.90818556e-01],\n",
       "       [-1.57653049e-02, -2.89753100e+00, -1.86281805e+00,\n",
       "        -4.66663039e-02,  9.91879988e-01, -1.13792937e-02,\n",
       "         1.73276089e-02,  3.33634205e+00, -9.78561474e-01,\n",
       "         1.27877313e-01,  2.27470082e-01],\n",
       "       [ 3.77687787e-02, -5.39289727e+00, -1.43891422e+00,\n",
       "         9.54358594e-02, -6.43978670e+00, -6.89353735e-03,\n",
       "         6.38593128e-03, -5.26050024e+00, -1.53619932e+00,\n",
       "         2.68808375e+00,  9.38377394e-01],\n",
       "       [-4.14452270e-01, -1.83602011e+00,  1.26184239e+00,\n",
       "        -9.49847164e-02, -1.74570359e+01, -1.96435890e-04,\n",
       "        -7.75381413e-03, -1.73019096e-01, -6.86441957e+00,\n",
       "         4.36303330e+00,  1.62488441e+00]])"
      ]
     },
     "execution_count": 20,
     "metadata": {},
     "output_type": "execute_result"
    }
   ],
   "source": [
    "# - coefficents of the model; rows correspond to the ordering of the categories in the target variable;\n",
    "# - columns correspond to the predictors\n",
    "log_reg.coef_"
   ]
  },
  {
   "cell_type": "code",
   "execution_count": 21,
   "id": "985a77f5",
   "metadata": {},
   "outputs": [
    {
     "data": {
      "text/plain": [
       "0.610381488430269"
      ]
     },
     "execution_count": 21,
     "metadata": {},
     "output_type": "execute_result"
    }
   ],
   "source": [
    "# - accuracy of Ridge Regularization\n",
    "log_reg.score(X, y)"
   ]
  },
  {
   "cell_type": "code",
   "execution_count": 22,
   "id": "db307131",
   "metadata": {
    "scrolled": true
   },
   "outputs": [
    {
     "data": {
      "text/plain": [
       "0.6091307066916823"
      ]
     },
     "execution_count": 22,
     "metadata": {},
     "output_type": "execute_result"
    }
   ],
   "source": [
    "# - accuracy of statsmodel's MNR model without the regularization\n",
    "mnr_acc"
   ]
  },
  {
   "cell_type": "code",
   "execution_count": 23,
   "id": "4148d539",
   "metadata": {},
   "outputs": [],
   "source": [
    "### --- Varying the regularization parameter for the Ridge Regularized Model\n",
    "n_Cs = 25\n",
    "Cs = np.linspace(1e-2, 500, n_Cs)\n",
    "\n",
    "l2_coefs = []\n",
    "accuracies = []\n",
    "frob_norms_matrix = []\n",
    "for C in Cs:\n",
    "    \n",
    "    # - fitting a Ridge Regularization\n",
    "    ridge = LogisticRegression(solver='newton-cg', C=C, max_iter=1000)\n",
    "    ridge.fit(X, y)\n",
    "    \n",
    "    # - squared L2 norm of model coefficients vectors for each category\n",
    "    l2_c = np.linalg.norm(ridge.coef_, ord=2, axis=0)**2\n",
    "    \n",
    "    # - accuracy of a fitted Regularized Model\n",
    "    acc = ridge.score(X, y)\n",
    "    \n",
    "    # - squared Frobenius norm of model coefficient matrix\n",
    "    frob = np.linalg.norm(ridge.coef_, ord=2)**2\n",
    "    \n",
    "    l2_coefs.append(l2_c)\n",
    "    accuracies.append(acc)\n",
    "    frob_norms_matrix.append(frob)"
   ]
  },
  {
   "cell_type": "code",
   "execution_count": 26,
   "id": "80546dbb",
   "metadata": {},
   "outputs": [
    {
     "data": {
      "image/png": "[encoded data removed]",
      "text/plain": [
       "<Figure size 576x432 with 1 Axes>"
      ]
     },
     "metadata": {},
     "output_type": "display_data"
    }
   ],
   "source": [
    "### --- Plotting the dependence of model parameters vs. the regularization hyperparameter\n",
    "ax = plt.gca()\n",
    "\n",
    "ax.plot(Cs, l2_coefs)\n",
    "ax.axvline(x=1, c='r', ls='--') # red line, corresponding to C = 0\n",
    "ax.axvline(x=250, c='g', ls='--') # green line, corresponding to C = 250\n",
    "plt.xlabel(\"C\")\n",
    "plt.ylabel(\"weights\")\n",
    "plt.title(\"Ridge coefficients as a function of the regularization\")\n",
    "plt.axis(\"tight\")\n",
    "plt.legend(predictors)\n",
    "plt.show()"
   ]
  },
  {
   "cell_type": "code",
   "execution_count": 25,
   "id": "cd62f0e1",
   "metadata": {
    "scrolled": false
   },
   "outputs": [
    {
     "data": {
      "image/png": "[encoded data removed]",
      "text/plain": [
       "<Figure size 1152x432 with 2 Axes>"
      ]
     },
     "metadata": {},
     "output_type": "display_data"
    }
   ],
   "source": [
    "### --- Plotting the dependance of various model metrics vs. the regularization hyperparameter\n",
    "ig, ax = plt.subplots(1, 2, figsize=(16, 6), sharex=True)\n",
    "\n",
    "\n",
    "# - squared Frobenius vs. C\n",
    "ax[0].plot(Cs, frob_norms_matrix)\n",
    "ax[0].axvline(x=1, c='r', ls='--') # red line, corresponding to C = 1\n",
    "ax[0].axvline(x=250, c='g', ls='--') # green line, corresponding to C = 250\n",
    "ax[0].set_xlabel(\"C\")\n",
    "ax[0].set_ylabel(\"Frob. norm$^2$\")\n",
    "ax[0].set_title(\"Squared Frobenius norm as a function of the regularization\")\n",
    "ax[0].axis(\"tight\")\n",
    "\n",
    "# - accuracy vs. C\n",
    "ax[1].plot(Cs, accuracies)\n",
    "ax[1].axvline(x=1, c='r', ls='--') # red line\n",
    "ax[1].axvline(x=250, c='g', ls='--') # green line\n",
    "ax[1].set_xlabel(\"C\")\n",
    "ax[1].set_ylabel(\"Accuracy\")\n",
    "ax[1].set_title(\"Model accuracy as a function of the regularization\")\n",
    "ax[1].axis(\"tight\");"
   ]
  },
  {
   "cell_type": "markdown",
   "id": "aee631c5",
   "metadata": {},
   "source": [
    "From the right graph above, we may assume that for regularization hyperparameter C ~ 12.5 we may obtain a good approximation of the best model.\n",
    "\n"
   ]
  },
  {
   "cell_type": "code",
   "execution_count": 27,
   "id": "374f3b63",
   "metadata": {},
   "outputs": [
    {
     "data": {
      "text/html": [
       "<style>#sk-container-id-2 {color: black;background-color: white;}#sk-container-id-2 pre{padding: 0;}#sk-container-id-2 div.sk-toggleable {background-color: white;}#sk-container-id-2 label.sk-toggleable__label {cursor: pointer;display: block;width: 100%;margin-bottom: 0;padding: 0.3em;box-sizing: border-box;text-align: center;}#sk-container-id-2 label.sk-toggleable__label-arrow:before {content: \"▸\";float: left;margin-right: 0.25em;color: #696969;}#sk-container-id-2 label.sk-toggleable__label-arrow:hover:before {color: black;}#sk-container-id-2 div.sk-estimator:hover label.sk-toggleable__label-arrow:before {color: black;}#sk-container-id-2 div.sk-toggleable__content {max-height: 0;max-width: 0;overflow: hidden;text-align: left;background-color: #f0f8ff;}#sk-container-id-2 div.sk-toggleable__content pre {margin: 0.2em;color: black;border-radius: 0.25em;background-color: #f0f8ff;}#sk-container-id-2 input.sk-toggleable__control:checked~div.sk-toggleable__content {max-height: 200px;max-width: 100%;overflow: auto;}#sk-container-id-2 input.sk-toggleable__control:checked~label.sk-toggleable__label-arrow:before {content: \"▾\";}#sk-container-id-2 div.sk-estimator input.sk-toggleable__control:checked~label.sk-toggleable__label {background-color: #d4ebff;}#sk-container-id-2 div.sk-label input.sk-toggleable__control:checked~label.sk-toggleable__label {background-color: #d4ebff;}#sk-container-id-2 input.sk-hidden--visually {border: 0;clip: rect(1px 1px 1px 1px);clip: rect(1px, 1px, 1px, 1px);height: 1px;margin: -1px;overflow: hidden;padding: 0;position: absolute;width: 1px;}#sk-container-id-2 div.sk-estimator {font-family: monospace;background-color: #f0f8ff;border: 1px dotted black;border-radius: 0.25em;box-sizing: border-box;margin-bottom: 0.5em;}#sk-container-id-2 div.sk-estimator:hover {background-color: #d4ebff;}#sk-container-id-2 div.sk-parallel-item::after {content: \"\";width: 100%;border-bottom: 1px solid gray;flex-grow: 1;}#sk-container-id-2 div.sk-label:hover label.sk-toggleable__label {background-color: #d4ebff;}#sk-container-id-2 div.sk-serial::before {content: \"\";position: absolute;border-left: 1px solid gray;box-sizing: border-box;top: 0;bottom: 0;left: 50%;z-index: 0;}#sk-container-id-2 div.sk-serial {display: flex;flex-direction: column;align-items: center;background-color: white;padding-right: 0.2em;padding-left: 0.2em;position: relative;}#sk-container-id-2 div.sk-item {position: relative;z-index: 1;}#sk-container-id-2 div.sk-parallel {display: flex;align-items: stretch;justify-content: center;background-color: white;position: relative;}#sk-container-id-2 div.sk-item::before, #sk-container-id-2 div.sk-parallel-item::before {content: \"\";position: absolute;border-left: 1px solid gray;box-sizing: border-box;top: 0;bottom: 0;left: 50%;z-index: -1;}#sk-container-id-2 div.sk-parallel-item {display: flex;flex-direction: column;z-index: 1;position: relative;background-color: white;}#sk-container-id-2 div.sk-parallel-item:first-child::after {align-self: flex-end;width: 50%;}#sk-container-id-2 div.sk-parallel-item:last-child::after {align-self: flex-start;width: 50%;}#sk-container-id-2 div.sk-parallel-item:only-child::after {width: 0;}#sk-container-id-2 div.sk-dashed-wrapped {border: 1px dashed gray;margin: 0 0.4em 0.5em 0.4em;box-sizing: border-box;padding-bottom: 0.4em;background-color: white;}#sk-container-id-2 div.sk-label label {font-family: monospace;font-weight: bold;display: inline-block;line-height: 1.2em;}#sk-container-id-2 div.sk-label-container {text-align: center;}#sk-container-id-2 div.sk-container {/* jupyter's `normalize.less` sets `[hidden] { display: none; }` but bootstrap.min.css set `[hidden] { display: none !important; }` so we also need the `!important` here to be able to override the default hidden behavior on the sphinx rendered scikit-learn.org. See: https://github.com/scikit-learn/scikit-learn/issues/21755 */display: inline-block !important;position: relative;}#sk-container-id-2 div.sk-text-repr-fallback {display: none;}</style><div id=\"sk-container-id-2\" class=\"sk-top-container\"><div class=\"sk-text-repr-fallback\"><pre>LogisticRegression(C=12.5, solver=&#x27;newton-cg&#x27;)</pre><b>In a Jupyter environment, please rerun this cell to show the HTML representation or trust the notebook. <br />On GitHub, the HTML representation is unable to render, please try loading this page with nbviewer.org.</b></div><div class=\"sk-container\" hidden><div class=\"sk-item\"><div class=\"sk-estimator sk-toggleable\"><input class=\"sk-toggleable__control sk-hidden--visually\" id=\"sk-estimator-id-2\" type=\"checkbox\" checked><label for=\"sk-estimator-id-2\" class=\"sk-toggleable__label sk-toggleable__label-arrow\">LogisticRegression</label><div class=\"sk-toggleable__content\"><pre>LogisticRegression(C=12.5, solver=&#x27;newton-cg&#x27;)</pre></div></div></div></div></div>"
      ],
      "text/plain": [
       "LogisticRegression(C=12.5, solver='newton-cg')"
      ]
     },
     "execution_count": 27,
     "metadata": {},
     "output_type": "execute_result"
    }
   ],
   "source": [
    "### --- Fitting an assumed approximation of the best Ridge Regularized model\n",
    "ridge_best = LogisticRegression(C=12.5, solver='newton-cg')\n",
    "ridge_best.fit(X, y)"
   ]
  },
  {
   "cell_type": "code",
   "execution_count": 28,
   "id": "d23886bc",
   "metadata": {},
   "outputs": [
    {
     "data": {
      "text/plain": [
       "array([-5.36870319, -0.40200138, 11.58437309,  3.49235553, -4.55844927,\n",
       "       -4.74757479])"
      ]
     },
     "execution_count": 28,
     "metadata": {},
     "output_type": "execute_result"
    }
   ],
   "source": [
    "ridge_best.intercept_"
   ]
  },
  {
   "cell_type": "code",
   "execution_count": 29,
   "id": "70014854",
   "metadata": {
    "scrolled": true
   },
   "outputs": [
    {
     "data": {
      "text/plain": [
       "array([[ 3.45549775e-01,  6.58733940e+00,  1.36310056e+00,\n",
       "         9.23288000e-02,  3.03620804e+00,  8.65226195e-02,\n",
       "        -6.34795536e-02,  2.68289765e-02,  3.83621757e+00,\n",
       "        -1.03498214e+00, -1.53389937e+00],\n",
       "       [-1.28796833e-01,  2.91022314e+00,  4.25363277e-01,\n",
       "         1.16383928e-01,  1.81702215e+00, -4.80549423e-02,\n",
       "         1.45603721e-02, -1.43138264e-01,  1.44750820e+00,\n",
       "        -1.93177259e+00, -3.85766308e-01],\n",
       "       [-8.69221363e-02,  6.00823040e-02, -1.86469471e-01,\n",
       "        -7.78867289e-02,  2.24085323e+00, -2.76364534e-02,\n",
       "         3.12840393e-02,  2.63178557e-01, -2.91219185e-01,\n",
       "        -2.28454575e+00, -6.66343573e-01],\n",
       "       [ 1.11162390e-02, -2.53942397e+00, -1.44085328e+00,\n",
       "        -4.64611861e-02,  2.20915151e-01, -6.14488130e-03,\n",
       "         1.49491281e-02,  1.89260606e-01, -3.73775558e-01,\n",
       "        -1.14570432e-01,  1.55758454e-01],\n",
       "       [ 6.53378941e-02, -5.04475830e+00, -1.07785365e+00,\n",
       "         8.43238762e-02, -4.14733996e+00, -2.33029029e-03,\n",
       "         4.76181586e-03, -3.01191618e-01, -8.08393553e-01,\n",
       "         2.27083839e+00,  8.79433165e-01],\n",
       "       [-2.06284939e-01, -1.97346258e+00,  9.16712559e-01,\n",
       "        -1.68688689e-01, -3.16765861e+00, -2.35605213e-03,\n",
       "        -2.07580181e-03, -3.49382588e-02, -3.81033748e+00,\n",
       "         3.09503252e+00,  1.55081764e+00]])"
      ]
     },
     "execution_count": 29,
     "metadata": {},
     "output_type": "execute_result"
    }
   ],
   "source": [
    "ridge_best.coef_"
   ]
  },
  {
   "cell_type": "code",
   "execution_count": 30,
   "id": "0b73638d",
   "metadata": {},
   "outputs": [
    {
     "data": {
      "text/plain": [
       "0.6128830519074422"
      ]
     },
     "execution_count": 30,
     "metadata": {},
     "output_type": "execute_result"
    }
   ],
   "source": [
    "# - accuracy of our model\n",
    "ridge_best.score(X, y)"
   ]
  },
  {
   "cell_type": "markdown",
   "id": "0fac7f55",
   "metadata": {},
   "source": [
    "We did manage to obtain even more accurate model! But is this the best we can?"
   ]
  },
  {
   "cell_type": "markdown",
   "id": "005c71d7",
   "metadata": {},
   "source": [
    "### Cross-validation: The search for the best regularization hyperparameter"
   ]
  },
  {
   "cell_type": "code",
   "execution_count": 31,
   "id": "11d59632",
   "metadata": {},
   "outputs": [
    {
     "data": {
      "text/html": [
       "<style>#sk-container-id-3 {color: black;background-color: white;}#sk-container-id-3 pre{padding: 0;}#sk-container-id-3 div.sk-toggleable {background-color: white;}#sk-container-id-3 label.sk-toggleable__label {cursor: pointer;display: block;width: 100%;margin-bottom: 0;padding: 0.3em;box-sizing: border-box;text-align: center;}#sk-container-id-3 label.sk-toggleable__label-arrow:before {content: \"▸\";float: left;margin-right: 0.25em;color: #696969;}#sk-container-id-3 label.sk-toggleable__label-arrow:hover:before {color: black;}#sk-container-id-3 div.sk-estimator:hover label.sk-toggleable__label-arrow:before {color: black;}#sk-container-id-3 div.sk-toggleable__content {max-height: 0;max-width: 0;overflow: hidden;text-align: left;background-color: #f0f8ff;}#sk-container-id-3 div.sk-toggleable__content pre {margin: 0.2em;color: black;border-radius: 0.25em;background-color: #f0f8ff;}#sk-container-id-3 input.sk-toggleable__control:checked~div.sk-toggleable__content {max-height: 200px;max-width: 100%;overflow: auto;}#sk-container-id-3 input.sk-toggleable__control:checked~label.sk-toggleable__label-arrow:before {content: \"▾\";}#sk-container-id-3 div.sk-estimator input.sk-toggleable__control:checked~label.sk-toggleable__label {background-color: #d4ebff;}#sk-container-id-3 div.sk-label input.sk-toggleable__control:checked~label.sk-toggleable__label {background-color: #d4ebff;}#sk-container-id-3 input.sk-hidden--visually {border: 0;clip: rect(1px 1px 1px 1px);clip: rect(1px, 1px, 1px, 1px);height: 1px;margin: -1px;overflow: hidden;padding: 0;position: absolute;width: 1px;}#sk-container-id-3 div.sk-estimator {font-family: monospace;background-color: #f0f8ff;border: 1px dotted black;border-radius: 0.25em;box-sizing: border-box;margin-bottom: 0.5em;}#sk-container-id-3 div.sk-estimator:hover {background-color: #d4ebff;}#sk-container-id-3 div.sk-parallel-item::after {content: \"\";width: 100%;border-bottom: 1px solid gray;flex-grow: 1;}#sk-container-id-3 div.sk-label:hover label.sk-toggleable__label {background-color: #d4ebff;}#sk-container-id-3 div.sk-serial::before {content: \"\";position: absolute;border-left: 1px solid gray;box-sizing: border-box;top: 0;bottom: 0;left: 50%;z-index: 0;}#sk-container-id-3 div.sk-serial {display: flex;flex-direction: column;align-items: center;background-color: white;padding-right: 0.2em;padding-left: 0.2em;position: relative;}#sk-container-id-3 div.sk-item {position: relative;z-index: 1;}#sk-container-id-3 div.sk-parallel {display: flex;align-items: stretch;justify-content: center;background-color: white;position: relative;}#sk-container-id-3 div.sk-item::before, #sk-container-id-3 div.sk-parallel-item::before {content: \"\";position: absolute;border-left: 1px solid gray;box-sizing: border-box;top: 0;bottom: 0;left: 50%;z-index: -1;}#sk-container-id-3 div.sk-parallel-item {display: flex;flex-direction: column;z-index: 1;position: relative;background-color: white;}#sk-container-id-3 div.sk-parallel-item:first-child::after {align-self: flex-end;width: 50%;}#sk-container-id-3 div.sk-parallel-item:last-child::after {align-self: flex-start;width: 50%;}#sk-container-id-3 div.sk-parallel-item:only-child::after {width: 0;}#sk-container-id-3 div.sk-dashed-wrapped {border: 1px dashed gray;margin: 0 0.4em 0.5em 0.4em;box-sizing: border-box;padding-bottom: 0.4em;background-color: white;}#sk-container-id-3 div.sk-label label {font-family: monospace;font-weight: bold;display: inline-block;line-height: 1.2em;}#sk-container-id-3 div.sk-label-container {text-align: center;}#sk-container-id-3 div.sk-container {/* jupyter's `normalize.less` sets `[hidden] { display: none; }` but bootstrap.min.css set `[hidden] { display: none !important; }` so we also need the `!important` here to be able to override the default hidden behavior on the sphinx rendered scikit-learn.org. See: https://github.com/scikit-learn/scikit-learn/issues/21755 */display: inline-block !important;position: relative;}#sk-container-id-3 div.sk-text-repr-fallback {display: none;}</style><div id=\"sk-container-id-3\" class=\"sk-top-container\"><div class=\"sk-text-repr-fallback\"><pre>LogisticRegressionCV(max_iter=1000, solver=&#x27;newton-cg&#x27;)</pre><b>In a Jupyter environment, please rerun this cell to show the HTML representation or trust the notebook. <br />On GitHub, the HTML representation is unable to render, please try loading this page with nbviewer.org.</b></div><div class=\"sk-container\" hidden><div class=\"sk-item\"><div class=\"sk-estimator sk-toggleable\"><input class=\"sk-toggleable__control sk-hidden--visually\" id=\"sk-estimator-id-3\" type=\"checkbox\" checked><label for=\"sk-estimator-id-3\" class=\"sk-toggleable__label sk-toggleable__label-arrow\">LogisticRegressionCV</label><div class=\"sk-toggleable__content\"><pre>LogisticRegressionCV(max_iter=1000, solver=&#x27;newton-cg&#x27;)</pre></div></div></div></div></div>"
      ],
      "text/plain": [
       "LogisticRegressionCV(max_iter=1000, solver='newton-cg')"
      ]
     },
     "execution_count": 31,
     "metadata": {},
     "output_type": "execute_result"
    }
   ],
   "source": [
    "### --- Performing the cross-validation across 10 log-distributed values of C in the [10^(-4), 10^4] interval\n",
    "ridgeCV = LogisticRegressionCV(Cs=10, solver='newton-cg', max_iter=1000)\n",
    "ridgeCV.fit(X, y)"
   ]
  },
  {
   "cell_type": "code",
   "execution_count": 32,
   "id": "b00b36db",
   "metadata": {},
   "outputs": [
    {
     "data": {
      "text/plain": [
       "array([21.5443469, 21.5443469, 21.5443469, 21.5443469, 21.5443469,\n",
       "       21.5443469])"
      ]
     },
     "execution_count": 32,
     "metadata": {},
     "output_type": "execute_result"
    }
   ],
   "source": [
    "# - regularization hyperparameters for the best model\n",
    "# - note that we do not obtain a singe C, but a set of regularization hyperparameters\n",
    "# - each entry corresponds to the best regularization value for a given category\n",
    "ridgeCV.C_"
   ]
  },
  {
   "cell_type": "code",
   "execution_count": 33,
   "id": "b03df5cb",
   "metadata": {},
   "outputs": [
    {
     "data": {
      "text/plain": [
       "array([-8.70703436, -0.6268013 , 11.60633644,  3.69046602, -3.80397255,\n",
       "       -2.15899426])"
      ]
     },
     "execution_count": 33,
     "metadata": {},
     "output_type": "execute_result"
    }
   ],
   "source": [
    "ridgeCV.intercept_"
   ]
  },
  {
   "cell_type": "code",
   "execution_count": 35,
   "id": "62719acf",
   "metadata": {
    "scrolled": true
   },
   "outputs": [
    {
     "data": {
      "text/plain": [
       "array([[ 3.92136523e-01,  7.10622562e+00,  1.91394294e+00,\n",
       "         7.46392207e-02,  4.57710990e+00,  9.24234412e-02,\n",
       "        -6.52203648e-02,  4.34018924e-02,  4.93801348e+00,\n",
       "        -1.22160998e+00, -1.66053591e+00],\n",
       "       [-1.21534890e-01,  2.90788123e+00,  3.71505773e-01,\n",
       "         1.15774455e-01,  2.51955341e+00, -4.94293304e-02,\n",
       "         1.52333700e-02, -2.53675412e-01,  1.49553963e+00,\n",
       "        -2.08825508e+00, -3.65376147e-01],\n",
       "       [-8.72968281e-02, -3.02295076e-02, -3.16930577e-01,\n",
       "        -7.78551242e-02,  2.44378230e+00, -2.92766472e-02,\n",
       "         3.20699892e-02,  4.42747262e-01, -3.87376376e-01,\n",
       "        -2.31298916e+00, -6.41490196e-01],\n",
       "       [ 9.36081293e-03, -2.65791244e+00, -1.58917105e+00,\n",
       "        -4.59737341e-02,  2.61416751e-01, -7.79036318e-03,\n",
       "         1.57259097e-02,  3.17240946e-01, -5.00145962e-01,\n",
       "        -1.02728491e-01,  1.80037670e-01],\n",
       "       [ 6.19513711e-02, -5.19631840e+00, -1.23124123e+00,\n",
       "         8.75564597e-02, -4.92405100e+00, -3.78764476e-03,\n",
       "         5.31143661e-03, -5.01452736e-01, -9.82542086e-01,\n",
       "         2.33637593e+00,  9.02106032e-01],\n",
       "       [-2.54616989e-01, -2.12964651e+00,  8.51894142e-01,\n",
       "        -1.54141277e-01, -4.87781136e+00, -2.13945568e-03,\n",
       "        -3.12034067e-03, -4.82619518e-02, -4.56348869e+00,\n",
       "         3.38920678e+00,  1.58525855e+00]])"
      ]
     },
     "execution_count": 35,
     "metadata": {},
     "output_type": "execute_result"
    }
   ],
   "source": [
    "ridgeCV.coef_"
   ]
  },
  {
   "cell_type": "code",
   "execution_count": 36,
   "id": "89c6ac50",
   "metadata": {},
   "outputs": [
    {
     "data": {
      "text/plain": [
       "0.6135084427767354"
      ]
     },
     "execution_count": 36,
     "metadata": {},
     "output_type": "execute_result"
    }
   ],
   "source": [
    "# - accuracy of the model obtained through the  cross-validation\n",
    "ridgeCV.score(X, y)"
   ]
  },
  {
   "cell_type": "markdown",
   "id": "622c2e4b",
   "metadata": {},
   "source": [
    "We have managed to obtained and even more accurate model through Ridge Regularization and cross-validation!"
   ]
  },
  {
   "cell_type": "code",
   "execution_count": 37,
   "id": "f39e1014",
   "metadata": {},
   "outputs": [
    {
     "data": {
      "text/plain": [
       "array([[  1,   1,   7,   1,   0,   0],\n",
       "       [  0,   1,  35,  16,   1,   0],\n",
       "       [  2,   0, 517, 158,   4,   0],\n",
       "       [  0,   0, 206, 397,  35,   0],\n",
       "       [  0,   0,  13, 121,  65,   0],\n",
       "       [  0,   0,   0,  10,   8,   0]], dtype=int64)"
      ]
     },
     "execution_count": 37,
     "metadata": {},
     "output_type": "execute_result"
    }
   ],
   "source": [
    "confusion_matrix(y, ridgeCV.predict(X))"
   ]
  },
  {
   "cell_type": "markdown",
   "id": "946fa25b",
   "metadata": {},
   "source": [
    "## Task 1"
   ]
  },
  {
   "cell_type": "markdown",
   "id": "861a25b5",
   "metadata": {},
   "source": [
    "### LASSO (L1) Regularization"
   ]
  },
  {
   "cell_type": "markdown",
   "id": "a18ffd2f",
   "metadata": {},
   "source": [
    "*LASSO* is another way to regularize MNR model. It's obtained by minimizing the function\n",
    "\n",
    "$$-C\\cdot LL + \\frac{1}{2}L_1,$$\n",
    "\n",
    "where $LL$ is Log-Likelihood of the 'ordinary' MNR, and $L_1$ is the $L_1$ norm of model parameters matrix $W$:\n",
    "\n",
    "$$L_1 = ||W||_1 = \\sum_{i=1}^k\\sum_{j=1}^K|\\beta_i^{(j)}|.$$\n",
    "\n",
    "$C$ is, of course regularization hyperparameter."
   ]
  },
  {
   "cell_type": "markdown",
   "id": "af133708",
   "metadata": {},
   "source": [
    "Both Ridge and LASSO Regularizations are a part of a more general *Elastic-net* Regularization, obtaned by minimizing the function \n",
    "\n",
    "$$-C\\cdot LL + \\rho L_1 + \\frac{1 - \\rho}{2}L_2^2$$\n",
    "\n",
    "where $\\rho\\in[0,1]$ is yet another hyperparameter. For $\\rho = 0$ one recovers Ridge Regularization, and for $\\rho = 1$ LASSO Regularization."
   ]
  },
  {
   "cell_type": "code",
   "execution_count": 38,
   "id": "2bad3d47",
   "metadata": {},
   "outputs": [],
   "source": [
    "### --- Varying the penalization parameter for the LASSO Regularized Model\n",
    "n_Cs = 25\n",
    "Cs = np.linspace(1e-2, 500, n_Cs)\n",
    "\n",
    "l1_coefs = []\n",
    "accuracies = []\n",
    "l1_norms_matrix = []\n",
    "for C in Cs:\n",
    "    # - fitting a LASSO Regularization\n",
    "    ridge = LogisticRegression(solver='liblinear', penalty='l1', C=C, max_iter=1000)\n",
    "    ridge.fit(X, y)\n",
    "    \n",
    "    # - L1 norm of model coefficients vectors for each category\n",
    "    l1_c = np.linalg.norm(ridge.coef_, ord=1, axis=0)\n",
    "    \n",
    "    # - accuracy of a fitted Regularized Model\n",
    "    acc = ridge.score(X, y)\n",
    "    \n",
    "    # - L1 norm of model coefficient matrix\n",
    "    l1_m = np.linalg.norm(ridge.coef_, ord=1)\n",
    "    \n",
    "    l1_coefs.append(l1_c)\n",
    "    accuracies.append(acc)\n",
    "    l1_norms_matrix.append(l1_m)"
   ]
  },
  {
   "cell_type": "code",
   "execution_count": 39,
   "id": "f79f548f",
   "metadata": {},
   "outputs": [
    {
     "data": {
      "image/png": "[encoded data removed]",
      "text/plain": [
       "<Figure size 576x432 with 1 Axes>"
      ]
     },
     "metadata": {},
     "output_type": "display_data"
    }
   ],
   "source": [
    "### --- Plotting the dependence of model parameters vs. the regularization hyperparameter\n",
    "ax = plt.gca()\n",
    "\n",
    "ax.plot(Cs, l1_coefs)\n",
    "ax.axvline(x=1, c='r', ls='--') # red line, corresponding to C = 1\n",
    "plt.xlabel(\"C\")\n",
    "plt.ylabel(\"weights\")\n",
    "plt.title(\"LASSO coefficients as a function of the regularization\")\n",
    "plt.axis(\"tight\")\n",
    "plt.legend(predictors)\n",
    "plt.show()"
   ]
  },
  {
   "cell_type": "code",
   "execution_count": 40,
   "id": "11498f03",
   "metadata": {},
   "outputs": [
    {
     "data": {
      "image/png": "[encoded data removed]",
      "text/plain": [
       "<Figure size 1152x432 with 2 Axes>"
      ]
     },
     "metadata": {},
     "output_type": "display_data"
    }
   ],
   "source": [
    "### --- Plotting the dependance of various model metrics vs. the regularization hyperparameter\n",
    "ig, ax = plt.subplots(1, 2, figsize=(16, 6), sharex=True)\n",
    "\n",
    "\n",
    "# - L1-norm vs. C\n",
    "ax[0].plot(Cs, l1_norms_matrix)\n",
    "ax[0].axvline(x=1, c='r', ls='--') # red line\n",
    "ax[0].set_xlabel(\"C\")\n",
    "ax[0].set_ylabel(\"$L_1$ norm\")\n",
    "ax[0].set_title(\"$L_1$ norm as a function of the regularization\")\n",
    "ax[0].axis(\"tight\")\n",
    "\n",
    "# - Model accuracy vs. C\n",
    "ax[1].plot(Cs, accuracies)\n",
    "ax[1].axvline(x=1, c='r', ls='--') # red line\n",
    "ax[1].set_xlabel(\"C\")\n",
    "ax[1].set_ylabel(\"Accuracy\")\n",
    "ax[1].set_title(\"Model accuracy as a function of the regularization\")\n",
    "ax[1].axis(\"tight\");"
   ]
  },
  {
   "cell_type": "code",
   "execution_count": 41,
   "id": "15e53928",
   "metadata": {},
   "outputs": [
    {
     "data": {
      "text/html": [
       "<style>#sk-container-id-4 {color: black;background-color: white;}#sk-container-id-4 pre{padding: 0;}#sk-container-id-4 div.sk-toggleable {background-color: white;}#sk-container-id-4 label.sk-toggleable__label {cursor: pointer;display: block;width: 100%;margin-bottom: 0;padding: 0.3em;box-sizing: border-box;text-align: center;}#sk-container-id-4 label.sk-toggleable__label-arrow:before {content: \"▸\";float: left;margin-right: 0.25em;color: #696969;}#sk-container-id-4 label.sk-toggleable__label-arrow:hover:before {color: black;}#sk-container-id-4 div.sk-estimator:hover label.sk-toggleable__label-arrow:before {color: black;}#sk-container-id-4 div.sk-toggleable__content {max-height: 0;max-width: 0;overflow: hidden;text-align: left;background-color: #f0f8ff;}#sk-container-id-4 div.sk-toggleable__content pre {margin: 0.2em;color: black;border-radius: 0.25em;background-color: #f0f8ff;}#sk-container-id-4 input.sk-toggleable__control:checked~div.sk-toggleable__content {max-height: 200px;max-width: 100%;overflow: auto;}#sk-container-id-4 input.sk-toggleable__control:checked~label.sk-toggleable__label-arrow:before {content: \"▾\";}#sk-container-id-4 div.sk-estimator input.sk-toggleable__control:checked~label.sk-toggleable__label {background-color: #d4ebff;}#sk-container-id-4 div.sk-label input.sk-toggleable__control:checked~label.sk-toggleable__label {background-color: #d4ebff;}#sk-container-id-4 input.sk-hidden--visually {border: 0;clip: rect(1px 1px 1px 1px);clip: rect(1px, 1px, 1px, 1px);height: 1px;margin: -1px;overflow: hidden;padding: 0;position: absolute;width: 1px;}#sk-container-id-4 div.sk-estimator {font-family: monospace;background-color: #f0f8ff;border: 1px dotted black;border-radius: 0.25em;box-sizing: border-box;margin-bottom: 0.5em;}#sk-container-id-4 div.sk-estimator:hover {background-color: #d4ebff;}#sk-container-id-4 div.sk-parallel-item::after {content: \"\";width: 100%;border-bottom: 1px solid gray;flex-grow: 1;}#sk-container-id-4 div.sk-label:hover label.sk-toggleable__label {background-color: #d4ebff;}#sk-container-id-4 div.sk-serial::before {content: \"\";position: absolute;border-left: 1px solid gray;box-sizing: border-box;top: 0;bottom: 0;left: 50%;z-index: 0;}#sk-container-id-4 div.sk-serial {display: flex;flex-direction: column;align-items: center;background-color: white;padding-right: 0.2em;padding-left: 0.2em;position: relative;}#sk-container-id-4 div.sk-item {position: relative;z-index: 1;}#sk-container-id-4 div.sk-parallel {display: flex;align-items: stretch;justify-content: center;background-color: white;position: relative;}#sk-container-id-4 div.sk-item::before, #sk-container-id-4 div.sk-parallel-item::before {content: \"\";position: absolute;border-left: 1px solid gray;box-sizing: border-box;top: 0;bottom: 0;left: 50%;z-index: -1;}#sk-container-id-4 div.sk-parallel-item {display: flex;flex-direction: column;z-index: 1;position: relative;background-color: white;}#sk-container-id-4 div.sk-parallel-item:first-child::after {align-self: flex-end;width: 50%;}#sk-container-id-4 div.sk-parallel-item:last-child::after {align-self: flex-start;width: 50%;}#sk-container-id-4 div.sk-parallel-item:only-child::after {width: 0;}#sk-container-id-4 div.sk-dashed-wrapped {border: 1px dashed gray;margin: 0 0.4em 0.5em 0.4em;box-sizing: border-box;padding-bottom: 0.4em;background-color: white;}#sk-container-id-4 div.sk-label label {font-family: monospace;font-weight: bold;display: inline-block;line-height: 1.2em;}#sk-container-id-4 div.sk-label-container {text-align: center;}#sk-container-id-4 div.sk-container {/* jupyter's `normalize.less` sets `[hidden] { display: none; }` but bootstrap.min.css set `[hidden] { display: none !important; }` so we also need the `!important` here to be able to override the default hidden behavior on the sphinx rendered scikit-learn.org. See: https://github.com/scikit-learn/scikit-learn/issues/21755 */display: inline-block !important;position: relative;}#sk-container-id-4 div.sk-text-repr-fallback {display: none;}</style><div id=\"sk-container-id-4\" class=\"sk-top-container\"><div class=\"sk-text-repr-fallback\"><pre>LogisticRegression(C=12.5, penalty=&#x27;l1&#x27;, solver=&#x27;liblinear&#x27;)</pre><b>In a Jupyter environment, please rerun this cell to show the HTML representation or trust the notebook. <br />On GitHub, the HTML representation is unable to render, please try loading this page with nbviewer.org.</b></div><div class=\"sk-container\" hidden><div class=\"sk-item\"><div class=\"sk-estimator sk-toggleable\"><input class=\"sk-toggleable__control sk-hidden--visually\" id=\"sk-estimator-id-4\" type=\"checkbox\" checked><label for=\"sk-estimator-id-4\" class=\"sk-toggleable__label sk-toggleable__label-arrow\">LogisticRegression</label><div class=\"sk-toggleable__content\"><pre>LogisticRegression(C=12.5, penalty=&#x27;l1&#x27;, solver=&#x27;liblinear&#x27;)</pre></div></div></div></div></div>"
      ],
      "text/plain": [
       "LogisticRegression(C=12.5, penalty='l1', solver='liblinear')"
      ]
     },
     "execution_count": 41,
     "metadata": {},
     "output_type": "execute_result"
    }
   ],
   "source": [
    "# - fitting an assumed best approximation for C = 12.5\n",
    "lasso_best = LogisticRegression(C=12.5, solver='liblinear', penalty='l1')\n",
    "lasso_best.fit(X, y)"
   ]
  },
  {
   "cell_type": "code",
   "execution_count": 42,
   "id": "a33b308a",
   "metadata": {},
   "outputs": [
    {
     "data": {
      "text/plain": [
       "array([-6.55180207, -2.88883366,  4.32526247, -1.64351779, -3.47850571,\n",
       "        0.        ])"
      ]
     },
     "execution_count": 42,
     "metadata": {},
     "output_type": "execute_result"
    }
   ],
   "source": [
    "lasso_best.intercept_"
   ]
  },
  {
   "cell_type": "code",
   "execution_count": 43,
   "id": "0877346c",
   "metadata": {
    "scrolled": true
   },
   "outputs": [
    {
     "data": {
      "text/plain": [
       "array([[ 3.65817818e-01,  7.90273263e+00,  2.08109113e+00,\n",
       "         8.57437737e-02,  6.59875115e+00,  1.24895669e-01,\n",
       "        -9.27332666e-02, -3.04471322e+00,  3.81915533e+00,\n",
       "        -2.94462641e-01, -1.62552021e+00],\n",
       "       [-1.42110614e-01,  3.72258059e+00,  7.93424523e-01,\n",
       "         1.74363533e-01,  9.45097376e-01, -2.60742348e-02,\n",
       "        -1.04352303e-02, -2.68439658e+00,  1.35173036e+00,\n",
       "        -9.21484664e-01, -2.65444221e-01],\n",
       "       [-7.74349772e-02,  1.72295246e+00,  5.99198708e-01,\n",
       "        -6.28049559e-02,  2.95669774e+00, -1.95749296e-02,\n",
       "         1.86240702e-02,  4.66932292e+00,  9.14533891e-02,\n",
       "        -2.38186534e+00, -8.86057172e-01],\n",
       "       [ 7.16488868e-02, -1.70490889e+00, -1.30881513e+00,\n",
       "        -2.12503899e-02, -1.40512482e-01,  2.30174891e-02,\n",
       "        -1.22434064e-02, -1.26149262e+00,  1.93502866e-01,\n",
       "         8.75446853e-01,  2.07804329e-01],\n",
       "       [ 6.88340978e-02, -3.45256013e+00, -6.47023635e-02,\n",
       "         1.39022662e-01, -7.44742495e+00,  1.29932492e-02,\n",
       "        -1.63032165e-02, -5.34064228e+00, -8.47325155e-01,\n",
       "         2.99882506e+00,  8.58081390e-01],\n",
       "       [-3.61246971e-01,  5.85506847e-01,  2.40622419e+00,\n",
       "        -1.25143810e-01, -1.28246707e+01,  1.09098321e-02,\n",
       "        -2.16175040e-02,  0.00000000e+00, -5.04586240e+00,\n",
       "         3.43951978e+00,  1.21173417e+00]])"
      ]
     },
     "execution_count": 43,
     "metadata": {},
     "output_type": "execute_result"
    }
   ],
   "source": [
    "lasso_best.coef_"
   ]
  },
  {
   "cell_type": "code",
   "execution_count": 44,
   "id": "7c33005f",
   "metadata": {},
   "outputs": [
    {
     "data": {
      "text/plain": [
       "0.5966228893058161"
      ]
     },
     "execution_count": 44,
     "metadata": {},
     "output_type": "execute_result"
    }
   ],
   "source": [
    "lasso_best.score(X, y)"
   ]
  },
  {
   "cell_type": "code",
   "execution_count": 45,
   "id": "3cfa67dc",
   "metadata": {
    "scrolled": true
   },
   "outputs": [
    {
     "data": {
      "text/plain": [
       "0.6091307066916823"
      ]
     },
     "execution_count": 45,
     "metadata": {},
     "output_type": "execute_result"
    }
   ],
   "source": [
    "mnr_acc"
   ]
  },
  {
   "cell_type": "markdown",
   "id": "fba49eb0",
   "metadata": {},
   "source": [
    "### Cross-validation"
   ]
  },
  {
   "cell_type": "code",
   "execution_count": 46,
   "id": "9ce4d7a0",
   "metadata": {},
   "outputs": [
    {
     "data": {
      "text/html": [
       "<style>#sk-container-id-5 {color: black;background-color: white;}#sk-container-id-5 pre{padding: 0;}#sk-container-id-5 div.sk-toggleable {background-color: white;}#sk-container-id-5 label.sk-toggleable__label {cursor: pointer;display: block;width: 100%;margin-bottom: 0;padding: 0.3em;box-sizing: border-box;text-align: center;}#sk-container-id-5 label.sk-toggleable__label-arrow:before {content: \"▸\";float: left;margin-right: 0.25em;color: #696969;}#sk-container-id-5 label.sk-toggleable__label-arrow:hover:before {color: black;}#sk-container-id-5 div.sk-estimator:hover label.sk-toggleable__label-arrow:before {color: black;}#sk-container-id-5 div.sk-toggleable__content {max-height: 0;max-width: 0;overflow: hidden;text-align: left;background-color: #f0f8ff;}#sk-container-id-5 div.sk-toggleable__content pre {margin: 0.2em;color: black;border-radius: 0.25em;background-color: #f0f8ff;}#sk-container-id-5 input.sk-toggleable__control:checked~div.sk-toggleable__content {max-height: 200px;max-width: 100%;overflow: auto;}#sk-container-id-5 input.sk-toggleable__control:checked~label.sk-toggleable__label-arrow:before {content: \"▾\";}#sk-container-id-5 div.sk-estimator input.sk-toggleable__control:checked~label.sk-toggleable__label {background-color: #d4ebff;}#sk-container-id-5 div.sk-label input.sk-toggleable__control:checked~label.sk-toggleable__label {background-color: #d4ebff;}#sk-container-id-5 input.sk-hidden--visually {border: 0;clip: rect(1px 1px 1px 1px);clip: rect(1px, 1px, 1px, 1px);height: 1px;margin: -1px;overflow: hidden;padding: 0;position: absolute;width: 1px;}#sk-container-id-5 div.sk-estimator {font-family: monospace;background-color: #f0f8ff;border: 1px dotted black;border-radius: 0.25em;box-sizing: border-box;margin-bottom: 0.5em;}#sk-container-id-5 div.sk-estimator:hover {background-color: #d4ebff;}#sk-container-id-5 div.sk-parallel-item::after {content: \"\";width: 100%;border-bottom: 1px solid gray;flex-grow: 1;}#sk-container-id-5 div.sk-label:hover label.sk-toggleable__label {background-color: #d4ebff;}#sk-container-id-5 div.sk-serial::before {content: \"\";position: absolute;border-left: 1px solid gray;box-sizing: border-box;top: 0;bottom: 0;left: 50%;z-index: 0;}#sk-container-id-5 div.sk-serial {display: flex;flex-direction: column;align-items: center;background-color: white;padding-right: 0.2em;padding-left: 0.2em;position: relative;}#sk-container-id-5 div.sk-item {position: relative;z-index: 1;}#sk-container-id-5 div.sk-parallel {display: flex;align-items: stretch;justify-content: center;background-color: white;position: relative;}#sk-container-id-5 div.sk-item::before, #sk-container-id-5 div.sk-parallel-item::before {content: \"\";position: absolute;border-left: 1px solid gray;box-sizing: border-box;top: 0;bottom: 0;left: 50%;z-index: -1;}#sk-container-id-5 div.sk-parallel-item {display: flex;flex-direction: column;z-index: 1;position: relative;background-color: white;}#sk-container-id-5 div.sk-parallel-item:first-child::after {align-self: flex-end;width: 50%;}#sk-container-id-5 div.sk-parallel-item:last-child::after {align-self: flex-start;width: 50%;}#sk-container-id-5 div.sk-parallel-item:only-child::after {width: 0;}#sk-container-id-5 div.sk-dashed-wrapped {border: 1px dashed gray;margin: 0 0.4em 0.5em 0.4em;box-sizing: border-box;padding-bottom: 0.4em;background-color: white;}#sk-container-id-5 div.sk-label label {font-family: monospace;font-weight: bold;display: inline-block;line-height: 1.2em;}#sk-container-id-5 div.sk-label-container {text-align: center;}#sk-container-id-5 div.sk-container {/* jupyter's `normalize.less` sets `[hidden] { display: none; }` but bootstrap.min.css set `[hidden] { display: none !important; }` so we also need the `!important` here to be able to override the default hidden behavior on the sphinx rendered scikit-learn.org. See: https://github.com/scikit-learn/scikit-learn/issues/21755 */display: inline-block !important;position: relative;}#sk-container-id-5 div.sk-text-repr-fallback {display: none;}</style><div id=\"sk-container-id-5\" class=\"sk-top-container\"><div class=\"sk-text-repr-fallback\"><pre>LogisticRegressionCV(max_iter=1000, penalty=&#x27;l1&#x27;, solver=&#x27;liblinear&#x27;)</pre><b>In a Jupyter environment, please rerun this cell to show the HTML representation or trust the notebook. <br />On GitHub, the HTML representation is unable to render, please try loading this page with nbviewer.org.</b></div><div class=\"sk-container\" hidden><div class=\"sk-item\"><div class=\"sk-estimator sk-toggleable\"><input class=\"sk-toggleable__control sk-hidden--visually\" id=\"sk-estimator-id-5\" type=\"checkbox\" checked><label for=\"sk-estimator-id-5\" class=\"sk-toggleable__label sk-toggleable__label-arrow\">LogisticRegressionCV</label><div class=\"sk-toggleable__content\"><pre>LogisticRegressionCV(max_iter=1000, penalty=&#x27;l1&#x27;, solver=&#x27;liblinear&#x27;)</pre></div></div></div></div></div>"
      ],
      "text/plain": [
       "LogisticRegressionCV(max_iter=1000, penalty='l1', solver='liblinear')"
      ]
     },
     "execution_count": 46,
     "metadata": {},
     "output_type": "execute_result"
    }
   ],
   "source": [
    "### --- Performing the cross-validation across 10 log-distributed values of C in the [10^(-4), 10^4] interval\n",
    "lassoCV = LogisticRegressionCV(Cs=10, solver='liblinear', penalty='l1', max_iter=1000)\n",
    "lassoCV.fit(X, y)"
   ]
  },
  {
   "cell_type": "code",
   "execution_count": 47,
   "id": "72232f8f",
   "metadata": {},
   "outputs": [
    {
     "data": {
      "text/plain": [
       "array([1.00000000e-04, 1.00000000e-04, 1.66810054e+02, 5.99484250e-03,\n",
       "       2.78255940e+00, 1.00000000e-04])"
      ]
     },
     "execution_count": 47,
     "metadata": {},
     "output_type": "execute_result"
    }
   ],
   "source": [
    "# - regularization values obtained through the cross-validation\n",
    "lassoCV.C_"
   ]
  },
  {
   "cell_type": "code",
   "execution_count": 48,
   "id": "78424fc6",
   "metadata": {},
   "outputs": [
    {
     "data": {
      "text/plain": [
       "array([ 0.        ,  0.        ,  4.35742754,  0.        , -3.95619528,\n",
       "        0.        ])"
      ]
     },
     "execution_count": 48,
     "metadata": {},
     "output_type": "execute_result"
    }
   ],
   "source": [
    "lassoCV.intercept_"
   ]
  },
  {
   "cell_type": "code",
   "execution_count": 49,
   "id": "ef968eaa",
   "metadata": {},
   "outputs": [
    {
     "data": {
      "text/plain": [
       "array([[ 0.        ,  0.        ,  0.        ,  0.        ,  0.        ,\n",
       "         0.        , -0.03346214,  0.        ,  0.        ,  0.        ,\n",
       "         0.        ],\n",
       "       [ 0.        ,  0.        ,  0.        ,  0.        ,  0.        ,\n",
       "         0.        , -0.02913743,  0.        ,  0.        ,  0.        ,\n",
       "         0.        ],\n",
       "       [-0.08057271,  1.73037389,  0.62438041, -0.06346217,  3.07401246,\n",
       "        -0.01949724,  0.01857811,  4.74053656,  0.0766486 , -2.41664763,\n",
       "        -0.88839255],\n",
       "       [ 0.        ,  0.        ,  0.        ,  0.        ,  0.        ,\n",
       "         0.01890807, -0.01497895,  0.        ,  0.        ,  0.        ,\n",
       "         0.        ],\n",
       "       [ 0.04190089, -3.4422172 ,  0.        ,  0.12957047, -5.38751678,\n",
       "         0.012998  , -0.01622839, -3.76252406, -1.07917075,  2.79336496,\n",
       "         0.84791665],\n",
       "       [ 0.        ,  0.        ,  0.        ,  0.        ,  0.        ,\n",
       "         0.        , -0.03247529,  0.        ,  0.        ,  0.        ,\n",
       "         0.        ]])"
      ]
     },
     "execution_count": 49,
     "metadata": {},
     "output_type": "execute_result"
    }
   ],
   "source": [
    "lassoCV.coef_"
   ]
  },
  {
   "cell_type": "code",
   "execution_count": 50,
   "id": "e87e9e2b",
   "metadata": {},
   "outputs": [
    {
     "data": {
      "text/plain": [
       "0.6053783614759225"
      ]
     },
     "execution_count": 50,
     "metadata": {},
     "output_type": "execute_result"
    }
   ],
   "source": [
    "# - accuracy of the model obtained through the cross-validation\n",
    "lassoCV.score(X, y)"
   ]
  },
  {
   "cell_type": "code",
   "execution_count": 51,
   "id": "b8cbbae3",
   "metadata": {},
   "outputs": [
    {
     "data": {
      "text/plain": [
       "array([[  0,   0,   8,   2,   0,   0],\n",
       "       [  0,   0,  28,  25,   0,   0],\n",
       "       [  0,   0, 522, 154,   5,   0],\n",
       "       [  0,   0, 212, 385,  41,   0],\n",
       "       [  0,   0,  15, 123,  61,   0],\n",
       "       [  0,   0,   0,  10,   8,   0]], dtype=int64)"
      ]
     },
     "execution_count": 51,
     "metadata": {},
     "output_type": "execute_result"
    }
   ],
   "source": [
    "# - confustion matrix of the model obtained through cross-validation\n",
    "confusion_matrix(y, lassoCV.predict(X))"
   ]
  },
  {
   "cell_type": "markdown",
   "id": "a5802ec5",
   "metadata": {},
   "source": [
    "Goran S. Milovanović & Aleksandar Cvetković\n",
    "\n",
    "DataKolektiv, 2022/23.\n",
    "\n",
    "[hello@datakolektiv.com](mailto:goran.milovanovic@datakolektiv.com)\n",
    "\n",
    "![](../img/DK_Logo_100.png)"
   ]
  },
  {
   "cell_type": "markdown",
   "id": "3f8942b1",
   "metadata": {},
   "source": [
    "<font size=1>License: <a href=\"https://www.gnu.org/licenses/gpl-3.0.txt\">GPLv3</a> This Notebook is free software: you can redistribute it and/or modify it under the terms of the GNU General Public License as published by the Free Software Foundation, either version 3 of the License, or (at your option) any later version. This Notebook is distributed in the hope that it will be useful, but WITHOUT ANY WARRANTY; without even the implied warranty of MERCHANTABILITY or FITNESS FOR A PARTICULAR PURPOSE. See the GNU General Public License for more details. You should have received a copy of the GNU General Public License along with this Notebook. If not, see <a href=\"http://www.gnu.org/licenses/\">http://www.gnu.org/licenses/</a>.</font>"
   ]
  },
  {
   "cell_type": "code",
   "execution_count": null,
   "id": "9ff0b839",
   "metadata": {},
   "outputs": [],
   "source": []
  }
 ],
 "metadata": {
  "kernelspec": {
   "display_name": "Python 3",
   "language": "python",
   "name": "python3"
  },
  "language_info": {
   "codemirror_mode": {
    "name": "ipython",
    "version": 3
   },
   "file_extension": ".py",
   "mimetype": "text/x-python",
   "name": "python",
   "nbconvert_exporter": "python",
   "pygments_lexer": "ipython3",
   "version": "3.8.8"
  }
 },
 "nbformat": 4,
 "nbformat_minor": 5
}
