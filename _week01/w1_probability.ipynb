{
 "cells": [
  {
   "cell_type": "markdown",
   "metadata": {},
   "source": [
    "# DATA SCIENCE SCHOOL :: Introduction to ML in Python\n",
    "### An Intensive Python ML Course\n",
    "## Prerequisites\n",
    "\n",
    "[&larr; Back to course webpage](http://datakolektiv.com/app_direct/introdsnontech/)\n",
    "\n",
    "![](../img/IntroMLPython_Head.png)\n",
    "\n",
    "Feedback should be send to [goran.milovanovic@datakolektiv.com](mailto:goran.milovanovic@datakolektiv.com). \n",
    "\n",
    "These notebooks accompany the DATA SCIENCE SCHOOL :: Introduction to ML in Python course."
   ]
  },
  {
   "cell_type": "markdown",
   "metadata": {},
   "source": [
    "### Goran S. Milovanović, PhD\n",
    "<b>DataKolektiv, Chief Scientist & Owner</b>\n",
    "\n",
    "### Aleksandar Cvetković, PhD\n",
    "<b>DataKolektiv, Consultant</b>"
   ]
  },
  {
   "cell_type": "markdown",
   "metadata": {},
   "source": [
    "![](../img/DK_Logo_100.png)"
   ]
  },
  {
   "cell_type": "markdown",
   "metadata": {},
   "source": [
    "## Introduction to Probability and Statistics with `numpy`\n",
    "\n",
    "- Binomial Distribution and Likelihood\n",
    "- Normal (Gaussian) Distribution\n",
    "- Covariance and Correlation"
   ]
  },
  {
   "cell_type": "code",
   "execution_count": 1,
   "metadata": {},
   "outputs": [],
   "source": [
    "# - libs\n",
    "import numpy as np\n",
    "import pandas as pd\n",
    "import matplotlib.pyplot as plt\n",
    "\n",
    "# - set RGN sed\n",
    "np.random.seed(42) "
   ]
  },
  {
   "cell_type": "markdown",
   "metadata": {},
   "source": [
    "#### Tossing a coin in `numpy`. Theoretical and experimental probabilities.  "
   ]
  },
  {
   "cell_type": "markdown",
   "metadata": {},
   "source": [
    "Imagine I have a **fair coin**: the one that lands Heads and Tails with equal probabilities P(H) = P(T) = 1/2."
   ]
  },
  {
   "cell_type": "code",
   "execution_count": 2,
   "metadata": {},
   "outputs": [
    {
     "name": "stdout",
     "output_type": "stream",
     "text": [
      "[1 0 1 0 1 0 0 1 0 0]\n"
     ]
    }
   ],
   "source": [
    "tosses = np.array([1,0,1,0,1,0,0,1,0,0])\n",
    "print(tosses)"
   ]
  },
  {
   "cell_type": "code",
   "execution_count": 3,
   "metadata": {},
   "outputs": [
    {
     "data": {
      "text/plain": [
       "array([6, 4])"
      ]
     },
     "execution_count": 3,
     "metadata": {},
     "output_type": "execute_result"
    }
   ],
   "source": [
    "np.unique(tosses, return_counts=True)[1]"
   ]
  },
  {
   "cell_type": "markdown",
   "metadata": {},
   "source": [
    "Uhm, but I have already **assumed* that we will be tossing a fair coin? Four heads, six tails, how come? Is this really a fair coin? The answer is: it still might be. Let's see."
   ]
  },
  {
   "cell_type": "code",
   "execution_count": 4,
   "metadata": {},
   "outputs": [
    {
     "name": "stdout",
     "output_type": "stream",
     "text": [
      "[0 1 1 1 0 0 0 1 1 1]\n",
      "[0.4 0.6]\n"
     ]
    }
   ],
   "source": [
    "outcomes = np.array([0,1])\n",
    "tosses = np.random.choice(outcomes, 10, replace=True, p=[.5, .5])\n",
    "print(tosses)\n",
    "print(np.unique(tosses, return_counts=True)[1]/tosses.size)"
   ]
  },
  {
   "cell_type": "markdown",
   "metadata": {},
   "source": [
    "And again:"
   ]
  },
  {
   "cell_type": "code",
   "execution_count": 5,
   "metadata": {},
   "outputs": [
    {
     "name": "stdout",
     "output_type": "stream",
     "text": [
      "[0 1 1 0 0 0 0 1 0 0]\n",
      "[0.7 0.3]\n"
     ]
    }
   ],
   "source": [
    "outcomes = np.array([0,1])\n",
    "tosses = np.random.choice(outcomes, 10, replace=True, p=[.5, .5])\n",
    "print(tosses)\n",
    "print(np.unique(tosses, return_counts=True)[1]/tosses.size)"
   ]
  },
  {
   "cell_type": "code",
   "execution_count": 6,
   "metadata": {},
   "outputs": [
    {
     "data": {
      "text/html": [
       "<div>\n",
       "<style scoped>\n",
       "    .dataframe tbody tr th:only-of-type {\n",
       "        vertical-align: middle;\n",
       "    }\n",
       "\n",
       "    .dataframe tbody tr th {\n",
       "        vertical-align: top;\n",
       "    }\n",
       "\n",
       "    .dataframe thead th {\n",
       "        text-align: right;\n",
       "    }\n",
       "</style>\n",
       "<table border=\"1\" class=\"dataframe\">\n",
       "  <thead>\n",
       "    <tr style=\"text-align: right;\">\n",
       "      <th></th>\n",
       "      <th>P_T</th>\n",
       "      <th>P_H</th>\n",
       "    </tr>\n",
       "  </thead>\n",
       "  <tbody>\n",
       "    <tr>\n",
       "      <th>0</th>\n",
       "      <td>0.51</td>\n",
       "      <td>0.49</td>\n",
       "    </tr>\n",
       "    <tr>\n",
       "      <th>1</th>\n",
       "      <td>0.49</td>\n",
       "      <td>0.51</td>\n",
       "    </tr>\n",
       "    <tr>\n",
       "      <th>2</th>\n",
       "      <td>0.43</td>\n",
       "      <td>0.57</td>\n",
       "    </tr>\n",
       "    <tr>\n",
       "      <th>3</th>\n",
       "      <td>0.48</td>\n",
       "      <td>0.52</td>\n",
       "    </tr>\n",
       "    <tr>\n",
       "      <th>4</th>\n",
       "      <td>0.46</td>\n",
       "      <td>0.54</td>\n",
       "    </tr>\n",
       "    <tr>\n",
       "      <th>5</th>\n",
       "      <td>0.52</td>\n",
       "      <td>0.48</td>\n",
       "    </tr>\n",
       "    <tr>\n",
       "      <th>6</th>\n",
       "      <td>0.58</td>\n",
       "      <td>0.42</td>\n",
       "    </tr>\n",
       "    <tr>\n",
       "      <th>7</th>\n",
       "      <td>0.42</td>\n",
       "      <td>0.58</td>\n",
       "    </tr>\n",
       "    <tr>\n",
       "      <th>8</th>\n",
       "      <td>0.61</td>\n",
       "      <td>0.39</td>\n",
       "    </tr>\n",
       "    <tr>\n",
       "      <th>9</th>\n",
       "      <td>0.49</td>\n",
       "      <td>0.51</td>\n",
       "    </tr>\n",
       "    <tr>\n",
       "      <th>10</th>\n",
       "      <td>0.49</td>\n",
       "      <td>0.51</td>\n",
       "    </tr>\n",
       "    <tr>\n",
       "      <th>11</th>\n",
       "      <td>0.41</td>\n",
       "      <td>0.59</td>\n",
       "    </tr>\n",
       "    <tr>\n",
       "      <th>12</th>\n",
       "      <td>0.53</td>\n",
       "      <td>0.47</td>\n",
       "    </tr>\n",
       "    <tr>\n",
       "      <th>13</th>\n",
       "      <td>0.52</td>\n",
       "      <td>0.48</td>\n",
       "    </tr>\n",
       "    <tr>\n",
       "      <th>14</th>\n",
       "      <td>0.45</td>\n",
       "      <td>0.55</td>\n",
       "    </tr>\n",
       "    <tr>\n",
       "      <th>15</th>\n",
       "      <td>0.50</td>\n",
       "      <td>0.50</td>\n",
       "    </tr>\n",
       "    <tr>\n",
       "      <th>16</th>\n",
       "      <td>0.49</td>\n",
       "      <td>0.51</td>\n",
       "    </tr>\n",
       "    <tr>\n",
       "      <th>17</th>\n",
       "      <td>0.55</td>\n",
       "      <td>0.45</td>\n",
       "    </tr>\n",
       "    <tr>\n",
       "      <th>18</th>\n",
       "      <td>0.42</td>\n",
       "      <td>0.58</td>\n",
       "    </tr>\n",
       "    <tr>\n",
       "      <th>19</th>\n",
       "      <td>0.54</td>\n",
       "      <td>0.46</td>\n",
       "    </tr>\n",
       "  </tbody>\n",
       "</table>\n",
       "</div>"
      ],
      "text/plain": [
       "     P_T   P_H\n",
       "0   0.51  0.49\n",
       "1   0.49  0.51\n",
       "2   0.43  0.57\n",
       "3   0.48  0.52\n",
       "4   0.46  0.54\n",
       "5   0.52  0.48\n",
       "6   0.58  0.42\n",
       "7   0.42  0.58\n",
       "8   0.61  0.39\n",
       "9   0.49  0.51\n",
       "10  0.49  0.51\n",
       "11  0.41  0.59\n",
       "12  0.53  0.47\n",
       "13  0.52  0.48\n",
       "14  0.45  0.55\n",
       "15  0.50  0.50\n",
       "16  0.49  0.51\n",
       "17  0.55  0.45\n",
       "18  0.42  0.58\n",
       "19  0.54  0.46"
      ]
     },
     "execution_count": 6,
     "metadata": {},
     "output_type": "execute_result"
    }
   ],
   "source": [
    "outcomes = np.array([0,1])\n",
    "num_exps = 1000\n",
    "stat_exp_1 = []\n",
    "for i in range(num_exps):\n",
    "    tosses = np.random.choice(outcomes, 100, replace=True, p=[.5, .5])\n",
    "    result = np.array([(tosses==0).sum(), (tosses==1).sum()])/tosses.size\n",
    "    result = {'P_T':result[0], 'P_H':result[1]}\n",
    "    stat_exp_1.append(result)\n",
    "stat_exp_1 = pd.DataFrame(stat_exp_1)    \n",
    "stat_exp_1.head(20)"
   ]
  },
  {
   "cell_type": "markdown",
   "metadata": {},
   "source": [
    "Let's visualize the result of this statistical experiment:"
   ]
  },
  {
   "cell_type": "code",
   "execution_count": 7,
   "metadata": {},
   "outputs": [
    {
     "data": {
      "text/plain": [
       "array([[<AxesSubplot:title={'center':'P_T'}>,\n",
       "        <AxesSubplot:title={'center':'P_H'}>]], dtype=object)"
      ]
     },
     "execution_count": 7,
     "metadata": {},
     "output_type": "execute_result"
    },
    {
     "data": {
      "image/png": "[encoded data removed]",
      "text/plain": [
       "<Figure size 720x288 with 2 Axes>"
      ]
     },
     "metadata": {
      "needs_background": "light"
     },
     "output_type": "display_data"
    }
   ],
   "source": [
    "# - matplotlib figure size\n",
    "plt.rcParams['figure.figsize'] = [10, 4]\n",
    "\n",
    "stat_exp_1.hist(bins=100)"
   ]
  },
  {
   "cell_type": "markdown",
   "metadata": {},
   "source": [
    "Ok, now let' see what happens with 10,000 statistical experiments with a fair coin:"
   ]
  },
  {
   "cell_type": "code",
   "execution_count": 8,
   "metadata": {},
   "outputs": [
    {
     "data": {
      "text/plain": [
       "array([[<AxesSubplot:title={'center':'P_T'}>,\n",
       "        <AxesSubplot:title={'center':'P_H'}>]], dtype=object)"
      ]
     },
     "execution_count": 8,
     "metadata": {},
     "output_type": "execute_result"
    },
    {
     "data": {
      "image/png": "[encoded data removed]",
      "text/plain": [
       "<Figure size 720x288 with 2 Axes>"
      ]
     },
     "metadata": {
      "needs_background": "light"
     },
     "output_type": "display_data"
    }
   ],
   "source": [
    "# - matplotlib figure size\n",
    "plt.rcParams['figure.figsize'] = [10, 4]\n",
    "\n",
    "outcomes = np.array([0,1])\n",
    "num_exps = 10000\n",
    "stat_exp_1 = []\n",
    "for i in range(num_exps):\n",
    "    tosses = np.random.choice(outcomes, 100, replace=True, p=[.5, .5])\n",
    "    result = np.array([(tosses==0).sum(), (tosses==1).sum()])/tosses.size\n",
    "    result = {'P_T':result[0], 'P_H':result[1]}\n",
    "    stat_exp_1.append(result)\n",
    "stat_exp_1 = pd.DataFrame(stat_exp_1)\n",
    "stat_exp_1.hist(bins=100)"
   ]
  },
  {
   "cell_type": "markdown",
   "metadata": {},
   "source": [
    "What about 100,000 experiments?"
   ]
  },
  {
   "cell_type": "code",
   "execution_count": 9,
   "metadata": {},
   "outputs": [
    {
     "data": {
      "text/plain": [
       "array([[<AxesSubplot:title={'center':'P_T'}>,\n",
       "        <AxesSubplot:title={'center':'P_H'}>]], dtype=object)"
      ]
     },
     "execution_count": 9,
     "metadata": {},
     "output_type": "execute_result"
    },
    {
     "data": {
      "image/png": "[encoded data removed]",
      "text/plain": [
       "<Figure size 720x288 with 2 Axes>"
      ]
     },
     "metadata": {
      "needs_background": "light"
     },
     "output_type": "display_data"
    }
   ],
   "source": [
    "# - matplotlib figure size\n",
    "plt.rcParams['figure.figsize'] = [10, 4]\n",
    "\n",
    "outcomes = np.array([0,1])\n",
    "num_exps = 100000\n",
    "stat_exp_1 = []\n",
    "for i in range(num_exps):\n",
    "    tosses = np.random.choice(outcomes, 100, replace=True, p=[.5, .5])\n",
    "    result = np.array([(tosses==0).sum(), (tosses==1).sum()])/tosses.size\n",
    "    result = {'P_T':result[0], 'P_H':result[1]}\n",
    "    stat_exp_1.append(result)\n",
    "stat_exp_1 = pd.DataFrame(stat_exp_1)\n",
    "stat_exp_1.hist(bins=100)"
   ]
  },
  {
   "cell_type": "markdown",
   "metadata": {},
   "source": [
    "**Theoretical probability**: when we **know** that some stochastic system produces an outcome with some particular probability. \n",
    "\n",
    "**Experimental probability**: when we **estimate** that some stochastic system produces an outcome with some particular probability from observed data."
   ]
  },
  {
   "cell_type": "code",
   "execution_count": 10,
   "metadata": {},
   "outputs": [
    {
     "data": {
      "text/plain": [
       "0.5000201999999925"
      ]
     },
     "execution_count": 10,
     "metadata": {},
     "output_type": "execute_result"
    }
   ],
   "source": [
    "stat_exp_1['P_H'].mean()"
   ]
  },
  {
   "cell_type": "code",
   "execution_count": 11,
   "metadata": {},
   "outputs": [
    {
     "data": {
      "text/plain": [
       "0.4999798000000076"
      ]
     },
     "execution_count": 11,
     "metadata": {},
     "output_type": "execute_result"
    }
   ],
   "source": [
    "stat_exp_1['P_T'].mean()"
   ]
  },
  {
   "cell_type": "markdown",
   "metadata": {},
   "source": [
    "#### Reverse engineering the coin in `numpy`"
   ]
  },
  {
   "cell_type": "markdown",
   "metadata": {},
   "source": [
    "In all my previous statistical experiments, I have **assumed** that the coin is fair, e.g. P(H) = P(T) = .5, look:\n",
    "\n",
    "```\n",
    "tosses = np.random.choice(outcomes, 100, replace=True, p=[.5, .5])\n",
    "```\n",
    "\n",
    "I have used numerical simulations of coin tosses to demonstrate that with increasing number of experiments I get to estimate the **known** probabilities of P(H) and P(T) better and better.\n",
    "\n",
    "However, we typically **do not know** the theoretical probability of a random event... *Example:* the CTR of some social media post.\n",
    "\n",
    "CTR (Click-Through Rate) is like a coin toss: a post is clicked or not clicked upon each served impression.\n",
    "We can thus threat the CTR like a coin toss: P(H) = P(Clicked) is \"post clicked\", P(T) = P(Not clicked) is \"not clicked\".\n",
    "Then we can say that P(Clicked) is some latent, essential characteristic of post. \n",
    "\n",
    "Imagine we have a set of observations for a particular social media post: 1,1,1,0,0,0,1,0,1,0,1,0,0,0,1,0.., where 1 = Clicked and 0 = Not clicked. How do we estimate the CTR of the post from these data?\n",
    "\n",
    "Easy, right: sum up the vector of observations and divide by its length. But wait. There's more to it."
   ]
  },
  {
   "cell_type": "markdown",
   "metadata": {},
   "source": [
    "I have just invented some social media post with a CTR of .3, and estimated its experimental probability to be .3035; that is the best estimate that I currently have. What if I want to test a set of *hypotheses* about the CTR of this post? What, for example, if I am intersted to learn about the *probability of this post having a CTR of .25* instead? Let's use a simpler, smaller set of observations to begin with.\n",
    "\n",
    "Imagine we toss **a fair coin** with P(H)=.5 twice and observe two Heads. The probability of observing two heads with P(H)=.5 is:\n",
    "\n",
    "`.5 * .5 = .25` \n",
    "\n",
    "But what if the coin was not fair, and instead had a probability of P(H)=.3? Then:\n",
    "\n",
    "`.3 * .3 = 0.09`\n",
    "\n",
    "And what if the coin had P(H) = .7?\n",
    "\n",
    "`.7 * .7 = 0.49`\n",
    "\n",
    "With P(H) = .9 we get:\n",
    "\n",
    "`.9 * .9 = 0.81`\n",
    "\n",
    "and it seems intuitive and logical: if we have observed a sample - *however small it was* - of all heads (and are assuming that we have observed two Heads from two tosses here), it makes sense that we are dealing with a coin that almost always lands Heads. \n",
    "\n",
    "Let's express this intuition visually. First, we need a function to compute the probability that a coin with a certain P(H) produced the data."
   ]
  },
  {
   "cell_type": "code",
   "execution_count": 12,
   "metadata": {},
   "outputs": [
    {
     "name": "stdout",
     "output_type": "stream",
     "text": [
      "[0.2989]\n"
     ]
    }
   ],
   "source": [
    "outcomes = np.array([0,1])\n",
    "clicks = np.random.choice(outcomes, 10000, replace=True, p=[.7, .3])\n",
    "ctr = np.array([(clicks==1).sum()])/clicks.size\n",
    "print(ctr)"
   ]
  },
  {
   "cell_type": "code",
   "execution_count": 13,
   "metadata": {},
   "outputs": [
    {
     "name": "stdout",
     "output_type": "stream",
     "text": [
      "[0.25 0.25 0.75]\n"
     ]
    }
   ],
   "source": [
    "def parameter(x, par):\n",
    "    if x==1:\n",
    "        return(par)\n",
    "    elif x==0:\n",
    "        return(1-par)\n",
    "    else:\n",
    "        return(np.nan)\n",
    "pars = np.vectorize(parameter)\n",
    "data = np.array([1, 1, 0])\n",
    "print(pars(data, .25))"
   ]
  },
  {
   "cell_type": "code",
   "execution_count": 14,
   "metadata": {},
   "outputs": [
    {
     "name": "stdout",
     "output_type": "stream",
     "text": [
      "0.046875\n"
     ]
    }
   ],
   "source": [
    "def likelihood(x):\n",
    "    return(np.prod(x))\n",
    "print(likelihood(pars(data, .25)))"
   ]
  },
  {
   "cell_type": "markdown",
   "metadata": {},
   "source": [
    "Nice. Now:"
   ]
  },
  {
   "cell_type": "code",
   "execution_count": 15,
   "metadata": {},
   "outputs": [
    {
     "name": "stdout",
     "output_type": "stream",
     "text": [
      "[0.         0.001001   0.002002   0.003003   0.004004   0.00500501\n",
      " 0.00600601 0.00700701 0.00800801 0.00900901 0.01001001 0.01101101\n",
      " 0.01201201 0.01301301 0.01401401 0.01501502 0.01601602 0.01701702\n",
      " 0.01801802 0.01901902 0.02002002 0.02102102 0.02202202 0.02302302\n",
      " 0.02402402 0.02502503 0.02602603 0.02702703 0.02802803 0.02902903\n",
      " 0.03003003 0.03103103 0.03203203 0.03303303 0.03403403 0.03503504\n",
      " 0.03603604 0.03703704 0.03803804 0.03903904 0.04004004 0.04104104\n",
      " 0.04204204 0.04304304 0.04404404 0.04504505 0.04604605 0.04704705\n",
      " 0.04804805 0.04904905 0.05005005 0.05105105 0.05205205 0.05305305\n",
      " 0.05405405 0.05505506 0.05605606 0.05705706 0.05805806 0.05905906\n",
      " 0.06006006 0.06106106 0.06206206 0.06306306 0.06406406 0.06506507\n",
      " 0.06606607 0.06706707 0.06806807 0.06906907 0.07007007 0.07107107\n",
      " 0.07207207 0.07307307 0.07407407 0.07507508 0.07607608 0.07707708\n",
      " 0.07807808 0.07907908 0.08008008 0.08108108 0.08208208 0.08308308\n",
      " 0.08408408 0.08508509 0.08608609 0.08708709 0.08808809 0.08908909\n",
      " 0.09009009 0.09109109 0.09209209 0.09309309 0.09409409 0.0950951\n",
      " 0.0960961  0.0970971  0.0980981  0.0990991 ]\n"
     ]
    }
   ],
   "source": [
    "test_parameters = np.linspace(0, 1, 1000)\n",
    "print(test_parameters[0:100])"
   ]
  },
  {
   "cell_type": "code",
   "execution_count": 16,
   "metadata": {},
   "outputs": [
    {
     "data": {
      "text/html": [
       "<div>\n",
       "<style scoped>\n",
       "    .dataframe tbody tr th:only-of-type {\n",
       "        vertical-align: middle;\n",
       "    }\n",
       "\n",
       "    .dataframe tbody tr th {\n",
       "        vertical-align: top;\n",
       "    }\n",
       "\n",
       "    .dataframe thead th {\n",
       "        text-align: right;\n",
       "    }\n",
       "</style>\n",
       "<table border=\"1\" class=\"dataframe\">\n",
       "  <thead>\n",
       "    <tr style=\"text-align: right;\">\n",
       "      <th></th>\n",
       "      <th>P_H</th>\n",
       "      <th>Likelihood</th>\n",
       "    </tr>\n",
       "  </thead>\n",
       "  <tbody>\n",
       "    <tr>\n",
       "      <th>0</th>\n",
       "      <td>0.000000</td>\n",
       "      <td>0.0</td>\n",
       "    </tr>\n",
       "    <tr>\n",
       "      <th>1</th>\n",
       "      <td>0.001001</td>\n",
       "      <td>0.0</td>\n",
       "    </tr>\n",
       "    <tr>\n",
       "      <th>2</th>\n",
       "      <td>0.002002</td>\n",
       "      <td>0.0</td>\n",
       "    </tr>\n",
       "    <tr>\n",
       "      <th>3</th>\n",
       "      <td>0.003003</td>\n",
       "      <td>0.0</td>\n",
       "    </tr>\n",
       "    <tr>\n",
       "      <th>4</th>\n",
       "      <td>0.004004</td>\n",
       "      <td>0.0</td>\n",
       "    </tr>\n",
       "    <tr>\n",
       "      <th>5</th>\n",
       "      <td>0.005005</td>\n",
       "      <td>0.0</td>\n",
       "    </tr>\n",
       "    <tr>\n",
       "      <th>6</th>\n",
       "      <td>0.006006</td>\n",
       "      <td>0.0</td>\n",
       "    </tr>\n",
       "    <tr>\n",
       "      <th>7</th>\n",
       "      <td>0.007007</td>\n",
       "      <td>0.0</td>\n",
       "    </tr>\n",
       "    <tr>\n",
       "      <th>8</th>\n",
       "      <td>0.008008</td>\n",
       "      <td>0.0</td>\n",
       "    </tr>\n",
       "    <tr>\n",
       "      <th>9</th>\n",
       "      <td>0.009009</td>\n",
       "      <td>0.0</td>\n",
       "    </tr>\n",
       "  </tbody>\n",
       "</table>\n",
       "</div>"
      ],
      "text/plain": [
       "        P_H  Likelihood\n",
       "0  0.000000         0.0\n",
       "1  0.001001         0.0\n",
       "2  0.002002         0.0\n",
       "3  0.003003         0.0\n",
       "4  0.004004         0.0\n",
       "5  0.005005         0.0\n",
       "6  0.006006         0.0\n",
       "7  0.007007         0.0\n",
       "8  0.008008         0.0\n",
       "9  0.009009         0.0"
      ]
     },
     "execution_count": 16,
     "metadata": {},
     "output_type": "execute_result"
    }
   ],
   "source": [
    "# - setup\n",
    "likelihood_frame = []\n",
    "outcomes = np.array([0,1])\n",
    "data = np.random.choice(outcomes, 1000, replace=True, p=[.7, .3])\n",
    "\n",
    "# - iterate\n",
    "for pr in range(len(test_parameters)):\n",
    "    d = likelihood(pars(data,test_parameters[pr]))\n",
    "    d = {'P_H':test_parameters[pr], 'Likelihood':d}\n",
    "    likelihood_frame.append(d)\n",
    "\n",
    "# - compose\n",
    "likelihood_frame = pd.DataFrame(likelihood_frame)\n",
    "\n",
    "# - inspect\n",
    "likelihood_frame.head(10)"
   ]
  },
  {
   "cell_type": "code",
   "execution_count": 17,
   "metadata": {},
   "outputs": [
    {
     "data": {
      "text/plain": [
       "<AxesSubplot:xlabel='P_H'>"
      ]
     },
     "execution_count": 17,
     "metadata": {},
     "output_type": "execute_result"
    },
    {
     "data": {
      "image/png": "[encoded data removed]",
      "text/plain": [
       "<Figure size 432x360 with 1 Axes>"
      ]
     },
     "metadata": {
      "needs_background": "light"
     },
     "output_type": "display_data"
    }
   ],
   "source": [
    "# - matplotlib figure size\n",
    "plt.rcParams['figure.figsize'] = [6, 5]\n",
    "\n",
    "likelihood_frame.plot(x='P_H', y='Likelihood')"
   ]
  },
  {
   "cell_type": "markdown",
   "metadata": {},
   "source": [
    "Let's ask explicitly:"
   ]
  },
  {
   "cell_type": "code",
   "execution_count": 18,
   "metadata": {},
   "outputs": [
    {
     "data": {
      "text/plain": [
       "0.30430430430430433"
      ]
     },
     "execution_count": 18,
     "metadata": {},
     "output_type": "execute_result"
    }
   ],
   "source": [
    "maximum_likelihood = likelihood_frame.idxmax()[1]\n",
    "likelihood_frame['P_H'][maximum_likelihood]"
   ]
  },
  {
   "cell_type": "markdown",
   "metadata": {},
   "source": [
    "And what if P(H) was .85?"
   ]
  },
  {
   "cell_type": "code",
   "execution_count": 19,
   "metadata": {},
   "outputs": [
    {
     "data": {
      "text/html": [
       "<div>\n",
       "<style scoped>\n",
       "    .dataframe tbody tr th:only-of-type {\n",
       "        vertical-align: middle;\n",
       "    }\n",
       "\n",
       "    .dataframe tbody tr th {\n",
       "        vertical-align: top;\n",
       "    }\n",
       "\n",
       "    .dataframe thead th {\n",
       "        text-align: right;\n",
       "    }\n",
       "</style>\n",
       "<table border=\"1\" class=\"dataframe\">\n",
       "  <thead>\n",
       "    <tr style=\"text-align: right;\">\n",
       "      <th></th>\n",
       "      <th>P_H</th>\n",
       "      <th>Likelihood</th>\n",
       "    </tr>\n",
       "  </thead>\n",
       "  <tbody>\n",
       "    <tr>\n",
       "      <th>0</th>\n",
       "      <td>0.000000</td>\n",
       "      <td>0.0</td>\n",
       "    </tr>\n",
       "    <tr>\n",
       "      <th>1</th>\n",
       "      <td>0.001001</td>\n",
       "      <td>0.0</td>\n",
       "    </tr>\n",
       "    <tr>\n",
       "      <th>2</th>\n",
       "      <td>0.002002</td>\n",
       "      <td>0.0</td>\n",
       "    </tr>\n",
       "    <tr>\n",
       "      <th>3</th>\n",
       "      <td>0.003003</td>\n",
       "      <td>0.0</td>\n",
       "    </tr>\n",
       "    <tr>\n",
       "      <th>4</th>\n",
       "      <td>0.004004</td>\n",
       "      <td>0.0</td>\n",
       "    </tr>\n",
       "    <tr>\n",
       "      <th>5</th>\n",
       "      <td>0.005005</td>\n",
       "      <td>0.0</td>\n",
       "    </tr>\n",
       "    <tr>\n",
       "      <th>6</th>\n",
       "      <td>0.006006</td>\n",
       "      <td>0.0</td>\n",
       "    </tr>\n",
       "    <tr>\n",
       "      <th>7</th>\n",
       "      <td>0.007007</td>\n",
       "      <td>0.0</td>\n",
       "    </tr>\n",
       "    <tr>\n",
       "      <th>8</th>\n",
       "      <td>0.008008</td>\n",
       "      <td>0.0</td>\n",
       "    </tr>\n",
       "    <tr>\n",
       "      <th>9</th>\n",
       "      <td>0.009009</td>\n",
       "      <td>0.0</td>\n",
       "    </tr>\n",
       "  </tbody>\n",
       "</table>\n",
       "</div>"
      ],
      "text/plain": [
       "        P_H  Likelihood\n",
       "0  0.000000         0.0\n",
       "1  0.001001         0.0\n",
       "2  0.002002         0.0\n",
       "3  0.003003         0.0\n",
       "4  0.004004         0.0\n",
       "5  0.005005         0.0\n",
       "6  0.006006         0.0\n",
       "7  0.007007         0.0\n",
       "8  0.008008         0.0\n",
       "9  0.009009         0.0"
      ]
     },
     "execution_count": 19,
     "metadata": {},
     "output_type": "execute_result"
    }
   ],
   "source": [
    "# - setup\n",
    "likelihood_frame = []\n",
    "outcomes = np.array([0,1])\n",
    "data = np.random.choice(outcomes, 1000, replace=True, p=[.15, .85])\n",
    "\n",
    "# - iterate\n",
    "for pr in range(len(test_parameters)):\n",
    "    d = likelihood(pars(data,test_parameters[pr]))\n",
    "    d = {'P_H':test_parameters[pr], 'Likelihood':d}\n",
    "    likelihood_frame.append(d)\n",
    "\n",
    "# - compose\n",
    "likelihood_frame = pd.DataFrame(likelihood_frame)\n",
    "\n",
    "# - inspect\n",
    "likelihood_frame.head(10)"
   ]
  },
  {
   "cell_type": "code",
   "execution_count": 20,
   "metadata": {},
   "outputs": [
    {
     "data": {
      "text/plain": [
       "0.8558558558558559"
      ]
     },
     "execution_count": 20,
     "metadata": {},
     "output_type": "execute_result"
    }
   ],
   "source": [
    "maximum_likelihood = likelihood_frame.idxmax()[1]\n",
    "likelihood_frame['P_H'][maximum_likelihood]"
   ]
  },
  {
   "cell_type": "markdown",
   "metadata": {},
   "source": [
    "Pick any arbitrary observation"
   ]
  },
  {
   "cell_type": "code",
   "execution_count": 21,
   "metadata": {},
   "outputs": [
    {
     "data": {
      "text/plain": [
       "<AxesSubplot:xlabel='P_H'>"
      ]
     },
     "execution_count": 21,
     "metadata": {},
     "output_type": "execute_result"
    },
    {
     "data": {
      "image/png": "[encoded data removed]",
      "text/plain": [
       "<Figure size 432x360 with 1 Axes>"
      ]
     },
     "metadata": {
      "needs_background": "light"
     },
     "output_type": "display_data"
    }
   ],
   "source": [
    "# - setup\n",
    "likelihood_frame = []\n",
    "data = np.array([1,1,0,1,1,1,1,1,0,0,0,0,1,1,0,1,1])\n",
    "\n",
    "# - iterate\n",
    "for pr in range(len(test_parameters)):\n",
    "    d = likelihood(pars(data,test_parameters[pr]))\n",
    "    d = {'P_H':test_parameters[pr], 'Likelihood':d}\n",
    "    likelihood_frame.append(d)\n",
    "\n",
    "# - compose\n",
    "likelihood_frame = pd.DataFrame(likelihood_frame)\n",
    "\n",
    "# - inspect\n",
    "likelihood_frame.head(10)\n",
    "\n",
    "# - matplotlib figure size\n",
    "plt.rcParams['figure.figsize'] = [6, 5]\n",
    "\n",
    "# - plot\n",
    "likelihood_frame.plot(x='P_H', y='Likelihood')"
   ]
  },
  {
   "cell_type": "code",
   "execution_count": 22,
   "metadata": {},
   "outputs": [
    {
     "data": {
      "text/plain": [
       "0.6466466466466466"
      ]
     },
     "execution_count": 22,
     "metadata": {},
     "output_type": "execute_result"
    }
   ],
   "source": [
    "maximum_likelihood = likelihood_frame.idxmax()[1]\n",
    "likelihood_frame['P_H'][maximum_likelihood]"
   ]
  },
  {
   "cell_type": "code",
   "execution_count": 23,
   "metadata": {},
   "outputs": [
    {
     "data": {
      "text/plain": [
       "array([ 6, 11])"
      ]
     },
     "execution_count": 23,
     "metadata": {},
     "output_type": "execute_result"
    }
   ],
   "source": [
    "np.unique(data, return_counts=True)[1]"
   ]
  },
  {
   "cell_type": "markdown",
   "metadata": {},
   "source": [
    "Good. What have we learned?\n",
    "\n",
    "To estimate the parameter of a simple statistical model from data - a coin, in our case, a simple stochastic system with two outcome states only - we need to find the **maximum of its likelihood function given the observed data**.\n",
    "\n",
    "Next time we will describe more formally some of the notions introduced in this Session."
   ]
  },
  {
   "cell_type": "markdown",
   "metadata": {},
   "source": [
    "For our example with the `HH` minimal observations - tossing a coin two times and observing two Heads in a row - the likelihood function is:"
   ]
  },
  {
   "cell_type": "code",
   "execution_count": 24,
   "metadata": {},
   "outputs": [
    {
     "data": {
      "text/plain": [
       "<AxesSubplot:xlabel='P_H'>"
      ]
     },
     "execution_count": 24,
     "metadata": {},
     "output_type": "execute_result"
    },
    {
     "data": {
      "image/png": "[encoded data removed]",
      "text/plain": [
       "<Figure size 432x360 with 1 Axes>"
      ]
     },
     "metadata": {
      "needs_background": "light"
     },
     "output_type": "display_data"
    }
   ],
   "source": [
    "# - setup\n",
    "likelihood_frame = []\n",
    "data = np.array([1,1])\n",
    "\n",
    "# - iterate\n",
    "for pr in range(len(test_parameters)):\n",
    "    d = likelihood(pars(data,test_parameters[pr]))\n",
    "    d = {'P_H':test_parameters[pr], 'Likelihood':d}\n",
    "    likelihood_frame.append(d)\n",
    "\n",
    "# - compose\n",
    "likelihood_frame = pd.DataFrame(likelihood_frame)\n",
    "\n",
    "# - inspect\n",
    "likelihood_frame.head(10)\n",
    "\n",
    "# - matplotlib figure size\n",
    "plt.rcParams['figure.figsize'] = [6, 5]\n",
    "\n",
    "# - plot\n",
    "likelihood_frame.plot(x='P_H', y='Likelihood')"
   ]
  },
  {
   "cell_type": "markdown",
   "metadata": {},
   "source": [
    "Of course: **however small the sample size**, the sample represents **just everything that we know** about a coin; if we observe all heads, like in: `HH`, then the most probable coin that could have produced the result is definitely the one that yields Heads all the time!"
   ]
  },
  {
   "cell_type": "markdown",
   "metadata": {},
   "source": [
    "### Binomial Probability Functions and Random Numbers"
   ]
  },
  {
   "cell_type": "markdown",
   "metadata": {},
   "source": [
    "We will now review the Binomial Probability Mass Function (PMF) and Cumulative Distribution Function (CDF) and random number generation. "
   ]
  },
  {
   "cell_type": "markdown",
   "metadata": {},
   "source": [
    "The Binomial distribution models the following, basic statistical experiment: (1) toss a coin that has a probability $p$ for Heads; repeat the experiment $n$ times. The distribution models the number of \"*successes*\" (e.g. obtaining Heads) in $n$ repeated tosses; each coin toss is known as a *Bernoulli trial* - and constitutes an even more elementary statistical experiment on its own.\n",
    "\n",
    "The probability of obtaining $k$ successes (conventionally: *Heads*) with probability $p$ from $n$ trials is given by:\n",
    "\n",
    "$${P(X=k;n,k)} = {{n}\\choose{k}}p^{k}(1-p)^{n-k}$$\n",
    "\n",
    "where \n",
    "\n",
    "$${{n}\\choose{k}} = \\frac{n!}{k!(n-k)!}$$\n",
    "\n",
    "is the binomial coefficient. The role of the binomial coefficient in the Binomial PMF is to ensure that every possible realization of $k$ successes (Heads) is counted (*hint*: in combinatorics, there are ${{n}\\choose{k}}$ ways to choose an unordered subset of $k$ elements from a set of $n$ elements.)   "
   ]
  },
  {
   "cell_type": "markdown",
   "metadata": {},
   "source": [
    "Enter `scipy`. We know that `scipy.stats.binom.pmf(r,n, p)` represents the binomial probability mass function (PMF).\n",
    "\n",
    "Consider the following experiment: a person rolls a fair dice ten times. **Q:** What is the probability of obtaining five *or less* sixes at random? Let's see: the probability of getting *exactly* five sixes at random is:"
   ]
  },
  {
   "cell_type": "code",
   "execution_count": 25,
   "metadata": {},
   "outputs": [
    {
     "data": {
      "text/plain": [
       "0.013023810204237185"
      ]
     },
     "execution_count": 25,
     "metadata": {},
     "output_type": "execute_result"
    }
   ],
   "source": [
    "# - libs\n",
    "from scipy.stats import binom\n",
    "\n",
    "# - binomial experiment: probability (mass function)\n",
    "# - NOTE:\n",
    "# - n: the total number of times the experiment will be carried out.\n",
    "# - r: a list of integers from 0 to n, inclusive.\n",
    "# - p: the probability that the outcome of a single experiment will be Heads. \n",
    "# - The value of p is between 0 and 1 (inclusive).\n",
    "\n",
    "# - how many Heads?\n",
    "r = 5\n",
    "# - how many coin tosses?\n",
    "n = 10\n",
    "# - what is the P(H)?\n",
    "p = 1/6\n",
    "# - the probability we are looking for:\n",
    "binom.pmf(r,n,p)"
   ]
  },
  {
   "cell_type": "markdown",
   "metadata": {},
   "source": [
    "Do not be confused by our attempt to model dice rolls by a binomial distribution: in fact, there are only two outcomes here, \"*6 is obtained*\" with $p = 1/6$ and \"*everything else*\" with $1-p = 5/6$!\n",
    "\n",
    "Then, the probability of getting *five or less than five sixes* from ten statistical experiments is:"
   ]
  },
  {
   "cell_type": "code",
   "execution_count": 26,
   "metadata": {},
   "outputs": [
    {
     "name": "stdout",
     "output_type": "stream",
     "text": [
      "0.9975618435007371\n"
     ]
    }
   ],
   "source": [
    "pFiveAndLessSixes = np.array([\n",
    "    binom.pmf(0,10,1/6),\n",
    "    binom.pmf(1,10,1/6),\n",
    "    binom.pmf(2,10,1/6),\n",
    "    binom.pmf(3,10,1/6),\n",
    "    binom.pmf(4,10,1/6),\n",
    "    binom.pmf(5,10,1/6)\n",
    "    ]).sum()\n",
    "print(pFiveAndLessSixes)"
   ]
  },
  {
   "cell_type": "markdown",
   "metadata": {},
   "source": [
    "in order to remind ourselves that the probabilities of all outcomes from a discrete probability distribution - in our case, that \"*0 sixes*\", \"*1 six*\", \"*2 sixes*\", \"*3 sixes*\", \"*4 sixes*\", or \"*5 sixes*\" etc. obtain - will eventually sum up to one. Let's wrap this up more elegantly:"
   ]
  },
  {
   "cell_type": "code",
   "execution_count": 27,
   "metadata": {},
   "outputs": [
    {
     "data": {
      "text/plain": [
       "0.9975618435007371"
      ]
     },
     "execution_count": 27,
     "metadata": {},
     "output_type": "execute_result"
    }
   ],
   "source": [
    "pFiveAndLessSixes = np.array([binom.pmf(x,10,1/6) for x in range(6)]).sum()\n",
    "pFiveAndLessSixes"
   ]
  },
  {
   "cell_type": "markdown",
   "metadata": {},
   "source": [
    "or, even simpler, by recalling that `numpy` vectorizes Python:"
   ]
  },
  {
   "cell_type": "code",
   "execution_count": 28,
   "metadata": {},
   "outputs": [
    {
     "data": {
      "text/plain": [
       "0.9975618435007371"
      ]
     },
     "execution_count": 28,
     "metadata": {},
     "output_type": "execute_result"
    }
   ],
   "source": [
    "pFiveAndLessSixes = np.array([binom.pmf(range(6),10,1/6)]).sum()\n",
    "pFiveAndLessSixes"
   ]
  },
  {
   "cell_type": "markdown",
   "metadata": {},
   "source": [
    "Of course, we could have used a *cummulative distribution function* (c.d.f) to figure out this as well:"
   ]
  },
  {
   "cell_type": "code",
   "execution_count": 29,
   "metadata": {},
   "outputs": [
    {
     "data": {
      "text/plain": [
       "0.9975618435007367"
      ]
     },
     "execution_count": 29,
     "metadata": {},
     "output_type": "execute_result"
    }
   ],
   "source": [
    "# - binom.cdf(k, n, p)\n",
    "pFiveAndLessSixes = binom.cdf(5,10,1/6)\n",
    "pFiveAndLessSixes"
   ]
  },
  {
   "cell_type": "markdown",
   "metadata": {},
   "source": [
    "Again, do not forget: the binomial distribution models a statistical experiment with two outcomes only. In the present example, its parameter, p=1/6, has a complement of 1−p=5/6, and the following semantics: either 5 comes out, OR everything else. The binomial distribution does not model dice rolls, but (fair or unfair) coin tosses. To model a dice, you need the multinomial distribution, which is the multivariate generalization of the binomial. \n",
    "\n",
    "Let's plot the Binomial PMF and CDF for an experiment in which a coin with `P(H) = .5` is tossed a thousand times:"
   ]
  },
  {
   "cell_type": "code",
   "execution_count": 30,
   "metadata": {},
   "outputs": [
    {
     "data": {
      "text/plain": [
       "<AxesSubplot:xlabel='heads'>"
      ]
     },
     "execution_count": 30,
     "metadata": {},
     "output_type": "execute_result"
    },
    {
     "data": {
      "image/png": "[encoded data removed]",
      "text/plain": [
       "<Figure size 432x360 with 1 Axes>"
      ]
     },
     "metadata": {
      "needs_background": "light"
     },
     "output_type": "display_data"
    }
   ],
   "source": [
    "heads = np.linspace(0,1000,num=1001)\n",
    "probs = binom.pmf(heads,1000,.5)\n",
    "stat_exp_2 = pd.DataFrame({'heads':heads,'probs':probs})\n",
    "\n",
    "# - matplotlib figure size\n",
    "plt.rcParams['figure.figsize'] = [6, 5]\n",
    "\n",
    "stat_exp_2.plot.line(x='heads', y='probs',rot=0)"
   ]
  },
  {
   "cell_type": "markdown",
   "metadata": {},
   "source": [
    "The CDF:"
   ]
  },
  {
   "cell_type": "code",
   "execution_count": 31,
   "metadata": {},
   "outputs": [
    {
     "data": {
      "text/plain": [
       "<AxesSubplot:xlabel='heads'>"
      ]
     },
     "execution_count": 31,
     "metadata": {},
     "output_type": "execute_result"
    },
    {
     "data": {
      "image/png": "[encoded data removed]",
      "text/plain": [
       "<Figure size 432x360 with 1 Axes>"
      ]
     },
     "metadata": {
      "needs_background": "light"
     },
     "output_type": "display_data"
    }
   ],
   "source": [
    "probs = binom.cdf(heads,1000,.5)\n",
    "stat_exp_2 = pd.DataFrame({'heads':heads,'probs':probs})\n",
    "\n",
    "# - matplotlib figure size\n",
    "plt.rcParams['figure.figsize'] = [6, 5]\n",
    "\n",
    "stat_exp_2.plot.line(x='heads', y='probs')"
   ]
  },
  {
   "cell_type": "markdown",
   "metadata": {},
   "source": [
    "Let's now switch to `P(H)=.75`"
   ]
  },
  {
   "cell_type": "code",
   "execution_count": 32,
   "metadata": {},
   "outputs": [
    {
     "data": {
      "text/plain": [
       "<AxesSubplot:xlabel='heads'>"
      ]
     },
     "execution_count": 32,
     "metadata": {},
     "output_type": "execute_result"
    },
    {
     "data": {
      "image/png": "[encoded data removed]",
      "text/plain": [
       "<Figure size 432x360 with 1 Axes>"
      ]
     },
     "metadata": {
      "needs_background": "light"
     },
     "output_type": "display_data"
    }
   ],
   "source": [
    "heads = np.linspace(0,1000,num=1001)\n",
    "probs = binom.pmf(heads,1000,.75)\n",
    "stat_exp_2 = pd.DataFrame({'heads':heads,'probs':probs})\n",
    "\n",
    "# - matplotlib figure size\n",
    "plt.rcParams['figure.figsize'] = [6, 5]\n",
    "\n",
    "stat_exp_2.plot.line(x='heads', y='probs')"
   ]
  },
  {
   "cell_type": "markdown",
   "metadata": {},
   "source": [
    "- and we can see very nicely how the $mode(X)$ (the most frequently observed value in the distribution) has moved to 750 successes (Heads) out of 1000 trials."
   ]
  },
  {
   "cell_type": "code",
   "execution_count": 33,
   "metadata": {},
   "outputs": [
    {
     "data": {
      "text/plain": [
       "750.0"
      ]
     },
     "execution_count": 33,
     "metadata": {},
     "output_type": "execute_result"
    }
   ],
   "source": [
    "stat_exp_2['heads'][stat_exp_2.idxmax()[1]]"
   ]
  },
  {
   "cell_type": "markdown",
   "metadata": {},
   "source": [
    "The expected value (mean)"
   ]
  },
  {
   "cell_type": "code",
   "execution_count": 34,
   "metadata": {},
   "outputs": [
    {
     "name": "stdout",
     "output_type": "stream",
     "text": [
      "750.0\n"
     ]
    }
   ],
   "source": [
    "n = 1000\n",
    "p = .75\n",
    "mean = n*p\n",
    "print(mean)"
   ]
  },
  {
   "cell_type": "markdown",
   "metadata": {},
   "source": [
    "The variance"
   ]
  },
  {
   "cell_type": "code",
   "execution_count": 35,
   "metadata": {},
   "outputs": [
    {
     "name": "stdout",
     "output_type": "stream",
     "text": [
      "187.5\n"
     ]
    }
   ],
   "source": [
    "n = 1000\n",
    "p = .75\n",
    "q = 1-p\n",
    "variance = n*p*q\n",
    "print(variance)"
   ]
  },
  {
   "cell_type": "markdown",
   "metadata": {},
   "source": [
    "Random number generation from the Binomial: \n",
    "\n",
    "- the statistical experiment is: toss a fair coin 1,000 times\n",
    "- repeat the experiment 1,000 times."
   ]
  },
  {
   "cell_type": "code",
   "execution_count": 36,
   "metadata": {},
   "outputs": [
    {
     "data": {
      "image/png": "[encoded data removed]",
      "text/plain": [
       "<Figure size 432x360 with 1 Axes>"
      ]
     },
     "metadata": {
      "needs_background": "light"
     },
     "output_type": "display_data"
    }
   ],
   "source": [
    "n = 1000\n",
    "p = .5\n",
    "rvs = binom.rvs(n,p,size=1000)\n",
    "\n",
    "plt.hist(rvs, bins='auto')\n",
    "plt.title(\"Binomial Experiment\")\n",
    "\n",
    "# - matplotlib figure size\n",
    "plt.rcParams['figure.figsize'] = [6, 5]\n",
    "\n",
    "plt.show()\n"
   ]
  },
  {
   "cell_type": "markdown",
   "metadata": {},
   "source": [
    "- repeat the experiment 100,000 times."
   ]
  },
  {
   "cell_type": "code",
   "execution_count": 37,
   "metadata": {},
   "outputs": [
    {
     "data": {
      "image/png": "[encoded data removed]",
      "text/plain": [
       "<Figure size 432x360 with 1 Axes>"
      ]
     },
     "metadata": {
      "needs_background": "light"
     },
     "output_type": "display_data"
    }
   ],
   "source": [
    "n = 1000\n",
    "p = .5\n",
    "rvs = binom.rvs(n,p,size=100000)\n",
    "plt.hist(rvs, bins='auto')\n",
    "plt.title(\"Binomial Experiment\")\n",
    "\n",
    "# - matplotlib figure size\n",
    "plt.rcParams['figure.figsize'] = [6, 5]\n",
    "\n",
    "plt.show()"
   ]
  },
  {
   "cell_type": "markdown",
   "metadata": {},
   "source": [
    "### The Normal (Gaussian) Distribution: $\\mu$, $\\sigma$"
   ]
  },
  {
   "cell_type": "markdown",
   "metadata": {},
   "source": [
    "Back to school: what is the probability that a person is 185 cm tall if we draw her at random from a population with mean height = 178 cm, standard deviation = 15 cm..."
   ]
  },
  {
   "cell_type": "code",
   "execution_count": 38,
   "metadata": {},
   "outputs": [
    {
     "name": "stdout",
     "output_type": "stream",
     "text": [
      "0.023852228611197936\n"
     ]
    }
   ],
   "source": [
    "from scipy.stats import norm\n",
    "\n",
    "# - norm.pdf()\n",
    "# - loc is mean\n",
    "# - scale is standard deviation\n",
    "p185cm = norm.pdf(185,loc=178, scale=15)\n",
    "print(p185cm)"
   ]
  },
  {
   "cell_type": "markdown",
   "metadata": {},
   "source": [
    "No, it is not 0.02385223... that is the *probability density* scale! The normal distribution is **continuous**: it doesn't really make sense to ask for a probability of a data point from its domain. Try this: what is the probability that a person is between 180 cm and 185 cm tall if we draw a person at random from a population with mean height = 178 cm, standard deviation = 15 cm?\n",
    "\n",
    "What should I do? Make a difference between two probability densities, substract one from another?"
   ]
  },
  {
   "cell_type": "code",
   "execution_count": 39,
   "metadata": {},
   "outputs": [
    {
     "name": "stdout",
     "output_type": "stream",
     "text": [
      "-0.0025085607811899113\n"
     ]
    }
   ],
   "source": [
    "# - norm.cdf()\n",
    "# - loc is mean\n",
    "# - scale is standard deviation\n",
    "p180_185cm = norm.pdf(185,loc=178,scale=15) - norm.pdf(180,loc=178,scale=15)\n",
    "print(p180_185cm)"
   ]
  },
  {
   "cell_type": "markdown",
   "metadata": {},
   "source": [
    "Oh, no. Maybe:"
   ]
  },
  {
   "cell_type": "code",
   "execution_count": 40,
   "metadata": {},
   "outputs": [
    {
     "name": "stdout",
     "output_type": "stream",
     "text": [
      "0.1265956924751156\n"
     ]
    }
   ],
   "source": [
    "p180_185cm = norm.cdf(185,loc=178,scale=15) - norm.cdf(180,loc=178,scale=15)\n",
    "print(p180_185cm)"
   ]
  },
  {
   "cell_type": "markdown",
   "metadata": {},
   "source": [
    "That is correct: 0.1265957. Note the usage of `norm.pdf()` and `norm.cdf()` for density and the c.d.f. (short for: Cumulative Distribution Function) respectively, similar to any other probability function in scipy.\n",
    "\n",
    "Gaussian, the bell curve, the Normal Distribution:\n",
    "\n",
    "$$f(x|\\mu,\\sigma^2) = \\frac{1}{\\sqrt{2\\sigma^2\\pi}}e^{-\\frac{(x-\\mu)^2}{2\\sigma^2}}$$"
   ]
  },
  {
   "cell_type": "markdown",
   "metadata": {},
   "source": [
    "where $\\mu$ is the distribution mean, $\\sigma^2$ its variance, **and be very, very careful to notice** how scipy's functions for the normal distribution use $\\sigma$ - the *standard deviation* instead of variance:\n",
    "\n",
    "$$\\sigma = \\sqrt{\\frac{\\sum_{i=1}^{n}(x_i-\\overline{x})^2}{n-1}}$$"
   ]
  },
  {
   "cell_type": "markdown",
   "metadata": {},
   "source": [
    "Interesting: both the Binomial and the Gaussian functions describe random variables and refer to probability, but obviously they do so in a different manner. Why? \n",
    "\n",
    "At this point, we need to discuss the difference between **discrete** and **continuous probability functions** a bit:\n",
    "\n",
    "<img src=\"../img/probability_functions.jpeg\" style=\"width: 800px;\"/>\n"
   ]
  },
  {
   "cell_type": "markdown",
   "metadata": {},
   "source": [
    "Let's plot a set of Gaussians with different $\\mu$ and $\\sigma$ parameters:"
   ]
  },
  {
   "cell_type": "markdown",
   "metadata": {},
   "source": [
    "- $\\mu$=100, $\\sigma$=15"
   ]
  },
  {
   "cell_type": "code",
   "execution_count": 41,
   "metadata": {},
   "outputs": [
    {
     "data": {
      "text/plain": [
       "<AxesSubplot:xlabel='x'>"
      ]
     },
     "execution_count": 41,
     "metadata": {},
     "output_type": "execute_result"
    },
    {
     "data": {
      "image/png": "[encoded data removed]",
      "text/plain": [
       "<Figure size 432x360 with 1 Axes>"
      ]
     },
     "metadata": {
      "needs_background": "light"
     },
     "output_type": "display_data"
    }
   ],
   "source": [
    "mu=100\n",
    "sigma=15\n",
    "x=np.linspace(0,200,1000)\n",
    "gaussian = pd.DataFrame(\n",
    "    {'x':x, \n",
    "    'density':norm.pdf(x, loc=mu,scale=sigma)})\n",
    "\n",
    "# - matplotlib figure size\n",
    "plt.rcParams['figure.figsize'] = [6, 5]\n",
    "\n",
    "gaussian.plot.line(x='x',y='density')"
   ]
  },
  {
   "cell_type": "markdown",
   "metadata": {},
   "source": [
    "- $\\mu$=50, $\\sigma$=30"
   ]
  },
  {
   "cell_type": "code",
   "execution_count": 42,
   "metadata": {},
   "outputs": [
    {
     "data": {
      "text/plain": [
       "<AxesSubplot:xlabel='x'>"
      ]
     },
     "execution_count": 42,
     "metadata": {},
     "output_type": "execute_result"
    },
    {
     "data": {
      "image/png": "[encoded data removed]",
      "text/plain": [
       "<Figure size 432x360 with 1 Axes>"
      ]
     },
     "metadata": {
      "needs_background": "light"
     },
     "output_type": "display_data"
    }
   ],
   "source": [
    "mu=50\n",
    "sigma=30\n",
    "x=np.linspace(-100,200,1000)\n",
    "gaussian = pd.DataFrame(\n",
    "    {'x':x, \n",
    "    'density':norm.pdf(x, loc=mu,scale=sigma)})\n",
    "\n",
    "# - matplotlib figure size\n",
    "plt.rcParams['figure.figsize'] = [6, 5]\n",
    "\n",
    "gaussian.plot.line(x='x',y='density')"
   ]
  },
  {
   "cell_type": "markdown",
   "metadata": {},
   "source": [
    "- $\\mu$=50, $\\sigma$=10"
   ]
  },
  {
   "cell_type": "code",
   "execution_count": 43,
   "metadata": {},
   "outputs": [
    {
     "data": {
      "text/plain": [
       "<AxesSubplot:xlabel='x'>"
      ]
     },
     "execution_count": 43,
     "metadata": {},
     "output_type": "execute_result"
    },
    {
     "data": {
      "image/png": "[encoded data removed]",
      "text/plain": [
       "<Figure size 432x360 with 1 Axes>"
      ]
     },
     "metadata": {
      "needs_background": "light"
     },
     "output_type": "display_data"
    }
   ],
   "source": [
    "mu=50\n",
    "sigma=10\n",
    "x=np.linspace(-100,200,1000)\n",
    "gaussian = pd.DataFrame(\n",
    "    {'x':x, \n",
    "    'density':norm.pdf(x, loc=mu,scale=sigma)})\n",
    "\n",
    "# - matplotlib figure size\n",
    "plt.rcParams['figure.figsize'] = [6, 5]\n",
    "\n",
    "gaussian.plot.line(x='x',y='density')"
   ]
  },
  {
   "cell_type": "markdown",
   "metadata": {},
   "source": [
    "Gaussian Likelihood\n",
    "\n",
    "- **Data.** We observe three data points: 175, 178, 181.\n",
    "- **Q.** Which Normal distribution is more likely to have produced this data:\n",
    "   - the one with $\\mu$=176 and $\\sigma$=5,\n",
    "   - or the one with $\\mu$=183 and $\\sigma$=3?\n",
    "\n",
    "Let's see:"
   ]
  },
  {
   "cell_type": "code",
   "execution_count": 44,
   "metadata": {},
   "outputs": [
    {
     "name": "stdout",
     "output_type": "stream",
     "text": [
      "l1=0.00027876836974903406\n",
      "l2=2.144396353182168e-06\n",
      "Is l1 > l2? True\n"
     ]
    }
   ],
   "source": [
    "data = [175,178,181]\n",
    "l1 = np.prod(norm.pdf(data,loc=176,scale=5))\n",
    "print(\"l1=\" + str(l1))\n",
    "l2 = np.prod(norm.pdf(data,loc=184,scale=3))\n",
    "print(\"l2=\" + str(l2))\n",
    "print(\"Is l1 > l2? \" + str(l1>l2))"
   ]
  },
  {
   "cell_type": "markdown",
   "metadata": {},
   "source": [
    "When we multiply normal densities to compute the likelihood, small numbers typically occur.\n",
    "What if take their logarithms instead?"
   ]
  },
  {
   "cell_type": "code",
   "execution_count": 45,
   "metadata": {},
   "outputs": [
    {
     "name": "stdout",
     "output_type": "stream",
     "text": [
      "log_l1=-20.129997070198947\n",
      "log_l2=-65.92104025658554\n",
      "Is log_l1 > log_l2? True\n"
     ]
    }
   ],
   "source": [
    "data = [175,178,181]\n",
    "log_l1 = np.prod(np.log(norm.pdf(data,loc=176,scale=5)))\n",
    "print(\"log_l1=\" + str(log_l1))\n",
    "log_l2 = np.prod(np.log(norm.pdf(data,loc=184,scale=3)))\n",
    "print(\"log_l2=\" + str(log_l2))\n",
    "print(\"Is log_l1 > log_l2? \" + str(log_l1>log_l2))"
   ]
  },
  {
   "cell_type": "markdown",
   "metadata": {},
   "source": [
    "And of course that we have the `logpdf()` method in `scipy.stats.norm`:"
   ]
  },
  {
   "cell_type": "code",
   "execution_count": 46,
   "metadata": {},
   "outputs": [
    {
     "name": "stdout",
     "output_type": "stream",
     "text": [
      "log_l1=-20.129997070198943\n",
      "log_l2=-65.92104025658554\n",
      "Is log_l1 > log_l2? True\n"
     ]
    }
   ],
   "source": [
    "data = [175,178,181]\n",
    "log_l1 = np.prod(norm.logpdf(data,loc=176,scale=5))\n",
    "print(\"log_l1=\" + str(log_l1))\n",
    "log_l2 = np.prod(norm.logpdf(data,loc=184,scale=3))\n",
    "print(\"log_l2=\" + str(log_l2))\n",
    "print(\"Is log_l1 > log_l2? \" + str(log_l1>log_l2))"
   ]
  },
  {
   "cell_type": "markdown",
   "metadata": {},
   "source": [
    "### Covariance and Correlation"
   ]
  },
  {
   "cell_type": "code",
   "execution_count": 47,
   "metadata": {},
   "outputs": [
    {
     "name": "stdout",
     "output_type": "stream",
     "text": [
      "   sepal_length  sepal_width  petal_length  petal_width   class\n",
      "0           5.1          3.5           1.4          0.2  setosa\n",
      "1           4.9          3.0           1.4          0.2  setosa\n",
      "2           4.7          3.2           1.3          0.2  setosa\n",
      "3           4.6          3.1           1.5          0.2  setosa\n",
      "4           5.0          3.6           1.4          0.2  setosa\n",
      "5           5.4          3.9           1.7          0.4  setosa\n",
      "6           4.6          3.4           1.4          0.3  setosa\n",
      "7           5.0          3.4           1.5          0.2  setosa\n",
      "8           4.4          2.9           1.4          0.2  setosa\n",
      "9           4.9          3.1           1.5          0.1  setosa\n",
      "(150, 5)\n"
     ]
    }
   ],
   "source": [
    "# - libs\n",
    "from sklearn import datasets\n",
    "\n",
    "# - import iris data\n",
    "iris = pd.read_csv(\"../_data/iris.csv\")\n",
    "print(iris.head(10))\n",
    "print(iris.shape)"
   ]
  },
  {
   "cell_type": "markdown",
   "metadata": {},
   "source": [
    "It is not difficult to obtain the correlation coefficient from two vectors in `numpy`:"
   ]
  },
  {
   "cell_type": "code",
   "execution_count": 48,
   "metadata": {},
   "outputs": [
    {
     "data": {
      "text/plain": [
       "array([[1.        , 0.87175416],\n",
       "       [0.87175416, 1.        ]])"
      ]
     },
     "execution_count": 48,
     "metadata": {},
     "output_type": "execute_result"
    }
   ],
   "source": [
    "np.corrcoef(iris['sepal_length'], iris['petal_length'])"
   ]
  },
  {
   "cell_type": "markdown",
   "metadata": {},
   "source": [
    "`Numpy` will always return a full correlation matrix, so:"
   ]
  },
  {
   "cell_type": "code",
   "execution_count": 49,
   "metadata": {},
   "outputs": [
    {
     "data": {
      "text/plain": [
       "0.8717541573048709"
      ]
     },
     "execution_count": 49,
     "metadata": {},
     "output_type": "execute_result"
    }
   ],
   "source": [
    "np.corrcoef(iris['sepal_length'], iris['petal_length'])[0,1]"
   ]
  },
  {
   "cell_type": "markdown",
   "metadata": {},
   "source": [
    "However, we now want to **understand** what the correlation coefficient really is. Intuitively, we say that it describes a relationship between two variables. The correlation coefficient - more precisely, the Pearson's correlation coefficient in our case - can very from `-1` to `+1`, describing a negative or positive, strong or week **linear relationship** between two variables.\n",
    "\n",
    "You might have stumbled upon various formulas that compute this correlation coefficient. But it is easy to understand what it really us once we introduce a more elementary concept of **covariance** between two random variables.\n",
    "\n",
    "**Covariance**. Given two random variables (RVs), $X$ and $Y$, their (sample) covariance is given by:\n",
    "\n",
    "$$cov(X,Y) = E[(X-E[X])(Y-E[Y])] = \\frac{(X-\\bar{X})(Y-\\bar{Y})}{N-1}$$"
   ]
  },
  {
   "cell_type": "code",
   "execution_count": 50,
   "metadata": {},
   "outputs": [
    {
     "name": "stdout",
     "output_type": "stream",
     "text": [
      "1.273682326621924\n"
     ]
    }
   ],
   "source": [
    "# - covariance\n",
    "v1 = iris['sepal_length']\n",
    "v2 = iris['petal_length']\n",
    "# - the expected value of v1 (the mean of v1)\n",
    "mean_v1 = v1.mean()\n",
    "# - the expected value of v2 (the mean of v2)\n",
    "mean_v2 = v2.mean()\n",
    "diffs = (v1-mean_v1)*(v2-mean_v2)\n",
    "cov = diffs.sum()/(v1.size-1)\n",
    "print(cov)"
   ]
  },
  {
   "cell_type": "markdown",
   "metadata": {},
   "source": [
    "Of course we have  `np.cov()` for covariance:"
   ]
  },
  {
   "cell_type": "code",
   "execution_count": 51,
   "metadata": {},
   "outputs": [
    {
     "name": "stdout",
     "output_type": "stream",
     "text": [
      "[[0.68112222 1.26519111]\n",
      " [1.26519111 3.09242489]]\n"
     ]
    }
   ],
   "source": [
    "cov = np.cov(v1,v2,bias=True)\n",
    "print(cov)"
   ]
  },
  {
   "cell_type": "markdown",
   "metadata": {},
   "source": [
    "The covariance of a variable with itself is its variance:"
   ]
  },
  {
   "cell_type": "code",
   "execution_count": 52,
   "metadata": {},
   "outputs": [
    {
     "data": {
      "text/plain": [
       "0.6856935123042505"
      ]
     },
     "execution_count": 52,
     "metadata": {},
     "output_type": "execute_result"
    }
   ],
   "source": [
    "np.var(v1,ddof=1)"
   ]
  },
  {
   "cell_type": "code",
   "execution_count": 53,
   "metadata": {},
   "outputs": [
    {
     "data": {
      "text/plain": [
       "<AxesSubplot:xlabel='sepal_length', ylabel='petal_length'>"
      ]
     },
     "execution_count": 53,
     "metadata": {},
     "output_type": "execute_result"
    },
    {
     "data": {
      "image/png": "[encoded data removed]",
      "text/plain": [
       "<Figure size 432x360 with 1 Axes>"
      ]
     },
     "metadata": {
      "needs_background": "light"
     },
     "output_type": "display_data"
    }
   ],
   "source": [
    "iris.plot.scatter(x=\"sepal_length\",y=\"petal_length\")"
   ]
  },
  {
   "cell_type": "markdown",
   "metadata": {},
   "source": [
    "Enters `z-score`: the standardization of random variables.\n",
    "\n",
    "Pearson's coefficient of correlation is nothing else than a covariance between $X$ and $Y$ upon their *standardization*. The standardization of a RV - widely known as a variable *z-score* - is obtained upon subtracting all of its values from the mean, and dividing by the standard deviation; for the **i**-th observation of $X$:\n",
    "\n",
    "$$z(x_i) = \\frac{x_i-\\bar{X}}{\\sigma}$$"
   ]
  },
  {
   "cell_type": "code",
   "execution_count": 54,
   "metadata": {},
   "outputs": [
    {
     "name": "stdout",
     "output_type": "stream",
     "text": [
      "-0.0\n",
      "-0.0\n",
      "[[0.99333333 0.86594246]\n",
      " [0.86594246 0.99333333]]\n"
     ]
    }
   ],
   "source": [
    "# - standard deviation of v1\n",
    "std_v1 = v1.std(ddof=1)\n",
    "# - standard deviation of v2\n",
    "std_v2 = v2.std(ddof=1)\n",
    "# - v1 expressed as z-score\n",
    "z_v1 = (v1-mean_v1)/std_v1\n",
    "# - mean of z_v1 is now zero\n",
    "print(np.round(z_v1.mean(),2))\n",
    "# - v2 expressed as z-score\n",
    "z_v2 = (v2-mean_v2)/std_v2\n",
    "# - mean of z_v2 is now zero\n",
    "print(np.round(z_v2.mean(),2))\n",
    "# - covariance between z_v1 and z_v2\n",
    "cov = np.cov(z_v1, z_v2,bias=True)\n",
    "print(cov)"
   ]
  },
  {
   "cell_type": "markdown",
   "metadata": {},
   "source": [
    "Now Pearsons's correlation between `v1` and `v2`:"
   ]
  },
  {
   "cell_type": "code",
   "execution_count": 55,
   "metadata": {},
   "outputs": [
    {
     "data": {
      "text/plain": [
       "0.8717541573048709"
      ]
     },
     "execution_count": 55,
     "metadata": {},
     "output_type": "execute_result"
    }
   ],
   "source": [
    "np.corrcoef(v1, v2)[0,1]"
   ]
  },
  {
   "cell_type": "markdown",
   "metadata": {},
   "source": [
    "So: Pearson's correlation coefficient is just the covariance between standardized variables."
   ]
  },
  {
   "cell_type": "markdown",
   "metadata": {},
   "source": [
    "Finally, to determine how much variance is shared between two variables, we square the correlation coefficient to obtain the coefficient of determination, $R^2$:"
   ]
  },
  {
   "cell_type": "code",
   "execution_count": 56,
   "metadata": {},
   "outputs": [
    {
     "name": "stdout",
     "output_type": "stream",
     "text": [
      "0.7599553107783257\n"
     ]
    }
   ],
   "source": [
    "r2 = np.corrcoef(v1, v2)[0,1]**2\n",
    "print(r2)"
   ]
  },
  {
   "cell_type": "markdown",
   "metadata": {},
   "source": [
    "We have already introduced some of the building blocks for the first model of statistical learning that we will discuss in the next session: *Simple Linear Regression*. \n",
    "\n",
    "In Simple Linear Regression, we discuss the model of the following functional form:\n",
    "\n",
    "$$Y = \\beta_0 + \\beta_1X_1 + \\epsilon $$\n",
    "\n",
    "- $Y$ is the variable whose values we would like to be able to predict - and it is called a *criterion* or a *dependent variable* - from\n",
    "- $X$, which is called a *predictor*, or an *independent variable* in the Simple Linear Regression setting;\n",
    "- $\\beta_0$ and $\\beta_1$ are *model parameters*, of which the former represents the *intercept* while the later is the *slope* of the regression line (**note:** besides $\\epsilon$, what the equation represents is nothing else but the equation of a straight line in a plane that you have seen a dozen times in high school); finally,\n",
    "- $\\epsilon$ represents the model error term, which we will discuss in length in our next session.\n",
    "\n",
    "If we assume that the relationship between $X$ and $Y$ is indeed linear - and introduce some additional assumptions that we will discuss in our next session - the following question remains:\n",
    "\n",
    "> What values of $\\beta_0$ and $\\beta_1$ would pick a line in a plane spawned by $X$ and $Y$ values so that it describes the assumed linear relationship between them the best?"
   ]
  },
  {
   "cell_type": "markdown",
   "metadata": {},
   "source": [
    "### Intro Readings and Videos\n",
    "\n",
    "- "
   ]
  },
  {
   "cell_type": "markdown",
   "metadata": {},
   "source": [
    "### Highly Recommended To Do\n",
    "\n",
    "- Watch [Python NumPy Tutorial for Beginners](https://www.youtube.com/watch?v=QUT1VHiLmmI)\n",
    "- Read chapter [Introduction to NumPy](https://jakevdp.github.io/PythonDataScienceHandbook/02.00-introduction-to-numpy.html) from [Python Data Science Handbook, Jake VanderPlas](https://jakevdp.github.io/PythonDataScienceHandbook/)"
   ]
  },
  {
   "cell_type": "markdown",
   "metadata": {},
   "source": [
    "<hr>"
   ]
  },
  {
   "cell_type": "markdown",
   "metadata": {},
   "source": [
    "Goran S. Milovanović & Aleksandar Cvetković\n",
    "\n",
    "DataKolektiv, 2022/23.\n",
    "\n",
    "[hello@datakolektiv.com](mailto:goran.milovanovic@datakolektiv.com)\n",
    "\n",
    "![](../img/DK_Logo_100.png)"
   ]
  },
  {
   "cell_type": "markdown",
   "metadata": {},
   "source": [
    "<font size=1>License: <a href=\"https://www.gnu.org/licenses/gpl-3.0.txt\">GPLv3</a> This Notebook is free software: you can redistribute it and/or modify it under the terms of the GNU General Public License as published by the Free Software Foundation, either version 3 of the License, or (at your option) any later version. This Notebook is distributed in the hope that it will be useful, but WITHOUT ANY WARRANTY; without even the implied warranty of MERCHANTABILITY or FITNESS FOR A PARTICULAR PURPOSE. See the GNU General Public License for more details. You should have received a copy of the GNU General Public License along with this Notebook. If not, see <a href=\"http://www.gnu.org/licenses/\">http://www.gnu.org/licenses/</a>.</font>"
   ]
  }
 ],
 "metadata": {
  "kernelspec": {
   "display_name": "Python 3.8.8 64-bit ('anaconda3')",
   "language": "python",
   "name": "python3"
  },
  "language_info": {
   "codemirror_mode": {
    "name": "ipython",
    "version": 3
   },
   "file_extension": ".py",
   "mimetype": "text/x-python",
   "name": "python",
   "nbconvert_exporter": "python",
   "pygments_lexer": "ipython3",
   "version": "3.8.8"
  },
  "orig_nbformat": 4,
  "vscode": {
   "interpreter": {
    "hash": "7c7c0b39279531525356e7c72233a718e646ba7c12e6fb3edba6266455e01905"
   }
  }
 },
 "nbformat": 4,
 "nbformat_minor": 2
}
