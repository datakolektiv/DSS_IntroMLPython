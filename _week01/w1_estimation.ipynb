{
 "cells": [
  {
   "cell_type": "markdown",
   "metadata": {},
   "source": [
    "# DATA SCIENCE INTENSIVE :: Intro to ML in Python\n",
    "### An Intensive Python ML Course\n",
    "## Week 01: Intro to Estimation Theory\n",
    "\n",
    "[&larr; Back to course webpage](http://datakolektiv.com/app_direct/introdsnontech/)\n",
    "\n",
    "![](../img/IntroMLPython_Head.png)\n",
    "\n",
    "Feedback should be send to [goran.milovanovic@datakolektiv.com](mailto:goran.milovanovic@datakolektiv.com). \n",
    "\n",
    "These notebooks accompany the DATA SCIENCE INTENSIVE SERIES :: Introduction to ML in Python DataKolektiv course."
   ]
  },
  {
   "cell_type": "markdown",
   "metadata": {},
   "source": [
    "### Goran S. Milovanović, PhD\n",
    "<b>DataKolektiv, Chief Scientist & Owner</b>\n",
    "\n",
    "### Aleksandar Cvetković, PhD\n",
    "<b>DataKolektiv, Consultant</b>"
   ]
  },
  {
   "cell_type": "markdown",
   "metadata": {},
   "source": [
    "![](../img/DK_Logo_100.png)"
   ]
  },
  {
   "cell_type": "markdown",
   "metadata": {},
   "source": [
    "## Intro to Estimation Theory\n",
    "\n",
    "- Covariance and Correlation\n",
    "- Simple Linear Regression\n",
    "- The Method of Least Squares\n",
    "- The Method of Maximum Likelihood"
   ]
  },
  {
   "cell_type": "code",
   "execution_count": 1,
   "metadata": {},
   "outputs": [],
   "source": [
    "# - libs\n",
    "import numpy as np\n",
    "import pandas as pd\n",
    "import matplotlib.pyplot as plt\n",
    "import seaborn as sns\n",
    "\n",
    "# - set RGN sed\n",
    "np.random.seed(777) "
   ]
  },
  {
   "cell_type": "markdown",
   "metadata": {},
   "source": [
    "### Covariance and Correlation"
   ]
  },
  {
   "cell_type": "code",
   "execution_count": 2,
   "metadata": {},
   "outputs": [
    {
     "name": "stdout",
     "output_type": "stream",
     "text": [
      "   sepal_length  sepal_width  petal_length  petal_width   class\n",
      "0           5.1          3.5           1.4          0.2  setosa\n",
      "1           4.9          3.0           1.4          0.2  setosa\n",
      "2           4.7          3.2           1.3          0.2  setosa\n",
      "3           4.6          3.1           1.5          0.2  setosa\n",
      "4           5.0          3.6           1.4          0.2  setosa\n",
      "5           5.4          3.9           1.7          0.4  setosa\n",
      "6           4.6          3.4           1.4          0.3  setosa\n",
      "7           5.0          3.4           1.5          0.2  setosa\n",
      "8           4.4          2.9           1.4          0.2  setosa\n",
      "9           4.9          3.1           1.5          0.1  setosa\n",
      "(150, 5)\n"
     ]
    }
   ],
   "source": [
    "# - libs\n",
    "from sklearn import datasets\n",
    "\n",
    "# - import iris data\n",
    "iris = pd.read_csv(\"../_data/iris.csv\")\n",
    "print(iris.head(10))\n",
    "print(iris.shape)"
   ]
  },
  {
   "cell_type": "markdown",
   "metadata": {},
   "source": [
    "It is not difficult to obtain the correlation coefficient from two vectors in `numpy`:"
   ]
  },
  {
   "cell_type": "code",
   "execution_count": 3,
   "metadata": {},
   "outputs": [
    {
     "data": {
      "text/plain": [
       "array([[1.        , 0.87175416],\n",
       "       [0.87175416, 1.        ]])"
      ]
     },
     "execution_count": 3,
     "metadata": {},
     "output_type": "execute_result"
    }
   ],
   "source": [
    "np.corrcoef(iris['sepal_length'], iris['petal_length'])"
   ]
  },
  {
   "cell_type": "markdown",
   "metadata": {},
   "source": [
    "`Numpy` will always return a full correlation matrix, so:"
   ]
  },
  {
   "cell_type": "code",
   "execution_count": 4,
   "metadata": {},
   "outputs": [
    {
     "data": {
      "text/plain": [
       "0.8717541573048709"
      ]
     },
     "execution_count": 4,
     "metadata": {},
     "output_type": "execute_result"
    }
   ],
   "source": [
    "np.corrcoef(iris['sepal_length'], iris['petal_length'])[0,1]"
   ]
  },
  {
   "cell_type": "markdown",
   "metadata": {},
   "source": [
    "However, we now want to **understand** what the correlation coefficient really is. Intuitively, we say that it describes a relationship between two variables. The correlation coefficient - more precisely, the Pearson's correlation coefficient in our case - can very from `-1` to `+1`, describing a negative or positive, strong or week **linear relationship** between two variables.\n",
    "\n",
    "You might have stumbled upon various formulas that compute this correlation coefficient. But it is easy to understand what it really us once we introduce a more elementary concept of **covariance** between two random variables.\n",
    "\n",
    "**Covariance**. Given two random variables (RVs), $X$ and $Y$, their (sample) covariance is given by:\n",
    "\n",
    "$$cov(X,Y) = E[(X-E[X])(Y-E[Y])] = \\frac{(X-\\bar{X})(Y-\\bar{Y})}{N-1}$$"
   ]
  },
  {
   "cell_type": "code",
   "execution_count": 5,
   "metadata": {},
   "outputs": [
    {
     "name": "stdout",
     "output_type": "stream",
     "text": [
      "1.273682326621924\n"
     ]
    }
   ],
   "source": [
    "# - covariance\n",
    "v1 = iris['sepal_length']\n",
    "v2 = iris['petal_length']\n",
    "# - the expected value of v1 (the mean of v1)\n",
    "mean_v1 = v1.mean()\n",
    "# - the expected value of v2 (the mean of v2)\n",
    "mean_v2 = v2.mean()\n",
    "diffs = (v1-mean_v1)*(v2-mean_v2)\n",
    "cov = diffs.sum()/(v1.size-1)\n",
    "print(cov)"
   ]
  },
  {
   "cell_type": "markdown",
   "metadata": {},
   "source": [
    "Of course we have  `np.cov()` for covariance:"
   ]
  },
  {
   "cell_type": "code",
   "execution_count": 6,
   "metadata": {},
   "outputs": [
    {
     "name": "stdout",
     "output_type": "stream",
     "text": [
      "[[0.68569351 1.27368233]\n",
      " [1.27368233 3.11317942]]\n"
     ]
    }
   ],
   "source": [
    "cov = np.cov(v1,v2,bias=False)\n",
    "print(cov)"
   ]
  },
  {
   "cell_type": "markdown",
   "metadata": {},
   "source": [
    "The covariance of a variable with itself is its variance:"
   ]
  },
  {
   "cell_type": "code",
   "execution_count": 7,
   "metadata": {},
   "outputs": [
    {
     "data": {
      "text/plain": [
       "0.6856935123042505"
      ]
     },
     "execution_count": 7,
     "metadata": {},
     "output_type": "execute_result"
    }
   ],
   "source": [
    "np.var(v1,ddof=1)"
   ]
  },
  {
   "cell_type": "code",
   "execution_count": 8,
   "metadata": {},
   "outputs": [
    {
     "data": {
      "text/plain": [
       "<AxesSubplot:xlabel='sepal_length', ylabel='petal_length'>"
      ]
     },
     "execution_count": 8,
     "metadata": {},
     "output_type": "execute_result"
    },
    {
     "data": {
      "image/png": "[encoded data removed]",
      "text/plain": [
       "<Figure size 432x288 with 1 Axes>"
      ]
     },
     "metadata": {
      "needs_background": "light"
     },
     "output_type": "display_data"
    }
   ],
   "source": [
    "iris.plot.scatter(x=\"sepal_length\",y=\"petal_length\")"
   ]
  },
  {
   "cell_type": "markdown",
   "metadata": {},
   "source": [
    "Enters `z-score`: the standardization of random variables.\n",
    "\n",
    "Pearson's coefficient of correlation is nothing else than a covariance between $X$ and $Y$ upon their *standardization*. The standardization of a RV - widely known as a variable *z-score* - is obtained upon subtracting all of its values from the mean, and dividing by the standard deviation; for the **i**-th observation of $X$:\n",
    "\n",
    "$$z(x_i) = \\frac{x_i-\\bar{X}}{\\sigma}$$"
   ]
  },
  {
   "cell_type": "code",
   "execution_count": 9,
   "metadata": {},
   "outputs": [
    {
     "name": "stdout",
     "output_type": "stream",
     "text": [
      "-0.0\n",
      "-0.0\n",
      "[[0.99333333 0.86594246]\n",
      " [0.86594246 0.99333333]]\n"
     ]
    }
   ],
   "source": [
    "# - standard deviation of v1\n",
    "std_v1 = v1.std(ddof=1)\n",
    "# - standard deviation of v2\n",
    "std_v2 = v2.std(ddof=1)\n",
    "# - v1 expressed as z-score\n",
    "z_v1 = (v1-mean_v1)/std_v1\n",
    "# - mean of z_v1 is now zero\n",
    "print(np.round(z_v1.mean(),2))\n",
    "# - v2 expressed as z-score\n",
    "z_v2 = (v2-mean_v2)/std_v2\n",
    "# - mean of z_v2 is now zero\n",
    "print(np.round(z_v2.mean(),2))\n",
    "# - covariance between z_v1 and z_v2\n",
    "cov = np.cov(z_v1, z_v2,bias=True)\n",
    "print(cov)"
   ]
  },
  {
   "cell_type": "markdown",
   "metadata": {},
   "source": [
    "Now Pearsons's correlation between `v1` and `v2`:"
   ]
  },
  {
   "cell_type": "code",
   "execution_count": 10,
   "metadata": {},
   "outputs": [
    {
     "data": {
      "text/plain": [
       "0.8717541573048709"
      ]
     },
     "execution_count": 10,
     "metadata": {},
     "output_type": "execute_result"
    }
   ],
   "source": [
    "np.corrcoef(v1, v2)[0,1]"
   ]
  },
  {
   "cell_type": "markdown",
   "metadata": {},
   "source": [
    "So: Pearson's correlation coefficient is just the covariance between standardized variables."
   ]
  },
  {
   "cell_type": "markdown",
   "metadata": {},
   "source": [
    "Finally, to determine how much variance is shared between two variables, we square the correlation coefficient to obtain the **coefficient of determination**, $R^2$"
   ]
  },
  {
   "cell_type": "code",
   "execution_count": 11,
   "metadata": {},
   "outputs": [
    {
     "name": "stdout",
     "output_type": "stream",
     "text": [
      "0.7599553107783257\n"
     ]
    }
   ],
   "source": [
    "r2 = np.corrcoef(v1, v2)[0,1]**2\n",
    "print(r2)"
   ]
  },
  {
   "cell_type": "markdown",
   "metadata": {},
   "source": [
    "We have already introduced some of the building blocks for the first model of statistical learning that we will discuss in the step: *Simple Linear Regression*. \n",
    "\n",
    "In Simple Linear Regression, we discuss the model of the following functional form:\n",
    "\n",
    "$$Y = \\beta_0 + \\beta_1X_1 + \\epsilon $$\n",
    "\n",
    "- $Y$ is the variable whose values we would like to be able to predict - and it is called a *criterion* or a *dependent variable* - from\n",
    "- $X$, which is called a *predictor*, or an *independent variable* in the Simple Linear Regression setting;\n",
    "- $\\beta_0$ and $\\beta_1$ are *model parameters*, of which the former represents the *intercept* while the later is the *slope* of the regression line (**note:** besides $\\epsilon$, what the equation represents is nothing else but the equation of a straight line in a plane that you have seen a dozen times in high school); finally,\n",
    "- $\\epsilon$ represents the model error term, which we will discuss in length in our next session.\n",
    "\n",
    "If we assume that the relationship between $X$ and $Y$ is indeed linear - and introduce some additional assumptions that we will discuss in our next session - the following question remains:\n",
    "\n",
    "> What values of $\\beta_0$ and $\\beta_1$ would pick a line in a plane spawned by $X$ and $Y$ values so that it describes the assumed linear relationship between them the best?"
   ]
  },
  {
   "cell_type": "markdown",
   "metadata": {},
   "source": [
    "### Linear Regression"
   ]
  },
  {
   "cell_type": "code",
   "execution_count": 12,
   "metadata": {},
   "outputs": [
    {
     "data": {
      "text/html": [
       "<table class=\"simpletable\">\n",
       "<caption>OLS Regression Results</caption>\n",
       "<tr>\n",
       "  <th>Dep. Variable:</th>      <td>petal_length</td>   <th>  R-squared:         </th> <td>   0.760</td>\n",
       "</tr>\n",
       "<tr>\n",
       "  <th>Model:</th>                   <td>OLS</td>       <th>  Adj. R-squared:    </th> <td>   0.758</td>\n",
       "</tr>\n",
       "<tr>\n",
       "  <th>Method:</th>             <td>Least Squares</td>  <th>  F-statistic:       </th> <td>   468.6</td>\n",
       "</tr>\n",
       "<tr>\n",
       "  <th>Date:</th>             <td>Sun, 20 Nov 2022</td> <th>  Prob (F-statistic):</th> <td>1.04e-47</td>\n",
       "</tr>\n",
       "<tr>\n",
       "  <th>Time:</th>                 <td>14:36:13</td>     <th>  Log-Likelihood:    </th> <td> -190.49</td>\n",
       "</tr>\n",
       "<tr>\n",
       "  <th>No. Observations:</th>      <td>   150</td>      <th>  AIC:               </th> <td>   385.0</td>\n",
       "</tr>\n",
       "<tr>\n",
       "  <th>Df Residuals:</th>          <td>   148</td>      <th>  BIC:               </th> <td>   391.0</td>\n",
       "</tr>\n",
       "<tr>\n",
       "  <th>Df Model:</th>              <td>     1</td>      <th>                     </th>     <td> </td>   \n",
       "</tr>\n",
       "<tr>\n",
       "  <th>Covariance Type:</th>      <td>nonrobust</td>    <th>                     </th>     <td> </td>   \n",
       "</tr>\n",
       "</table>\n",
       "<table class=\"simpletable\">\n",
       "<tr>\n",
       "        <td></td>          <th>coef</th>     <th>std err</th>      <th>t</th>      <th>P>|t|</th>  <th>[0.025</th>    <th>0.975]</th>  \n",
       "</tr>\n",
       "<tr>\n",
       "  <th>Intercept</th>    <td>   -7.0954</td> <td>    0.506</td> <td>  -14.011</td> <td> 0.000</td> <td>   -8.096</td> <td>   -6.095</td>\n",
       "</tr>\n",
       "<tr>\n",
       "  <th>sepal_length</th> <td>    1.8575</td> <td>    0.086</td> <td>   21.646</td> <td> 0.000</td> <td>    1.688</td> <td>    2.027</td>\n",
       "</tr>\n",
       "</table>\n",
       "<table class=\"simpletable\">\n",
       "<tr>\n",
       "  <th>Omnibus:</th>       <td> 0.255</td> <th>  Durbin-Watson:     </th> <td>   1.204</td>\n",
       "</tr>\n",
       "<tr>\n",
       "  <th>Prob(Omnibus):</th> <td> 0.880</td> <th>  Jarque-Bera (JB):  </th> <td>   0.384</td>\n",
       "</tr>\n",
       "<tr>\n",
       "  <th>Skew:</th>          <td>-0.084</td> <th>  Prob(JB):          </th> <td>   0.825</td>\n",
       "</tr>\n",
       "<tr>\n",
       "  <th>Kurtosis:</th>      <td> 2.817</td> <th>  Cond. No.          </th> <td>    43.4</td>\n",
       "</tr>\n",
       "</table><br/><br/>Notes:<br/>[1] Standard Errors assume that the covariance matrix of the errors is correctly specified."
      ],
      "text/plain": [
       "<class 'statsmodels.iolib.summary.Summary'>\n",
       "\"\"\"\n",
       "                            OLS Regression Results                            \n",
       "==============================================================================\n",
       "Dep. Variable:           petal_length   R-squared:                       0.760\n",
       "Model:                            OLS   Adj. R-squared:                  0.758\n",
       "Method:                 Least Squares   F-statistic:                     468.6\n",
       "Date:                Sun, 20 Nov 2022   Prob (F-statistic):           1.04e-47\n",
       "Time:                        14:36:13   Log-Likelihood:                -190.49\n",
       "No. Observations:                 150   AIC:                             385.0\n",
       "Df Residuals:                     148   BIC:                             391.0\n",
       "Df Model:                           1                                         \n",
       "Covariance Type:            nonrobust                                         \n",
       "================================================================================\n",
       "                   coef    std err          t      P>|t|      [0.025      0.975]\n",
       "--------------------------------------------------------------------------------\n",
       "Intercept       -7.0954      0.506    -14.011      0.000      -8.096      -6.095\n",
       "sepal_length     1.8575      0.086     21.646      0.000       1.688       2.027\n",
       "==============================================================================\n",
       "Omnibus:                        0.255   Durbin-Watson:                   1.204\n",
       "Prob(Omnibus):                  0.880   Jarque-Bera (JB):                0.384\n",
       "Skew:                          -0.084   Prob(JB):                        0.825\n",
       "Kurtosis:                       2.817   Cond. No.                         43.4\n",
       "==============================================================================\n",
       "\n",
       "Notes:\n",
       "[1] Standard Errors assume that the covariance matrix of the errors is correctly specified.\n",
       "\"\"\""
      ]
     },
     "execution_count": 12,
     "metadata": {},
     "output_type": "execute_result"
    }
   ],
   "source": [
    "# - fitting the linear model to the data\n",
    "import statsmodels.api as sm\n",
    "import statsmodels.formula.api as smf\n",
    "linear_model = smf.ols(formula='petal_length ~ sepal_length', data=iris).fit()\n",
    "linear_model.summary()"
   ]
  },
  {
   "cell_type": "markdown",
   "metadata": {},
   "source": [
    "The parameters, $\\beta_0$ (intercept) and $\\beta_1$ (slope)"
   ]
  },
  {
   "cell_type": "code",
   "execution_count": 13,
   "metadata": {},
   "outputs": [
    {
     "data": {
      "text/plain": [
       "Intercept      -7.095381\n",
       "sepal_length    1.857510\n",
       "dtype: float64"
      ]
     },
     "execution_count": 13,
     "metadata": {},
     "output_type": "execute_result"
    }
   ],
   "source": [
    "linear_model.params"
   ]
  },
  {
   "cell_type": "markdown",
   "metadata": {},
   "source": [
    "The residuals are what is represented by the model error term $\\epsilon$: they represent the difference between the observed and the predicted value:"
   ]
  },
  {
   "cell_type": "code",
   "execution_count": 14,
   "metadata": {},
   "outputs": [
    {
     "data": {
      "text/html": [
       "<div>\n",
       "<style scoped>\n",
       "    .dataframe tbody tr th:only-of-type {\n",
       "        vertical-align: middle;\n",
       "    }\n",
       "\n",
       "    .dataframe tbody tr th {\n",
       "        vertical-align: top;\n",
       "    }\n",
       "\n",
       "    .dataframe thead th {\n",
       "        text-align: right;\n",
       "    }\n",
       "</style>\n",
       "<table border=\"1\" class=\"dataframe\">\n",
       "  <thead>\n",
       "    <tr style=\"text-align: right;\">\n",
       "      <th></th>\n",
       "      <th>sepal_length</th>\n",
       "      <th>sepal_width</th>\n",
       "      <th>petal_length</th>\n",
       "      <th>petal_width</th>\n",
       "      <th>class</th>\n",
       "      <th>Prediction</th>\n",
       "      <th>Residuals</th>\n",
       "    </tr>\n",
       "  </thead>\n",
       "  <tbody>\n",
       "    <tr>\n",
       "      <th>0</th>\n",
       "      <td>5.1</td>\n",
       "      <td>3.5</td>\n",
       "      <td>1.4</td>\n",
       "      <td>0.2</td>\n",
       "      <td>setosa</td>\n",
       "      <td>2.377918</td>\n",
       "      <td>-0.977918</td>\n",
       "    </tr>\n",
       "    <tr>\n",
       "      <th>1</th>\n",
       "      <td>4.9</td>\n",
       "      <td>3.0</td>\n",
       "      <td>1.4</td>\n",
       "      <td>0.2</td>\n",
       "      <td>setosa</td>\n",
       "      <td>2.006416</td>\n",
       "      <td>-0.606416</td>\n",
       "    </tr>\n",
       "    <tr>\n",
       "      <th>2</th>\n",
       "      <td>4.7</td>\n",
       "      <td>3.2</td>\n",
       "      <td>1.3</td>\n",
       "      <td>0.2</td>\n",
       "      <td>setosa</td>\n",
       "      <td>1.634914</td>\n",
       "      <td>-0.334914</td>\n",
       "    </tr>\n",
       "    <tr>\n",
       "      <th>3</th>\n",
       "      <td>4.6</td>\n",
       "      <td>3.1</td>\n",
       "      <td>1.5</td>\n",
       "      <td>0.2</td>\n",
       "      <td>setosa</td>\n",
       "      <td>1.449163</td>\n",
       "      <td>0.050837</td>\n",
       "    </tr>\n",
       "    <tr>\n",
       "      <th>4</th>\n",
       "      <td>5.0</td>\n",
       "      <td>3.6</td>\n",
       "      <td>1.4</td>\n",
       "      <td>0.2</td>\n",
       "      <td>setosa</td>\n",
       "      <td>2.192167</td>\n",
       "      <td>-0.792167</td>\n",
       "    </tr>\n",
       "    <tr>\n",
       "      <th>5</th>\n",
       "      <td>5.4</td>\n",
       "      <td>3.9</td>\n",
       "      <td>1.7</td>\n",
       "      <td>0.4</td>\n",
       "      <td>setosa</td>\n",
       "      <td>2.935171</td>\n",
       "      <td>-1.235171</td>\n",
       "    </tr>\n",
       "    <tr>\n",
       "      <th>6</th>\n",
       "      <td>4.6</td>\n",
       "      <td>3.4</td>\n",
       "      <td>1.4</td>\n",
       "      <td>0.3</td>\n",
       "      <td>setosa</td>\n",
       "      <td>1.449163</td>\n",
       "      <td>-0.049163</td>\n",
       "    </tr>\n",
       "    <tr>\n",
       "      <th>7</th>\n",
       "      <td>5.0</td>\n",
       "      <td>3.4</td>\n",
       "      <td>1.5</td>\n",
       "      <td>0.2</td>\n",
       "      <td>setosa</td>\n",
       "      <td>2.192167</td>\n",
       "      <td>-0.692167</td>\n",
       "    </tr>\n",
       "    <tr>\n",
       "      <th>8</th>\n",
       "      <td>4.4</td>\n",
       "      <td>2.9</td>\n",
       "      <td>1.4</td>\n",
       "      <td>0.2</td>\n",
       "      <td>setosa</td>\n",
       "      <td>1.077661</td>\n",
       "      <td>0.322339</td>\n",
       "    </tr>\n",
       "    <tr>\n",
       "      <th>9</th>\n",
       "      <td>4.9</td>\n",
       "      <td>3.1</td>\n",
       "      <td>1.5</td>\n",
       "      <td>0.1</td>\n",
       "      <td>setosa</td>\n",
       "      <td>2.006416</td>\n",
       "      <td>-0.506416</td>\n",
       "    </tr>\n",
       "  </tbody>\n",
       "</table>\n",
       "</div>"
      ],
      "text/plain": [
       "   sepal_length  sepal_width  petal_length  petal_width   class  Prediction  \\\n",
       "0           5.1          3.5           1.4          0.2  setosa    2.377918   \n",
       "1           4.9          3.0           1.4          0.2  setosa    2.006416   \n",
       "2           4.7          3.2           1.3          0.2  setosa    1.634914   \n",
       "3           4.6          3.1           1.5          0.2  setosa    1.449163   \n",
       "4           5.0          3.6           1.4          0.2  setosa    2.192167   \n",
       "5           5.4          3.9           1.7          0.4  setosa    2.935171   \n",
       "6           4.6          3.4           1.4          0.3  setosa    1.449163   \n",
       "7           5.0          3.4           1.5          0.2  setosa    2.192167   \n",
       "8           4.4          2.9           1.4          0.2  setosa    1.077661   \n",
       "9           4.9          3.1           1.5          0.1  setosa    2.006416   \n",
       "\n",
       "   Residuals  \n",
       "0  -0.977918  \n",
       "1  -0.606416  \n",
       "2  -0.334914  \n",
       "3   0.050837  \n",
       "4  -0.792167  \n",
       "5  -1.235171  \n",
       "6  -0.049163  \n",
       "7  -0.692167  \n",
       "8   0.322339  \n",
       "9  -0.506416  "
      ]
     },
     "execution_count": 14,
     "metadata": {},
     "output_type": "execute_result"
    }
   ],
   "source": [
    "iris['Prediction'] = linear_model.predict()\n",
    "iris['Residuals'] = linear_model.resid\n",
    "iris.head(10)"
   ]
  },
  {
   "cell_type": "code",
   "execution_count": 15,
   "metadata": {},
   "outputs": [
    {
     "data": {
      "image/png": "[encoded data removed]",
      "text/plain": [
       "<Figure size 432x288 with 1 Axes>"
      ]
     },
     "metadata": {
      "needs_background": "light"
     },
     "output_type": "display_data"
    }
   ],
   "source": [
    "# - plotting the true data, predicted values and the prediction line\n",
    "sns.regplot(data=iris, x='sepal_length', y='petal_length', ci=0, line_kws={'color':'red'})\n",
    "sns.scatterplot(data=iris, x='sepal_length', y='Prediction', color='red', s=50)\n",
    "sns.despine(offset=10, trim=True)\n",
    "plt.title('petal_length ~ sepal_length', fontsize=14);"
   ]
  },
  {
   "cell_type": "markdown",
   "metadata": {},
   "source": [
    "Pearson's $R$ and $R^2$"
   ]
  },
  {
   "cell_type": "code",
   "execution_count": 16,
   "metadata": {},
   "outputs": [
    {
     "name": "stdout",
     "output_type": "stream",
     "text": [
      "Pearson's correlation (R-value): 0.87\n",
      "Coefficient of determination (R^2): 0.76\n"
     ]
    }
   ],
   "source": [
    "print(\"Pearson's correlation (R-value): \" + str(round(np.sqrt(linear_model.rsquared), 2)))\n",
    "print(\"Coefficient of determination (R^2): \" + str(round(linear_model.rsquared, 2)))"
   ]
  },
  {
   "cell_type": "markdown",
   "metadata": {},
   "source": [
    "Ok, `statsmodels` can do it; how do we find out about the optimal values of $\\beta_0$ and $\\beta_1$?\n",
    "Let's build ourselves a function that (a) tests for some particular values of $\\beta_0$ and $\\beta_1$ for a particular regression problem (i.e. for a particular dataset) and returns the model error.\n",
    "\n",
    "The model error? Oh. Remember the residuals:\n",
    "\n",
    "$$\\epsilon_i = y_i - \\hat{y_i}$$\n",
    "\n",
    "where $y_i$ is the observation to be predicted, and $\\hat{y_i}$ the actual prediction?"
   ]
  },
  {
   "cell_type": "markdown",
   "metadata": {},
   "source": [
    "Next we do something similar to what happens in the computation of variance, square the differences:\n",
    "\n",
    "$$\\epsilon_i^2 = (y_i - \\hat{y_i})^2$$\n",
    "\n",
    "and define the model error for all observations to be **the sum of squares**:\n",
    "\n",
    "$$SSE = \\sum_{i=1}^{N}(y_i - \\hat{y_i})^2$$"
   ]
  },
  {
   "cell_type": "markdown",
   "metadata": {},
   "source": [
    "Obviously, the lower the $SSE$ - the Sum of Squared Error - the better the model! Here's a function that returns the SSE for a given data set (with two columns: the predictor and the criterion) and a choice of parameters $\\beta_0$ and $\\beta_1$:"
   ]
  },
  {
   "cell_type": "code",
   "execution_count": 17,
   "metadata": {},
   "outputs": [],
   "source": [
    "# - sse function\n",
    "def lg_sse(pars):\n",
    "    # - pick up the parameters\n",
    "    beta_0 = pars[0]\n",
    "    beta_1 = pars[1]\n",
    "    # - predict from parameters\n",
    "    preds = beta_0+beta_1*iris['sepal_length']\n",
    "    # - compute residuals\n",
    "    residuals = iris['petal_length']-preds\n",
    "    # - square the residuals\n",
    "    residuals = residuals**2\n",
    "    # - sum of squares\n",
    "    residuals = residuals.sum()\n",
    "    # - out:\n",
    "    return residuals"
   ]
  },
  {
   "cell_type": "markdown",
   "metadata": {},
   "source": [
    "Test `lg_sse()` now:"
   ]
  },
  {
   "cell_type": "code",
   "execution_count": 18,
   "metadata": {},
   "outputs": [
    {
     "name": "stdout",
     "output_type": "stream",
     "text": [
      "111.34802571010499\n"
     ]
    }
   ],
   "source": [
    "pars = [-7.095381, 1.857510]\n",
    "print(lg_sse(pars))"
   ]
  },
  {
   "cell_type": "markdown",
   "metadata": {},
   "source": [
    "Check via `statsmodels`:"
   ]
  },
  {
   "cell_type": "code",
   "execution_count": 19,
   "metadata": {},
   "outputs": [
    {
     "data": {
      "text/plain": [
       "111.34802570920539"
      ]
     },
     "execution_count": 19,
     "metadata": {},
     "output_type": "execute_result"
    }
   ],
   "source": [
    "(linear_model.resid**2).sum()"
   ]
  },
  {
   "cell_type": "markdown",
   "metadata": {},
   "source": [
    "Method A. Random parameter space search"
   ]
  },
  {
   "cell_type": "code",
   "execution_count": 20,
   "metadata": {},
   "outputs": [
    {
     "data": {
      "text/html": [
       "<div>\n",
       "<style scoped>\n",
       "    .dataframe tbody tr th:only-of-type {\n",
       "        vertical-align: middle;\n",
       "    }\n",
       "\n",
       "    .dataframe tbody tr th {\n",
       "        vertical-align: top;\n",
       "    }\n",
       "\n",
       "    .dataframe thead th {\n",
       "        text-align: right;\n",
       "    }\n",
       "</style>\n",
       "<table border=\"1\" class=\"dataframe\">\n",
       "  <thead>\n",
       "    <tr style=\"text-align: right;\">\n",
       "      <th></th>\n",
       "      <th>beta_0</th>\n",
       "      <th>beta_1</th>\n",
       "    </tr>\n",
       "  </thead>\n",
       "  <tbody>\n",
       "    <tr>\n",
       "      <th>0</th>\n",
       "      <td>-10.420088</td>\n",
       "      <td>-11.461761</td>\n",
       "    </tr>\n",
       "    <tr>\n",
       "      <th>1</th>\n",
       "      <td>-5.929302</td>\n",
       "      <td>8.116856</td>\n",
       "    </tr>\n",
       "    <tr>\n",
       "      <th>2</th>\n",
       "      <td>-13.138908</td>\n",
       "      <td>-1.607650</td>\n",
       "    </tr>\n",
       "    <tr>\n",
       "      <th>3</th>\n",
       "      <td>-1.204190</td>\n",
       "      <td>14.371262</td>\n",
       "    </tr>\n",
       "    <tr>\n",
       "      <th>4</th>\n",
       "      <td>10.057602</td>\n",
       "      <td>-6.014701</td>\n",
       "    </tr>\n",
       "  </tbody>\n",
       "</table>\n",
       "</div>"
      ],
      "text/plain": [
       "      beta_0     beta_1\n",
       "0 -10.420088 -11.461761\n",
       "1  -5.929302   8.116856\n",
       "2 -13.138908  -1.607650\n",
       "3  -1.204190  14.371262\n",
       "4  10.057602  -6.014701"
      ]
     },
     "execution_count": 20,
     "metadata": {},
     "output_type": "execute_result"
    }
   ],
   "source": [
    "beta_0 = np.random.uniform(low=-15, high=15, size=10000)\n",
    "beta_1 = np.random.uniform(low=-15, high=15, size=10000)\n",
    "random_pars = pd.DataFrame({'beta_0':beta_0, 'beta_1':beta_1})\n",
    "random_pars.head()"
   ]
  },
  {
   "cell_type": "code",
   "execution_count": 21,
   "metadata": {},
   "outputs": [
    {
     "data": {
      "text/html": [
       "<div>\n",
       "<style scoped>\n",
       "    .dataframe tbody tr th:only-of-type {\n",
       "        vertical-align: middle;\n",
       "    }\n",
       "\n",
       "    .dataframe tbody tr th {\n",
       "        vertical-align: top;\n",
       "    }\n",
       "\n",
       "    .dataframe thead th {\n",
       "        text-align: right;\n",
       "    }\n",
       "</style>\n",
       "<table border=\"1\" class=\"dataframe\">\n",
       "  <thead>\n",
       "    <tr style=\"text-align: right;\">\n",
       "      <th></th>\n",
       "      <th>beta_0</th>\n",
       "      <th>beta_1</th>\n",
       "      <th>sse</th>\n",
       "    </tr>\n",
       "  </thead>\n",
       "  <tbody>\n",
       "    <tr>\n",
       "      <th>584</th>\n",
       "      <td>-6.673735</td>\n",
       "      <td>1.762458</td>\n",
       "      <td>114.955420</td>\n",
       "    </tr>\n",
       "    <tr>\n",
       "      <th>1737</th>\n",
       "      <td>-8.135614</td>\n",
       "      <td>2.013342</td>\n",
       "      <td>116.350521</td>\n",
       "    </tr>\n",
       "    <tr>\n",
       "      <th>4672</th>\n",
       "      <td>-7.862939</td>\n",
       "      <td>2.015235</td>\n",
       "      <td>117.450969</td>\n",
       "    </tr>\n",
       "    <tr>\n",
       "      <th>1190</th>\n",
       "      <td>-8.103656</td>\n",
       "      <td>1.998799</td>\n",
       "      <td>118.392934</td>\n",
       "    </tr>\n",
       "    <tr>\n",
       "      <th>2269</th>\n",
       "      <td>-6.896713</td>\n",
       "      <td>1.860619</td>\n",
       "      <td>118.401879</td>\n",
       "    </tr>\n",
       "  </tbody>\n",
       "</table>\n",
       "</div>"
      ],
      "text/plain": [
       "        beta_0    beta_1         sse\n",
       "584  -6.673735  1.762458  114.955420\n",
       "1737 -8.135614  2.013342  116.350521\n",
       "4672 -7.862939  2.015235  117.450969\n",
       "1190 -8.103656  1.998799  118.392934\n",
       "2269 -6.896713  1.860619  118.401879"
      ]
     },
     "execution_count": 21,
     "metadata": {},
     "output_type": "execute_result"
    }
   ],
   "source": [
    "sse = []\n",
    "for i in range(random_pars.shape[0]):\n",
    "    pars = [random_pars['beta_0'][i],random_pars['beta_1'][i]]\n",
    "    sse.append(lg_sse(pars))\n",
    "random_pars['sse'] = sse\n",
    "random_pars.sort_values('sse', ascending=True, inplace=True)\n",
    "random_pars.head()"
   ]
  },
  {
   "cell_type": "markdown",
   "metadata": {},
   "source": [
    "Check with `statsmodels`:"
   ]
  },
  {
   "cell_type": "code",
   "execution_count": 22,
   "metadata": {},
   "outputs": [
    {
     "data": {
      "text/plain": [
       "Intercept      -7.095381\n",
       "sepal_length    1.857510\n",
       "dtype: float64"
      ]
     },
     "execution_count": 22,
     "metadata": {},
     "output_type": "execute_result"
    }
   ],
   "source": [
    "linear_model.params"
   ]
  },
  {
   "cell_type": "markdown",
   "metadata": {},
   "source": [
    "Not bad, how about 100,000 random pairs?"
   ]
  },
  {
   "cell_type": "code",
   "execution_count": 23,
   "metadata": {},
   "outputs": [
    {
     "data": {
      "text/html": [
       "<div>\n",
       "<style scoped>\n",
       "    .dataframe tbody tr th:only-of-type {\n",
       "        vertical-align: middle;\n",
       "    }\n",
       "\n",
       "    .dataframe tbody tr th {\n",
       "        vertical-align: top;\n",
       "    }\n",
       "\n",
       "    .dataframe thead th {\n",
       "        text-align: right;\n",
       "    }\n",
       "</style>\n",
       "<table border=\"1\" class=\"dataframe\">\n",
       "  <thead>\n",
       "    <tr style=\"text-align: right;\">\n",
       "      <th></th>\n",
       "      <th>beta_0</th>\n",
       "      <th>beta_1</th>\n",
       "      <th>sse</th>\n",
       "    </tr>\n",
       "  </thead>\n",
       "  <tbody>\n",
       "    <tr>\n",
       "      <th>51770</th>\n",
       "      <td>-7.081345</td>\n",
       "      <td>1.856986</td>\n",
       "      <td>111.366135</td>\n",
       "    </tr>\n",
       "    <tr>\n",
       "      <th>48344</th>\n",
       "      <td>-7.476603</td>\n",
       "      <td>1.915794</td>\n",
       "      <td>111.942890</td>\n",
       "    </tr>\n",
       "    <tr>\n",
       "      <th>1599</th>\n",
       "      <td>-7.304722</td>\n",
       "      <td>1.903305</td>\n",
       "      <td>112.071409</td>\n",
       "    </tr>\n",
       "    <tr>\n",
       "      <th>2471</th>\n",
       "      <td>-7.246934</td>\n",
       "      <td>1.894646</td>\n",
       "      <td>112.131383</td>\n",
       "    </tr>\n",
       "    <tr>\n",
       "      <th>22482</th>\n",
       "      <td>-6.498430</td>\n",
       "      <td>1.746393</td>\n",
       "      <td>113.020430</td>\n",
       "    </tr>\n",
       "  </tbody>\n",
       "</table>\n",
       "</div>"
      ],
      "text/plain": [
       "         beta_0    beta_1         sse\n",
       "51770 -7.081345  1.856986  111.366135\n",
       "48344 -7.476603  1.915794  111.942890\n",
       "1599  -7.304722  1.903305  112.071409\n",
       "2471  -7.246934  1.894646  112.131383\n",
       "22482 -6.498430  1.746393  113.020430"
      ]
     },
     "execution_count": 23,
     "metadata": {},
     "output_type": "execute_result"
    }
   ],
   "source": [
    "beta_0 = np.random.uniform(low=-15, high=15, size=100000)\n",
    "beta_1 = np.random.uniform(low=-15, high=15, size=100000)\n",
    "random_pars = pd.DataFrame({'beta_0':beta_0, 'beta_1':beta_1})\n",
    "sse = []\n",
    "for i in range(random_pars.shape[0]):\n",
    "    pars = [random_pars['beta_0'][i],random_pars['beta_1'][i]]\n",
    "    sse.append(lg_sse(pars))\n",
    "random_pars['sse'] = sse\n",
    "random_pars.sort_values('sse', ascending=True, inplace=True)\n",
    "random_pars.head()"
   ]
  },
  {
   "cell_type": "markdown",
   "metadata": {},
   "source": [
    "Method B. Grid search"
   ]
  },
  {
   "cell_type": "code",
   "execution_count": 24,
   "metadata": {},
   "outputs": [
    {
     "data": {
      "text/html": [
       "<div>\n",
       "<style scoped>\n",
       "    .dataframe tbody tr th:only-of-type {\n",
       "        vertical-align: middle;\n",
       "    }\n",
       "\n",
       "    .dataframe tbody tr th {\n",
       "        vertical-align: top;\n",
       "    }\n",
       "\n",
       "    .dataframe thead th {\n",
       "        text-align: right;\n",
       "    }\n",
       "</style>\n",
       "<table border=\"1\" class=\"dataframe\">\n",
       "  <thead>\n",
       "    <tr style=\"text-align: right;\">\n",
       "      <th></th>\n",
       "      <th>beta_0</th>\n",
       "      <th>beta_1</th>\n",
       "    </tr>\n",
       "  </thead>\n",
       "  <tbody>\n",
       "    <tr>\n",
       "      <th>0</th>\n",
       "      <td>-15.0</td>\n",
       "      <td>-15.000000</td>\n",
       "    </tr>\n",
       "    <tr>\n",
       "      <th>1</th>\n",
       "      <td>-15.0</td>\n",
       "      <td>-14.696970</td>\n",
       "    </tr>\n",
       "    <tr>\n",
       "      <th>2</th>\n",
       "      <td>-15.0</td>\n",
       "      <td>-14.393939</td>\n",
       "    </tr>\n",
       "    <tr>\n",
       "      <th>3</th>\n",
       "      <td>-15.0</td>\n",
       "      <td>-14.090909</td>\n",
       "    </tr>\n",
       "    <tr>\n",
       "      <th>4</th>\n",
       "      <td>-15.0</td>\n",
       "      <td>-13.787879</td>\n",
       "    </tr>\n",
       "  </tbody>\n",
       "</table>\n",
       "</div>"
      ],
      "text/plain": [
       "   beta_0     beta_1\n",
       "0   -15.0 -15.000000\n",
       "1   -15.0 -14.696970\n",
       "2   -15.0 -14.393939\n",
       "3   -15.0 -14.090909\n",
       "4   -15.0 -13.787879"
      ]
     },
     "execution_count": 24,
     "metadata": {},
     "output_type": "execute_result"
    }
   ],
   "source": [
    "beta_0_vals = np.linspace(-15,15,100)\n",
    "beta_1_vals = np.linspace(-15,15,100)\n",
    "grid = np.array([(beta_0, beta_1) for beta_0 in beta_0_vals for beta_1 in beta_1_vals])\n",
    "grid = pd.DataFrame(grid)\n",
    "grid = grid.rename(columns={0: \"beta_0\", 1: \"beta_1\"})\n",
    "grid.head()"
   ]
  },
  {
   "cell_type": "code",
   "execution_count": 25,
   "metadata": {},
   "outputs": [
    {
     "data": {
      "text/html": [
       "<div>\n",
       "<style scoped>\n",
       "    .dataframe tbody tr th:only-of-type {\n",
       "        vertical-align: middle;\n",
       "    }\n",
       "\n",
       "    .dataframe tbody tr th {\n",
       "        vertical-align: top;\n",
       "    }\n",
       "\n",
       "    .dataframe thead th {\n",
       "        text-align: right;\n",
       "    }\n",
       "</style>\n",
       "<table border=\"1\" class=\"dataframe\">\n",
       "  <thead>\n",
       "    <tr style=\"text-align: right;\">\n",
       "      <th></th>\n",
       "      <th>beta_0</th>\n",
       "      <th>beta_1</th>\n",
       "      <th>sse</th>\n",
       "    </tr>\n",
       "  </thead>\n",
       "  <tbody>\n",
       "    <tr>\n",
       "      <th>2456</th>\n",
       "      <td>-7.727273</td>\n",
       "      <td>1.969697</td>\n",
       "      <td>112.717860</td>\n",
       "    </tr>\n",
       "    <tr>\n",
       "      <th>3055</th>\n",
       "      <td>-5.909091</td>\n",
       "      <td>1.666667</td>\n",
       "      <td>115.828053</td>\n",
       "    </tr>\n",
       "    <tr>\n",
       "      <th>2955</th>\n",
       "      <td>-6.212121</td>\n",
       "      <td>1.666667</td>\n",
       "      <td>123.135675</td>\n",
       "    </tr>\n",
       "    <tr>\n",
       "      <th>2356</th>\n",
       "      <td>-8.030303</td>\n",
       "      <td>1.969697</td>\n",
       "      <td>124.341368</td>\n",
       "    </tr>\n",
       "    <tr>\n",
       "      <th>2556</th>\n",
       "      <td>-7.424242</td>\n",
       "      <td>1.969697</td>\n",
       "      <td>128.642562</td>\n",
       "    </tr>\n",
       "  </tbody>\n",
       "</table>\n",
       "</div>"
      ],
      "text/plain": [
       "        beta_0    beta_1         sse\n",
       "2456 -7.727273  1.969697  112.717860\n",
       "3055 -5.909091  1.666667  115.828053\n",
       "2955 -6.212121  1.666667  123.135675\n",
       "2356 -8.030303  1.969697  124.341368\n",
       "2556 -7.424242  1.969697  128.642562"
      ]
     },
     "execution_count": 25,
     "metadata": {},
     "output_type": "execute_result"
    }
   ],
   "source": [
    "sse = []\n",
    "for i in range(grid.shape[0]):\n",
    "    pars = [grid['beta_0'][i],grid['beta_1'][i]]\n",
    "    sse.append(lg_sse(pars))\n",
    "grid['sse'] = sse\n",
    "grid.sort_values('sse', ascending=True, inplace=True)\n",
    "grid.head()"
   ]
  },
  {
   "cell_type": "markdown",
   "metadata": {},
   "source": [
    "Check with `statsmodels`:"
   ]
  },
  {
   "cell_type": "code",
   "execution_count": 26,
   "metadata": {},
   "outputs": [
    {
     "data": {
      "text/plain": [
       "Intercept      -7.095381\n",
       "sepal_length    1.857510\n",
       "dtype: float64"
      ]
     },
     "execution_count": 26,
     "metadata": {},
     "output_type": "execute_result"
    }
   ],
   "source": [
    "linear_model.params"
   ]
  },
  {
   "cell_type": "markdown",
   "metadata": {},
   "source": [
    "Method C. Optimization (the real thing)\n",
    "\n",
    "The Method of Least Squares"
   ]
  },
  {
   "cell_type": "code",
   "execution_count": 27,
   "metadata": {},
   "outputs": [
    {
     "data": {
      "text/plain": [
       "array([-7.09536384,  1.85750582])"
      ]
     },
     "execution_count": 27,
     "metadata": {},
     "output_type": "execute_result"
    }
   ],
   "source": [
    "import scipy as sp\n",
    "\n",
    "# - sse function\n",
    "def lg_sse(pars, data):\n",
    "    # - pick up the parameters\n",
    "    beta_0 = pars[0]\n",
    "    beta_1 = pars[1]\n",
    "    # - predict from parameters\n",
    "    preds = beta_0+beta_1*data['sepal_length']\n",
    "    # - compute residuals\n",
    "    residuals = data['petal_length']-preds\n",
    "    # - square the residuals\n",
    "    residuals = residuals**2\n",
    "    # - sum of squares\n",
    "    residuals = residuals.sum()\n",
    "    # - out:\n",
    "    return residuals\n",
    "\n",
    "# - initial (random) parameter values\n",
    "init_beta_0 = np.random.uniform(low=-15, high=15, size=1)\n",
    "init_beta_1 = np.random.uniform(low=-15, high=15, size=1)\n",
    "init_pars = [init_beta_0, init_beta_1]\n",
    "\n",
    "# - optimize w. Nelder-Mead\n",
    "optimal_model = sp.optimize.minimize(\n",
    "    # - fun(parameters, args)\n",
    "    fun=lg_sse,\n",
    "    args = (iris), \n",
    "    x0 = init_pars, \n",
    "    method='Nelder-Mead')\n",
    "\n",
    "# - optimal parameters\n",
    "optimal_model.x"
   ]
  },
  {
   "cell_type": "markdown",
   "metadata": {},
   "source": [
    "Check against `statsmodels`"
   ]
  },
  {
   "cell_type": "code",
   "execution_count": 28,
   "metadata": {},
   "outputs": [
    {
     "data": {
      "text/plain": [
       "Intercept      -7.095381\n",
       "sepal_length    1.857510\n",
       "dtype: float64"
      ]
     },
     "execution_count": 28,
     "metadata": {},
     "output_type": "execute_result"
    }
   ],
   "source": [
    "linear_model.params"
   ]
  },
  {
   "cell_type": "markdown",
   "metadata": {},
   "source": [
    "Final value of the objective function (the model SSE, indeed):"
   ]
  },
  {
   "cell_type": "code",
   "execution_count": 29,
   "metadata": {},
   "outputs": [
    {
     "data": {
      "text/plain": [
       "111.34802571419112"
      ]
     },
     "execution_count": 29,
     "metadata": {},
     "output_type": "execute_result"
    }
   ],
   "source": [
    "lg_sse(pars=optimal_model.x, data=iris)"
   ]
  },
  {
   "cell_type": "markdown",
   "metadata": {},
   "source": [
    "Check against `statsmodels`"
   ]
  },
  {
   "cell_type": "code",
   "execution_count": 30,
   "metadata": {},
   "outputs": [
    {
     "data": {
      "text/plain": [
       "111.34802570920539"
      ]
     },
     "execution_count": 30,
     "metadata": {},
     "output_type": "execute_result"
    }
   ],
   "source": [
    "linear_model.ssr"
   ]
  },
  {
   "cell_type": "markdown",
   "metadata": {},
   "source": [
    "Maximum Likelihood Estimation"
   ]
  },
  {
   "cell_type": "code",
   "execution_count": 31,
   "metadata": {},
   "outputs": [
    {
     "data": {
      "text/plain": [
       "array([-7.09538075,  1.85750952])"
      ]
     },
     "execution_count": 31,
     "metadata": {},
     "output_type": "execute_result"
    }
   ],
   "source": [
    "# - normal distribution\n",
    "from scipy.stats import norm\n",
    "\n",
    "# - nll function\n",
    "def lg_nll(pars, data):\n",
    "    # - pick up the parameters\n",
    "    beta_0 = pars[0]\n",
    "    beta_1 = pars[1]\n",
    "    # - predict from parameters\n",
    "    preds = beta_0+beta_1*data['sepal_length']\n",
    "    # - compute residuals\n",
    "    residuals = data['petal_length']-preds\n",
    "    # - residual variance\n",
    "    res_var = np.var(residuals)\n",
    "    # - negative log-likelihood\n",
    "    nll = -np.sum(norm.logpdf(residuals, loc=0, scale=np.sqrt(res_var)))\n",
    "    # - out:\n",
    "    return nll\n",
    "\n",
    "# - initial (random) parameter values\n",
    "init_beta_0 = np.random.uniform(low=-15, high=15, size=1)\n",
    "init_beta_1 = np.random.uniform(low=-15, high=15, size=1)\n",
    "init_pars = [init_beta_0, init_beta_1]\n",
    "\n",
    "# - optimize w. Nelder-Mead\n",
    "optimal_model = sp.optimize.minimize(\n",
    "    # - fun(parameters, args)\n",
    "    fun=lg_nll,\n",
    "    args = (iris), \n",
    "    x0 = init_pars, \n",
    "    method='Nelder-Mead',\n",
    "    options={'maxiter':10e6, \n",
    "            'maxfev':10e6,\n",
    "            'fatol':10e-12})\n",
    "\n",
    "# - optimal parameters\n",
    "optimal_model.x"
   ]
  },
  {
   "cell_type": "markdown",
   "metadata": {},
   "source": [
    "Check against `statsmodels`"
   ]
  },
  {
   "cell_type": "code",
   "execution_count": 32,
   "metadata": {},
   "outputs": [
    {
     "data": {
      "text/plain": [
       "Intercept      -7.095381\n",
       "sepal_length    1.857510\n",
       "dtype: float64"
      ]
     },
     "execution_count": 32,
     "metadata": {},
     "output_type": "execute_result"
    }
   ],
   "source": [
    "linear_model.params"
   ]
  },
  {
   "cell_type": "markdown",
   "metadata": {},
   "source": [
    "Log Likelihood"
   ]
  },
  {
   "cell_type": "code",
   "execution_count": 33,
   "metadata": {},
   "outputs": [
    {
     "name": "stdout",
     "output_type": "stream",
     "text": [
      "-190.49268265220485\n"
     ]
    }
   ],
   "source": [
    "loglike = -lg_nll(optimal_model.x, data=iris)\n",
    "print(loglike)"
   ]
  },
  {
   "cell_type": "markdown",
   "metadata": {},
   "source": [
    "Check against `statsmodels`"
   ]
  },
  {
   "cell_type": "code",
   "execution_count": 34,
   "metadata": {},
   "outputs": [
    {
     "data": {
      "text/plain": [
       "-190.49268265220212"
      ]
     },
     "execution_count": 34,
     "metadata": {},
     "output_type": "execute_result"
    }
   ],
   "source": [
    "linear_model.llf"
   ]
  },
  {
   "cell_type": "markdown",
   "metadata": {},
   "source": [
    "### Intro Readings and Videos\n",
    "\n",
    "- "
   ]
  },
  {
   "cell_type": "markdown",
   "metadata": {},
   "source": [
    "### Highly Recommended To Do\n",
    "\n",
    "- Watch [Python NumPy Tutorial for Beginners](https://www.youtube.com/watch?v=QUT1VHiLmmI)\n",
    "- Read chapter [Introduction to NumPy](https://jakevdp.github.io/PythonDataScienceHandbook/02.00-introduction-to-numpy.html) from [Python Data Science Handbook, Jake VanderPlas](https://jakevdp.github.io/PythonDataScienceHandbook/)"
   ]
  },
  {
   "cell_type": "markdown",
   "metadata": {},
   "source": [
    "<hr>"
   ]
  },
  {
   "cell_type": "markdown",
   "metadata": {},
   "source": [
    "Goran S. Milovanović & Aleksandar Cvetković\n",
    "\n",
    "DataKolektiv, 2022/23.\n",
    "\n",
    "[hello@datakolektiv.com](mailto:goran.milovanovic@datakolektiv.com)\n",
    "\n",
    "![](../img/DK_Logo_100.png)"
   ]
  },
  {
   "cell_type": "markdown",
   "metadata": {},
   "source": [
    "<font size=1>License: <a href=\"https://www.gnu.org/licenses/gpl-3.0.txt\">GPLv3</a> This Notebook is free software: you can redistribute it and/or modify it under the terms of the GNU General Public License as published by the Free Software Foundation, either version 3 of the License, or (at your option) any later version. This Notebook is distributed in the hope that it will be useful, but WITHOUT ANY WARRANTY; without even the implied warranty of MERCHANTABILITY or FITNESS FOR A PARTICULAR PURPOSE. See the GNU General Public License for more details. You should have received a copy of the GNU General Public License along with this Notebook. If not, see <a href=\"http://www.gnu.org/licenses/\">http://www.gnu.org/licenses/</a>.</font>"
   ]
  }
 ],
 "metadata": {
  "kernelspec": {
   "display_name": "Python 3.8.8 64-bit ('anaconda3')",
   "language": "python",
   "name": "python3"
  },
  "language_info": {
   "codemirror_mode": {
    "name": "ipython",
    "version": 3
   },
   "file_extension": ".py",
   "mimetype": "text/x-python",
   "name": "python",
   "nbconvert_exporter": "python",
   "pygments_lexer": "ipython3",
   "version": "3.8.8"
  },
  "orig_nbformat": 4,
  "vscode": {
   "interpreter": {
    "hash": "7c7c0b39279531525356e7c72233a718e646ba7c12e6fb3edba6266455e01905"
   }
  }
 },
 "nbformat": 4,
 "nbformat_minor": 2
}
